{
 "cells": [
  {
   "cell_type": "code",
   "execution_count": null,
   "metadata": {
    "collapsed": true
   },
   "outputs": [],
   "source": [
    "\n",
    "import os\n",
    "os.environ['CUDA_LAUNCH_BLOCKING'] = \"1\"\n",
    "from pathlib import Path\n",
    "\n",
    "import soundfile as sf\n",
    "import torch\n",
    "from prosody.utils.text import TextEffectProcessor\n",
    "from prosody.utils.utils import get_p_mod_fns, print_table\n",
    "from espnet2.text.phoneme_tokenizer import PhonemeTokenizer\n",
    "from espnet2.text.token_id_converter import TokenIDConverter\n",
    "from espnet2.bin.tts_inference import Text2Speech\n",
    "\n",
    "%load_ext autoreload\n",
    "PWD = %pwd\n",
    "PWD = Path(PWD)\n",
    "LJSPEECH_DIR = (PWD / '../egs2/ljspeech/tts1/').resolve()\n",
    "device = 'cuda'"
   ]
  },
  {
   "cell_type": "code",
   "execution_count": null,
   "outputs": [],
   "source": [
    "cwd = os.getcwd()\n",
    "os.chdir(LJSPEECH_DIR)\n",
    "pretrained_dir = LJSPEECH_DIR / \"exp/tts_train_jets_raw_phn_tacotron_g2p_en_no_space\"\n",
    "pretrained_model_file = pretrained_dir / \"train.total_count.ave_5best.pth\"\n",
    "pretrained_tts = Text2Speech.from_pretrained(\n",
    "    train_config=pretrained_dir / \"config_prosody.yaml\",\n",
    "    model_file=pretrained_model_file,\n",
    "    device=device\n",
    ")\n",
    "pretrained_model = pretrained_tts.model\n",
    "os.chdir(cwd)"
   ],
   "metadata": {
    "collapsed": false
   }
  },
  {
   "cell_type": "code",
   "execution_count": null,
   "outputs": [],
   "source": [
    "arpa_tokenizer = PhonemeTokenizer(g2p_type='g2p_en_no_space')\n",
    "id_converter = TokenIDConverter(pretrained_tts.train_args.token_list)\n",
    "tep = TextEffectProcessor(tokens2ids_fn=id_converter.tokens2ids)\n",
    "save_dir = PWD / pretrained_dir.stem"
   ],
   "metadata": {
    "collapsed": false
   }
  },
  {
   "cell_type": "code",
   "execution_count": 19,
   "outputs": [
    {
     "name": "stdout",
     "output_type": "stream",
     "text": [
      "      -1         0    1    2    3    4    5    6    7    8    9    10    11    12    13    14    15    16    17    18    19    20\n",
      "   phonemes     DH   IH1   S   IH1   Z   AE2   B    S   AH0   L   UW1    T     L    IY0    K     R    EY1    Z    IY0    !     !\n",
      "  phone_ids      9   12    6   12   11   50   25    6    2    8    28    4     8     29    10    7     31    11    29    72    72\n",
      "   d_factor      1    1    1    1    1    1    1    1    1    1    1     1     1     1     1     1    1.17   1    1.25   1     1\n",
      "   p_factor      0    0    0    0    0    1    0    0    0   0.5   1     0    -0.5   -1    0     0     1     0     0     0     0\n",
      "   e_factor      1    2    1    2    1    2    1    0    0    1    2     1     0     0     0     0     0     0     0     0     0\n",
      "d_split_factor   1    1    1    1    1    1    1    1    1    2    2     1     1     1     1     1     3     1     2     1     1\n",
      "Duration pred: tensor([ 6.6845,  6.1176,  8.6422,  6.7246,  9.4612, 10.6020,  7.9712,  9.6626,\n",
      "         6.3622,  6.8997,  6.9413,  6.5324,  5.8792,  6.4306,  8.8982,  8.6046,\n",
      "        11.4877, 12.0032,  9.8254, 10.5244,  3.9248], device='cuda:0')\n",
      "Pitch pred: tensor([ 0.9715,  1.5102,  1.3573,  0.7283,  0.5485,  0.5881,  0.7090,  0.7037,\n",
      "         0.2872,  0.0028,  0.0140, -0.0855, -0.4609, -0.5238, -0.1050,  0.3021,\n",
      "        -0.0871, -0.7790, -0.5773, -0.4254, -0.4478], device='cuda:0')\n",
      "Energy pred: tensor([ 0.2674,  1.3532,  1.0472,  0.4867, -0.2570,  1.8496, -0.3538,  1.0295,\n",
      "         0.1833,  0.5038,  0.1902, -0.8127,  0.2269, -0.7772, -0.9043,  0.6218,\n",
      "         0.4024, -0.1009, -0.4647, -1.0287, -1.0725], device='cuda:0')\n",
      "Duration (new): tensor([ 7,  6,  9,  7,  9, 11,  8, 10,  6,  7,  7,  7,  7,  7,  6,  6,  9,  9,\n",
      "        13, 13, 13, 12, 12, 12, 11,  4], device='cuda:0')\n",
      "Pitch (new): tensor([ 0.9715,  1.5102,  1.3573,  0.7283,  0.5485,  1.5881,  0.7090,  0.7037,\n",
      "         0.2872,  0.5028,  0.5028,  1.0140,  1.0140, -0.0855, -0.9609, -1.5238,\n",
      "        -0.1050,  0.3021,  0.9129,  0.9129,  0.9129, -0.7790, -0.5773, -0.5773,\n",
      "        -0.4254, -0.4478], device='cuda:0')\n",
      "Energy (new): tensor([ 1.2674,  3.3532,  2.0472,  2.4867,  0.7430,  3.8496,  0.6462,  1.0295,\n",
      "         0.1833,  1.5038,  1.5038,  2.1902,  2.1902,  0.1873,  0.2269, -0.7772,\n",
      "        -0.9043,  0.6218,  0.4024,  0.4024,  0.4024, -0.1009, -0.4647, -0.4647,\n",
      "        -1.0287, -1.0725], device='cuda:0')\n"
     ]
    }
   ],
   "source": [
    "orig_text = \"THIS *is* ^ABso^LLLUUUTTTE_ly cr^aaaaaazy~~~!!\"\n",
    "phonemes, phone_ids, d_factor, p_factor, e_factor, d_split_factor = tep.get_inputs(orig_text, print_aligment=True)\n",
    "print_table(phonemes=phonemes, phone_ids=phone_ids, d_factor=d_factor, p_factor=p_factor, e_factor=e_factor, d_split_factor=d_split_factor)\n",
    "with torch.no_grad():\n",
    "    output_dict = pretrained_model.tts.inference(text=phone_ids,\n",
    "                                                 d_factor=d_factor,\n",
    "                                                 p_factor=p_factor,\n",
    "                                                 e_factor=e_factor,\n",
    "                                                 d_split_factor=d_split_factor,\n",
    "                                                 verbose=True,\n",
    "                                                 )\n",
    "    wav = output_dict['wav']\n",
    "    filename = f'{orig_text}.wav'\n",
    "    sf.write(save_dir / filename, wav.cpu().numpy(), 22050, \"PCM_16\")"
   ],
   "metadata": {
    "collapsed": false
   }
  },
  {
   "cell_type": "code",
   "execution_count": 12,
   "outputs": [
    {
     "name": "stdout",
     "output_type": "stream",
     "text": [
      "      -1         0        1        2    3\n",
      "   phonemes     SH       UH1       R    .\n",
      "  phone_ids     35       44        7   33\n",
      "   d_factor      1        1        1    1\n",
      "   p_factor      0        0        0    0\n",
      "   e_factor      0        0        0    0\n",
      "d_split_factor   1        5        1    1\n",
      " pitch_values        -0.5|1|-0.5\n",
      "Duration pred: tensor([19.4989, 13.2591, 10.9338,  9.1970], device='cuda:0')\n",
      "Pitch pred: tensor([ 0.8972,  0.1140, -0.8402, -0.9685], device='cuda:0')\n",
      "Energy pred: tensor([ 0.1597,  0.8255, -0.3954, -1.0230], device='cuda:0')\n",
      "Duration (new): tensor([19, 13, 13, 13, 13, 13, 11,  9], device='cuda:0')\n",
      "Pitch (new): tensor([ 0.8972, -0.3860,  0.3640,  1.1140,  0.3640, -0.3860, -0.8402, -0.9685],\n",
      "       device='cuda:0')\n",
      "Energy (new): tensor([ 0.1597,  0.8255,  0.8255,  0.8255,  0.8255,  0.8255, -0.3954, -1.0230],\n",
      "       device='cuda:0')\n"
     ]
    }
   ],
   "source": [
    "orig_text = \"Suuuuuuuuure.\"\n",
    "phonemes, phone_ids, d_factor, p_factor, e_factor, d_split_factor = tep.get_inputs(orig_text, print_alignment=True)\n",
    "pitch_values = [[]] * len(phonemes)\n",
    "pitch_values[1] = [-0.5, +1, -0.5]\n",
    "combine_fn = lambda x,y: x+y\n",
    "p_mod_fns = get_p_mod_fns(pitch_values, combine_fns=combine_fn)\n",
    "print_table(phonemes=phonemes, phone_ids=phone_ids, d_factor=d_factor, p_factor=p_factor, e_factor=e_factor, d_split_factor=d_split_factor, pitch_values=pitch_values)\n",
    "with torch.no_grad():\n",
    "    output_dict = pretrained_model.tts.inference(text=phone_ids,\n",
    "                                                 d_factor=d_factor,\n",
    "                                                 d_split_factor=d_split_factor,\n",
    "                                                 p_mod_fns=p_mod_fns,\n",
    "                                                 verbose=True\n",
    "                                                 )\n",
    "    wav = output_dict['wav']\n",
    "    filename = f'{orig_text}{\",\".join(str(p) for pitch_value in pitch_values for p in pitch_value)}.wav'\n",
    "    sf.write(save_dir / filename, wav.cpu().numpy(), 22050, \"PCM_16\")"
   ],
   "metadata": {
    "collapsed": false
   }
  }
 ],
 "metadata": {
  "kernelspec": {
   "display_name": "Python 3",
   "language": "python",
   "name": "python3"
  },
  "language_info": {
   "codemirror_mode": {
    "name": "ipython",
    "version": 2
   },
   "file_extension": ".py",
   "mimetype": "text/x-python",
   "name": "python",
   "nbconvert_exporter": "python",
   "pygments_lexer": "ipython2",
   "version": "2.7.6"
  }
 },
 "nbformat": 4,
 "nbformat_minor": 0
}
