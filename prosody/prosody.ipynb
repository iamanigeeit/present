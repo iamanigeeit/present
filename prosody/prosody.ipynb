{
 "cells": [
  {
   "cell_type": "code",
   "execution_count": 1,
   "metadata": {
    "collapsed": true
   },
   "outputs": [],
   "source": [
    "import logging\n",
    "import os\n",
    "os.environ['CUDA_LAUNCH_BLOCKING'] = \"1\"\n",
    "import time\n",
    "from pathlib import Path\n",
    "\n",
    "import soundfile as sf\n",
    "import torch\n",
    "import yaml\n",
    "import numpy as np\n",
    "from prosody.utils.audio import *\n",
    "from prosody.utils.utils import *\n",
    "from prosody.transfer_prosody import *\n",
    "from prosody.pinyin import *\n",
    "from espnet2.text.phoneme_tokenizer import PhonemeTokenizer\n",
    "from espnet2.text.token_id_converter import TokenIDConverter\n",
    "from parallel_wavegan.utils import load_model as load_vocoder\n",
    "from espnet2.bin.tts_inference import Text2Speech\n",
    "from matplotlib import pyplot as plt\n",
    "\n",
    "PWD = %pwd\n",
    "PWD = Path(PWD)\n",
    "COMBINED_DIR = (PWD / '../egs2/combined/tts1/').resolve()\n",
    "LJSPEECH_DIR = (PWD / '../egs2/ljspeech/tts1/').resolve()\n",
    "device = 'cuda'"
   ]
  },
  {
   "cell_type": "code",
   "execution_count": 25,
   "outputs": [
    {
     "name": "stderr",
     "output_type": "stream",
     "text": [
      "UsageError: Line magic function `%aimport` not found.\n"
     ]
    }
   ],
   "source": [
    "%aimport prosody.utils.utils\n",
    "%autoreload prosody.utils.utils\n",
    "from prosody.utils import *"
   ],
   "metadata": {
    "collapsed": false
   }
  },
  {
   "cell_type": "code",
   "execution_count": 2,
   "outputs": [],
   "source": [
    "def get_pretrained(exp_name, corpus_dir=COMBINED_DIR, pth_file=\"latest.pth\", config_file='config_prosody.yaml'):\n",
    "    cwd = os.getcwd()\n",
    "    os.chdir(corpus_dir)\n",
    "    pretrained_dir = corpus_dir / \"exp\" / exp_name\n",
    "    pretrained_model_file = pretrained_dir / pth_file\n",
    "    pretrained_tts = Text2Speech.from_pretrained(\n",
    "        train_config=pretrained_dir / config_file,\n",
    "        model_file=pretrained_model_file,\n",
    "        device=device\n",
    "    )\n",
    "    pretrained_model = pretrained_tts.model\n",
    "    os.chdir(cwd)\n",
    "    return pretrained_dir, pretrained_tts, pretrained_model"
   ],
   "metadata": {
    "collapsed": false
   }
  },
  {
   "cell_type": "code",
   "execution_count": null,
   "outputs": [],
   "source": [
    "pretrained_dir, pretrained_tts, pretrained_model = get_pretrained(\"tts_train_fastspeech2_prosody_raw_phn_none\")"
   ],
   "metadata": {
    "collapsed": false
   }
  },
  {
   "cell_type": "code",
   "execution_count": null,
   "outputs": [],
   "source": [
    "pretrained_dir, pretrained_tts, pretrained_model = get_pretrained(\"fastspeech2_old\")"
   ],
   "metadata": {
    "collapsed": false
   }
  },
  {
   "cell_type": "code",
   "execution_count": 3,
   "outputs": [
    {
     "name": "stdout",
     "output_type": "stream",
     "text": [
      "It seems weight norm is not applied in the pretrained model but the current model uses it. To keep the compatibility, we remove the norm from the current model. This may cause unexpected behavior due to the parameter mismatch in finetuning. To avoid this issue, please change the following parameters in config to false:\n",
      " - discriminator_params.follow_official_norm\n",
      " - discriminator_params.scale_discriminator_params.use_weight_norm\n",
      " - discriminator_params.scale_discriminator_params.use_spectral_norm\n",
      "\n",
      "See also:\n",
      " - https://github.com/espnet/espnet/pull/5240\n",
      " - https://github.com/espnet/espnet/pull/5249\n"
     ]
    }
   ],
   "source": [
    "pretrained_dir, pretrained_tts, pretrained_model = get_pretrained(\"tts_train_jets_raw_phn_tacotron_g2p_en_no_space\", corpus_dir=LJSPEECH_DIR, pth_file='train.total_count.ave_5best.pth')"
   ],
   "metadata": {
    "collapsed": false
   }
  },
  {
   "cell_type": "code",
   "execution_count": 6,
   "outputs": [],
   "source": [
    "vocoder_ckpt = '/home/perry/PycharmProjects/vocoders/ljspeech_hifigan/checkpoint-2500000steps.pkl'\n",
    "vocoder = load_vocoder(vocoder_ckpt)\n",
    "vocoder.remove_weight_norm()\n",
    "vocoder = vocoder.eval().to(device)"
   ],
   "metadata": {
    "collapsed": false
   }
  },
  {
   "cell_type": "code",
   "execution_count": null,
   "outputs": [],
   "source": [
    "orig_text = \"Let's try something different.\""
   ],
   "metadata": {
    "collapsed": false
   }
  },
  {
   "cell_type": "code",
   "execution_count": null,
   "outputs": [],
   "source": [
    "orig_text = \"Do you have anything in mind\""
   ],
   "metadata": {
    "collapsed": false
   }
  },
  {
   "cell_type": "code",
   "execution_count": null,
   "outputs": [],
   "source": [
    "orig_text = \"I thought you meant how old are you!\""
   ],
   "metadata": {
    "collapsed": false
   }
  },
  {
   "cell_type": "code",
   "execution_count": null,
   "outputs": [],
   "source": [
    "arpa_tokenizer = PhonemeTokenizer(g2p_type='g2p_en')\n",
    "arpa_phones = arpa_tokenizer.g2p(orig_text)"
   ],
   "metadata": {
    "collapsed": false
   }
  },
  {
   "cell_type": "code",
   "execution_count": 4,
   "outputs": [],
   "source": [
    "arpa_tokenizer = PhonemeTokenizer(g2p_type='g2p_en_no_space')\n",
    "id_converter = TokenIDConverter(pretrained_tts.train_args.token_list)"
   ],
   "metadata": {
    "collapsed": false
   }
  },
  {
   "cell_type": "code",
   "execution_count": null,
   "outputs": [],
   "source": [
    "utt_xvectors = read_xvectors(COMBINED_DIR, \"dump/xvector/eval1_phn/xvector.scp\")"
   ],
   "metadata": {
    "collapsed": false
   }
  },
  {
   "cell_type": "code",
   "execution_count": 21,
   "outputs": [],
   "source": [
    "spk_xvectors = read_xvectors(COMBINED_DIR, \"dump/xvector/tr_no_dev_phn/spk_xvector.ark\")"
   ],
   "metadata": {
    "collapsed": false
   }
  },
  {
   "cell_type": "code",
   "execution_count": 24,
   "outputs": [],
   "source": [
    "arpa_phones = arpa_tokenizer.text2tokens(orig_text)\n",
    "phone_ids = torch.IntTensor(id_converter.tokens2ids(arpa_phones)).to(device)"
   ],
   "metadata": {
    "collapsed": false
   }
  },
  {
   "cell_type": "code",
   "execution_count": 25,
   "outputs": [
    {
     "data": {
      "text/plain": "torch.Size([36])"
     },
     "execution_count": 25,
     "metadata": {},
     "output_type": "execute_result"
    }
   ],
   "source": [
    "phone_ids.shape"
   ],
   "metadata": {
    "collapsed": false
   }
  },
  {
   "cell_type": "code",
   "execution_count": 5,
   "outputs": [],
   "source": [
    "save_dir = PWD / 'outputs' / pretrained_dir.stem\n",
    "def save_wav(orig_text, model=pretrained_model, tokenizer=arpa_tokenizer, converter=id_converter, **kwargs):\n",
    "    arpa_phones = tokenizer.text2tokens(orig_text)\n",
    "    phone_ids = torch.IntTensor(converter.tokens2ids(arpa_phones)).to(device)\n",
    "    if 'sids' in kwargs:\n",
    "        sids = kwargs.pop('sids')\n",
    "        suffix = str(sids[0])\n",
    "        sids = torch.tensor(sids, device=device)\n",
    "        spembs = None\n",
    "    else:\n",
    "        sids = None\n",
    "        if 'spk' in kwargs:\n",
    "            spk = kwargs.pop('spk')\n",
    "            xvector_dict = spk_xvectors\n",
    "            spembs = torch.tensor(xvector_dict[spk]).to(device).squeeze()\n",
    "            suffix = str(spk)\n",
    "        else:\n",
    "            if 'suffix' in kwargs:\n",
    "                suffix = kwargs.pop('suffix')\n",
    "            else:\n",
    "                suffix = ''\n",
    "            spembs = None\n",
    "\n",
    "    with torch.no_grad():\n",
    "        if hasattr(pretrained_model.tts, 'generator'):\n",
    "            wav, output_dic = model.tts.generator.inference(\n",
    "                text=phone_ids[None],\n",
    "                text_lengths=torch.tensor([len(phone_ids)]),\n",
    "                sids=sids, spembs=spembs, **kwargs\n",
    "            )\n",
    "            wav = wav.view(-1)\n",
    "        else:\n",
    "            output_dic = model.tts.inference(text=phone_ids, sids=sids, spembs=spembs, **kwargs)\n",
    "            mel = output_dic['feat_gen']\n",
    "            wav = vocoder.inference(mel, normalize_before=False).view(-1)\n",
    "\n",
    "    os.makedirs(save_dir, exist_ok=True)\n",
    "\n",
    "    # save as PCM 16 bit wav file\n",
    "    sf.write(\n",
    "        save_dir / f\"{clean_filename(orig_text)}_{suffix}.wav\",\n",
    "        wav.detach().cpu().numpy(),\n",
    "        22050,\n",
    "        \"PCM_16\",\n",
    "    )\n",
    "    return output_dic"
   ],
   "metadata": {
    "collapsed": false
   }
  },
  {
   "cell_type": "code",
   "execution_count": null,
   "outputs": [],
   "source": [
    "arpa_phones = arpa_tokenizer.text2tokens(orig_text)"
   ],
   "metadata": {
    "collapsed": false
   }
  },
  {
   "cell_type": "code",
   "execution_count": null,
   "outputs": [],
   "source": [
    "from matplotlib import pyplot as plt\n",
    "def plot_pitch(wav_path, model=pretrained_model):\n",
    "    with open(wav_path, 'rb') as f:\n",
    "        audio, _ = sf.read(f)\n",
    "        inp = torch.tensor([audio], device=device)\n",
    "    feats, _ = model.feats_extract(torch.tensor(inp, dtype=torch.float, device=device))\n",
    "    feats_lengths = torch.tensor([feats.shape[1]], device=device)\n",
    "    model.pitch_extract.use_token_averaged_f0 = False\n",
    "    pitch, pitch_lengths = model.pitch_extract(inp, feats_lengths=feats_lengths)\n",
    "    model.pitch_extract.use_token_averaged_f0 = True\n",
    "    plt.plot(pitch.squeeze().cpu().numpy())\n",
    "    return feats, feats_lengths, pitch, pitch_lengths"
   ],
   "metadata": {
    "collapsed": false
   }
  },
  {
   "cell_type": "code",
   "execution_count": null,
   "outputs": [],
   "source": [
    "feats, feats_length, pitch, pitch_lengths = plot_pitch('/home/perry/PycharmProjects/ESD/0018/Surprise/test/0018_001423.wav')"
   ],
   "metadata": {
    "collapsed": false
   }
  },
  {
   "cell_type": "code",
   "execution_count": null,
   "outputs": [],
   "source": [
    "save_wav(orig_text, spk='0012')\n",
    "# save_wav(orig_text, spk='0018', p_factor=torch.tensor([0.3], device=device))\n",
    "# save_wav(orig_text, spk='0018', p_factor=torch.tensor([0.3], device=device), d_factor=torch.tensor([0.8], device=device))"
   ],
   "metadata": {
    "collapsed": false
   }
  },
  {
   "cell_type": "code",
   "execution_count": 6,
   "outputs": [],
   "source": [
    "long_surprise_texts = [\n",
    "    'Why do all your coffee mugs have numbers on the bottom?',\n",
    "    'Okay, so you were trying to play bad this whole time.',\n",
    "    \"Rach, I'm sorry, but you didn't give me any contracts!\"\n",
    "]\n",
    "short_surprise_texts = [\n",
    "    \"They're not listening to me?\",\n",
    "    'Wow, you guys, this is big.',\n",
    "    \"It's nine o'clock in the morning!\",\n",
    "]\n",
    "long_sad_texts = [\n",
    "    \"Oh come on, what am I gonna do, its been hours and it won't stop crying.\",\n",
    "    'I guess I just figured that somewhere down the road, we would be on again.',\n",
    "    'No, I had to return it to the costume place.'\n",
    "]\n",
    "short_sad_texts = [\n",
    "    'Can we please turn this off?',\n",
    "    \"I mean, no, you're right.\",\n",
    "    \"Well it's very unsettling.\"\n",
    "]\n",
    "input_texts = long_surprise_texts + short_surprise_texts + long_sad_texts + short_sad_texts"
   ],
   "metadata": {
    "collapsed": false
   }
  },
  {
   "cell_type": "code",
   "execution_count": 7,
   "outputs": [],
   "source": [
    "short_surprise_ref = [\n",
    "    '/home/perry/PycharmProjects/ESD_22050_en/0016/Surprise/test/0016_001449.wav',\n",
    "    '/home/perry/PycharmProjects/ESD_22050_en/0017/Surprise/test/0017_001447.wav',\n",
    "    '/home/perry/PycharmProjects/ESD_22050_en/0018/Surprise/test/0018_001421.wav',\n",
    "]\n",
    "long_surprise_ref = [\n",
    "    '/home/perry/PycharmProjects/ESD_22050_en/0016/Surprise/test/0016_001450.wav',\n",
    "    '/home/perry/PycharmProjects/ESD_22050_en/0017/Surprise/test/0017_001428.wav',\n",
    "    '/home/perry/PycharmProjects/ESD_22050_en/0018/Surprise/test/0018_001440.wav'\n",
    "]\n",
    "short_sad_ref = [\n",
    "    '/home/perry/PycharmProjects/ESD_22050_en/0016/Sad/test/0016_001091.wav',\n",
    "    '/home/perry/PycharmProjects/ESD_22050_en/0017/Sad/test/0017_001086.wav',\n",
    "    '/home/perry/PycharmProjects/ESD_22050_en/0018/Sad/test/0018_001092.wav',\n",
    "]\n",
    "long_sad_ref = [\n",
    "    '/home/perry/PycharmProjects/ESD_22050_en/0016/Sad/test/0016_001090.wav',\n",
    "    '/home/perry/PycharmProjects/ESD_22050_en/0017/Sad/test/0017_001078.wav',\n",
    "    '/home/perry/PycharmProjects/ESD_22050_en/0018/Sad/test/0018_001084.wav'\n",
    "]\n",
    "ref_wavs = short_surprise_ref + long_surprise_ref + short_sad_ref + long_sad_ref"
   ],
   "metadata": {
    "collapsed": false
   }
  },
  {
   "cell_type": "code",
   "execution_count": 12,
   "outputs": [],
   "source": [
    "%load_ext autoreload\n",
    "%autoreload 2\n"
   ],
   "metadata": {
    "collapsed": false
   }
  },
  {
   "cell_type": "code",
   "execution_count": 8,
   "outputs": [],
   "source": [
    "from espnet2.tts.feats_extract.praat_pitch import PraatPitch\n",
    "pretrained_model.pitch_extract = PraatPitch(use_token_averaged_f0=False)\n",
    "pretrained_model.pitch_extract.stft_pad = 256"
   ],
   "metadata": {
    "collapsed": false
   }
  },
  {
   "cell_type": "code",
   "execution_count": 15,
   "outputs": [],
   "source": [
    "wav_path = '/home/perry/PycharmProjects/ESD_22050_en/0018/Happy/train/0018_001050.wav'\n",
    "(\n",
    "    speech, speech_lengths,\n",
    "    feats, feats_lengths,\n",
    "    pitch, pitch_lengths,\n",
    "    energy, energy_lengths,\n",
    "    voiced_frames\n",
    ") = extract_all_feats(wav_path, pretrained_model)\n",
    "normed_pitch, normed_energy = normalize_feats(pretrained_model, pitch, pitch_lengths, energy, energy_lengths)"
   ],
   "metadata": {
    "collapsed": false
   }
  },
  {
   "cell_type": "code",
   "execution_count": 74,
   "outputs": [
    {
     "data": {
      "text/plain": "torch.Size([36])"
     },
     "execution_count": 74,
     "metadata": {},
     "output_type": "execute_result"
    }
   ],
   "source": [
    "phone_ids.shape"
   ],
   "metadata": {
    "collapsed": false
   }
  },
  {
   "cell_type": "code",
   "execution_count": 11,
   "outputs": [
    {
     "name": "stdout",
     "output_type": "stream",
     "text": [
      "Duration pred: tensor([ 9.7040,  9.1171,  9.4322, 12.5122, 13.4068,  8.8799,  7.3288,  5.1744,\n",
      "         7.8569, 10.1360, 10.2096, 11.4694,  7.6856,  7.4427,  9.2418,  9.7072,\n",
      "         5.1550,  5.3405,  6.7522,  6.5406,  5.6568,  5.1344,  5.1470,  5.1855,\n",
      "         7.4596, 11.4276,  6.1587,  5.6664,  4.9827,  6.1949,  7.0202,  8.7912,\n",
      "         6.1483,  5.9203,  6.6067,  8.6886], device='cuda:0')\n",
      "Pitch pred: tensor([ 0.3623,  0.3205,  0.4578,  0.5322,  0.4711,  0.2223, -0.0153, -0.0637,\n",
      "        -0.0533,  0.4264,  0.6241,  0.5885,  0.0792, -0.5792, -0.9162, -0.6146,\n",
      "        -0.3884, -0.0316, -0.1082, -0.0261,  0.2999,  0.7878,  0.6313,  0.1778,\n",
      "        -0.0753, -0.0865, -0.3712, -0.6123, -0.5619, -0.6559, -0.0666,  0.1705,\n",
      "         0.0826, -0.0524, -0.0161, -0.0534], device='cuda:0')\n",
      "Energy pred: tensor([ 1.5953,  3.1012,  0.5644,  0.4974,  1.7838,  0.6515,  0.3003,  1.1116,\n",
      "        -0.4013, -0.3801,  1.4301, -0.5634,  0.2457,  0.5503,  0.5040, -0.4734,\n",
      "        -0.0753, -0.2780,  0.2203, -0.6654,  0.5774,  0.5871, -0.2821,  0.2539,\n",
      "         0.3501, -0.1900,  0.2606, -0.1392, -0.0095, -0.8250,  0.4255,  0.6154,\n",
      "        -0.5510, -0.6263, -0.8822, -1.0732], device='cuda:0')\n",
      "Duration (new): tensor([ 9,  9,  9, 12, 13,  9,  7,  5,  8, 10, 10, 11,  7,  7,  9,  9,  5,  5,\n",
      "         6,  6,  5,  5,  5,  5,  7, 11,  6,  5,  5,  6,  7,  8,  6,  6,  6,  8],\n",
      "       device='cuda:0')\n",
      "Pitch (new): tensor([0.8577, 1.0213, 1.8351, 1.6540, 1.6408, 1.4589, 0.9593, 1.0937, 1.6692,\n",
      "        1.6825, 1.3143, 2.0891, 1.0213, 1.9287, 1.6540, 1.6563, 1.9808, 2.1431,\n",
      "        1.6408, 1.4794, 0.8493, 1.0937, 1.8174, 1.5066, 1.3143, 2.6135, 1.6540,\n",
      "        1.7367, 2.2822, 1.6408, 1.4473, 1.0937, 1.8555, 1.3143, 1.4459, 0.0000],\n",
      "       device='cuda:0')\n",
      "Energy (new): tensor([-1.1369,  0.7916, -0.8967,  0.0447,  0.3411,  0.2475,  0.0738,  0.6239,\n",
      "        -0.7170,  0.2932,  2.0914,  0.7804,  0.7916, -0.7222,  0.0447, -0.1976,\n",
      "        -0.6152, -0.4458,  0.3411,  0.1857, -0.2139,  0.6239, -0.6144,  0.7779,\n",
      "         2.0914,  0.6288,  0.0447, -0.2996, -0.9317,  0.3411,  0.2651,  0.6239,\n",
      "        -0.0424,  2.0914,  1.7511, -0.8461], device='cuda:0')\n",
      "Duration pred: tensor([14.0372, 13.6590, 13.5570,  8.3407, 13.5183, 10.6429,  8.6185,  6.0639,\n",
      "         6.6428,  7.4263,  9.3465,  9.2893,  9.3896,  6.7865,  6.6232,  5.5471,\n",
      "         6.5376,  6.8330,  7.8781, 10.2147,  7.6008, 10.1462,  7.6208,  5.8841,\n",
      "         6.9638,  5.6268,  8.9435, 10.1318,  7.4280, 13.6718, 14.2171,  9.8093,\n",
      "         8.8769], device='cuda:0')\n",
      "Pitch pred: tensor([ 0.7735,  0.6228, -0.4025, -0.5999,  0.2201,  0.4870,  0.3239,  0.0342,\n",
      "        -0.0569, -0.1229,  0.0253,  0.4284,  0.0173, -0.3001, -0.1690,  0.3292,\n",
      "         0.4422,  0.6013,  0.6739,  0.3743,  0.1007,  0.0670, -0.0266, -0.0631,\n",
      "        -0.2676, -0.2097, -0.2944, -0.6670, -0.4966,  0.3565, -0.5767, -0.7604,\n",
      "        -0.7413], device='cuda:0')\n",
      "Energy pred: tensor([ 0.2709, -0.0058,  0.4460, -0.5637,  0.7993,  0.7161,  0.1322,  0.0783,\n",
      "         0.9373,  0.2185, -0.7987,  1.0891,  0.8252,  0.0686, -0.5725, -0.4123,\n",
      "        -0.7739, -0.8913,  1.2373,  0.5787,  0.0134,  0.9906, -0.7474,  0.0128,\n",
      "         0.1204, -0.2526, -0.2081,  0.7895, -0.7849, -0.1906, -0.0853, -0.8415,\n",
      "        -1.0810], device='cuda:0')\n",
      "Duration (new): tensor([11, 11, 11,  7, 11,  8,  7,  5,  5,  6,  7,  7,  7,  5,  5,  4,  5,  5,\n",
      "         6,  8,  6,  8,  6,  5,  6,  4,  7,  8,  6, 11, 11,  8,  7],\n",
      "       device='cuda:0')\n",
      "Pitch (new): tensor([ 1.3271,  1.4504,  2.9060,  0.0000, -0.5123,  0.0699,  1.1823,  1.3271,\n",
      "         1.8141,  2.9060,  0.6985, -0.4461,  0.0699,  3.9366,  3.0523,  3.3193,\n",
      "         1.3271,  1.4287,  2.2446,  2.9060, -0.1434,  0.0699,  1.1184,  3.2916,\n",
      "         3.9366,  3.0974, -0.0962,  0.0699,  1.0798,  3.0043,  3.9366,  4.7504,\n",
      "         0.0000], device='cuda:0')\n",
      "Energy (new): tensor([-0.1006, -0.1991,  1.8587,  0.5158, -0.2309,  0.0680, -0.3693, -0.1006,\n",
      "        -0.2438,  1.8587,  0.6617, -0.3993,  0.0680, -0.0564, -0.4835, -0.6059,\n",
      "        -0.1006, -0.1796, -0.0846,  1.8587, -0.3442,  0.0680, -0.3221, -0.3538,\n",
      "        -0.0564, -0.4588, -0.5261,  0.0680, -0.3025, -0.3552, -0.0564, -0.4973,\n",
      "         0.5158], device='cuda:0')\n",
      "Duration pred: tensor([10.7676, 19.3164, 14.0794, 10.5259, 10.1722, 10.2143, 11.9456,  9.9146,\n",
      "         9.5345, 11.8934, 27.6425,  5.3049,  6.3143,  7.8264,  4.8936,  6.3331,\n",
      "         5.8129,  4.3243,  4.0295,  4.1392,  4.1561,  3.9161,  5.3967,  5.3169,\n",
      "         6.7783,  7.1958,  9.0701,  8.4533,  6.2802,  7.3182,  7.6856,  7.3557,\n",
      "         5.8449,  6.7508,  7.5377,  9.7633, 10.8906,  7.2992,  9.1945,  9.7353],\n",
      "       device='cuda:0')\n",
      "Pitch pred: tensor([ 0.5312,  0.1661, -0.2852, -0.4776, -0.0820, -0.1039,  0.1597,  0.1597,\n",
      "        -0.2997,  0.2308,  0.2337,  0.6660,  0.7080,  0.6033,  0.7984,  0.5439,\n",
      "         0.7370,  1.1333,  1.0819,  1.0349,  0.7790,  0.4186,  0.3610,  0.1778,\n",
      "         0.1429,  0.1807,  0.2360,  0.2182, -0.1104, -0.2347, -0.1201, -0.5006,\n",
      "        -0.6780, -0.3033, -0.2576, -1.0426, -1.4306, -1.7079, -1.8372, -1.9758],\n",
      "       device='cuda:0')\n",
      "Energy pred: tensor([ 1.7587,  1.7176, -0.4504, -0.8892,  0.3341,  0.2264,  1.3612,  1.2786,\n",
      "         0.3561, -0.4136, -0.9653, -0.1260,  0.3419, -0.7876,  0.2105,  0.1073,\n",
      "         0.2706,  0.7090, -0.4473,  0.4852, -0.0795, -0.8525,  0.3106,  0.6115,\n",
      "        -0.6386,  0.2996, -0.3280,  0.4670,  0.4786, -0.5425, -0.7154,  0.2779,\n",
      "        -0.5589, -0.7603,  0.6883, -0.0379, -1.0230, -0.6439,  0.0057, -1.0671],\n",
      "       device='cuda:0')\n",
      "Duration (new): tensor([10, 18, 13, 10,  9,  9, 11,  9,  9, 11, 26,  5,  6,  7,  5,  6,  5,  4,\n",
      "         4,  4,  4,  4,  5,  5,  6,  7,  8,  8,  6,  7,  7,  7,  5,  6,  7,  9,\n",
      "        10,  7,  9,  9], device='cuda:0')\n",
      "Pitch (new): tensor([1.8239, 1.8555, 1.4080, 0.0000, 2.9356, 3.0108, 2.4765, 2.0371, 2.4510,\n",
      "        2.6222, 0.0000, 2.6575, 2.6298, 1.6984, 1.5409, 2.3876, 2.8747, 3.1292,\n",
      "        4.0181, 1.8555, 1.8218, 1.3504, 1.2089, 2.9356, 2.9561, 2.6293, 2.0371,\n",
      "        2.6222, 2.6284, 2.6298, 1.1655, 2.3876, 2.6607, 2.9068, 3.0986, 3.1292,\n",
      "        3.2544, 3.5298, 4.0459, 0.0000], device='cuda:0')\n",
      "Energy (new): tensor([-0.0176,  0.4039, -0.9584, -0.4330,  1.4740, -0.6494, -0.6121, -0.1130,\n",
      "        -0.8471,  0.9362, -0.4330,  0.2088,  0.8502, -0.3660, -0.6095,  0.8605,\n",
      "        -0.3574,  1.1369, -0.1213,  0.4039, -0.7764, -0.9440, -0.9770,  1.4740,\n",
      "        -0.5368, -0.6354, -0.1130,  0.9362, -0.0658,  0.8502, -0.3848,  0.8605,\n",
      "        -0.7836, -0.4104, -0.2238,  1.1369,  1.0110,  0.2126,  0.0155, -0.4330],\n",
      "       device='cuda:0')\n",
      "Duration pred: tensor([ 5.8573,  5.3926,  5.6408,  6.6986,  7.8087,  8.4066,  6.0271,  5.8890,\n",
      "         6.3990,  4.9550,  4.1819,  5.4971,  6.4540,  6.6305,  7.0564,  9.2498,\n",
      "        12.1525,  9.5638], device='cuda:0')\n",
      "Pitch pred: tensor([ 0.2899,  0.2824,  0.2425,  0.6124,  1.1657,  0.6887,  0.2613,  0.1824,\n",
      "         0.0606, -0.2487, -0.6319, -0.8388, -0.7107, -0.2308, -0.2998, -0.1725,\n",
      "        -0.7029, -0.6400], device='cuda:0')\n",
      "Energy pred: tensor([ 0.3115,  2.1467,  0.7507,  1.1173,  0.7973, -0.7610,  0.5960,  0.5384,\n",
      "         0.5892, -0.0813,  0.3502, -0.0640, -0.6800, -0.3791, -0.1884,  0.2262,\n",
      "        -0.4189, -1.0622], device='cuda:0')\n",
      "Duration (new): tensor([ 8,  7,  8,  9, 11, 11,  8,  8,  9,  7,  6,  7,  9,  9, 10, 13, 16, 13],\n",
      "       device='cuda:0')\n",
      "Pitch (new): tensor([ 4.4828e-01,  8.4092e-01,  1.4289e+00,  2.6302e+00,  1.9139e+00,\n",
      "         1.1206e+00,  5.7158e-01,  4.7369e-01,  1.9265e+00,  1.0795e+00,\n",
      "         8.1920e-01,  1.4288e-03, -7.4175e-03,  1.4255e+00,  1.5474e+00,\n",
      "         2.4754e+00,  2.9645e+00,  0.0000e+00], device='cuda:0')\n",
      "Energy (new): tensor([-0.7350,  0.6214, -0.2521,  0.4230, -0.0087, -0.5242,  0.3298,  1.1609,\n",
      "        -0.2465,  1.9348, -0.2806,  0.2047, -0.4073, -0.1587,  0.4037, -0.2056,\n",
      "         1.8744, -0.3456], device='cuda:0')\n",
      "Duration pred: tensor([ 9.7319, 12.7288, 13.0551,  4.6632,  5.7802, 11.0185, 18.0449, 13.7933,\n",
      "        18.5459,  7.9963,  5.8192,  7.0715,  7.4635,  9.4430,  8.5341, 10.4537,\n",
      "         7.5123,  7.3490], device='cuda:0')\n",
      "Pitch pred: tensor([ 0.2604, -0.0331, -0.1026,  0.4160,  0.3393,  0.2285, -0.1377, -0.2619,\n",
      "        -0.4168, -0.1464, -0.2607, -0.1627, -0.3012, -0.3668,  0.0540, -0.7328,\n",
      "        -0.9047, -0.9613], device='cuda:0')\n",
      "Energy pred: tensor([ 1.1031,  1.6381, -0.7402,  0.2205,  0.0436,  2.0993,  1.3601,  0.0140,\n",
      "        -0.8961,  0.0600,  0.8441,  0.5718,  0.1050, -0.5795,  0.3394, -0.0423,\n",
      "        -0.9430, -1.0664], device='cuda:0')\n",
      "Duration (new): tensor([13, 17, 17,  6,  8, 15, 24, 18, 25, 11,  8,  9, 10, 13, 11, 14, 10, 10],\n",
      "       device='cuda:0')\n",
      "Pitch (new): tensor([ 1.0331,  1.1503,  0.0000,  4.6078,  0.4478, -0.5337, -0.2448,  0.0186,\n",
      "         0.0000,  0.0954,  1.5195,  0.6024, -0.3156,  3.3477, -1.9265,  5.1806,\n",
      "         5.3275,  0.0000], device='cuda:0')\n",
      "Energy (new): tensor([-0.5229,  0.0349,  0.2675,  0.5266,  3.5628,  0.0228,  0.5564, -0.0889,\n",
      "         0.2675, -0.3467,  0.0626, -0.6647,  0.1510, -0.2729, -0.5259,  0.5332,\n",
      "         0.3007,  0.2675], device='cuda:0')\n",
      "Duration pred: tensor([ 9.4641,  6.5244,  7.9153,  8.0099,  9.9586,  6.5876,  8.0867,  7.3722,\n",
      "         8.2267,  9.3095, 10.9651,  6.3195,  4.5789,  4.6280,  5.2220,  6.4266,\n",
      "         6.0940,  5.1580,  5.8868,  6.5669,  6.8996,  8.1746], device='cuda:0')\n",
      "Pitch pred: tensor([ 0.3564,  0.2817,  0.4217,  0.7713,  1.0779,  1.1904,  1.0821,  1.0775,\n",
      "         0.7989,  0.5126,  0.5546,  0.6943,  0.5971,  0.5424,  0.2905,  0.1196,\n",
      "        -0.0275, -0.1408, -0.4833, -0.2662,  0.1835,  0.1999], device='cuda:0')\n",
      "Energy pred: tensor([ 0.0346, -0.1816,  0.7827,  1.2299,  1.1051,  0.1538, -0.5612, -0.8492,\n",
      "         1.8089,  0.4244, -0.8726, -0.0182, -0.0230,  0.3149, -0.0380,  0.3198,\n",
      "         0.6981,  0.2742, -0.0653, -0.4258, -0.8025, -1.0776], device='cuda:0')\n",
      "Duration (new): tensor([13,  9, 11, 11, 14,  9, 12, 10, 12, 13, 16,  9,  7,  7,  7,  9,  9,  7,\n",
      "         8,  9, 10, 12], device='cuda:0')\n",
      "Pitch (new): tensor([2.5354, 2.2549, 3.5376, 3.1481, 3.1981, 2.3058, 2.8942, 2.9154, 1.6487,\n",
      "        2.7020, 2.2934, 1.8033, 2.6082, 3.2432, 3.8018, 2.3989, 1.6640, 0.7465,\n",
      "        0.7161, 1.0134, 3.0279, 0.0000], device='cuda:0')\n",
      "Energy (new): tensor([ 0.2994, -0.2694,  0.2090, -0.2350,  0.8312, -0.5361,  2.8186, -0.2487,\n",
      "        -0.4154,  0.5298,  0.0136,  0.4694, -0.5454,  0.1659,  0.6742, -0.0481,\n",
      "         0.2468, -0.3758, -0.4007, -0.2538, -0.4889, -0.2088], device='cuda:0')\n",
      "Duration pred: tensor([15.6958,  9.0061,  7.9808,  9.4478, 15.3961, 10.9554, 17.1443,  4.8698,\n",
      "         5.6349,  6.0660,  6.6065,  7.5305, 10.1584,  7.4421,  6.9998,  6.0391,\n",
      "         9.7393, 13.7003, 17.2966, 20.9199,  8.5992,  5.6388,  6.2726,  5.4415,\n",
      "         5.5098, 11.2586, 15.7436, 14.8211,  8.2693, 12.2179,  7.5690,  5.0484,\n",
      "         6.4096,  6.6548,  5.9684,  5.7085,  5.6604,  5.6101,  8.4678,  7.5837,\n",
      "         9.0313, 11.1771, 11.0079, 10.9499,  9.9756, 10.3461,  6.7332,  8.3310],\n",
      "       device='cuda:0')\n",
      "Pitch pred: tensor([ 0.1998,  0.4163,  0.3576, -0.3575, -0.8231, -0.0826, -0.1701,  0.4075,\n",
      "         0.6243,  0.6562,  0.3756,  0.2625, -0.0806,  0.0073,  0.0893,  0.2046,\n",
      "        -0.2125,  0.0909, -0.1174,  0.1093,  0.3577,  0.3197,  0.1083,  0.3119,\n",
      "         0.4201,  0.1223, -0.4660, -0.3909,  0.0789, -0.0952,  0.0384,  0.1927,\n",
      "         0.3364,  0.2357,  0.0695, -0.1150, -0.0877, -0.0409, -0.0835, -0.1426,\n",
      "        -0.4250, -0.2174,  0.0687,  0.4813, -0.4991, -0.8216, -0.6933, -0.6619],\n",
      "       device='cuda:0')\n",
      "Energy pred: tensor([ 0.7098, -0.6658,  0.8466,  0.2642,  0.2933, -0.4512, -0.9688, -0.0721,\n",
      "         1.4965,  0.2224,  0.6880,  0.1932,  0.6317,  0.1961,  0.6348,  0.1706,\n",
      "        -0.3971,  0.5087, -0.0073, -0.7998, -0.1463, -0.2107, -0.5224,  0.3659,\n",
      "         0.9223, -0.0585,  0.3607,  0.1292, -0.2076, -0.4971,  0.2507,  0.2548,\n",
      "        -0.0973, -0.8735,  0.3250,  0.5275, -0.5354, -0.1056,  0.5337,  0.5421,\n",
      "         0.2053, -1.0542, -0.9050,  0.6845,  0.2223, -0.4592, -0.8687, -1.0811],\n",
      "       device='cuda:0')\n",
      "Duration (new): tensor([18, 10,  9, 11, 18, 13, 20,  6,  6,  7,  8,  9, 12,  9,  8,  7, 11, 16,\n",
      "        20, 24, 10,  6,  7,  6,  6, 13, 18, 17,  9, 14,  9,  6,  7,  8,  7,  7,\n",
      "         6,  6, 10,  9, 10, 13, 13, 13, 11, 12,  8, 10], device='cuda:0')\n",
      "Pitch (new): tensor([2.0464, 1.8872, 0.2974, 0.2223, 0.3505, 0.2344, 0.0000, 0.2685, 0.2462,\n",
      "        0.4201, 0.2473, 0.3334, 2.0464, 1.7333, 0.2974, 0.2203, 0.3505, 0.2375,\n",
      "        0.2462, 0.0000, 0.2473, 0.3279, 0.3399, 1.7446, 2.0464, 1.8841, 0.2974,\n",
      "        0.3505, 0.2886, 0.2462, 0.4066, 0.3218, 0.2473, 0.3279, 0.2755, 0.2974,\n",
      "        0.2317, 0.2469, 0.2199, 0.3906, 0.3505, 0.2487, 0.2551, 0.2793, 0.2462,\n",
      "        0.2473, 0.3313, 0.0000], device='cuda:0')\n",
      "Energy (new): tensor([ 1.2342,  0.5964,  0.2635, -0.4771,  0.6282, -0.1323, -0.3615,  0.2621,\n",
      "         0.4846, -0.1720, -0.0423, -0.1965,  1.2342,  0.2040,  0.2635, -0.5714,\n",
      "         0.6282, -0.4315,  0.4846, -0.3615, -0.0423, -0.1859, -1.0438, -1.4567,\n",
      "         1.2342,  0.6001,  0.2635,  0.6282, -0.1395,  0.4846, -0.0729, -0.1232,\n",
      "        -0.0423, -0.1269, -1.3266,  0.2635,  0.1516, -0.1465, -0.5919, -1.0920,\n",
      "         0.6282,  0.0409, -0.3606,  0.1631,  0.4846, -0.0423, -0.1298, -0.3615],\n",
      "       device='cuda:0')\n",
      "Duration pred: tensor([18.2447,  8.9298, 10.5593, 14.2331, 11.4168,  8.3249,  6.6642,  6.2338,\n",
      "        10.4283,  6.1320,  4.8070,  4.8932,  6.0288,  6.0793,  7.3467, 13.8266,\n",
      "         6.9308,  7.8948,  7.0977,  6.2427,  6.7759,  6.4002,  7.6857, 13.9079,\n",
      "         9.2599,  7.7122,  6.5119,  5.3021,  6.4355, 10.4696, 15.3767, 11.5026,\n",
      "        30.2344,  7.6576,  5.4942,  4.8703,  4.6586,  4.3441,  6.0640,  8.2868,\n",
      "         7.5208,  6.0143,  8.2134,  8.8749, 11.4887,  9.0830,  9.0438],\n",
      "       device='cuda:0')\n",
      "Pitch pred: tensor([ 0.2140,  0.5658,  0.9090,  0.6695,  0.3191,  0.6329,  1.1967,  1.2194,\n",
      "         1.1743,  1.2292,  0.9671,  0.3975, -0.2638, -0.3238, -0.2343, -0.0910,\n",
      "         0.2470,  0.3391,  0.9724,  1.4495,  1.2754,  0.6515,  0.2931,  0.0162,\n",
      "        -0.1019, -0.4846, -0.5998, -0.5563, -0.7051, -0.0558, -0.7187, -0.5766,\n",
      "        -0.4497,  0.5082,  0.6620,  0.4453,  0.2342, -0.1192, -0.2459, -0.7414,\n",
      "        -0.8577, -0.7813, -0.6936,  0.1332, -0.7916, -1.0190, -0.9587],\n",
      "       device='cuda:0')\n",
      "Energy pred: tensor([ 0.4195,  0.5079,  1.2906,  0.4667,  1.1436,  0.2494,  1.0350,  0.2088,\n",
      "        -0.9184, -0.0413,  0.4240, -0.6248,  0.3526,  0.0438, -0.9129, -0.4408,\n",
      "         0.3829, -0.0193,  1.1325,  1.2515,  0.3048,  0.6072,  0.6453, -0.4328,\n",
      "         0.8656,  0.6655, -0.1227, -0.0765, -0.5270,  0.8521,  0.5003, -0.8860,\n",
      "        -1.0502, -0.0791,  1.3778,  0.4048,  0.9066, -0.7463,  0.5054,  0.1878,\n",
      "         0.4058,  0.0382, -0.5522,  0.4896,  0.0829, -0.8245, -1.0702],\n",
      "       device='cuda:0')\n",
      "Duration (new): tensor([15,  7,  9, 12,  9,  7,  6,  5,  9,  5,  4,  4,  5,  5,  6, 11,  6,  7,\n",
      "         6,  5,  6,  5,  6, 11,  8,  6,  5,  4,  5,  9, 13,  9, 25,  6,  5,  4,\n",
      "         4,  4,  5,  7,  6,  5,  7,  7,  9,  7,  7], device='cuda:0')\n",
      "Pitch (new): tensor([ 0.7572,  0.7716,  0.7186,  1.4748,  0.6935,  0.2414, -0.1042, -0.0799,\n",
      "        -0.1004, -1.1105, -0.8237,  0.8576,  0.9190,  0.7572,  0.7467,  0.7873,\n",
      "         0.7186,  1.4761,  1.9583,  0.6935,  0.4556,  0.0766, -0.1042, -0.0808,\n",
      "        -0.9490, -0.8237, -0.2246,  0.2512,  0.0332, -0.1858, -0.3659, -0.5684,\n",
      "         0.0000, -0.5300, -0.1995, -0.6825, -0.1042, -0.0887, -1.0996, -0.8237,\n",
      "         0.0332, -0.2355, -0.3659, -0.5363, -0.1995, -0.5786,  0.0000],\n",
      "       device='cuda:0')\n",
      "Energy (new): tensor([ 0.3801, -0.2423,  1.1776, -0.7529,  0.3267,  0.0457,  1.4700,  0.6447,\n",
      "        -0.5754, -0.6655, -0.4946, -0.3709, -0.2279,  0.3801, -0.2204,  0.0261,\n",
      "         1.1776, -0.6487, -0.3362,  0.3267, -0.0125,  0.1379,  1.4700,  0.6840,\n",
      "        -0.8248, -0.4946, -0.5954,  0.5681,  0.9405,  0.5565,  0.4990,  0.3103,\n",
      "         0.8882, -0.6967,  0.7880, -0.4036,  1.4700,  0.0573, -0.8136, -0.4946,\n",
      "         0.9405,  0.4184,  0.4990, -0.3013,  0.7880, -0.2638,  0.8882],\n",
      "       device='cuda:0')\n",
      "Duration pred: tensor([14.0339, 16.0689, 10.3105,  9.0570,  8.1549,  7.0948,  7.1906,  5.8004,\n",
      "         5.3693,  5.4881,  7.0483,  8.1257,  8.3438,  5.7698,  7.0982,  6.6424,\n",
      "         4.7224,  5.0676,  4.7701,  5.9732,  7.9053, 10.8597,  8.9006,  6.4266,\n",
      "         7.1813,  6.3606,  7.5347,  9.3515, 13.1781, 16.1613, 10.1472],\n",
      "       device='cuda:0')\n",
      "Pitch pred: tensor([ 0.1141, -0.4177, -0.4583,  0.2260,  0.5598,  0.5748,  0.4841,  0.6729,\n",
      "         0.5188,  0.5394,  0.4115,  0.7937,  0.5881,  0.5954,  0.5788,  0.5622,\n",
      "         0.6753,  0.4060,  0.1714, -0.0329, -0.2424, -0.7425, -0.6756, -0.3338,\n",
      "        -0.4422, -0.3805,  0.1839, -0.0762, -1.0556, -1.2651, -1.3133],\n",
      "       device='cuda:0')\n",
      "Energy pred: tensor([ 1.2342,  1.3244,  0.5036,  1.1455, -0.1627,  1.5467, -0.7232, -0.2172,\n",
      "         0.1612,  0.1892, -0.7443, -0.2316,  0.3662,  0.0070, -0.5258, -0.9507,\n",
      "        -0.4221, -0.0632,  0.0834, -0.9393, -0.4125,  0.4928,  0.0419, -0.6110,\n",
      "        -0.1307, -0.7709, -0.9396,  0.4235, -0.6571,  0.1169, -1.0670],\n",
      "       device='cuda:0')\n",
      "Duration (new): tensor([15, 17, 11, 10,  9,  8,  8,  6,  6,  6,  8,  9,  9,  6,  8,  7,  5,  5,\n",
      "         5,  6,  9, 12, 10,  7,  8,  7,  8, 10, 14, 17, 11], device='cuda:0')\n",
      "Pitch (new): tensor([ 1.6814,  1.5676,  0.0000,  1.7469,  1.3953,  1.5368,  1.6899,  0.6106,\n",
      "         0.4744,  0.0729,  1.5676,  1.4072,  1.7469,  1.3948,  1.5368,  1.7077,\n",
      "         0.5960,  0.4744, -0.1467, -0.0052,  0.0617,  1.5368,  1.6991,  0.5960,\n",
      "         0.4744,  0.1039, -0.1070,  0.0503, -0.0052,  0.0459,  0.0000],\n",
      "       device='cuda:0')\n",
      "Energy (new): tensor([-0.4295,  0.0233,  0.2650,  0.3355, -0.2528,  1.6656, -0.1442, -0.8860,\n",
      "         0.2650, -0.4519,  0.0233, -0.1732,  0.3355, -0.2376,  1.6656, -0.0711,\n",
      "        -0.8723,  0.2650, -0.9159, -0.2937, -1.0823,  1.6656, -0.1066, -0.8296,\n",
      "         0.2650, -0.3921, -0.7647, -0.3588, -0.2937, -0.4157,  0.2650],\n",
      "       device='cuda:0')\n",
      "Duration pred: tensor([ 6.7705,  5.5104,  7.9892,  6.3780,  9.9124,  8.8120,  8.1633, 14.6820,\n",
      "         8.7078,  8.2096,  9.3123,  8.3604,  6.2275,  8.4165, 10.0213, 15.0644,\n",
      "        11.2745,  9.0502], device='cuda:0')\n",
      "Pitch pred: tensor([ 1.0070,  0.8868,  0.4276,  0.5790,  1.1058,  0.8593,  0.3670,  0.2056,\n",
      "         0.1845,  0.3173, -0.0721, -0.3472, -0.4081, -0.5123, -0.0723, -0.7787,\n",
      "        -1.1930, -1.2552], device='cuda:0')\n",
      "Energy pred: tensor([-0.5646,  1.4103,  0.1697,  0.5165, -0.2104, -0.9022,  0.4905,  0.2164,\n",
      "        -0.0108, -0.4637,  0.3969, -0.1614,  0.0412,  0.1448, -0.1176,  0.3552,\n",
      "        -0.9583, -1.0649], device='cuda:0')\n",
      "Duration (new): tensor([ 7,  5,  8,  6, 10,  9,  8, 14,  9,  8,  9,  8,  6,  8, 10, 15, 11,  9],\n",
      "       device='cuda:0')\n",
      "Pitch (new): tensor([ 1.2611,  1.2666,  0.8279,  0.2203,  0.7987,  1.0355,  1.0879, -0.0696,\n",
      "        -0.3206,  0.4857,  1.0862,  1.1906,  1.0516,  0.7813, -0.3989, -0.2875,\n",
      "        -0.2346,  0.0000], device='cuda:0')\n",
      "Energy (new): tensor([-1.1526,  0.4443,  0.1433,  0.4702,  1.4579, -0.2324, -0.9647,  0.0782,\n",
      "        -0.3310, -0.3781,  0.2948,  0.7610, -0.1817,  0.1851, -0.3501, -0.2384,\n",
      "        -0.5261, -0.1920], device='cuda:0')\n",
      "Duration pred: tensor([14.6118, 12.2522, 14.4477, 10.6128, 13.4253, 11.9981, 15.7766, 14.0159,\n",
      "         6.1126,  5.7061,  9.2395,  9.3948, 14.4016, 12.7238,  9.3990],\n",
      "       device='cuda:0')\n",
      "Pitch pred: tensor([ 0.2173,  0.5176,  0.1013, -0.2359, -0.2533, -0.0819, -0.4383, -0.5287,\n",
      "        -0.3975, -0.3728, -0.4735,  0.0725, -0.8546, -1.1960, -1.2925],\n",
      "       device='cuda:0')\n",
      "Energy pred: tensor([ 0.5708,  0.4271,  0.7856, -0.2216, -0.6772,  0.7620,  0.8701, -0.6342,\n",
      "         0.0584,  0.9420, -0.2536,  0.6955, -0.0655, -0.8929, -1.0635],\n",
      "       device='cuda:0')\n",
      "Duration (new): tensor([11,  9, 11,  8, 10,  9, 12, 10,  4,  4,  7,  7, 11,  9,  7],\n",
      "       device='cuda:0')\n",
      "Pitch (new): tensor([ 0.9537,  0.8111,  0.4572, -0.3273,  0.0000,  0.4361, -0.4568,  0.0000,\n",
      "         0.0096,  0.1455, -0.1002,  0.2506, -0.1530, -0.2207,  0.0000],\n",
      "       device='cuda:0')\n",
      "Energy (new): tensor([ 0.4151, -0.7429,  1.8437, -0.6256,  0.5985,  0.2758, -0.2389,  0.5985,\n",
      "        -0.8097, -0.0119, -0.3550, -0.1558,  0.2821, -0.3692,  0.5985],\n",
      "       device='cuda:0')\n",
      "Duration pred: tensor([8.7110, 6.8947, 6.6751, 5.3568, 5.7425, 6.2514, 7.0501, 8.0046, 7.6470,\n",
      "        8.3604, 6.3502, 8.2933, 9.6037, 7.4395, 5.4984, 5.7707, 6.0478, 5.5734,\n",
      "        5.6461, 7.5982], device='cuda:0')\n",
      "Pitch pred: tensor([ 0.3888,  0.7012,  0.8444,  0.6765,  0.3014, -0.0503,  0.0133, -0.0718,\n",
      "        -0.4387, -0.6795, -0.6478, -0.6229, -0.2604, -0.2241, -0.4239, -0.8825,\n",
      "        -1.1819, -1.2131, -1.2345, -1.2639], device='cuda:0')\n",
      "Energy pred: tensor([ 0.8816,  2.8392,  1.1041,  0.1660, -0.2502, -0.3060,  0.5438,  2.3941,\n",
      "         1.2052,  0.2755,  0.1614,  0.1150,  0.7045,  0.8352, -0.5965,  0.0054,\n",
      "        -0.2293, -0.6744, -0.9192, -1.0841], device='cuda:0')\n",
      "Duration (new): tensor([14, 11, 11,  9,  9, 10, 12, 13, 13, 14, 10, 14, 16, 12,  9,  9, 10,  9,\n",
      "         9, 12], device='cuda:0')\n",
      "Pitch (new): tensor([ 0.9488,  1.1326,  0.8131,  1.2476,  1.0833,  0.6181,  0.8409,  0.4476,\n",
      "         0.7030,  1.3645,  0.7673, -0.1217,  0.5270,  0.9063,  3.2373,  0.4000,\n",
      "        -0.1762, -0.3694, -0.5940,  0.0000], device='cuda:0')\n",
      "Energy (new): tensor([-0.6245,  2.5126, -0.4953,  2.5309,  0.8880,  0.0424,  0.0985,  1.9481,\n",
      "        -0.5715,  1.1048,  0.7103, -0.5414, -0.2000,  0.7749, -0.1149,  0.2346,\n",
      "        -0.5461, -0.4753, -0.4892,  0.3841], device='cuda:0')\n",
      "2.628807544708252\n"
     ]
    }
   ],
   "source": [
    "from prosody.utils.text import ARPA_VOWELS, PUNCS\n",
    "import time\n",
    "\n",
    "start = time.time()\n",
    "for orig_text, wav_path in zip(input_texts, ref_wavs):\n",
    "\n",
    "    suffix = 'ref' + wav_path.split('/')[-1].split('.')[0]\n",
    "\n",
    "    # orig_text = 'Do you have anything in mind?'\n",
    "    # wav_path = '/home/perry/PycharmProjects/ESD_22050_en/0018/Happy/train/0018_001050.wav'\n",
    "\n",
    "    (\n",
    "        speech, speech_lengths,\n",
    "        feats, feats_lengths,\n",
    "        pitch, pitch_lengths,\n",
    "        energy, energy_lengths,\n",
    "        voiced_frames\n",
    "    ) = extract_all_feats(wav_path, pretrained_model)\n",
    "    normed_pitch, normed_energy = normalize_feats(pretrained_model, pitch, pitch_lengths, energy, energy_lengths)\n",
    "\n",
    "    arpa_phones = arpa_tokenizer.text2tokens(orig_text)\n",
    "    phone_ids = torch.IntTensor(id_converter.tokens2ids(arpa_phones)).to(device)\n",
    "    # with torch.no_grad():\n",
    "    #     output_dict = pretrained_model.tts.inference(\n",
    "    #         text=phone_ids,\n",
    "    #         sids=torch.tensor([8], device=device),\n",
    "    #         # spembs=torch.tensor(spk_xvectors['0018']).squeeze().to(device)\n",
    "    #     )\n",
    "    with torch.no_grad():\n",
    "        output_dict = pretrained_model.tts.generator.inference(\n",
    "            text=phone_ids[None], text_lengths=torch.tensor([len(phone_ids)])\n",
    "        )\n",
    "\n",
    "    is_vowels = [p in ARPA_VOWELS for p in arpa_phones]\n",
    "    is_consonants = [p not in ARPA_VOWELS and p not in PUNCS for p in arpa_phones]\n",
    "    if not hasattr(pretrained_model.tts, 'generator'):  # got eos\n",
    "        is_vowels.append(False)\n",
    "        is_consonants.append(False)\n",
    "\n",
    "    is_vowels = torch.tensor(is_vowels, device=device)\n",
    "    is_consonants = torch.tensor(is_consonants, device=device)\n",
    "\n",
    "    transfer_prosody_args = {\n",
    "        'voiced_frames': voiced_frames,\n",
    "        'normed_pitch': normed_pitch,\n",
    "        'normed_energy': normed_energy,\n",
    "        'is_vowels': is_vowels,\n",
    "        'is_consonants': is_consonants,\n",
    "        # 'change_durations': True,\n",
    "        'scale_energy': True,\n",
    "    }\n",
    "    # force_prosody_args = {\n",
    "    #     'pitch_new': pitch_new_adj,\n",
    "    #     'energy_new': energy_new_adj,\n",
    "    # }\n",
    "    output_dict = save_wav(\n",
    "        orig_text,\n",
    "        suffix=suffix,\n",
    "        # sids=[8],\n",
    "        # spk='0018',\n",
    "        verbose=True,\n",
    "        # d_factor=0.7,\n",
    "        transfer_prosody_args=transfer_prosody_args,\n",
    "        # force_prosody_args=force_prosody_args,\n",
    "        e_ref_weight=1.0,\n",
    "        p_ref_weight=1.0\n",
    "    )\n",
    "print(time.time() - start)"
   ],
   "metadata": {
    "collapsed": false
   }
  },
  {
   "cell_type": "code",
   "execution_count": 13,
   "outputs": [],
   "source": [],
   "metadata": {
    "collapsed": false
   }
  },
  {
   "cell_type": "code",
   "execution_count": 17,
   "outputs": [],
   "source": [
    "pitch_pred = torch.tensor([ 0.3294,  0.3965,  0.4839,  0.5100,  0.5825,  0.5105,  0.4166,  0.4191,\n",
    "         0.3414,  0.3305,  0.3260,  0.4335,  0.4762,  0.3412,  0.2971,  0.2649,\n",
    "         0.2958,  0.3493,  0.3799,  0.3334,  0.3755,  0.4199,  0.3489,  0.2135,\n",
    "         0.2984,  0.4799,  0.8018,  0.3095,  0.3472,  0.4043,  0.2839,  0.3488,\n",
    "         0.3095,  0.2456,  0.0646,  0.0440, -6.0043], device='cuda:0')[None].unsqueeze(-1)\n",
    "energy_pred = torch.tensor([-1.1779,  1.1396, -0.2985, -0.1988,  0.4161,  0.5602, -0.1610,  0.0887,\n",
    "         0.2753, -0.9029,  0.4417, -0.8579, -0.2328, -0.4055,  0.3009, -0.6107,\n",
    "        -1.0336, -0.9459,  0.3239, -0.4682, -0.6070,  0.0524, -0.2879, -0.7138,\n",
    "         0.2443, -0.6832, -0.3042, -0.2709, -0.5418, -0.0505, -0.7004,  0.1891,\n",
    "        -0.7554, -0.6725, -0.8909, -1.1958, -1.1978], device='cuda:0')[None].unsqueeze(-1)\n",
    "pitch_new = torch.tensor([0.6686, 0.6310, 0.5494, 0.7547, 0.3575, 0.3547, 0.4444, 0.4232, 0.4450,\n",
    "        0.5024, 1.2599, 0.9181, 0.6310, 0.6331, 0.7547, 0.8974, 0.8086, 0.4371,\n",
    "        0.3575, 0.3516, 0.4546, 0.4232, 0.4511, 0.5361, 1.2599, 0.5889, 0.7547,\n",
    "        0.8938, 0.4327, 0.3575, 0.3525, 0.4232, 0.4789, 1.2599, 1.2886, 0.0000,\n",
    "        0.0000], device='cuda:0')[None].unsqueeze(-1)\n",
    "energy_new = torch.tensor([-1.0925,  1.6833,  0.5696,  2.6328,  2.4530,  0.7761,  3.6973,  6.4470,\n",
    "         4.0459,  2.2143,  4.4924, -0.9525,  1.6833,  0.2139,  2.6328, -0.7367,\n",
    "         1.0891,  1.2825,  2.4530,  1.5138,  2.2525,  6.4470,  3.6472,  2.2036,\n",
    "         4.4924,  0.1997,  2.6328,  0.6111,  1.2773,  2.4530,  1.1194,  6.4470,\n",
    "         2.7510,  4.4924,  3.4840,  0.0000,  0.0000], device='cuda:0')[None].unsqueeze(-1)"
   ],
   "metadata": {
    "collapsed": false
   }
  },
  {
   "cell_type": "code",
   "execution_count": 23,
   "outputs": [],
   "source": [
    "energy_new.mean() - energy_pred.mean()"
   ],
   "metadata": {
    "collapsed": false
   }
  },
  {
   "cell_type": "code",
   "execution_count": 24,
   "outputs": [
    {
     "data": {
      "text/plain": "19.2"
     },
     "execution_count": 24,
     "metadata": {},
     "output_type": "execute_result"
    }
   ],
   "source": [
    "energy_new.std()"
   ],
   "metadata": {
    "collapsed": false
   }
  },
  {
   "cell_type": "code",
   "execution_count": 36,
   "outputs": [
    {
     "data": {
      "text/plain": "tensor(0.5604, device='cuda:0')"
     },
     "execution_count": 36,
     "metadata": {},
     "output_type": "execute_result"
    }
   ],
   "source": [
    "energy_pred.std()"
   ],
   "metadata": {
    "collapsed": false
   }
  },
  {
   "cell_type": "code",
   "execution_count": 38,
   "outputs": [],
   "source": [
    "pitch_new_adj = pitch_new - (pitch_new.mean() - pitch_pred.mean())\n",
    "energy_new_adj = energy_new / energy_new.std() * energy_pred.std()"
   ],
   "metadata": {
    "collapsed": false
   }
  },
  {
   "cell_type": "code",
   "execution_count": 10,
   "outputs": [],
   "source": [
    "normed_pitch = normed_pitch.squeeze()\n",
    "normed_energy = normed_energy.squeeze()\n",
    "is_peaks, nonzero_starts, nonzero_ends = find_peaks(normed_energy, voiced_frames)\n",
    "voiced_energy = normed_energy[voiced_frames]\n",
    "voiced_pitch = normed_pitch[voiced_frames]\n",
    "voiced_peaks = is_peaks[voiced_frames]\n",
    "peaks = voiced_peaks.nonzero().squeeze()\n",
    "num_peaks = len(peaks)\n",
    "num_vowels = sum(is_vowels).item()\n",
    "if num_peaks < num_vowels:\n",
    "    repeats = compute_repeats(num_vowels, num_peaks)\n",
    "    peaks, voiced_pitch, voiced_energy = repeat_peaks(repeats, peaks, num_peaks, voiced_pitch, voiced_energy)\n",
    "    num_peaks = num_vowels\n",
    "elif num_peaks > num_vowels:\n",
    "    peaks = retain_peaks(peaks, len(voiced_energy), duration_pred, is_vowels)\n",
    "energy_new = torch.zeros_like(energy_pred)\n",
    "energy_new[is_vowels] = voiced_energy[peaks]\n",
    "pitch_new = torch.zeros_like(pitch_pred)\n",
    "pitch_new[is_vowels] = voiced_pitch[peaks]"
   ],
   "metadata": {
    "collapsed": false
   }
  },
  {
   "cell_type": "code",
   "execution_count": 33,
   "outputs": [
    {
     "data": {
      "text/plain": "[Text(0, 0, 'W'),\n Text(1, 0, 'AY1'),\n Text(2, 0, 'D'),\n Text(3, 0, 'UW1'),\n Text(4, 0, 'AO1'),\n Text(5, 0, 'L'),\n Text(6, 0, 'Y'),\n Text(7, 0, 'AO1'),\n Text(8, 0, 'R'),\n Text(9, 0, 'K'),\n Text(10, 0, 'AA1'),\n Text(11, 0, 'F'),\n Text(12, 0, 'IY0'),\n Text(13, 0, 'M'),\n Text(14, 0, 'AH1'),\n Text(15, 0, 'G'),\n Text(16, 0, 'Z'),\n Text(17, 0, 'HH'),\n Text(18, 0, 'AE1'),\n Text(19, 0, 'V'),\n Text(20, 0, 'N'),\n Text(21, 0, 'AH1'),\n Text(22, 0, 'M'),\n Text(23, 0, 'B'),\n Text(24, 0, 'ER0'),\n Text(25, 0, 'Z'),\n Text(26, 0, 'AA1'),\n Text(27, 0, 'N'),\n Text(28, 0, 'DH'),\n Text(29, 0, 'AH0'),\n Text(30, 0, 'B'),\n Text(31, 0, 'AA1'),\n Text(32, 0, 'T'),\n Text(33, 0, 'AH0'),\n Text(34, 0, 'M'),\n Text(35, 0, '?')]"
     },
     "execution_count": 33,
     "metadata": {},
     "output_type": "execute_result"
    },
    {
     "data": {
      "text/plain": "<Figure size 1500x800 with 2 Axes>",
      "image/png": "[encoded data removed]"
     },
     "metadata": {},
     "output_type": "display_data"
    }
   ],
   "source": [
    "f, axs = plt.subplots(2, 1, figsize=(15, 8))\n",
    "axs[0].scatter(range(pitch_pred.shape[1]-1), pitch_pred.squeeze().cpu()[:-1])\n",
    "axs[1].scatter(range(pitch_new_adj.shape[1]-1), pitch_new_adj.squeeze().cpu()[:-1])\n",
    "axs[0].set_xticks(range(len(arpa_phones)))\n",
    "axs[0].set_xticklabels(arpa_phones)\n",
    "axs[1].set_xticks(range(len(arpa_phones)))\n",
    "axs[1].set_xticklabels(arpa_phones)"
   ],
   "metadata": {
    "collapsed": false
   }
  },
  {
   "cell_type": "code",
   "execution_count": 34,
   "outputs": [
    {
     "data": {
      "text/plain": "[Text(0, 0, 'W'),\n Text(1, 0, 'AY1'),\n Text(2, 0, 'D'),\n Text(3, 0, 'UW1'),\n Text(4, 0, 'AO1'),\n Text(5, 0, 'L'),\n Text(6, 0, 'Y'),\n Text(7, 0, 'AO1'),\n Text(8, 0, 'R'),\n Text(9, 0, 'K'),\n Text(10, 0, 'AA1'),\n Text(11, 0, 'F'),\n Text(12, 0, 'IY0'),\n Text(13, 0, 'M'),\n Text(14, 0, 'AH1'),\n Text(15, 0, 'G'),\n Text(16, 0, 'Z'),\n Text(17, 0, 'HH'),\n Text(18, 0, 'AE1'),\n Text(19, 0, 'V'),\n Text(20, 0, 'N'),\n Text(21, 0, 'AH1'),\n Text(22, 0, 'M'),\n Text(23, 0, 'B'),\n Text(24, 0, 'ER0'),\n Text(25, 0, 'Z'),\n Text(26, 0, 'AA1'),\n Text(27, 0, 'N'),\n Text(28, 0, 'DH'),\n Text(29, 0, 'AH0'),\n Text(30, 0, 'B'),\n Text(31, 0, 'AA1'),\n Text(32, 0, 'T'),\n Text(33, 0, 'AH0'),\n Text(34, 0, 'M'),\n Text(35, 0, '?')]"
     },
     "execution_count": 34,
     "metadata": {},
     "output_type": "execute_result"
    },
    {
     "data": {
      "text/plain": "<Figure size 1500x800 with 2 Axes>",
      "image/png": "[encoded data removed]"
     },
     "metadata": {},
     "output_type": "display_data"
    }
   ],
   "source": [
    "f, axs = plt.subplots(2, 1, figsize=(15, 8))\n",
    "axs[0].scatter(range(energy_pred.shape[1]-1), energy_pred.squeeze().cpu()[:-1])\n",
    "axs[1].scatter(range(energy_new_adj.shape[1]-1), energy_new_adj.squeeze().cpu()[:-1])\n",
    "axs[0].set_xticks(range(len(arpa_phones)))\n",
    "axs[0].set_xticklabels(arpa_phones)\n",
    "axs[1].set_xticks(range(len(arpa_phones)))\n",
    "axs[1].set_xticklabels(arpa_phones)"
   ],
   "metadata": {
    "collapsed": false
   }
  },
  {
   "cell_type": "code",
   "execution_count": null,
   "outputs": [],
   "source": [],
   "metadata": {
    "collapsed": false
   }
  },
  {
   "cell_type": "code",
   "execution_count": 15,
   "outputs": [
    {
     "data": {
      "text/plain": "tensor(0.3643, device='cuda:0')"
     },
     "execution_count": 15,
     "metadata": {},
     "output_type": "execute_result"
    }
   ],
   "source": [
    "pitch_pred[:-1].mean()"
   ],
   "metadata": {
    "collapsed": false
   }
  },
  {
   "cell_type": "code",
   "execution_count": 12,
   "outputs": [
    {
     "name": "stdout",
     "output_type": "stream",
     "text": [
      "    -1        0    1    2    3    4    5    6    7    8    9    10    11    12    13    14    15    16    17    18    19    20    21    22    23    24    25    26    27    28    29    30    31    32    33    34    35     36\n",
      "arpa_phones   W   AY1   D   UW1  AO1   L    Y   AO1   R    K   AA1    F    IY0    M    AH1    G     Z     HH   AE1    V     N    AH1    M     B    ER0    Z    AA1    N     DH   AH0    B    AA1    T    AH0    M     ?\n",
      " durations   26   12    8    9   13    5   10    5    6   13    9     8     7     8     8     5     9     1     7     7     7     7     6     4     11    8     12    7     1     4     8     10    9     10    11    30      0\n"
     ]
    }
   ],
   "source": [
    "durations = output_dict['duration']\n",
    "arpa_phones = arpa_tokenizer.text2tokens(orig_text)\n",
    "phone_ids = torch.IntTensor(id_converter.tokens2ids(arpa_phones)).to(device)\n",
    "print_table(arpa_phones=arpa_phones, durations=durations)"
   ],
   "metadata": {
    "collapsed": false
   }
  },
  {
   "cell_type": "code",
   "execution_count": 102,
   "outputs": [],
   "source": [],
   "metadata": {
    "collapsed": false
   }
  },
  {
   "cell_type": "code",
   "execution_count": 78,
   "outputs": [
    {
     "data": {
      "text/plain": "<matplotlib.collections.PathCollection at 0x7fc790ebed00>"
     },
     "execution_count": 78,
     "metadata": {},
     "output_type": "execute_result"
    },
    {
     "data": {
      "text/plain": "<Figure size 1500x400 with 3 Axes>",
      "image/png": "[encoded data removed]"
     },
     "metadata": {},
     "output_type": "display_data"
    }
   ],
   "source": [
    "f, axs = plt.subplots(1, 3, figsize=(15, 4))\n",
    "axs[0].scatter(range(energy.shape[1]), energy.squeeze().cpu())\n",
    "axs[1].scatter(range(voiced_energy.shape[1]), voiced_energy.squeeze().cpu())\n",
    "axs[2].scatter(range(len(avg_energy)), torch.where(pitch.squeeze() > 0.0, avg_energy, 0.0).squeeze().cpu())"
   ],
   "metadata": {
    "collapsed": false
   }
  },
  {
   "cell_type": "code",
   "execution_count": 33,
   "outputs": [],
   "source": [
    "from scipy.signal import find_peaks as scipy_find_peaks, find_peaks_cwt\n",
    "peaks = scipy_find_peaks(energy[pitch > 0.0].squeeze().cpu().numpy(), width=4)"
   ],
   "metadata": {
    "collapsed": false
   }
  },
  {
   "cell_type": "code",
   "execution_count": 13,
   "outputs": [
    {
     "ename": "NameError",
     "evalue": "name 'voiced_energy' is not defined",
     "output_type": "error",
     "traceback": [
      "\u001B[0;31m---------------------------------------------------------------------------\u001B[0m",
      "\u001B[0;31mNameError\u001B[0m                                 Traceback (most recent call last)",
      "Cell \u001B[0;32mIn[13], line 1\u001B[0m\n\u001B[0;32m----> 1\u001B[0m e_array \u001B[38;5;241m=\u001B[39m \u001B[43mvoiced_energy\u001B[49m\u001B[38;5;241m.\u001B[39msqueeze()\n\u001B[1;32m      2\u001B[0m \u001B[38;5;28;01mdef\u001B[39;00m \u001B[38;5;21mget_splits\u001B[39m(e_array):\n\u001B[1;32m      3\u001B[0m     e_right \u001B[38;5;241m=\u001B[39m shift_pad(e_array, \u001B[38;5;241m1\u001B[39m, pad\u001B[38;5;241m=\u001B[39m\u001B[38;5;241m1\u001B[39m)\n",
      "\u001B[0;31mNameError\u001B[0m: name 'voiced_energy' is not defined"
     ]
    }
   ],
   "source": [
    "e_array = voiced_energy.squeeze()\n",
    "def get_splits(e_array):\n",
    "    e_right = shift_pad(e_array, 1, pad=1)\n",
    "    e_left = shift_pad(e_array, -1, pad=-1)\n",
    "    nonzero_starts = ((e_array != 0.0) & (e_right == 0.0)).nonzero().squeeze()\n",
    "    nonzero_ends = ((e_array != 0.0) & (e_left == 0.0)).nonzero().squeeze()\n",
    "    assert len(nonzero_starts) == len(nonzero_ends)\n",
    "    splits = []\n",
    "    for nonzero_start, nonzero_end in zip(nonzero_starts, nonzero_ends):\n",
    "        splits.append(e_array[nonzero_start:nonzero_end+1])\n",
    "    return splits, nonzero_starts, nonzero_ends"
   ],
   "metadata": {
    "collapsed": false
   }
  },
  {
   "cell_type": "code",
   "execution_count": 98,
   "outputs": [],
   "source": [
    "splits, nonzero_starts, nonzero_ends = get_splits(e_array)"
   ],
   "metadata": {
    "collapsed": false
   }
  },
  {
   "cell_type": "code",
   "execution_count": 74,
   "outputs": [
    {
     "data": {
      "text/plain": "[0, 1, 1, 0]"
     },
     "execution_count": 74,
     "metadata": {},
     "output_type": "execute_result"
    }
   ],
   "source": [
    "np.pad([1, 1], 1).tolist()"
   ],
   "metadata": {
    "collapsed": false
   }
  },
  {
   "cell_type": "code",
   "execution_count": 64,
   "outputs": [
    {
     "data": {
      "text/plain": "63"
     },
     "execution_count": 64,
     "metadata": {},
     "output_type": "execute_result"
    }
   ],
   "source": [
    "sum(len(s) for s in splits)"
   ],
   "metadata": {
    "collapsed": false
   }
  },
  {
   "cell_type": "code",
   "execution_count": 99,
   "outputs": [],
   "source": [
    "peaks = []\n",
    "for split, nonzero_start in zip(splits, nonzero_starts.cpu().numpy()):\n",
    "    split_peaks = scipy_find_peaks(np.pad(split.cpu().numpy(), 1), width=3)[0]\n",
    "    for split_peak in split_peaks:\n",
    "        peaks.append(split_peak + nonzero_start - 1)"
   ],
   "metadata": {
    "collapsed": false
   }
  },
  {
   "cell_type": "code",
   "execution_count": null,
   "outputs": [],
   "source": [
    "peaks"
   ],
   "metadata": {
    "collapsed": false,
    "pycharm": {
     "is_executing": true
    }
   }
  },
  {
   "cell_type": "code",
   "execution_count": 23,
   "outputs": [
    {
     "data": {
      "text/plain": "92.812386"
     },
     "execution_count": 23,
     "metadata": {},
     "output_type": "execute_result"
    }
   ],
   "source": [],
   "metadata": {
    "collapsed": false
   }
  },
  {
   "cell_type": "code",
   "execution_count": 93,
   "outputs": [
    {
     "data": {
      "text/plain": "tensor([ 34,  35,  36,  37,  38,  39,  55,  56,  57,  58,  59,  60,  61,  62,\n         63,  64,  78,  79,  80,  81,  82,  83,  84,  85,  86,  87,  88,  98,\n         99, 100, 101, 102, 103, 104, 105, 110, 111, 112, 113, 114, 115],\n       device='cuda:0')"
     },
     "execution_count": 93,
     "metadata": {},
     "output_type": "execute_result"
    }
   ],
   "source": [
    "(avg_energy > avg_energy_left).nonzero().squeeze()"
   ],
   "metadata": {
    "collapsed": false
   }
  },
  {
   "cell_type": "code",
   "execution_count": 95,
   "outputs": [
    {
     "data": {
      "text/plain": "tensor([ 25,  26,  27,  28,  29,  30,  31,  32,  33,  34,  41,  42,  43,  44,\n         45,  46,  47,  48,  49,  50,  51,  52,  53,  54,  55,  66,  67,  68,\n         69,  70,  71,  72,  73,  74,  75,  76,  77,  78,  90,  91,  92,  93,\n         94,  95,  96,  97, 107], device='cuda:0')"
     },
     "execution_count": 95,
     "metadata": {},
     "output_type": "execute_result"
    }
   ],
   "source": [
    "(avg_energy > avg_energy_right).nonzero().squeeze()"
   ],
   "metadata": {
    "collapsed": false
   }
  },
  {
   "cell_type": "code",
   "execution_count": 99,
   "outputs": [
    {
     "data": {
      "text/plain": "tensor([ 29,  30,  31,  32,  33,  34,  35,  36,  37,  38,  41,  42,  43,  44,\n         45,  46,  47,  48,  49,  50,  51,  52,  53,  54,  55,  56,  57,  58,\n         59,  60,  61,  62,  68,  69,  70,  71,  72,  73,  74,  75,  76,  77,\n         78,  79,  80,  81,  82,  83,  84,  94,  95,  96,  97,  98,  99, 100,\n        101, 106, 107, 108, 109, 110, 111], device='cuda:0')"
     },
     "execution_count": 99,
     "metadata": {},
     "output_type": "execute_result"
    }
   ],
   "source": [
    "pitch.squeeze().nonzero().squeeze()"
   ],
   "metadata": {
    "collapsed": false
   }
  },
  {
   "cell_type": "code",
   "execution_count": 96,
   "outputs": [
    {
     "data": {
      "text/plain": "tensor([ 25,  26,  27,  28,  29,  30,  31,  32,  33,  34,  35,  36,  37,  38,\n         39,  40,  41,  42,  43,  44,  45,  46,  47,  48,  49,  50,  51,  52,\n         53,  54,  55,  56,  57,  58,  59,  60,  61,  62,  63,  64,  65,  66,\n         67,  68,  69,  70,  71,  72,  73,  74,  75,  76,  77,  78,  79,  80,\n         81,  82,  83,  84,  85,  86,  87,  88,  90,  91,  92,  93,  94,  95,\n         96,  97,  98,  99, 100, 101, 102, 103, 104, 105, 106, 107, 108, 109,\n        110, 111, 112, 113, 114, 115], device='cuda:0')"
     },
     "execution_count": 96,
     "metadata": {},
     "output_type": "execute_result"
    }
   ],
   "source": [
    "(avg_energy > 0.0).nonzero().squeeze()"
   ],
   "metadata": {
    "collapsed": false
   }
  },
  {
   "cell_type": "code",
   "execution_count": 90,
   "outputs": [
    {
     "data": {
      "text/plain": "tensor([34, 55, 78], device='cuda:0')"
     },
     "execution_count": 90,
     "metadata": {},
     "output_type": "execute_result"
    }
   ],
   "source": [
    "peaks"
   ],
   "metadata": {
    "collapsed": false
   }
  },
  {
   "cell_type": "code",
   "execution_count": null,
   "outputs": [],
   "source": [
    "is_vowels = torch.tensor([p in ARPA_VOWELS for p in arpa_phones], device=device)\n",
    "is_consonants = torch.tensor([p not in ARPA_VOWELS and p not in PUNCS for p in arpa_phones], device=device)"
   ],
   "metadata": {
    "collapsed": false
   }
  },
  {
   "cell_type": "code",
   "execution_count": null,
   "outputs": [],
   "source": [
    "pitch.shape"
   ],
   "metadata": {
    "collapsed": false
   }
  },
  {
   "cell_type": "code",
   "execution_count": null,
   "outputs": [],
   "source": [
    "save_dir = Path('/home/perry/PycharmProjects/prosody/prosody') / pretrained_dir.stem"
   ],
   "metadata": {
    "collapsed": false
   }
  },
  {
   "cell_type": "code",
   "execution_count": null,
   "outputs": [],
   "source": [
    "with torch.no_grad():\n",
    "    output_dict = pretrained_model.tts.generator.inference(\n",
    "        text=phone_ids.unsqueeze(0), text_lengths=torch.tensor([len(phone_ids)], device=device),\n",
    "        verbose=True,\n",
    "    )\n",
    "sf.write(save_dir / 'transfer' / f'{custom_text}.wav',\n",
    "         output_dict[0].squeeze().cpu().numpy(), 22050, \"PCM_16\")"
   ],
   "metadata": {
    "collapsed": false
   }
  },
  {
   "cell_type": "code",
   "execution_count": null,
   "outputs": [],
   "source": [
    "questions = ['What are you working on?']\n",
    "gts = ['/home/perry/PycharmProjects/dailytalk/data/0/0_1_d0.wav']"
   ],
   "metadata": {
    "collapsed": false
   }
  },
  {
   "cell_type": "code",
   "execution_count": null,
   "outputs": [],
   "source": [
    "questions = [\"Did you bring some lunch with you?\"]\n",
    "gts = ['/home/perry/PycharmProjects/dailytalk/data/3/0_1_d3.wav']"
   ],
   "metadata": {
    "collapsed": false
   }
  },
  {
   "cell_type": "code",
   "execution_count": null,
   "outputs": [],
   "source": [
    "from shutil import copyfile\n",
    "save_dir = Path('/home/perry/firebase3/public/questions/')"
   ],
   "metadata": {
    "collapsed": false
   }
  },
  {
   "cell_type": "code",
   "execution_count": null,
   "outputs": [],
   "source": [
    "orig_feats = extract_normalized_feats(save_dir / 'transfer' / f'{custom_text}.wav', pretrained_tts=pretrained_tts)"
   ],
   "metadata": {
    "collapsed": false
   }
  },
  {
   "cell_type": "code",
   "execution_count": null,
   "outputs": [],
   "source": [
    "\n",
    "for question, gt in zip(questions, gts):\n",
    "    with torch.no_grad():\n",
    "        fname = re.sub(r'[^A-Za-z ]', '', question).replace(' ', '_')\n",
    "        arpa_phones = arpa_tokenizer.text2tokens(question)\n",
    "        phonemes, phone_ids, d_factor, p_factor, e_factor, d_split_factor = get_inputs(question, tokens2ids_fn=id_converter.tokens2ids)\n",
    "        wav, _, _ = pretrained_model.tts.generator.inference(\n",
    "            text=phone_ids.unsqueeze(0), text_lengths=torch.tensor([len(phone_ids)], device=device),\n",
    "            verbose=True,\n",
    "        )\n",
    "        sf.write(save_dir / 'jets' /  f'{fname}.wav', wav.squeeze().cpu().numpy(), 22050, \"PCM_16\")\n",
    "        wav_modified, _, _ = pretrained_model.tts.generator.inference(\n",
    "            text=phone_ids.unsqueeze(0), text_lengths=torch.tensor([len(phone_ids)], device=device),\n",
    "            p_factor=p_factor,\n",
    "            verbose=True,\n",
    "        )\n",
    "        sf.write(save_dir / 'present' /  f'{fname}.wav', wav_modified.squeeze().cpu().numpy(), 22050, \"PCM_16\")\n",
    "        copyfile(gt, save_dir / 'dailytalk' /  f'{fname}.wav')"
   ],
   "metadata": {
    "collapsed": false
   }
  },
  {
   "cell_type": "code",
   "execution_count": 46,
   "outputs": [],
   "source": [
    "from espnet2.gan_tts.jets.generator import *"
   ],
   "metadata": {
    "collapsed": false
   }
  },
  {
   "cell_type": "code",
   "execution_count": 88,
   "outputs": [],
   "source": [
    "e_reference = energy.squeeze(-1)\n",
    "p_reference = pitch.squeeze(-1)\n",
    "avg_energy = compute_avg_energy(e_reference, duration_pred, window=9)\n",
    "e_threshold = threshold(10.0)"
   ],
   "metadata": {
    "collapsed": false
   }
  },
  {
   "cell_type": "code",
   "execution_count": 27,
   "outputs": [
    {
     "data": {
      "text/plain": "tensor(15, device='cuda:0')"
     },
     "execution_count": 27,
     "metadata": {},
     "output_type": "execute_result"
    }
   ],
   "source": [
    "is_vowels.sum()"
   ],
   "metadata": {
    "collapsed": false
   }
  },
  {
   "cell_type": "code",
   "execution_count": 56,
   "outputs": [],
   "source": [
    "avg_energy = compute_avg_energy(e_reference, duration_pred, window=8)\n",
    "energy = avg_energy.clone()\n",
    "keep_frames = energy > e_threshold\n",
    "energy = energy[keep_frames]\n",
    "pitch = p_reference.squeeze()[keep_frames]\n",
    "peaks = find_peaks(energy)"
   ],
   "metadata": {
    "collapsed": false
   }
  },
  {
   "cell_type": "code",
   "execution_count": 58,
   "outputs": [
    {
     "data": {
      "text/plain": "10"
     },
     "execution_count": 58,
     "metadata": {},
     "output_type": "execute_result"
    }
   ],
   "source": [
    "len(peaks)"
   ],
   "metadata": {
    "collapsed": false
   }
  },
  {
   "cell_type": "code",
   "execution_count": 15,
   "outputs": [],
   "source": [
    "energy = avg_energy.clone()\n",
    "keep_frames = energy > threshold(10.0)\n",
    "energy = energy[keep_frames]\n",
    "peaks = find_peaks(energy)\n",
    "num_peaks = len(peaks)\n",
    "num_vowels = sum(is_vowels).item()"
   ],
   "metadata": {
    "collapsed": false
   }
  },
  {
   "cell_type": "code",
   "execution_count": 40,
   "outputs": [
    {
     "name": "stdout",
     "output_type": "stream",
     "text": [
      "152\n",
      "246\n"
     ]
    }
   ],
   "source": [
    "repeats = compute_repeats(num_vowels, num_peaks)\n",
    "peaks_new, pitch_new, energy_new = repeat_peaks_(repeats, peaks, num_peaks, pitch, energy)"
   ],
   "metadata": {
    "collapsed": false
   }
  },
  {
   "cell_type": "code",
   "execution_count": 29,
   "outputs": [
    {
     "data": {
      "text/plain": "197"
     },
     "execution_count": 29,
     "metadata": {},
     "output_type": "execute_result"
    }
   ],
   "source": [
    "len(energy)"
   ],
   "metadata": {
    "collapsed": false
   }
  },
  {
   "cell_type": "code",
   "execution_count": 44,
   "outputs": [
    {
     "data": {
      "text/plain": "tensor([  6,  37,  56,  78,  90, 116, 121, 145, 165, 170, 194, 206, 212, 238,\n        243], device='cuda:0')"
     },
     "execution_count": 44,
     "metadata": {},
     "output_type": "execute_result"
    }
   ],
   "source": [
    "find_peaks(energy_new)"
   ],
   "metadata": {
    "collapsed": false
   }
  },
  {
   "cell_type": "code",
   "execution_count": 43,
   "outputs": [
    {
     "data": {
      "text/plain": "tensor([  6,  37,  56,  78,  90, 116, 121, 145, 165, 170, 194, 206, 212, 238,\n        243], device='cuda:0')"
     },
     "execution_count": 43,
     "metadata": {},
     "output_type": "execute_result"
    }
   ],
   "source": [
    "peaks_new"
   ],
   "metadata": {
    "collapsed": false
   }
  },
  {
   "cell_type": "code",
   "execution_count": 38,
   "outputs": [
    {
     "data": {
      "text/plain": "tensor([116, 121, 145, 157, 163, 189, 194], device='cuda:0')"
     },
     "execution_count": 38,
     "metadata": {},
     "output_type": "execute_result"
    }
   ],
   "source": [
    "peaks[-7:]"
   ],
   "metadata": {
    "collapsed": false
   }
  },
  {
   "cell_type": "code",
   "execution_count": 25,
   "outputs": [],
   "source": [
    "peaks = find_peaks(energy)"
   ],
   "metadata": {
    "collapsed": false
   }
  },
  {
   "cell_type": "code",
   "execution_count": 32,
   "outputs": [
    {
     "data": {
      "text/plain": "tensor([ 5, 17, 36, 52, 69, 74, 80, 97], device='cuda:0')"
     },
     "execution_count": 32,
     "metadata": {},
     "output_type": "execute_result"
    }
   ],
   "source": [
    "peaks"
   ],
   "metadata": {
    "collapsed": false
   }
  },
  {
   "cell_type": "code",
   "execution_count": 33,
   "outputs": [],
   "source": [
    "energy_mask = avg_energy > threshold(10.0)\n",
    "start = 0\n",
    "while not energy_mask[start]:\n",
    "    start += 1\n",
    "end = -1\n",
    "while not energy_mask[end]:\n",
    "    end -= 1\n",
    "ref_actual_len = len(avg_energy) - start + end + 1"
   ],
   "metadata": {
    "collapsed": false
   }
  },
  {
   "cell_type": "code",
   "execution_count": 34,
   "outputs": [
    {
     "data": {
      "text/plain": "18.6046875"
     },
     "execution_count": 34,
     "metadata": {},
     "output_type": "execute_result"
    }
   ],
   "source": [
    "ref_actual_len / len(peaks) * 22050/16000"
   ],
   "metadata": {
    "collapsed": false
   }
  },
  {
   "cell_type": "code",
   "execution_count": 32,
   "outputs": [
    {
     "data": {
      "text/plain": "15.7"
     },
     "execution_count": 32,
     "metadata": {},
     "output_type": "execute_result"
    }
   ],
   "source": [
    "157 / len(peaks)"
   ],
   "metadata": {
    "collapsed": false
   }
  },
  {
   "cell_type": "code",
   "execution_count": 24,
   "outputs": [
    {
     "data": {
      "text/plain": "tensor(14.6667, device='cuda:0')"
     },
     "execution_count": 24,
     "metadata": {},
     "output_type": "execute_result"
    }
   ],
   "source": [
    "(peaks[-1] - peaks[0]) / (len(peaks)-1)"
   ],
   "metadata": {
    "collapsed": false
   }
  },
  {
   "cell_type": "code",
   "execution_count": 28,
   "outputs": [],
   "source": [
    "energy_mask = avg_energy > threshold(0.0)\n",
    "ref_frames = len(energy_mask)\n",
    "start = 0\n",
    "while not energy_mask[start]:\n",
    "    start += 1\n",
    "end = -1\n",
    "while not energy_mask[end]:\n",
    "    end -= 1"
   ],
   "metadata": {
    "collapsed": false
   }
  },
  {
   "cell_type": "code",
   "execution_count": 46,
   "outputs": [
    {
     "data": {
      "text/plain": "157"
     },
     "execution_count": 46,
     "metadata": {},
     "output_type": "execute_result"
    }
   ],
   "source": [
    "len(avg_energy)"
   ],
   "metadata": {
    "collapsed": false
   }
  },
  {
   "cell_type": "code",
   "execution_count": 29,
   "outputs": [],
   "source": [
    "actual_len = len(avg_energy) - start + end + 1"
   ],
   "metadata": {
    "collapsed": false
   }
  },
  {
   "cell_type": "code",
   "execution_count": 30,
   "outputs": [
    {
     "data": {
      "text/plain": "157"
     },
     "execution_count": 30,
     "metadata": {},
     "output_type": "execute_result"
    }
   ],
   "source": [
    "actual_len"
   ],
   "metadata": {
    "collapsed": false
   }
  },
  {
   "cell_type": "code",
   "execution_count": 50,
   "outputs": [
    {
     "data": {
      "text/plain": "tensor(130, device='cuda:0')"
     },
     "execution_count": 50,
     "metadata": {},
     "output_type": "execute_result"
    }
   ],
   "source": [
    "sum(energy_mask)"
   ],
   "metadata": {
    "collapsed": false
   }
  },
  {
   "cell_type": "code",
   "execution_count": 31,
   "outputs": [
    {
     "data": {
      "text/plain": "tensor(22.4667, device='cuda:0')"
     },
     "execution_count": 31,
     "metadata": {},
     "output_type": "execute_result"
    }
   ],
   "source": [
    "duration_pred.sum() / sum(is_vowels)"
   ],
   "metadata": {
    "collapsed": false
   }
  },
  {
   "cell_type": "code",
   "execution_count": 29,
   "outputs": [],
   "source": [
    "out_feats = extract_normalized_feats(out_path)"
   ],
   "metadata": {
    "collapsed": false
   }
  },
  {
   "cell_type": "code",
   "execution_count": 41,
   "outputs": [],
   "source": [
    "gener_feats = extract_normalized_feats(f'/home/perry/PycharmProjects/GenerSpeech/infer_out/{custom_text}-ref{ref_filename}.wav')"
   ],
   "metadata": {
    "collapsed": false
   }
  },
  {
   "cell_type": "code",
   "execution_count": 35,
   "outputs": [],
   "source": [
    "from espnet2.gan_tts.jets.alignments import average_by_duration\n",
    "p_outs = average_by_duration(\n",
    "                duration_pred.unsqueeze(0), orig_pitch.unsqueeze(0), torch.tensor([len(phone_ids)], device=device), orig_feats[3]\n",
    "            ).unsqueeze(-1)"
   ],
   "metadata": {
    "collapsed": false
   }
  },
  {
   "cell_type": "code",
   "execution_count": 179,
   "outputs": [
    {
     "data": {
      "text/plain": "torch.Size([94])"
     },
     "execution_count": 179,
     "metadata": {},
     "output_type": "execute_result"
    }
   ],
   "source": [
    "pitch.shape"
   ],
   "metadata": {
    "collapsed": false
   }
  },
  {
   "cell_type": "code",
   "execution_count": 15,
   "outputs": [],
   "source": [
    "def normalize_to_pred(reference, pred):\n",
    "    min_pred = pred.min()\n",
    "    scale = (pred.max() - min_pred) / (reference.max() - reference.min())\n",
    "    scaled_ref = reference * scale\n",
    "    reference = scaled_ref - scaled_ref.min() + min_pred\n",
    "    return reference"
   ],
   "metadata": {
    "collapsed": false
   }
  },
  {
   "cell_type": "code",
   "execution_count": 16,
   "outputs": [],
   "source": [
    "avg_energy = normalize_to_pred(avg_energy, energy_pred)\n",
    "pitch = normalize_to_pred(pitch, pitch_pred)"
   ],
   "metadata": {
    "collapsed": false
   }
  },
  {
   "cell_type": "code",
   "execution_count": 17,
   "outputs": [],
   "source": [],
   "metadata": {
    "collapsed": false
   }
  },
  {
   "cell_type": "code",
   "execution_count": 18,
   "outputs": [],
   "source": [],
   "metadata": {
    "collapsed": false
   }
  },
  {
   "cell_type": "code",
   "execution_count": 19,
   "outputs": [],
   "source": [
    "num_vowels = is_vowels.sum().item()"
   ],
   "metadata": {
    "collapsed": false
   }
  },
  {
   "cell_type": "code",
   "execution_count": 21,
   "outputs": [],
   "source": [
    "avg_energy_left = shift_pad(avg_energy, -1)\n",
    "avg_energy_right = shift_pad(avg_energy, 1)"
   ],
   "metadata": {
    "collapsed": false
   }
  },
  {
   "cell_type": "code",
   "execution_count": 22,
   "outputs": [],
   "source": [
    "peaks = torch.nonzero((avg_energy > avg_energy_left) & (avg_energy > avg_energy_right)).squeeze()"
   ],
   "metadata": {
    "collapsed": false
   }
  },
  {
   "cell_type": "code",
   "execution_count": 23,
   "outputs": [],
   "source": [
    "num_peaks = len(peaks)"
   ],
   "metadata": {
    "collapsed": false
   }
  },
  {
   "cell_type": "code",
   "execution_count": 24,
   "outputs": [],
   "source": [
    "if num_peaks < num_vowels:\n",
    "    scale = math.ceil(num_vowels / num_peaks)\n",
    "    peaks = torch.flatten(peaks + torch.arange(scale, device=device).unsqueeze(1) * len(avg_energy))\n",
    "    avg_energy = avg_energy.repeat(scale)\n",
    "    pitch = pitch.repeat(scale)"
   ],
   "metadata": {
    "collapsed": false
   }
  },
  {
   "cell_type": "code",
   "execution_count": 25,
   "outputs": [],
   "source": [
    "energy_new = energy_pred.clone()"
   ],
   "metadata": {
    "collapsed": false
   }
  },
  {
   "cell_type": "code",
   "execution_count": 26,
   "outputs": [],
   "source": [
    "energy_new[is_vowels] = avg_energy[peaks]"
   ],
   "metadata": {
    "collapsed": false
   }
  },
  {
   "cell_type": "code",
   "execution_count": 27,
   "outputs": [],
   "source": [
    "pitch_new = pitch_pred.clone()\n",
    "pitch_new[is_vowels] = pitch[peaks]"
   ],
   "metadata": {
    "collapsed": false
   }
  },
  {
   "cell_type": "code",
   "execution_count": 28,
   "outputs": [],
   "source": [
    "vowel_indices = torch.nonzero(is_vowels).squeeze()"
   ],
   "metadata": {
    "collapsed": false
   }
  },
  {
   "cell_type": "code",
   "execution_count": 29,
   "outputs": [],
   "source": [
    "duration_start = shift_pad(duration_pred.cumsum(0), shift=1)"
   ],
   "metadata": {
    "collapsed": false
   }
  },
  {
   "cell_type": "code",
   "execution_count": 30,
   "outputs": [],
   "source": [
    "phone_positions = duration_start + duration_pred / 2"
   ],
   "metadata": {
    "collapsed": false
   }
  },
  {
   "cell_type": "code",
   "execution_count": 31,
   "outputs": [],
   "source": [
    "def add_start_end(x, start_value, end_value):\n",
    "    y = torch.zeros(len(x)+2, dtype=x.dtype, device=x.device)\n",
    "    y[0] = start_value\n",
    "    y[1:-1] = x\n",
    "    y[-1] = end_value\n",
    "    return y"
   ],
   "metadata": {
    "collapsed": false
   }
  },
  {
   "cell_type": "code",
   "execution_count": 32,
   "outputs": [],
   "source": [
    "phone_positions = add_start_end(phone_positions, 0, duration_pred.sum())"
   ],
   "metadata": {
    "collapsed": false
   }
  },
  {
   "cell_type": "code",
   "execution_count": 33,
   "outputs": [],
   "source": [
    "vowel_positions = add_start_end(phone_positions[1:-1][is_vowels], 0, phone_positions[-1])"
   ],
   "metadata": {
    "collapsed": false
   }
  },
  {
   "cell_type": "code",
   "execution_count": 34,
   "outputs": [],
   "source": [
    "vowel_indices = torch.nonzero(is_vowels).squeeze()\n",
    "vowel_indices = add_start_end(vowel_indices, -1, len(duration_pred))"
   ],
   "metadata": {
    "collapsed": false
   }
  },
  {
   "cell_type": "code",
   "execution_count": 35,
   "outputs": [
    {
     "data": {
      "text/plain": "tensor([-1,  1,  3,  5,  7, 10, 12, 15, 19, 22, 24, 28, 30, 34, 37, 40, 43],\n       device='cuda:0')"
     },
     "execution_count": 35,
     "metadata": {},
     "output_type": "execute_result"
    }
   ],
   "source": [
    "vowel_indices"
   ],
   "metadata": {
    "collapsed": false
   }
  },
  {
   "cell_type": "code",
   "execution_count": 36,
   "outputs": [],
   "source": [
    "phone_positions = add_start_end(phone_positions, 0, duration_pred.sum())"
   ],
   "metadata": {
    "collapsed": false
   }
  },
  {
   "cell_type": "code",
   "execution_count": 37,
   "outputs": [],
   "source": [
    "peaks = add_start_end(peaks, 0, len(avg_energy))"
   ],
   "metadata": {
    "collapsed": false
   }
  },
  {
   "cell_type": "code",
   "execution_count": 41,
   "outputs": [
    {
     "data": {
      "text/plain": "tensor([ 1.0081,  1.6838,  1.6185,  1.3124,  1.0328,  0.6366,  0.4254,  0.5206,\n         0.3145, -0.0381, -0.2157,  0.0195, -0.3340, -0.4843, -0.3955, -0.4867,\n        -0.2431, -0.3562, -0.3014, -0.1122,  0.0362,  0.0138, -0.3176, -0.2748,\n        -0.1264,  0.0293,  0.0540,  0.2609,  0.2613,  0.3070, -0.4706, -0.5565,\n        -0.3059,  0.0631,  0.0668,  0.2042, -0.1482, -0.6567, -0.6116,  0.2347,\n        -0.1922, -0.7975, -0.7153], device='cuda:0')"
     },
     "execution_count": 41,
     "metadata": {},
     "output_type": "execute_result"
    }
   ],
   "source": [
    "pitch_pred.squeeze()"
   ],
   "metadata": {
    "collapsed": false
   }
  },
  {
   "cell_type": "code",
   "execution_count": 40,
   "outputs": [
    {
     "data": {
      "text/plain": "tensor([ 1.0081, -0.4784,  1.6185,  1.4350,  1.0328,  1.4863,  0.4254,  1.1621,\n         0.3145, -0.0381,  1.1934,  0.0195, -0.4784, -0.4843, -0.3955,  1.4350,\n        -0.2431, -0.3562, -0.3014,  1.4863,  0.0362,  0.0138,  1.1621, -0.2748,\n         1.1934,  0.0293,  0.0540,  0.2609, -0.4784,  0.3070,  1.4350, -0.5565,\n        -0.3059,  0.0631,  1.4863,  0.2042, -0.1482,  1.1621, -0.6116,  0.2347,\n         1.1934, -0.7975, -0.7153], device='cuda:0')"
     },
     "execution_count": 40,
     "metadata": {},
     "output_type": "execute_result"
    }
   ],
   "source": [
    "pitch_new"
   ],
   "metadata": {
    "collapsed": false
   }
  },
  {
   "cell_type": "code",
   "execution_count": 42,
   "outputs": [
    {
     "name": "stdout",
     "output_type": "stream",
     "text": [
      "\n",
      " -1 to 1 peak: 0 15\n",
      "0 3.5\n",
      "DH 0 0.0\n",
      "0.0\n",
      "new_pitch tensor(-1.0561, device='cuda:0') new energy tensor(-0.4784, device='cuda:0')\n",
      "\n",
      " 1 to 3 peak: 15 25\n",
      "3.5 19.5\n",
      "S 2 10.5\n",
      "19.375\n",
      "new_pitch tensor(0.6186, device='cuda:0') new energy tensor(0.7676, device='cuda:0')\n",
      "\n",
      " 3 to 5 peak: 25 39\n",
      "19.5 35.0\n",
      "Z 4 28.5\n",
      "33.12903225806451\n",
      "new_pitch tensor(0.3974, device='cuda:0') new energy tensor(1.4417, device='cuda:0')\n",
      "\n",
      " 5 to 7 peak: 39 63\n",
      "35.0 49.5\n",
      "L 6 42.0\n",
      "50.58620689655172\n",
      "new_pitch tensor(-0.3061, device='cuda:0') new energy tensor(1.2194, device='cuda:0')\n",
      "\n",
      " 7 to 10 peak: 63 80\n",
      "49.5 67.0\n",
      "NG 8 56.5\n",
      "69.8\n",
      "new_pitch tensor(-0.7593, device='cuda:0') new energy tensor(1.4110, device='cuda:0')\n",
      "G 9 62.0\n",
      "75.14285714285714\n",
      "new_pitch tensor(-0.4180, device='cuda:0') new energy tensor(1.1598, device='cuda:0')\n",
      "\n",
      " 10 to 12 peak: 80 109\n",
      "67.0 82.0\n",
      "S 11 74.0\n",
      "93.53333333333333\n",
      "new_pitch tensor(-1.0643, device='cuda:0') new energy tensor(0.1268, device='cuda:0')\n",
      "\n",
      " 12 to 15 peak: 109 119\n",
      "82.0 102.0\n",
      "N 13 89.0\n",
      "112.5\n",
      "new_pitch tensor(0.6418, device='cuda:0') new energy tensor(0.4782, device='cuda:0')\n",
      "T 14 95.5\n",
      "115.75\n",
      "new_pitch tensor(0.9122, device='cuda:0') new energy tensor(1.3632, device='cuda:0')\n",
      "\n",
      " 15 to 19 peak: 119 133\n",
      "102.0 128.5\n",
      "N 16 108.0\n",
      "122.16981132075472\n",
      "new_pitch tensor(0.4675, device='cuda:0') new energy tensor(1.5043, device='cuda:0')\n",
      "S 17 114.5\n",
      "125.60377358490567\n",
      "new_pitch tensor(0.1338, device='cuda:0') new energy tensor(1.4709, device='cuda:0')\n",
      "W 18 121.5\n",
      "129.30188679245282\n",
      "new_pitch tensor(0.9146, device='cuda:0') new energy tensor(1.6010, device='cuda:0')\n",
      "\n",
      " 19 to 22 peak: 133 157\n",
      "128.5 148.5\n",
      "CH 20 135.0\n",
      "140.8\n",
      "new_pitch tensor(-0.1009, device='cuda:0') new energy tensor(1.3297, device='cuda:0')\n",
      "W 21 141.5\n",
      "148.6\n",
      "new_pitch tensor(-0.1957, device='cuda:0') new energy tensor(1.1771, device='cuda:0')\n",
      "\n",
      " 22 to 24 peak: 157 174\n",
      "148.5 168.5\n",
      "W 23 158.0\n",
      "165.075\n",
      "new_pitch tensor(-0.8844, device='cuda:0') new energy tensor(1.4057, device='cuda:0')\n",
      "\n",
      " 24 to 28 peak: 174 203\n",
      "168.5 193.0\n",
      "N 25 176.5\n",
      "183.46938775510205\n",
      "new_pitch tensor(-0.8733, device='cuda:0') new energy tensor(0.9932, device='cuda:0')\n",
      "T 26 183.5\n",
      "191.75510204081633\n",
      "new_pitch tensor(-0.7019, device='cuda:0') new energy tensor(-0.4784, device='cuda:0')\n",
      "T 27 188.5\n",
      "197.6734693877551\n",
      "new_pitch tensor(0.5921, device='cuda:0') new energy tensor(-0.4784, device='cuda:0')\n",
      "\n",
      " 28 to 30 peak: 203 213\n",
      "193.0 211.5\n",
      "CH 29 201.0\n",
      "207.32432432432432\n",
      "new_pitch tensor(0.6167, device='cuda:0') new energy tensor(0.7527, device='cuda:0')\n",
      "\n",
      " 30 to 34 peak: 213 227\n",
      "211.5 245.0\n",
      "N 31 222.5\n",
      "217.59701492537314\n",
      "new_pitch tensor(0.1773, device='cuda:0') new energy tensor(1.4600, device='cuda:0')\n",
      "JH 32 231.5\n",
      "221.3582089552239\n",
      "new_pitch tensor(0.4501, device='cuda:0') new energy tensor(1.4405, device='cuda:0')\n",
      "DH 33 238.0\n",
      "224.07462686567163\n",
      "new_pitch tensor(1.0956, device='cuda:0') new energy tensor(1.6672, device='cuda:0')\n",
      "\n",
      " 34 to 37 peak: 227 251\n",
      "245.0 267.5\n",
      "S 35 252.5\n",
      "235.0\n",
      "new_pitch tensor(-0.1400, device='cuda:0') new energy tensor(1.3048, device='cuda:0')\n",
      "T 36 259.5\n",
      "242.46666666666667\n",
      "new_pitch tensor(-0.2030, device='cuda:0') new energy tensor(1.1730, device='cuda:0')\n",
      "\n",
      " 37 to 40 peak: 251 268\n",
      "267.5 299.0\n",
      "L 38 277.5\n",
      "256.3968253968254\n",
      "new_pitch tensor(-0.5440, device='cuda:0') new energy tensor(1.3809, device='cuda:0')\n",
      "F 39 287.5\n",
      "261.7936507936508\n",
      "new_pitch tensor(-0.6547, device='cuda:0') new energy tensor(1.3098, device='cuda:0')\n",
      "\n",
      " 40 to 43 peak: 268 282\n",
      "299.0 332.5\n",
      "R 41 312.5\n",
      "273.64179104477614\n",
      "new_pitch tensor(-0.4456, device='cuda:0') new energy tensor(1.0479, device='cuda:0')\n"
     ]
    }
   ],
   "source": [
    "for start_vowel, end_vowel, start_peak, end_peak in zip(vowel_indices[:-1], vowel_indices[1:], peaks[:-1], peaks[1:]):\n",
    "    start_peak = start_peak.item()\n",
    "    end_peak = end_peak.item()\n",
    "    peak_interval = end_peak - start_peak\n",
    "    print('\\n', start_vowel.item(), 'to', end_vowel.item(), 'peak:', start_peak, end_peak)\n",
    "    start_position = 0 if start_vowel == -1 else phone_positions[start_vowel+1].item()\n",
    "    end_position = phone_positions[end_vowel+1].item()\n",
    "    print(start_position, end_position)\n",
    "    interval = end_position - start_position\n",
    "    for phone_i in range(start_vowel, end_vowel):  # phone index\n",
    "        if is_consonants[phone_i]:\n",
    "            consonant_position = phone_positions[phone_i+1].item()\n",
    "            print(arpa_phones[phone_i], phone_i, consonant_position)\n",
    "            consonant_frame = start_peak + (consonant_position - start_position) / interval * peak_interval\n",
    "            print(consonant_frame)\n",
    "            floor_frame = int(consonant_frame)\n",
    "            consonant_pitch = pitch[floor_frame] * (floor_frame + 1 - consonant_frame) + pitch[floor_frame+1] * (consonant_frame - floor_frame)\n",
    "            consonant_energy = avg_energy[floor_frame] * (floor_frame + 1 - consonant_frame) + avg_energy[floor_frame+1] * (consonant_frame - floor_frame)\n",
    "            print('new_pitch', consonant_energy, 'new energy', consonant_pitch)\n",
    "            pitch_new[phone_i] = consonant_pitch\n",
    "            energy_new[phone_i] = consonant_energy"
   ],
   "metadata": {
    "collapsed": false
   }
  },
  {
   "cell_type": "code",
   "execution_count": 43,
   "outputs": [
    {
     "data": {
      "text/plain": "tensor([-0.4784, -0.4784,  0.7676,  1.4350,  1.4417,  1.4863,  1.2194,  1.1621,\n         1.4110,  1.1598,  1.1934,  0.1268, -0.4784,  0.4782,  1.3632,  1.4350,\n         1.5043,  1.4709,  1.6010,  1.4863,  1.3297,  1.1771,  1.1621,  1.4057,\n         1.1934,  0.9932, -0.4784, -0.4784, -0.4784,  0.7527,  1.4350,  1.4600,\n         1.4405,  1.6672,  1.4863,  1.3048,  1.1730,  1.1621,  1.3809,  1.3098,\n         1.1934,  1.0479, -0.7153], device='cuda:0')"
     },
     "execution_count": 43,
     "metadata": {},
     "output_type": "execute_result"
    }
   ],
   "source": [
    "pitch_new"
   ],
   "metadata": {
    "collapsed": false
   }
  },
  {
   "cell_type": "code",
   "execution_count": 51,
   "outputs": [
    {
     "name": "stdout",
     "output_type": "stream",
     "text": [
      "Duration pred: tensor([ 7,  7, 11,  7,  6,  8,  7,  7,  4,  6,  8,  8,  6,  7,  6,  6,  7,  7,\n",
      "         7,  6,  7,  7, 12,  9,  7,  7,  3,  6, 10, 11, 11,  7,  6,  8,  7,  7,\n",
      "         9, 11,  9, 14, 13,  9,  9], device='cuda:0')\n",
      "Pitch pred: tensor([ 1.0081,  1.6838,  1.6185,  1.3124,  1.0328,  0.6366,  0.4254,  0.5206,\n",
      "         0.3145, -0.0381, -0.2157,  0.0195, -0.3340, -0.4843, -0.3955, -0.4867,\n",
      "        -0.2431, -0.3562, -0.3014, -0.1122,  0.0362,  0.0138, -0.3176, -0.2748,\n",
      "        -0.1264,  0.0293,  0.0540,  0.2609,  0.2613,  0.3070, -0.4706, -0.5565,\n",
      "        -0.3059,  0.0631,  0.0668,  0.2042, -0.1482, -0.6567, -0.6116,  0.2347,\n",
      "        -0.1922, -0.7975, -0.7153], device='cuda:0')\n",
      "Energy pred: tensor([ 0.2849,  1.4135,  0.9846,  0.2767,  0.4766,  0.5926,  1.2596,  1.1123,\n",
      "        -0.0578,  0.3281, -0.1041,  0.3554,  0.5286, -0.6662, -0.3353, -0.2382,\n",
      "        -0.3709, -0.3895, -0.6102, -0.3633, -0.6187,  0.1462,  0.1574,  0.1421,\n",
      "         0.4741, -0.6809, -0.9164, -0.4543, -0.6819,  0.1474,  0.4009, -0.4276,\n",
      "        -0.7422, -0.6113,  0.6609,  0.4534,  0.3900,  0.4275, -0.5514, -0.7258,\n",
      "         0.8067, -0.6634, -1.0736], device='cuda:0')\n",
      "Duration (new): tensor([ 7,  7, 11,  7,  6,  8,  7,  7,  4,  6,  8,  8,  6,  7,  6,  6,  7,  7,\n",
      "         7,  6,  7,  7, 12,  9,  7,  7,  3,  6, 10, 11, 11,  7,  6,  8,  7,  7,\n",
      "         9, 11,  9, 14, 13,  9,  9], device='cuda:0')\n",
      "Pitch (new): tensor([-0.4784, -0.4784,  0.7676,  1.4350,  1.4417,  1.4863,  1.2194,  1.1621,\n",
      "         1.4110,  1.1598,  1.1934,  0.1268, -0.4784,  0.4782,  1.3632,  1.4350,\n",
      "         1.5043,  1.4709,  1.6010,  1.4863,  1.3297,  1.1771,  1.1621,  1.4057,\n",
      "         1.1934,  0.9932, -0.4784, -0.4784, -0.4784,  0.7527,  1.4350,  1.4600,\n",
      "         1.4405,  1.6672,  1.4863,  1.3048,  1.1730,  1.1621,  1.3809,  1.3098,\n",
      "         1.1934,  1.0479, -0.7153], device='cuda:0')\n",
      "Energy (new): tensor([-1.0561,  1.2622,  0.6186,  1.1931,  0.3974,  1.4135, -0.3061,  0.2183,\n",
      "        -0.7593, -0.4180,  0.1566, -1.0643,  1.2622,  0.6418,  0.9122,  1.1931,\n",
      "         0.4675,  0.1338,  0.9146,  1.4135, -0.1009, -0.1957,  0.2183, -0.8844,\n",
      "         0.1566, -0.8733, -0.7019,  0.5921,  1.2622,  0.6167,  1.1931,  0.1773,\n",
      "         0.4501,  1.0956,  1.4135, -0.1400, -0.2030,  0.2183, -0.5440, -0.6547,\n",
      "         0.1566, -0.4456, -1.0736], device='cuda:0')\n"
     ]
    }
   ],
   "source": [
    "with torch.no_grad():\n",
    "    output_dict = pretrained_model.tts.generator.inference(\n",
    "        text=phone_ids.unsqueeze(0), text_lengths=torch.tensor([len(phone_ids)], device=device),\n",
    "        p_reference=pitch_new.unsqueeze(-1)[None], e_reference=energy_new.unsqueeze(-1)[None],\n",
    "        verbose=True,\n",
    "    )"
   ],
   "metadata": {
    "collapsed": false
   }
  },
  {
   "cell_type": "code",
   "execution_count": 52,
   "outputs": [],
   "source": [
    "save_dir = Path('/home/perry/PycharmProjects/prosody/prosody') / pretrained_dir.stem\n",
    "sf.write(save_dir / 'transfer' / f'This is a longer sentence which we want to change the style for.-ref0018_000742.wav', output_dict[0].squeeze().cpu().numpy(), 22050, \"PCM_16\")"
   ],
   "metadata": {
    "collapsed": false
   }
  },
  {
   "cell_type": "code",
   "execution_count": 28,
   "outputs": [
    {
     "data": {
      "text/plain": "[<matplotlib.lines.Line2D at 0x7f34260afa00>]"
     },
     "execution_count": 28,
     "metadata": {},
     "output_type": "execute_result"
    },
    {
     "data": {
      "text/plain": "<Figure size 2000x480 with 1 Axes>",
      "image/png": "[encoded data removed]"
     },
     "metadata": {},
     "output_type": "display_data"
    }
   ],
   "source": [
    "plt.figure().set_figwidth(20)\n",
    "plt.xticks(range(len(arpa_phones)), arpa_phones)\n",
    "plt.plot(energy_pred)"
   ],
   "metadata": {
    "collapsed": false
   }
  },
  {
   "cell_type": "code",
   "execution_count": 26,
   "outputs": [
    {
     "data": {
      "text/plain": "43"
     },
     "execution_count": 26,
     "metadata": {},
     "output_type": "execute_result"
    }
   ],
   "source": [
    "len(energy_pred)"
   ],
   "metadata": {
    "collapsed": false
   }
  },
  {
   "cell_type": "code",
   "execution_count": 30,
   "outputs": [],
   "source": [
    "save_dir = Path('/home/perry/PycharmProjects/prosody/prosody') / pretrained_dir.stem\n",
    "sf.write(save_dir / 'transfer' / f'long_text_from_short.wav', output_dict[0].squeeze().cpu().numpy(), 22050, \"PCM_16\")"
   ],
   "metadata": {
    "collapsed": false
   }
  },
  {
   "cell_type": "code",
   "execution_count": 9,
   "outputs": [
    {
     "ename": "TypeError",
     "evalue": "collect_feats() missing 3 required positional arguments: 'text_lengths', 'speech', and 'speech_lengths'",
     "output_type": "error",
     "traceback": [
      "\u001B[0;31m---------------------------------------------------------------------------\u001B[0m",
      "\u001B[0;31mTypeError\u001B[0m                                 Traceback (most recent call last)",
      "Cell \u001B[0;32mIn [9], line 1\u001B[0m\n\u001B[0;32m----> 1\u001B[0m feats_dict \u001B[38;5;241m=\u001B[39m \u001B[43mpretrained_model\u001B[49m\u001B[38;5;241;43m.\u001B[39;49m\u001B[43mcollect_feats\u001B[49m\u001B[43m(\u001B[49m\u001B[43mbatch\u001B[49m\u001B[43m)\u001B[49m\n",
      "\u001B[0;31mTypeError\u001B[0m: collect_feats() missing 3 required positional arguments: 'text_lengths', 'speech', and 'speech_lengths'"
     ]
    }
   ],
   "source": [
    "feats_dict = pretrained_model.collect_feats(batch)"
   ],
   "metadata": {
    "collapsed": false
   }
  },
  {
   "cell_type": "code",
   "execution_count": 27,
   "outputs": [],
   "source": [
    "vowel_count = sum(phoneme in vowels for phoneme in phonemes)\n",
    "batch_phone_ids = [phone_ids] * (1+vowel_count)\n",
    "batch_d_factor = d_factor.unsqueeze(0).repeat(1+vowel_count, 1, 1)\n",
    "batch_text = [orig_text] * (1+vowel_count)\n",
    "count = 1\n",
    "for i, phoneme in enumerate(phonemes):\n",
    "    if phoneme in vowels:\n",
    "        batch_text[count] = batch_text[count] + f'{count}{phoneme}x3'\n",
    "        batch_d_factor[count][0, i] = 4.0\n",
    "        count += 1"
   ],
   "metadata": {
    "collapsed": false
   }
  },
  {
   "cell_type": "code",
   "execution_count": 7,
   "outputs": [],
   "source": [
    "with torch.no_grad():\n",
    "    output_dict = pretrained_model.tts.inference(text=phone_ids)\n",
    "outputs, batch_text = [output_dict], [orig_text]"
   ],
   "metadata": {
    "collapsed": false
   }
  },
  {
   "cell_type": "code",
   "execution_count": 8,
   "outputs": [],
   "source": [
    "wav = output_dict['wav'].detach().cpu().numpy()"
   ],
   "metadata": {
    "collapsed": false
   }
  },
  {
   "cell_type": "code",
   "execution_count": 13,
   "outputs": [],
   "source": [
    "duration = output_dict['duration']"
   ],
   "metadata": {
    "collapsed": false
   }
  },
  {
   "cell_type": "code",
   "execution_count": 11,
   "outputs": [],
   "source": [
    "vowel_positions = [i for i, phone in enumerate(phonemes) if phone in vowels]"
   ],
   "metadata": {
    "collapsed": false
   }
  },
  {
   "cell_type": "code",
   "execution_count": 13,
   "outputs": [
    {
     "data": {
      "text/plain": "array([0.01004028, 0.01229858, 0.01342773, 0.01379395, 0.01278687,\n       0.01147461, 0.0098877 , 0.00762939, 0.00552368, 0.003479  ])"
     },
     "execution_count": 13,
     "metadata": {},
     "output_type": "execute_result"
    }
   ],
   "source": [
    "old[:10]"
   ],
   "metadata": {
    "collapsed": false
   }
  },
  {
   "cell_type": "code",
   "execution_count": 14,
   "outputs": [
    {
     "data": {
      "text/plain": "array([0.01009708, 0.0123611 , 0.01348879, 0.01384719, 0.01282857,\n       0.01152581, 0.00992997, 0.00763391, 0.00552392, 0.00348757],\n      dtype=float32)"
     },
     "execution_count": 14,
     "metadata": {},
     "output_type": "execute_result"
    }
   ],
   "source": [
    "new[:10]"
   ],
   "metadata": {
    "collapsed": false
   }
  },
  {
   "cell_type": "code",
   "execution_count": 34,
   "outputs": [],
   "source": [
    "phonemes = ['DH', 'AE1', 'T', '.']\n",
    "phone_ids = torch.tensor(id_converter.tokens2ids(phonemes), dtype=torch.int32, device=device)\n",
    "phone_ids = phone_ids.unsqueeze(0).repeat(2, 1).unsqueeze(-1)"
   ],
   "metadata": {
    "collapsed": false
   }
  },
  {
   "cell_type": "code",
   "execution_count": 39,
   "outputs": [],
   "source": [
    "text_lengths = torch.tensor(\n",
    "            [phone_ids.size(1)],\n",
    "            dtype=torch.long,\n",
    "            device=phone_ids.device,\n",
    "        )"
   ],
   "metadata": {
    "collapsed": false
   }
  },
  {
   "cell_type": "code",
   "execution_count": 40,
   "outputs": [
    {
     "data": {
      "text/plain": "tensor([4], device='cuda:0')"
     },
     "execution_count": 40,
     "metadata": {},
     "output_type": "execute_result"
    }
   ],
   "source": [
    "text_lengths"
   ],
   "metadata": {
    "collapsed": false
   }
  },
  {
   "cell_type": "code",
   "execution_count": 182,
   "outputs": [],
   "source": [
    "p_factor = torch.tensor([p_factor], device=device)"
   ],
   "metadata": {
    "collapsed": false
   }
  },
  {
   "cell_type": "code",
   "execution_count": 183,
   "outputs": [
    {
     "name": "stdout",
     "output_type": "stream",
     "text": [
      "Pitch pred: tensor([[[ 0.4832],\n",
      "         [ 0.6138],\n",
      "         [ 0.3746],\n",
      "         [ 0.2471],\n",
      "         [ 0.4046],\n",
      "         [ 0.2490],\n",
      "         [ 0.4034],\n",
      "         [ 0.4148],\n",
      "         [ 0.4543],\n",
      "         [ 1.0424],\n",
      "         [ 1.1197],\n",
      "         [ 1.2813],\n",
      "         [ 1.2220],\n",
      "         [ 0.7535],\n",
      "         [ 0.3195],\n",
      "         [ 0.1217],\n",
      "         [-0.1238],\n",
      "         [-0.0921],\n",
      "         [ 0.3630],\n",
      "         [-0.3430],\n",
      "         [-1.0084],\n",
      "         [-1.0646],\n",
      "         [-1.3242],\n",
      "         [-1.4642]]], device='cuda:0')\n",
      "Pitch (new): tensor([[[ 0.4832],\n",
      "         [ 0.6138],\n",
      "         [ 0.3746],\n",
      "         [ 0.2471],\n",
      "         [ 0.4046],\n",
      "         [ 0.2490],\n",
      "         [ 0.4034],\n",
      "         [ 0.4148],\n",
      "         [ 0.4543],\n",
      "         [ 1.0424],\n",
      "         [ 1.1197],\n",
      "         [ 1.2813],\n",
      "         [ 1.2220],\n",
      "         [ 2.2535],\n",
      "         [ 0.8195],\n",
      "         [ 0.6217],\n",
      "         [ 0.8762],\n",
      "         [ 0.4079],\n",
      "         [ 0.8630],\n",
      "         [ 0.1570],\n",
      "         [-0.5084],\n",
      "         [-0.5646],\n",
      "         [-0.8242],\n",
      "         [-1.4642]]], device='cuda:0')\n"
     ]
    }
   ],
   "source": [
    "with torch.no_grad():\n",
    "    output_dict = pretrained_model.tts.inference(text=phone_ids, p_factor=p_factor)\n",
    "    wav = output_dict['wav']\n",
    "    sf.write(save_dir / f'You ought to be ashamed of yourselves!.wav', wav.cpu().numpy(), 22050, \"PCM_16\")"
   ],
   "metadata": {
    "collapsed": false
   }
  },
  {
   "cell_type": "code",
   "execution_count": 75,
   "outputs": [],
   "source": [
    "sq_wavs = [torch.sum(wav*wav).cpu().item() for wav in wavs]"
   ],
   "metadata": {
    "collapsed": false
   }
  },
  {
   "cell_type": "code",
   "execution_count": 76,
   "outputs": [
    {
     "data": {
      "text/plain": "[15.179880142211914,\n 31.90578842163086,\n 55.934356689453125,\n 88.82083129882812,\n 104.86000061035156,\n 120.048828125,\n 128.54351806640625,\n 141.59689331054688,\n 154.67254638671875]"
     },
     "execution_count": 76,
     "metadata": {},
     "output_type": "execute_result"
    }
   ],
   "source": [
    "sq_wavs"
   ],
   "metadata": {
    "collapsed": false
   }
  },
  {
   "cell_type": "code",
   "execution_count": 60,
   "outputs": [
    {
     "name": "stdout",
     "output_type": "stream",
     "text": [
      "tensor(3.4628, device='cuda:0')\n",
      "tensor(4.0242, device='cuda:0')\n",
      "tensor(4.4866, device='cuda:0')\n",
      "tensor(4.6526, device='cuda:0')\n",
      "tensor(4.7879, device='cuda:0')\n",
      "tensor(4.8563, device='cuda:0')\n",
      "tensor(4.9530, device='cuda:0')\n"
     ]
    }
   ],
   "source": [
    "\n",
    "for wav in wavs:\n",
    "    print(torch.log(torch.sum(wav*wav)))"
   ],
   "metadata": {
    "collapsed": false
   }
  },
  {
   "cell_type": "code",
   "execution_count": 61,
   "outputs": [],
   "source": [
    "%matplotlib inline"
   ],
   "metadata": {
    "collapsed": false
   }
  },
  {
   "cell_type": "code",
   "execution_count": 72,
   "outputs": [
    {
     "data": {
      "text/plain": "<Figure size 640x480 with 1 Axes>",
      "image/png": "[encoded data removed]"
     },
     "metadata": {},
     "output_type": "display_data"
    }
   ],
   "source": [
    "import matplotlib.pyplot as plt\n",
    "e_facs = [x/2 for x in range(-3, 6)]\n",
    "plt.plot(e_facs, [x for x in sq_wavs])\n",
    "plt.show()"
   ],
   "metadata": {
    "collapsed": false
   }
  },
  {
   "cell_type": "code",
   "execution_count": 80,
   "outputs": [],
   "source": [
    "base_wav_trim, idx = librosa.effects.trim(\n",
    "                y=wavs[3].cpu().numpy(),\n",
    "                top_db=60,\n",
    "                frame_length=1024,\n",
    "                hop_length=256,\n",
    "            )"
   ],
   "metadata": {
    "collapsed": false
   }
  },
  {
   "cell_type": "code",
   "execution_count": 125,
   "outputs": [],
   "source": [
    "save_dir = Path('/home/perry/PycharmProjects/prosody/prosody') / pretrained_dir.stem\n",
    "for p, wav in zip(p_, wavs):\n",
    "    plus_e = f'+{e}' if e > 0 else e\n",
    "    half_e = f'+{e/2}' if e > 0 else e/2\n",
    "    sf.write(save_dir / f'that.th{half_e}a{plus_e}.wav', wav.cpu().numpy(), 22050, \"PCM_16\")"
   ],
   "metadata": {
    "collapsed": false
   }
  },
  {
   "cell_type": "code",
   "execution_count": 96,
   "outputs": [],
   "source": [
    "ef = e_factor.squeeze().cpu().numpy().tolist()"
   ],
   "metadata": {
    "collapsed": false
   }
  },
  {
   "cell_type": "code",
   "execution_count": 100,
   "outputs": [],
   "source": [
    "durations = output_dict['duration'].squeeze().cpu().numpy().tolist()"
   ],
   "metadata": {
    "collapsed": false
   }
  },
  {
   "cell_type": "code",
   "execution_count": null,
   "outputs": [],
   "source": [],
   "metadata": {
    "collapsed": false
   }
  },
  {
   "cell_type": "code",
   "execution_count": 128,
   "outputs": [],
   "source": [
    "hop_length = 256\n",
    "base_wav = wavs[3].cpu().numpy()\n",
    "mod_wav = wavs[-1].cpu().numpy()\n",
    "start_pos = 0\n",
    "end_pos = 0\n",
    "new_wav = []\n",
    "for d, e in zip(durations, ef):\n",
    "    end_pos += d*hop_length\n",
    "    base_segment = base_wav[start_pos:end_pos]\n",
    "    mod_segment = mod_wav[start_pos:end_pos]\n",
    "    amplitude_factor = math.sqrt(2 / (1 + math.exp(-e)))\n",
    "    new_wav.append(base_segment * amplitude_factor)\n",
    "    start_pos = end_pos\n",
    "new_wav = np.concatenate(new_wav)"
   ],
   "metadata": {
    "collapsed": false
   }
  },
  {
   "cell_type": "code",
   "execution_count": 121,
   "outputs": [
    {
     "name": "stdout",
     "output_type": "stream",
     "text": [
      "1.5545997223493822\n",
      "1.848283639957513\n",
      "1.5545997223493822\n",
      "1.0\n"
     ]
    }
   ],
   "source": [
    "for d, e in zip(durations, ef):\n",
    "    print(2 / (1 + math.exp(-e)))"
   ],
   "metadata": {
    "collapsed": false
   }
  },
  {
   "cell_type": "code",
   "execution_count": 129,
   "outputs": [],
   "source": [
    "sf.write(save_dir / f\"that._sigm_dsp.wav\", new_wav, 22050, \"PCM_16\")"
   ],
   "metadata": {
    "collapsed": false
   }
  },
  {
   "cell_type": "code",
   "execution_count": 122,
   "outputs": [
    {
     "data": {
      "text/plain": "[<matplotlib.lines.Line2D at 0x7fb3907fa4c0>]"
     },
     "execution_count": 122,
     "metadata": {},
     "output_type": "execute_result"
    },
    {
     "data": {
      "text/plain": "<Figure size 640x480 with 1 Axes>",
      "image/png": "[encoded data removed]"
     },
     "metadata": {},
     "output_type": "display_data"
    }
   ],
   "source": [
    "plt.plot(new_wav)"
   ],
   "metadata": {
    "collapsed": false
   }
  },
  {
   "cell_type": "code",
   "execution_count": 123,
   "outputs": [
    {
     "data": {
      "text/plain": "[<matplotlib.lines.Line2D at 0x7fb391583a60>]"
     },
     "execution_count": 123,
     "metadata": {},
     "output_type": "execute_result"
    },
    {
     "data": {
      "text/plain": "<Figure size 640x480 with 1 Axes>",
      "image/png": "[encoded data removed]"
     },
     "metadata": {},
     "output_type": "display_data"
    }
   ],
   "source": [
    "plt.plot(base_wav)"
   ],
   "metadata": {
    "collapsed": false
   }
  },
  {
   "cell_type": "code",
   "execution_count": 38,
   "outputs": [],
   "source": [
    "durations = output_dict['duration'].unsqueeze(0)\n",
    "durations_lengths = torch.tensor(durations.size())"
   ],
   "metadata": {
    "collapsed": false
   }
  },
  {
   "cell_type": "code",
   "execution_count": 36,
   "outputs": [],
   "source": [
    "feats_lengths = torch.tensor([35], device=device)"
   ],
   "metadata": {
    "collapsed": false
   }
  },
  {
   "cell_type": "code",
   "execution_count": 43,
   "outputs": [],
   "source": [
    "base_energy, _ = pretrained_model.energy_extract(base_wav.unsqueeze(0), torch.tensor(base_wav.size()),\n",
    "                                feats_lengths, durations, durations_lengths)"
   ],
   "metadata": {
    "collapsed": false
   }
  },
  {
   "cell_type": "code",
   "execution_count": 220,
   "outputs": [],
   "source": [
    "pitches = []\n",
    "for wav in wavs:\n",
    "    pitch, _ = pretrained_model.pitch_extract(wav.unsqueeze(0), torch.tensor(wav.size()),\n",
    "                                feats_lengths, durations, durations_lengths)\n",
    "    pitches.append(pitch.squeeze().mean().cpu().item())"
   ],
   "metadata": {
    "collapsed": false
   }
  },
  {
   "cell_type": "code",
   "execution_count": 234,
   "outputs": [],
   "source": [
    "new_pitches = []\n",
    "for wav in new_wavs:\n",
    "    pitch, _ = pretrained_model.pitch_extract(torch.tensor([wav]), torch.tensor([len(wav)]),\n",
    "                                feats_lengths, durations, durations_lengths)\n",
    "    new_pitches.append(pitch.squeeze().mean().cpu().item())"
   ],
   "metadata": {
    "collapsed": false
   }
  },
  {
   "cell_type": "code",
   "execution_count": 232,
   "outputs": [],
   "source": [
    "\n",
    "for wav, new_wav, i in zip(wavs, new_wavs, range(-4, 5)):\n",
    "    shift = i*1.0\n",
    "    # sf.write(save_dir / f\"that.p{shift}.wav\", wav.cpu().numpy(), 22050, \"PCM_16\")\n",
    "    sf.write(save_dir / f\"that.p{shift}_dsp.wav\", new_wav, 22050, \"PCM_16\")"
   ],
   "metadata": {
    "collapsed": false
   }
  },
  {
   "cell_type": "code",
   "execution_count": 56,
   "outputs": [
    {
     "name": "stdout",
     "output_type": "stream",
     "text": [
      "tensor(88.8208, device='cuda:0')\n",
      "tensor(85.6178, device='cuda:0')\n",
      "tensor(84.8873, device='cuda:0')\n",
      "tensor(81.2981, device='cuda:0')\n",
      "tensor(81.7510, device='cuda:0')\n"
     ]
    }
   ],
   "source": [
    "import math\n",
    "for i, wav in enumerate(wavs):\n",
    "    print(torch.sum(wav*wav) / math.sqrt((i+2)/2-1))"
   ],
   "metadata": {
    "collapsed": false
   }
  },
  {
   "cell_type": "code",
   "execution_count": 50,
   "outputs": [
    {
     "name": "stdout",
     "output_type": "stream",
     "text": [
      "tensor(1026.3350, device='cuda:0')\n",
      "tensor(1183.9402, device='cuda:0')\n",
      "tensor(1293.1489, device='cuda:0')\n",
      "tensor(1375.7120, device='cuda:0')\n",
      "tensor(1475.3696, device='cuda:0')\n"
     ]
    }
   ],
   "source": [
    "print(torch.sum(base_energy))\n",
    "for energy in energies:\n",
    "    print(torch.sum(energy))"
   ],
   "metadata": {
    "collapsed": false
   }
  },
  {
   "cell_type": "markdown",
   "source": [],
   "metadata": {
    "collapsed": false
   }
  },
  {
   "cell_type": "code",
   "execution_count": 40,
   "outputs": [
    {
     "data": {
      "text/plain": "tensor([[[ 0.5454],\n         [ 5.4649],\n         [32.8088],\n         [63.3920],\n         [78.6348],\n         [82.7436],\n         [84.2931],\n         [86.2685],\n         [85.7019],\n         [82.4692],\n         [78.6783],\n         [72.1199],\n         [63.8343],\n         [53.3254],\n         [39.5262],\n         [26.0968],\n         [12.8273],\n         [ 6.6415],\n         [ 7.2623],\n         [ 6.4622],\n         [12.5029],\n         [14.8022],\n         [ 8.7500],\n         [ 5.0235],\n         [ 3.1658],\n         [ 2.8651],\n         [ 2.3932],\n         [ 1.5994],\n         [ 1.2492],\n         [ 1.1724],\n         [ 1.0174],\n         [ 0.8575],\n         [ 0.7179],\n         [ 0.6042],\n         [ 0.5180]]], device='cuda:0')"
     },
     "execution_count": 40,
     "metadata": {},
     "output_type": "execute_result"
    }
   ],
   "source": [
    "save_dir = Path('/home/perry/PycharmProjects/prosody/prosody') / pretrained_dir.stem\n",
    "os.makedirs(save_dir, exist_ok=True)\n",
    "sf.write(save_dir / f\"{orig_text}_dsp.wav\", wav_result, 22050, \"PCM_16\")"
   ],
   "metadata": {
    "collapsed": false
   }
  },
  {
   "cell_type": "code",
   "execution_count": 44,
   "outputs": [
    {
     "data": {
      "text/plain": "array([-0.04571102, -0.0352678 , -0.01489699, ...,  0.00032871,\n        0.00042657,  0.00053737], dtype=float32)"
     },
     "execution_count": 44,
     "metadata": {},
     "output_type": "execute_result"
    }
   ],
   "source": [
    "wav_result[start_pos:]"
   ],
   "metadata": {
    "collapsed": false
   }
  },
  {
   "cell_type": "code",
   "execution_count": 26,
   "outputs": [],
   "source": [
    "import numpy as np\n",
    "num_points = len(wav_edit)\n",
    "x = np.linspace(0, num_points, num=num_points*4)\n",
    "interpolated = np.interp(x, list(range(0, num_points)), wav_edit)"
   ],
   "metadata": {
    "collapsed": false
   }
  },
  {
   "cell_type": "code",
   "execution_count": 30,
   "outputs": [],
   "source": [
    "wav_result = np.concatenate([start_wav, interpolated, end_wav])"
   ],
   "metadata": {
    "collapsed": false
   }
  },
  {
   "cell_type": "code",
   "execution_count": 47,
   "outputs": [],
   "source": [
    "save_dir = Path('/home/perry/PycharmProjects/prosody/prosody') / pretrained_dir.stem\n",
    "os.makedirs(save_dir, exist_ok=True)\n",
    "sf.write(save_dir / f\"{orig_text}_dsp.wav\", wav_result, 22050, \"PCM_16\")"
   ],
   "metadata": {
    "collapsed": false
   }
  },
  {
   "cell_type": "code",
   "execution_count": 13,
   "outputs": [
    {
     "data": {
      "text/plain": "'DH IH1 S IH1 Z AH0 V EH1 R IY0 L AO1 NG T EH1 K S T , W IH1 CH AY1 IH0 K S P EH1 K T DH AH0 M AA1 D AH0 L T UW1 R EH1 D P R AA1 P ER0 L IY0 AH0 N D N AA1 T T UW1 F AE1 S T .'"
     },
     "execution_count": 13,
     "metadata": {},
     "output_type": "execute_result"
    }
   ],
   "source": [
    "' '.join(phonemes)"
   ],
   "metadata": {
    "collapsed": false
   }
  },
  {
   "cell_type": "code",
   "execution_count": 28,
   "outputs": [
    {
     "name": "stdout",
     "output_type": "stream",
     "text": [
      "Duration pred: tensor([[ 7,  6, 12,  7,  6,  8,  6,  6,  7,  9,  7,  9,  9,  9, 10,  9,  7,  7,\n",
      "          5,  5,  7, 11,  9,  9,  7,  8,  6,  6,  6,  4,  5,  6,  7,  9,  6,  7,\n",
      "         15,  7,  7,  8,  9,  7,  6,  7,  7,  7,  8,  8,  7,  6,  7,  7,  6,  8,\n",
      "          7,  7, 11, 10, 17, 16,  7,  9]], device='cuda:0')\n",
      "Duration (new): tensor([[ 7,  6, 12,  7,  6,  8,  6,  6,  7,  9,  7,  9,  9,  9, 10,  9,  7,  7,\n",
      "          5,  5,  7, 11,  9,  9,  7,  8,  6,  6,  6,  4,  5,  6,  7,  9,  6,  7,\n",
      "         15,  7,  7,  8,  9,  7,  6,  7,  7,  7,  8,  8,  7,  6,  7,  7,  6,  8,\n",
      "          7,  7, 11, 10, 17, 16,  7,  9]], device='cuda:0')\n",
      "Duration pred: tensor([[ 7,  6, 12,  7,  6,  8,  6,  6,  7,  9,  7,  9,  9,  9, 10,  9,  7,  7,\n",
      "          5,  5,  7, 11,  9,  9,  7,  8,  6,  6,  6,  4,  5,  6,  7,  9,  6,  7,\n",
      "         15,  7,  7,  8,  9,  7,  6,  7,  7,  7,  8,  8,  7,  6,  7,  7,  6,  8,\n",
      "          7,  7, 11, 10, 17, 16,  7,  9]], device='cuda:0')\n",
      "Duration (new): tensor([[ 7, 24, 12,  7,  6,  8,  6,  6,  7,  9,  7,  9,  9,  9, 10,  9,  7,  7,\n",
      "          5,  5,  7, 11,  9,  9,  7,  8,  6,  6,  6,  4,  5,  6,  7,  9,  6,  7,\n",
      "         15,  7,  7,  8,  9,  7,  6,  7,  7,  7,  8,  8,  7,  6,  7,  7,  6,  8,\n",
      "          7,  7, 11, 10, 17, 16,  7,  9]], device='cuda:0')\n",
      "Duration pred: tensor([[ 7,  6, 12,  7,  6,  8,  6,  6,  7,  9,  7,  9,  9,  9, 10,  9,  7,  7,\n",
      "          5,  5,  7, 11,  9,  9,  7,  8,  6,  6,  6,  4,  5,  6,  7,  9,  6,  7,\n",
      "         15,  7,  7,  8,  9,  7,  6,  7,  7,  7,  8,  8,  7,  6,  7,  7,  6,  8,\n",
      "          7,  7, 11, 10, 17, 16,  7,  9]], device='cuda:0')\n",
      "Duration (new): tensor([[ 7,  6, 12, 28,  6,  8,  6,  6,  7,  9,  7,  9,  9,  9, 10,  9,  7,  7,\n",
      "          5,  5,  7, 11,  9,  9,  7,  8,  6,  6,  6,  4,  5,  6,  7,  9,  6,  7,\n",
      "         15,  7,  7,  8,  9,  7,  6,  7,  7,  7,  8,  8,  7,  6,  7,  7,  6,  8,\n",
      "          7,  7, 11, 10, 17, 16,  7,  9]], device='cuda:0')\n",
      "Duration pred: tensor([[ 7,  6, 12,  7,  6,  8,  6,  6,  7,  9,  7,  9,  9,  9, 10,  9,  7,  7,\n",
      "          5,  5,  7, 11,  9,  9,  7,  8,  6,  6,  6,  4,  5,  6,  7,  9,  6,  7,\n",
      "         15,  7,  7,  8,  9,  7,  6,  7,  7,  7,  8,  8,  7,  6,  7,  7,  6,  8,\n",
      "          7,  7, 11, 10, 17, 16,  7,  9]], device='cuda:0')\n",
      "Duration (new): tensor([[ 7,  6, 12,  7,  6, 32,  6,  6,  7,  9,  7,  9,  9,  9, 10,  9,  7,  7,\n",
      "          5,  5,  7, 11,  9,  9,  7,  8,  6,  6,  6,  4,  5,  6,  7,  9,  6,  7,\n",
      "         15,  7,  7,  8,  9,  7,  6,  7,  7,  7,  8,  8,  7,  6,  7,  7,  6,  8,\n",
      "          7,  7, 11, 10, 17, 16,  7,  9]], device='cuda:0')\n",
      "Duration pred: tensor([[ 7,  6, 12,  7,  6,  8,  6,  6,  7,  9,  7,  9,  9,  9, 10,  9,  7,  7,\n",
      "          5,  5,  7, 11,  9,  9,  7,  8,  6,  6,  6,  4,  5,  6,  7,  9,  6,  7,\n",
      "         15,  7,  7,  8,  9,  7,  6,  7,  7,  7,  8,  8,  7,  6,  7,  7,  6,  8,\n",
      "          7,  7, 11, 10, 17, 16,  7,  9]], device='cuda:0')\n",
      "Duration (new): tensor([[ 7,  6, 12,  7,  6,  8,  6, 24,  7,  9,  7,  9,  9,  9, 10,  9,  7,  7,\n",
      "          5,  5,  7, 11,  9,  9,  7,  8,  6,  6,  6,  4,  5,  6,  7,  9,  6,  7,\n",
      "         15,  7,  7,  8,  9,  7,  6,  7,  7,  7,  8,  8,  7,  6,  7,  7,  6,  8,\n",
      "          7,  7, 11, 10, 17, 16,  7,  9]], device='cuda:0')\n",
      "Duration pred: tensor([[ 7,  6, 12,  7,  6,  8,  6,  6,  7,  9,  7,  9,  9,  9, 10,  9,  7,  7,\n",
      "          5,  5,  7, 11,  9,  9,  7,  8,  6,  6,  6,  4,  5,  6,  7,  9,  6,  7,\n",
      "         15,  7,  7,  8,  9,  7,  6,  7,  7,  7,  8,  8,  7,  6,  7,  7,  6,  8,\n",
      "          7,  7, 11, 10, 17, 16,  7,  9]], device='cuda:0')\n",
      "Duration (new): tensor([[ 7,  6, 12,  7,  6,  8,  6,  6,  7, 36,  7,  9,  9,  9, 10,  9,  7,  7,\n",
      "          5,  5,  7, 11,  9,  9,  7,  8,  6,  6,  6,  4,  5,  6,  7,  9,  6,  7,\n",
      "         15,  7,  7,  8,  9,  7,  6,  7,  7,  7,  8,  8,  7,  6,  7,  7,  6,  8,\n",
      "          7,  7, 11, 10, 17, 16,  7,  9]], device='cuda:0')\n",
      "Duration pred: tensor([[ 7,  6, 12,  7,  6,  8,  6,  6,  7,  9,  7,  9,  9,  9, 10,  9,  7,  7,\n",
      "          5,  5,  7, 11,  9,  9,  7,  8,  6,  6,  6,  4,  5,  6,  7,  9,  6,  7,\n",
      "         15,  7,  7,  8,  9,  7,  6,  7,  7,  7,  8,  8,  7,  6,  7,  7,  6,  8,\n",
      "          7,  7, 11, 10, 17, 16,  7,  9]], device='cuda:0')\n",
      "Duration (new): tensor([[ 7,  6, 12,  7,  6,  8,  6,  6,  7,  9,  7, 36,  9,  9, 10,  9,  7,  7,\n",
      "          5,  5,  7, 11,  9,  9,  7,  8,  6,  6,  6,  4,  5,  6,  7,  9,  6,  7,\n",
      "         15,  7,  7,  8,  9,  7,  6,  7,  7,  7,  8,  8,  7,  6,  7,  7,  6,  8,\n",
      "          7,  7, 11, 10, 17, 16,  7,  9]], device='cuda:0')\n",
      "Duration pred: tensor([[ 7,  6, 12,  7,  6,  8,  6,  6,  7,  9,  7,  9,  9,  9, 10,  9,  7,  7,\n",
      "          5,  5,  7, 11,  9,  9,  7,  8,  6,  6,  6,  4,  5,  6,  7,  9,  6,  7,\n",
      "         15,  7,  7,  8,  9,  7,  6,  7,  7,  7,  8,  8,  7,  6,  7,  7,  6,  8,\n",
      "          7,  7, 11, 10, 17, 16,  7,  9]], device='cuda:0')\n",
      "Duration (new): tensor([[ 7,  6, 12,  7,  6,  8,  6,  6,  7,  9,  7,  9,  9,  9, 40,  9,  7,  7,\n",
      "          5,  5,  7, 11,  9,  9,  7,  8,  6,  6,  6,  4,  5,  6,  7,  9,  6,  7,\n",
      "         15,  7,  7,  8,  9,  7,  6,  7,  7,  7,  8,  8,  7,  6,  7,  7,  6,  8,\n",
      "          7,  7, 11, 10, 17, 16,  7,  9]], device='cuda:0')\n",
      "Duration pred: tensor([[ 7,  6, 12,  7,  6,  8,  6,  6,  7,  9,  7,  9,  9,  9, 10,  9,  7,  7,\n",
      "          5,  5,  7, 11,  9,  9,  7,  8,  6,  6,  6,  4,  5,  6,  7,  9,  6,  7,\n",
      "         15,  7,  7,  8,  9,  7,  6,  7,  7,  7,  8,  8,  7,  6,  7,  7,  6,  8,\n",
      "          7,  7, 11, 10, 17, 16,  7,  9]], device='cuda:0')\n",
      "Duration (new): tensor([[ 7,  6, 12,  7,  6,  8,  6,  6,  7,  9,  7,  9,  9,  9, 10,  9,  7,  7,\n",
      "          5,  5, 28, 11,  9,  9,  7,  8,  6,  6,  6,  4,  5,  6,  7,  9,  6,  7,\n",
      "         15,  7,  7,  8,  9,  7,  6,  7,  7,  7,  8,  8,  7,  6,  7,  7,  6,  8,\n",
      "          7,  7, 11, 10, 17, 16,  7,  9]], device='cuda:0')\n",
      "Duration pred: tensor([[ 7,  6, 12,  7,  6,  8,  6,  6,  7,  9,  7,  9,  9,  9, 10,  9,  7,  7,\n",
      "          5,  5,  7, 11,  9,  9,  7,  8,  6,  6,  6,  4,  5,  6,  7,  9,  6,  7,\n",
      "         15,  7,  7,  8,  9,  7,  6,  7,  7,  7,  8,  8,  7,  6,  7,  7,  6,  8,\n",
      "          7,  7, 11, 10, 17, 16,  7,  9]], device='cuda:0')\n",
      "Duration (new): tensor([[ 7,  6, 12,  7,  6,  8,  6,  6,  7,  9,  7,  9,  9,  9, 10,  9,  7,  7,\n",
      "          5,  5,  7, 11, 36,  9,  7,  8,  6,  6,  6,  4,  5,  6,  7,  9,  6,  7,\n",
      "         15,  7,  7,  8,  9,  7,  6,  7,  7,  7,  8,  8,  7,  6,  7,  7,  6,  8,\n",
      "          7,  7, 11, 10, 17, 16,  7,  9]], device='cuda:0')\n",
      "Duration pred: tensor([[ 7,  6, 12,  7,  6,  8,  6,  6,  7,  9,  7,  9,  9,  9, 10,  9,  7,  7,\n",
      "          5,  5,  7, 11,  9,  9,  7,  8,  6,  6,  6,  4,  5,  6,  7,  9,  6,  7,\n",
      "         15,  7,  7,  8,  9,  7,  6,  7,  7,  7,  8,  8,  7,  6,  7,  7,  6,  8,\n",
      "          7,  7, 11, 10, 17, 16,  7,  9]], device='cuda:0')\n",
      "Duration (new): tensor([[ 7,  6, 12,  7,  6,  8,  6,  6,  7,  9,  7,  9,  9,  9, 10,  9,  7,  7,\n",
      "          5,  5,  7, 11,  9, 36,  7,  8,  6,  6,  6,  4,  5,  6,  7,  9,  6,  7,\n",
      "         15,  7,  7,  8,  9,  7,  6,  7,  7,  7,  8,  8,  7,  6,  7,  7,  6,  8,\n",
      "          7,  7, 11, 10, 17, 16,  7,  9]], device='cuda:0')\n",
      "Duration pred: tensor([[ 7,  6, 12,  7,  6,  8,  6,  6,  7,  9,  7,  9,  9,  9, 10,  9,  7,  7,\n",
      "          5,  5,  7, 11,  9,  9,  7,  8,  6,  6,  6,  4,  5,  6,  7,  9,  6,  7,\n",
      "         15,  7,  7,  8,  9,  7,  6,  7,  7,  7,  8,  8,  7,  6,  7,  7,  6,  8,\n",
      "          7,  7, 11, 10, 17, 16,  7,  9]], device='cuda:0')\n",
      "Duration (new): tensor([[ 7,  6, 12,  7,  6,  8,  6,  6,  7,  9,  7,  9,  9,  9, 10,  9,  7,  7,\n",
      "          5,  5,  7, 11,  9,  9,  7,  8,  6, 24,  6,  4,  5,  6,  7,  9,  6,  7,\n",
      "         15,  7,  7,  8,  9,  7,  6,  7,  7,  7,  8,  8,  7,  6,  7,  7,  6,  8,\n",
      "          7,  7, 11, 10, 17, 16,  7,  9]], device='cuda:0')\n",
      "Duration pred: tensor([[ 7,  6, 12,  7,  6,  8,  6,  6,  7,  9,  7,  9,  9,  9, 10,  9,  7,  7,\n",
      "          5,  5,  7, 11,  9,  9,  7,  8,  6,  6,  6,  4,  5,  6,  7,  9,  6,  7,\n",
      "         15,  7,  7,  8,  9,  7,  6,  7,  7,  7,  8,  8,  7,  6,  7,  7,  6,  8,\n",
      "          7,  7, 11, 10, 17, 16,  7,  9]], device='cuda:0')\n",
      "Duration (new): tensor([[ 7,  6, 12,  7,  6,  8,  6,  6,  7,  9,  7,  9,  9,  9, 10,  9,  7,  7,\n",
      "          5,  5,  7, 11,  9,  9,  7,  8,  6,  6,  6,  4,  5, 24,  7,  9,  6,  7,\n",
      "         15,  7,  7,  8,  9,  7,  6,  7,  7,  7,  8,  8,  7,  6,  7,  7,  6,  8,\n",
      "          7,  7, 11, 10, 17, 16,  7,  9]], device='cuda:0')\n",
      "Duration pred: tensor([[ 7,  6, 12,  7,  6,  8,  6,  6,  7,  9,  7,  9,  9,  9, 10,  9,  7,  7,\n",
      "          5,  5,  7, 11,  9,  9,  7,  8,  6,  6,  6,  4,  5,  6,  7,  9,  6,  7,\n",
      "         15,  7,  7,  8,  9,  7,  6,  7,  7,  7,  8,  8,  7,  6,  7,  7,  6,  8,\n",
      "          7,  7, 11, 10, 17, 16,  7,  9]], device='cuda:0')\n",
      "Duration (new): tensor([[ 7,  6, 12,  7,  6,  8,  6,  6,  7,  9,  7,  9,  9,  9, 10,  9,  7,  7,\n",
      "          5,  5,  7, 11,  9,  9,  7,  8,  6,  6,  6,  4,  5,  6,  7, 36,  6,  7,\n",
      "         15,  7,  7,  8,  9,  7,  6,  7,  7,  7,  8,  8,  7,  6,  7,  7,  6,  8,\n",
      "          7,  7, 11, 10, 17, 16,  7,  9]], device='cuda:0')\n",
      "Duration pred: tensor([[ 7,  6, 12,  7,  6,  8,  6,  6,  7,  9,  7,  9,  9,  9, 10,  9,  7,  7,\n",
      "          5,  5,  7, 11,  9,  9,  7,  8,  6,  6,  6,  4,  5,  6,  7,  9,  6,  7,\n",
      "         15,  7,  7,  8,  9,  7,  6,  7,  7,  7,  8,  8,  7,  6,  7,  7,  6,  8,\n",
      "          7,  7, 11, 10, 17, 16,  7,  9]], device='cuda:0')\n",
      "Duration (new): tensor([[ 7,  6, 12,  7,  6,  8,  6,  6,  7,  9,  7,  9,  9,  9, 10,  9,  7,  7,\n",
      "          5,  5,  7, 11,  9,  9,  7,  8,  6,  6,  6,  4,  5,  6,  7,  9,  6, 28,\n",
      "         15,  7,  7,  8,  9,  7,  6,  7,  7,  7,  8,  8,  7,  6,  7,  7,  6,  8,\n",
      "          7,  7, 11, 10, 17, 16,  7,  9]], device='cuda:0')\n",
      "Duration pred: tensor([[ 7,  6, 12,  7,  6,  8,  6,  6,  7,  9,  7,  9,  9,  9, 10,  9,  7,  7,\n",
      "          5,  5,  7, 11,  9,  9,  7,  8,  6,  6,  6,  4,  5,  6,  7,  9,  6,  7,\n",
      "         15,  7,  7,  8,  9,  7,  6,  7,  7,  7,  8,  8,  7,  6,  7,  7,  6,  8,\n",
      "          7,  7, 11, 10, 17, 16,  7,  9]], device='cuda:0')\n",
      "Duration (new): tensor([[ 7,  6, 12,  7,  6,  8,  6,  6,  7,  9,  7,  9,  9,  9, 10,  9,  7,  7,\n",
      "          5,  5,  7, 11,  9,  9,  7,  8,  6,  6,  6,  4,  5,  6,  7,  9,  6,  7,\n",
      "         15,  7, 28,  8,  9,  7,  6,  7,  7,  7,  8,  8,  7,  6,  7,  7,  6,  8,\n",
      "          7,  7, 11, 10, 17, 16,  7,  9]], device='cuda:0')\n",
      "Duration pred: tensor([[ 7,  6, 12,  7,  6,  8,  6,  6,  7,  9,  7,  9,  9,  9, 10,  9,  7,  7,\n",
      "          5,  5,  7, 11,  9,  9,  7,  8,  6,  6,  6,  4,  5,  6,  7,  9,  6,  7,\n",
      "         15,  7,  7,  8,  9,  7,  6,  7,  7,  7,  8,  8,  7,  6,  7,  7,  6,  8,\n",
      "          7,  7, 11, 10, 17, 16,  7,  9]], device='cuda:0')\n",
      "Duration (new): tensor([[ 7,  6, 12,  7,  6,  8,  6,  6,  7,  9,  7,  9,  9,  9, 10,  9,  7,  7,\n",
      "          5,  5,  7, 11,  9,  9,  7,  8,  6,  6,  6,  4,  5,  6,  7,  9,  6,  7,\n",
      "         15,  7,  7,  8, 36,  7,  6,  7,  7,  7,  8,  8,  7,  6,  7,  7,  6,  8,\n",
      "          7,  7, 11, 10, 17, 16,  7,  9]], device='cuda:0')\n",
      "Duration pred: tensor([[ 7,  6, 12,  7,  6,  8,  6,  6,  7,  9,  7,  9,  9,  9, 10,  9,  7,  7,\n",
      "          5,  5,  7, 11,  9,  9,  7,  8,  6,  6,  6,  4,  5,  6,  7,  9,  6,  7,\n",
      "         15,  7,  7,  8,  9,  7,  6,  7,  7,  7,  8,  8,  7,  6,  7,  7,  6,  8,\n",
      "          7,  7, 11, 10, 17, 16,  7,  9]], device='cuda:0')\n",
      "Duration (new): tensor([[ 7,  6, 12,  7,  6,  8,  6,  6,  7,  9,  7,  9,  9,  9, 10,  9,  7,  7,\n",
      "          5,  5,  7, 11,  9,  9,  7,  8,  6,  6,  6,  4,  5,  6,  7,  9,  6,  7,\n",
      "         15,  7,  7,  8,  9,  7,  6,  7, 28,  7,  8,  8,  7,  6,  7,  7,  6,  8,\n",
      "          7,  7, 11, 10, 17, 16,  7,  9]], device='cuda:0')\n",
      "Duration pred: tensor([[ 7,  6, 12,  7,  6,  8,  6,  6,  7,  9,  7,  9,  9,  9, 10,  9,  7,  7,\n",
      "          5,  5,  7, 11,  9,  9,  7,  8,  6,  6,  6,  4,  5,  6,  7,  9,  6,  7,\n",
      "         15,  7,  7,  8,  9,  7,  6,  7,  7,  7,  8,  8,  7,  6,  7,  7,  6,  8,\n",
      "          7,  7, 11, 10, 17, 16,  7,  9]], device='cuda:0')\n",
      "Duration (new): tensor([[ 7,  6, 12,  7,  6,  8,  6,  6,  7,  9,  7,  9,  9,  9, 10,  9,  7,  7,\n",
      "          5,  5,  7, 11,  9,  9,  7,  8,  6,  6,  6,  4,  5,  6,  7,  9,  6,  7,\n",
      "         15,  7,  7,  8,  9,  7,  6,  7,  7,  7, 32,  8,  7,  6,  7,  7,  6,  8,\n",
      "          7,  7, 11, 10, 17, 16,  7,  9]], device='cuda:0')\n",
      "Duration pred: tensor([[ 7,  6, 12,  7,  6,  8,  6,  6,  7,  9,  7,  9,  9,  9, 10,  9,  7,  7,\n",
      "          5,  5,  7, 11,  9,  9,  7,  8,  6,  6,  6,  4,  5,  6,  7,  9,  6,  7,\n",
      "         15,  7,  7,  8,  9,  7,  6,  7,  7,  7,  8,  8,  7,  6,  7,  7,  6,  8,\n",
      "          7,  7, 11, 10, 17, 16,  7,  9]], device='cuda:0')\n",
      "Duration (new): tensor([[ 7,  6, 12,  7,  6,  8,  6,  6,  7,  9,  7,  9,  9,  9, 10,  9,  7,  7,\n",
      "          5,  5,  7, 11,  9,  9,  7,  8,  6,  6,  6,  4,  5,  6,  7,  9,  6,  7,\n",
      "         15,  7,  7,  8,  9,  7,  6,  7,  7,  7,  8,  8, 28,  6,  7,  7,  6,  8,\n",
      "          7,  7, 11, 10, 17, 16,  7,  9]], device='cuda:0')\n",
      "Duration pred: tensor([[ 7,  6, 12,  7,  6,  8,  6,  6,  7,  9,  7,  9,  9,  9, 10,  9,  7,  7,\n",
      "          5,  5,  7, 11,  9,  9,  7,  8,  6,  6,  6,  4,  5,  6,  7,  9,  6,  7,\n",
      "         15,  7,  7,  8,  9,  7,  6,  7,  7,  7,  8,  8,  7,  6,  7,  7,  6,  8,\n",
      "          7,  7, 11, 10, 17, 16,  7,  9]], device='cuda:0')\n",
      "Duration (new): tensor([[ 7,  6, 12,  7,  6,  8,  6,  6,  7,  9,  7,  9,  9,  9, 10,  9,  7,  7,\n",
      "          5,  5,  7, 11,  9,  9,  7,  8,  6,  6,  6,  4,  5,  6,  7,  9,  6,  7,\n",
      "         15,  7,  7,  8,  9,  7,  6,  7,  7,  7,  8,  8,  7, 24,  7,  7,  6,  8,\n",
      "          7,  7, 11, 10, 17, 16,  7,  9]], device='cuda:0')\n",
      "Duration pred: tensor([[ 7,  6, 12,  7,  6,  8,  6,  6,  7,  9,  7,  9,  9,  9, 10,  9,  7,  7,\n",
      "          5,  5,  7, 11,  9,  9,  7,  8,  6,  6,  6,  4,  5,  6,  7,  9,  6,  7,\n",
      "         15,  7,  7,  8,  9,  7,  6,  7,  7,  7,  8,  8,  7,  6,  7,  7,  6,  8,\n",
      "          7,  7, 11, 10, 17, 16,  7,  9]], device='cuda:0')\n",
      "Duration (new): tensor([[ 7,  6, 12,  7,  6,  8,  6,  6,  7,  9,  7,  9,  9,  9, 10,  9,  7,  7,\n",
      "          5,  5,  7, 11,  9,  9,  7,  8,  6,  6,  6,  4,  5,  6,  7,  9,  6,  7,\n",
      "         15,  7,  7,  8,  9,  7,  6,  7,  7,  7,  8,  8,  7,  6,  7,  7,  6, 32,\n",
      "          7,  7, 11, 10, 17, 16,  7,  9]], device='cuda:0')\n",
      "Duration pred: tensor([[ 7,  6, 12,  7,  6,  8,  6,  6,  7,  9,  7,  9,  9,  9, 10,  9,  7,  7,\n",
      "          5,  5,  7, 11,  9,  9,  7,  8,  6,  6,  6,  4,  5,  6,  7,  9,  6,  7,\n",
      "         15,  7,  7,  8,  9,  7,  6,  7,  7,  7,  8,  8,  7,  6,  7,  7,  6,  8,\n",
      "          7,  7, 11, 10, 17, 16,  7,  9]], device='cuda:0')\n",
      "Duration (new): tensor([[ 7,  6, 12,  7,  6,  8,  6,  6,  7,  9,  7,  9,  9,  9, 10,  9,  7,  7,\n",
      "          5,  5,  7, 11,  9,  9,  7,  8,  6,  6,  6,  4,  5,  6,  7,  9,  6,  7,\n",
      "         15,  7,  7,  8,  9,  7,  6,  7,  7,  7,  8,  8,  7,  6,  7,  7,  6,  8,\n",
      "          7,  7, 44, 10, 17, 16,  7,  9]], device='cuda:0')\n",
      "Duration pred: tensor([[ 7,  6, 12,  7,  6,  8,  6,  6,  7,  9,  7,  9,  9,  9, 10,  9,  7,  7,\n",
      "          5,  5,  7, 11,  9,  9,  7,  8,  6,  6,  6,  4,  5,  6,  7,  9,  6,  7,\n",
      "         15,  7,  7,  8,  9,  7,  6,  7,  7,  7,  8,  8,  7,  6,  7,  7,  6,  8,\n",
      "          7,  7, 11, 10, 17, 16,  7,  9]], device='cuda:0')\n",
      "Duration (new): tensor([[ 7,  6, 12,  7,  6,  8,  6,  6,  7,  9,  7,  9,  9,  9, 10,  9,  7,  7,\n",
      "          5,  5,  7, 11,  9,  9,  7,  8,  6,  6,  6,  4,  5,  6,  7,  9,  6,  7,\n",
      "         15,  7,  7,  8,  9,  7,  6,  7,  7,  7,  8,  8,  7,  6,  7,  7,  6,  8,\n",
      "          7,  7, 11, 10, 68, 16,  7,  9]], device='cuda:0')\n"
     ]
    }
   ],
   "source": [
    "with torch.no_grad():\n",
    "    outputs = []\n",
    "    for phone_ids, d_factor in zip(batch_phone_ids, batch_d_factor):\n",
    "        output_dict = pretrained_model.tts.inference(text=phone_ids, d_factor=d_factor)\n",
    "        outputs.append(output_dict)"
   ],
   "metadata": {
    "collapsed": false
   }
  }
 ],
 "metadata": {
  "kernelspec": {
   "display_name": "Python 3",
   "language": "python",
   "name": "python3"
  },
  "language_info": {
   "codemirror_mode": {
    "name": "ipython",
    "version": 2
   },
   "file_extension": ".py",
   "mimetype": "text/x-python",
   "name": "python",
   "nbconvert_exporter": "python",
   "pygments_lexer": "ipython2",
   "version": "2.7.6"
  }
 },
 "nbformat": 4,
 "nbformat_minor": 0
}
