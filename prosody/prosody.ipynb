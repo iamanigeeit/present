{
 "cells": [
  {
   "cell_type": "code",
   "execution_count": 5,
   "metadata": {
    "collapsed": true
   },
   "outputs": [
    {
     "name": "stderr",
     "output_type": "stream",
     "text": [
      "OMP: Info #276: omp_set_nested routine deprecated, please use omp_set_max_active_levels instead.\n"
     ]
    }
   ],
   "source": [
    "import logging\n",
    "import os\n",
    "os.environ['CUDA_LAUNCH_BLOCKING'] = \"1\"\n",
    "import time\n",
    "from pathlib import Path\n",
    "\n",
    "import soundfile as sf\n",
    "import torch\n",
    "import yaml\n",
    "import numpy as np\n",
    "from prosody.utils import *\n",
    "from prosody.pinyin import *\n",
    "from espnet2.text.phoneme_tokenizer import PhonemeTokenizer\n",
    "from espnet2.text.token_id_converter import TokenIDConverter\n",
    "from parallel_wavegan.utils import load_model as load_vocoder\n",
    "from espnet2.bin.tts_inference import Text2Speech\n",
    "from matplotlib import pyplot as plt\n",
    "%load_ext autoreload\n",
    "\n",
    "PWD = %pwd\n",
    "PWD = Path(PWD)\n",
    "LJSPEECH_DIR = (PWD / '../egs2/ljspeech/tts1/').resolve()\n",
    "VCTK_DIR = (PWD / '../egs2/vctk/tts1/').resolve()\n",
    "device = 'cuda'"
   ]
  },
  {
   "cell_type": "code",
   "execution_count": 3,
   "outputs": [],
   "source": [
    "%aimport prosody.utils.utils\n",
    "%autoreload prosody.utils.utils\n",
    "from prosody.utils import *"
   ],
   "metadata": {
    "collapsed": false
   }
  },
  {
   "cell_type": "code",
   "execution_count": 6,
   "outputs": [],
   "source": [
    "cwd = os.getcwd()\n",
    "os.chdir(LJSPEECH_DIR)\n",
    "pretrained_dir = LJSPEECH_DIR / \"exp/tts_train_jets_raw_phn_tacotron_g2p_en_no_space\"\n",
    "pretrained_model_file = pretrained_dir / \"train.total_count.ave_5best.pth\"\n",
    "pretrained_tts = Text2Speech.from_pretrained(\n",
    "    train_config=pretrained_dir / \"config.yaml\",\n",
    "    model_file=pretrained_model_file,\n",
    "    device=device\n",
    ")\n",
    "pretrained_model = pretrained_tts.model\n",
    "os.chdir(cwd)"
   ],
   "metadata": {
    "collapsed": false
   }
  },
  {
   "cell_type": "code",
   "execution_count": 208,
   "outputs": [],
   "source": [
    "orig_text = 'This is a very long text, which i expect the model to read properly and not too fast.'"
   ],
   "metadata": {
    "collapsed": false
   }
  },
  {
   "cell_type": "code",
   "execution_count": 209,
   "outputs": [],
   "source": [
    "arpa_tokenizer = PhonemeTokenizer(g2p_type='g2p_en')\n",
    "arpa_phones = arpa_tokenizer.g2p(orig_text)"
   ],
   "metadata": {
    "collapsed": false
   }
  },
  {
   "cell_type": "code",
   "execution_count": 7,
   "outputs": [],
   "source": [
    "arpa_tokenizer = PhonemeTokenizer(g2p_type='g2p_en_no_space')\n",
    "id_converter = TokenIDConverter(pretrained_tts.train_args.token_list)"
   ],
   "metadata": {
    "collapsed": false
   }
  },
  {
   "cell_type": "code",
   "execution_count": 211,
   "outputs": [],
   "source": [
    "arpa_phones = [p for p in arpa_phones if p != ' ']\n",
    "phone_ids = torch.IntTensor(id_converter.tokens2ids(arpa_phones)).to(device)"
   ],
   "metadata": {
    "collapsed": false
   }
  },
  {
   "cell_type": "code",
   "execution_count": 212,
   "outputs": [],
   "source": [
    "phone_ids = torch.IntTensor(id_converter.tokens2ids(arpa_phones)).to(device)"
   ],
   "metadata": {
    "collapsed": false
   }
  },
  {
   "cell_type": "code",
   "execution_count": 213,
   "outputs": [],
   "source": [
    "orig_text = 'shaw, those twelve beige hooks are joined if i patch a young, gooey mouth.'"
   ],
   "metadata": {
    "collapsed": false
   }
  },
  {
   "cell_type": "code",
   "execution_count": 214,
   "outputs": [],
   "source": [
    "orig_text = \"THIS, *is* ^AB^soLUTE_ly craaaaazzzyyyyy!!\""
   ],
   "metadata": {
    "collapsed": false
   }
  },
  {
   "cell_type": "code",
   "execution_count": 215,
   "outputs": [],
   "source": [
    "orig_text = \"Is thaaaaaaaat correct?\""
   ],
   "metadata": {
    "collapsed": false
   }
  },
  {
   "cell_type": "code",
   "execution_count": 216,
   "outputs": [],
   "source": [
    "orig_text = \"booooook\""
   ],
   "metadata": {
    "collapsed": false
   }
  },
  {
   "cell_type": "code",
   "execution_count": 217,
   "outputs": [
    {
     "ename": "ValueError",
     "evalue": "too many values to unpack (expected 5)",
     "output_type": "error",
     "traceback": [
      "\u001B[0;31m---------------------------------------------------------------------------\u001B[0m",
      "\u001B[0;31mValueError\u001B[0m                                Traceback (most recent call last)",
      "Cell \u001B[0;32mIn [217], line 1\u001B[0m\n\u001B[0;32m----> 1\u001B[0m phonemes, phone_ids, d_factor, p_factor, e_factor \u001B[38;5;241m=\u001B[39m get_inputs(orig_text, tokens2ids_fn\u001B[38;5;241m=\u001B[39mid_converter\u001B[38;5;241m.\u001B[39mtokens2ids)\n",
      "\u001B[0;31mValueError\u001B[0m: too many values to unpack (expected 5)"
     ]
    }
   ],
   "source": [
    "phonemes, phone_ids, d_factor, p_factor, e_factor = get_inputs(orig_text, tokens2ids_fn=id_converter.tokens2ids)"
   ],
   "metadata": {
    "collapsed": false
   }
  },
  {
   "cell_type": "code",
   "execution_count": null,
   "outputs": [],
   "source": [
    "long_wav_file = '/home/perry/PycharmProjects/LJSpeech-1.1/wavs/LJ035-0185.wav'\n",
    "short_wav_file = '/home/perry/PycharmProjects/LJSpeech-1.1/wavs/LJ050-0162.wav'\n",
    "long_text = 'After inspecting this floor, Sawyer returned to the street about three minutes after he entered the building.'\n",
    "custom_text = 'This is a longer sentence which we want to change the style for.'\n",
    "\n",
    "custom_text = \"I thought you meant how old are you!\"\n",
    "short_text = 'In planning its data processing techniques,'"
   ],
   "metadata": {
    "collapsed": false
   }
  },
  {
   "cell_type": "code",
   "execution_count": null,
   "outputs": [],
   "source": [
    "amused_short_file = '/home/perry/PycharmProjects/EmoV_DB/bea_Amused/amused_196-224_0205.wav'\n",
    "ref_filename = Path(amused_short_file).stem"
   ],
   "metadata": {
    "collapsed": false
   }
  },
  {
   "cell_type": "code",
   "execution_count": null,
   "outputs": [],
   "source": [
    "amused_short_file = '/home/perry/PycharmProjects/EmoV_DB/bea_Amused/amused_225-252_0247.wav'\n",
    "ref_filename = Path(amused_short_file).stem"
   ],
   "metadata": {
    "collapsed": false
   }
  },
  {
   "cell_type": "code",
   "execution_count": null,
   "outputs": [],
   "source": [
    "angry_short_file = '/home/perry/PycharmProjects/EmoV_DB/bea_Angry/anger_225-252_0240.wav'\n",
    "ref_filename = Path(angry_short_file).stem"
   ],
   "metadata": {
    "collapsed": false
   }
  },
  {
   "cell_type": "code",
   "execution_count": null,
   "outputs": [],
   "source": [
    "surprise_short_file = '/home/perry/PycharmProjects/ESD/0018/Surprise/test/0018_001423.wav'\n",
    "ref_filename = Path(surprise_short_file).stem"
   ],
   "metadata": {
    "collapsed": false
   }
  },
  {
   "cell_type": "code",
   "execution_count": null,
   "outputs": [],
   "source": [
    "arpa_phones = arpa_tokenizer.text2tokens(custom_text)\n",
    "phone_ids = torch.tensor(id_converter.tokens2ids(arpa_phones), device=device)"
   ],
   "metadata": {
    "collapsed": false
   }
  },
  {
   "cell_type": "code",
   "execution_count": null,
   "outputs": [],
   "source": [
    "pretrained_model.pitch_extract.f0max = 800"
   ],
   "metadata": {
    "collapsed": false
   }
  },
  {
   "cell_type": "code",
   "execution_count": null,
   "outputs": [],
   "source": [],
   "metadata": {
    "collapsed": false
   }
  },
  {
   "cell_type": "code",
   "execution_count": null,
   "outputs": [],
   "source": [
    "from glob import glob\n",
    "wav_paths = glob('/home/perry/PycharmProjects/LJSpeech-1.1/wavs/*.wav')\n",
    "pitch_range, energy_range = find_dataset_ranges(wav_paths, pretrained_tts)"
   ],
   "metadata": {
    "collapsed": false
   }
  },
  {
   "cell_type": "code",
   "execution_count": null,
   "outputs": [],
   "source": [
    "pitch_range = (-4.52626895904541, 3.51578950881958)"
   ],
   "metadata": {
    "collapsed": false
   }
  },
  {
   "cell_type": "code",
   "execution_count": null,
   "outputs": [],
   "source": [
    "energy_range = (-1.1005744934082031, 14.794838905334473)"
   ],
   "metadata": {
    "collapsed": false
   }
  },
  {
   "cell_type": "code",
   "execution_count": null,
   "outputs": [],
   "source": [
    "plt.plot([256/44100*i for i in range(pitch.shape[1])], pitch.squeeze().cpu())\n",
    "# plt.plot(speech.squeeze().cpu())"
   ],
   "metadata": {
    "collapsed": false
   }
  },
  {
   "cell_type": "code",
   "execution_count": null,
   "outputs": [],
   "source": [
    "energy, energy_lengths = pretrained_model.energy_extract(speech, speech_lengths, feats_lengths=feats_lengths)\n",
    "energy = pretrained_model.energy_normalize(energy.squeeze(-1), energy_lengths)[0].unsqueeze(-1)\n",
    "plt.plot(energy.squeeze().cpu())"
   ],
   "metadata": {
    "collapsed": false
   }
  },
  {
   "cell_type": "code",
   "execution_count": null,
   "outputs": [],
   "source": [
    "long_surprise_texts = [\n",
    "    'Why do all your coffee mugs have numbers on the bottom?',\n",
    "    'Okay, so you were trying to play bad this whole time.',\n",
    "    \"Rach, I'm sorry, but you didn't give me any contracts!\"\n",
    "]\n",
    "short_surprise_texts = [\n",
    "    \"They're not listening to me?\",\n",
    "    'Wow, you guys, this is big.',\n",
    "    \"It's nine o'clock in the morning!\",\n",
    "]\n",
    "long_sad_texts = [\n",
    "    \"Oh come on, what am I gonna do, its been hours and it won't stop crying.\",\n",
    "    'I guess I just figured that somewhere down the road, we would be on again.',\n",
    "    'No, I had to return it to the costume place.'\n",
    "]\n",
    "short_sad_texts = [\n",
    "    'Can we please turn this off?',\n",
    "    \"I mean, no, you're right.\",\n",
    "    \"Well it's very unsettling.\"\n",
    "]"
   ],
   "metadata": {
    "collapsed": false
   }
  },
  {
   "cell_type": "code",
   "execution_count": null,
   "outputs": [],
   "source": [
    "short_surprise_ref = [\n",
    "    '/home/perry/PycharmProjects/ESD/0016/Surprise/test/0016_001449.wav',\n",
    "    '/home/perry/PycharmProjects/ESD/0017/Surprise/test/0017_001423.wav',\n",
    "    '/home/perry/PycharmProjects/ESD/0018/Surprise/test/0018_001421.wav',\n",
    "\n",
    "]\n",
    "long_surprise_ref = [\n",
    "    '/home/perry/PycharmProjects/ESD/0016/Surprise/test/0016_001450.wav',\n",
    "    '/home/perry/PycharmProjects/ESD/0017/Surprise/test/0017_001428.wav',\n",
    "    '/home/perry/PycharmProjects/ESD/0018/Surprise/test/0018_001440.wav'\n",
    "]\n",
    "short_sad_ref = [\n",
    "    '/home/perry/PycharmProjects/ESD/0016/Sad/test/0016_001091.wav',\n",
    "    '/home/perry/PycharmProjects/ESD/0017/Sad/test/0017_001086.wav',\n",
    "    '/home/perry/PycharmProjects/ESD/0018/Sad/test/0018_001092.wav',\n",
    "]\n",
    "long_sad_ref = [\n",
    "    '/home/perry/PycharmProjects/ESD/0016/Sad/test/0016_001090.wav',\n",
    "    '/home/perry/PycharmProjects/ESD/0017/Sad/test/0017_001078.wav',\n",
    "    '/home/perry/PycharmProjects/ESD/0018/Sad/test/0018_001084.wav'\n",
    "]"
   ],
   "metadata": {
    "collapsed": false
   }
  },
  {
   "cell_type": "code",
   "execution_count": null,
   "outputs": [],
   "source": [
    "extracted_feats = extract_normalized_feats(surprise_short_file, pretrained_tts)\n",
    "speech, speech_lengths, feats, feats_lengths, pitch, pitch_lengths, energy, energy_lengths = extracted_feats"
   ],
   "metadata": {
    "collapsed": false
   }
  },
  {
   "cell_type": "code",
   "execution_count": null,
   "outputs": [],
   "source": [
    "def threshold(raw_val):\n",
    "    return pretrained_model.energy_normalize(torch.tensor([[raw_val]]), torch.tensor([1]))[0].squeeze().item()"
   ],
   "metadata": {
    "collapsed": false
   }
  },
  {
   "cell_type": "code",
   "execution_count": null,
   "outputs": [],
   "source": [
    "is_vowels = torch.tensor([p in ARPA_VOWELS for p in arpa_phones], device=device)\n",
    "is_consonants = torch.tensor([p not in ARPA_VOWELS and p not in PUNCS for p in arpa_phones], device=device)"
   ],
   "metadata": {
    "collapsed": false
   }
  },
  {
   "cell_type": "code",
   "execution_count": null,
   "outputs": [],
   "source": [
    "pitch.shape"
   ],
   "metadata": {
    "collapsed": false
   }
  },
  {
   "cell_type": "code",
   "execution_count": null,
   "outputs": [],
   "source": [
    "save_dir = Path('/home/perry/PycharmProjects/prosody/prosody') / pretrained_dir.stem"
   ],
   "metadata": {
    "collapsed": false
   }
  },
  {
   "cell_type": "code",
   "execution_count": null,
   "outputs": [],
   "source": [
    "with torch.no_grad():\n",
    "    output_dict = pretrained_model.tts.generator.inference(\n",
    "        text=phone_ids.unsqueeze(0), text_lengths=torch.tensor([len(phone_ids)], device=device),\n",
    "        verbose=True,\n",
    "    )\n",
    "sf.write(save_dir / 'transfer' / f'{custom_text}.wav',\n",
    "         output_dict[0].squeeze().cpu().numpy(), 22050, \"PCM_16\")"
   ],
   "metadata": {
    "collapsed": false
   }
  },
  {
   "cell_type": "code",
   "execution_count": null,
   "outputs": [],
   "source": [
    "questions = ['What are you working on?']\n",
    "gts = ['/home/perry/PycharmProjects/dailytalk/data/0/0_1_d0.wav']"
   ],
   "metadata": {
    "collapsed": false
   }
  },
  {
   "cell_type": "code",
   "execution_count": null,
   "outputs": [],
   "source": [
    "questions = [\"Did you bring some lunch with you?\"]\n",
    "gts = ['/home/perry/PycharmProjects/dailytalk/data/3/0_1_d3.wav']"
   ],
   "metadata": {
    "collapsed": false
   }
  },
  {
   "cell_type": "code",
   "execution_count": null,
   "outputs": [],
   "source": [
    "from shutil import copyfile\n",
    "save_dir = Path('/home/perry/firebase3/public/questions/')"
   ],
   "metadata": {
    "collapsed": false
   }
  },
  {
   "cell_type": "code",
   "execution_count": null,
   "outputs": [],
   "source": [
    "orig_feats = extract_normalized_feats(save_dir / 'transfer' / f'{custom_text}.wav', pretrained_tts=pretrained_tts)"
   ],
   "metadata": {
    "collapsed": false
   }
  },
  {
   "cell_type": "code",
   "execution_count": null,
   "outputs": [],
   "source": [
    "\n",
    "for question, gt in zip(questions, gts):\n",
    "    with torch.no_grad():\n",
    "        fname = re.sub(r'[^A-Za-z ]', '', question).replace(' ', '_')\n",
    "        arpa_phones = arpa_tokenizer.text2tokens(question)\n",
    "        phonemes, phone_ids, d_factor, p_factor, e_factor, d_split_factor = get_inputs(question, tokens2ids_fn=id_converter.tokens2ids)\n",
    "        wav, _, _ = pretrained_model.tts.generator.inference(\n",
    "            text=phone_ids.unsqueeze(0), text_lengths=torch.tensor([len(phone_ids)], device=device),\n",
    "            verbose=True,\n",
    "        )\n",
    "        sf.write(save_dir / 'jets' /  f'{fname}.wav', wav.squeeze().cpu().numpy(), 22050, \"PCM_16\")\n",
    "        wav_modified, _, _ = pretrained_model.tts.generator.inference(\n",
    "            text=phone_ids.unsqueeze(0), text_lengths=torch.tensor([len(phone_ids)], device=device),\n",
    "            p_factor=p_factor,\n",
    "            verbose=True,\n",
    "        )\n",
    "        sf.write(save_dir / 'present' /  f'{fname}.wav', wav_modified.squeeze().cpu().numpy(), 22050, \"PCM_16\")\n",
    "        copyfile(gt, save_dir / 'dailytalk' /  f'{fname}.wav')"
   ],
   "metadata": {
    "collapsed": false
   }
  },
  {
   "cell_type": "code",
   "execution_count": 46,
   "outputs": [],
   "source": [
    "from espnet2.gan_tts.jets.generator import *"
   ],
   "metadata": {
    "collapsed": false
   }
  },
  {
   "cell_type": "code",
   "execution_count": 88,
   "outputs": [],
   "source": [
    "e_reference = energy.squeeze(-1)\n",
    "p_reference = pitch.squeeze(-1)\n",
    "avg_energy = compute_avg_energy(e_reference, duration_pred, window=9)\n",
    "e_threshold = threshold(10.0)"
   ],
   "metadata": {
    "collapsed": false
   }
  },
  {
   "cell_type": "code",
   "execution_count": 27,
   "outputs": [
    {
     "data": {
      "text/plain": "tensor(15, device='cuda:0')"
     },
     "execution_count": 27,
     "metadata": {},
     "output_type": "execute_result"
    }
   ],
   "source": [
    "is_vowels.sum()"
   ],
   "metadata": {
    "collapsed": false
   }
  },
  {
   "cell_type": "code",
   "execution_count": 56,
   "outputs": [],
   "source": [
    "avg_energy = compute_avg_energy(e_reference, duration_pred, window=8)\n",
    "energy = avg_energy.clone()\n",
    "keep_frames = energy > e_threshold\n",
    "energy = energy[keep_frames]\n",
    "pitch = p_reference.squeeze()[keep_frames]\n",
    "peaks = find_peaks(energy)"
   ],
   "metadata": {
    "collapsed": false
   }
  },
  {
   "cell_type": "code",
   "execution_count": 58,
   "outputs": [
    {
     "data": {
      "text/plain": "10"
     },
     "execution_count": 58,
     "metadata": {},
     "output_type": "execute_result"
    }
   ],
   "source": [
    "len(peaks)"
   ],
   "metadata": {
    "collapsed": false
   }
  },
  {
   "cell_type": "code",
   "execution_count": 15,
   "outputs": [],
   "source": [
    "energy = avg_energy.clone()\n",
    "keep_frames = energy > threshold(10.0)\n",
    "energy = energy[keep_frames]\n",
    "peaks = find_peaks(energy)\n",
    "num_peaks = len(peaks)\n",
    "num_vowels = sum(is_vowels).item()"
   ],
   "metadata": {
    "collapsed": false
   }
  },
  {
   "cell_type": "code",
   "execution_count": 40,
   "outputs": [
    {
     "name": "stdout",
     "output_type": "stream",
     "text": [
      "152\n",
      "246\n"
     ]
    }
   ],
   "source": [
    "repeats = compute_repeats(num_vowels, num_peaks)\n",
    "peaks_new, pitch_new, energy_new = repeat_peaks_(repeats, peaks, num_peaks, pitch, energy)"
   ],
   "metadata": {
    "collapsed": false
   }
  },
  {
   "cell_type": "code",
   "execution_count": 29,
   "outputs": [
    {
     "data": {
      "text/plain": "197"
     },
     "execution_count": 29,
     "metadata": {},
     "output_type": "execute_result"
    }
   ],
   "source": [
    "len(energy)"
   ],
   "metadata": {
    "collapsed": false
   }
  },
  {
   "cell_type": "code",
   "execution_count": 44,
   "outputs": [
    {
     "data": {
      "text/plain": "tensor([  6,  37,  56,  78,  90, 116, 121, 145, 165, 170, 194, 206, 212, 238,\n        243], device='cuda:0')"
     },
     "execution_count": 44,
     "metadata": {},
     "output_type": "execute_result"
    }
   ],
   "source": [
    "find_peaks(energy_new)"
   ],
   "metadata": {
    "collapsed": false
   }
  },
  {
   "cell_type": "code",
   "execution_count": 43,
   "outputs": [
    {
     "data": {
      "text/plain": "tensor([  6,  37,  56,  78,  90, 116, 121, 145, 165, 170, 194, 206, 212, 238,\n        243], device='cuda:0')"
     },
     "execution_count": 43,
     "metadata": {},
     "output_type": "execute_result"
    }
   ],
   "source": [
    "peaks_new"
   ],
   "metadata": {
    "collapsed": false
   }
  },
  {
   "cell_type": "code",
   "execution_count": 38,
   "outputs": [
    {
     "data": {
      "text/plain": "tensor([116, 121, 145, 157, 163, 189, 194], device='cuda:0')"
     },
     "execution_count": 38,
     "metadata": {},
     "output_type": "execute_result"
    }
   ],
   "source": [
    "peaks[-7:]"
   ],
   "metadata": {
    "collapsed": false
   }
  },
  {
   "cell_type": "code",
   "execution_count": 25,
   "outputs": [],
   "source": [
    "peaks = find_peaks(energy)"
   ],
   "metadata": {
    "collapsed": false
   }
  },
  {
   "cell_type": "code",
   "execution_count": 32,
   "outputs": [
    {
     "data": {
      "text/plain": "tensor([ 5, 17, 36, 52, 69, 74, 80, 97], device='cuda:0')"
     },
     "execution_count": 32,
     "metadata": {},
     "output_type": "execute_result"
    }
   ],
   "source": [
    "peaks"
   ],
   "metadata": {
    "collapsed": false
   }
  },
  {
   "cell_type": "code",
   "execution_count": 33,
   "outputs": [],
   "source": [
    "energy_mask = avg_energy > threshold(10.0)\n",
    "start = 0\n",
    "while not energy_mask[start]:\n",
    "    start += 1\n",
    "end = -1\n",
    "while not energy_mask[end]:\n",
    "    end -= 1\n",
    "ref_actual_len = len(avg_energy) - start + end + 1"
   ],
   "metadata": {
    "collapsed": false
   }
  },
  {
   "cell_type": "code",
   "execution_count": 34,
   "outputs": [
    {
     "data": {
      "text/plain": "18.6046875"
     },
     "execution_count": 34,
     "metadata": {},
     "output_type": "execute_result"
    }
   ],
   "source": [
    "ref_actual_len / len(peaks) * 22050/16000"
   ],
   "metadata": {
    "collapsed": false
   }
  },
  {
   "cell_type": "code",
   "execution_count": 32,
   "outputs": [
    {
     "data": {
      "text/plain": "15.7"
     },
     "execution_count": 32,
     "metadata": {},
     "output_type": "execute_result"
    }
   ],
   "source": [
    "157 / len(peaks)"
   ],
   "metadata": {
    "collapsed": false
   }
  },
  {
   "cell_type": "code",
   "execution_count": 24,
   "outputs": [
    {
     "data": {
      "text/plain": "tensor(14.6667, device='cuda:0')"
     },
     "execution_count": 24,
     "metadata": {},
     "output_type": "execute_result"
    }
   ],
   "source": [
    "(peaks[-1] - peaks[0]) / (len(peaks)-1)"
   ],
   "metadata": {
    "collapsed": false
   }
  },
  {
   "cell_type": "code",
   "execution_count": 28,
   "outputs": [],
   "source": [
    "energy_mask = avg_energy > threshold(0.0)\n",
    "ref_frames = len(energy_mask)\n",
    "start = 0\n",
    "while not energy_mask[start]:\n",
    "    start += 1\n",
    "end = -1\n",
    "while not energy_mask[end]:\n",
    "    end -= 1"
   ],
   "metadata": {
    "collapsed": false
   }
  },
  {
   "cell_type": "code",
   "execution_count": 46,
   "outputs": [
    {
     "data": {
      "text/plain": "157"
     },
     "execution_count": 46,
     "metadata": {},
     "output_type": "execute_result"
    }
   ],
   "source": [
    "len(avg_energy)"
   ],
   "metadata": {
    "collapsed": false
   }
  },
  {
   "cell_type": "code",
   "execution_count": 29,
   "outputs": [],
   "source": [
    "actual_len = len(avg_energy) - start + end + 1"
   ],
   "metadata": {
    "collapsed": false
   }
  },
  {
   "cell_type": "code",
   "execution_count": 30,
   "outputs": [
    {
     "data": {
      "text/plain": "157"
     },
     "execution_count": 30,
     "metadata": {},
     "output_type": "execute_result"
    }
   ],
   "source": [
    "actual_len"
   ],
   "metadata": {
    "collapsed": false
   }
  },
  {
   "cell_type": "code",
   "execution_count": 50,
   "outputs": [
    {
     "data": {
      "text/plain": "tensor(130, device='cuda:0')"
     },
     "execution_count": 50,
     "metadata": {},
     "output_type": "execute_result"
    }
   ],
   "source": [
    "sum(energy_mask)"
   ],
   "metadata": {
    "collapsed": false
   }
  },
  {
   "cell_type": "code",
   "execution_count": 31,
   "outputs": [
    {
     "data": {
      "text/plain": "tensor(22.4667, device='cuda:0')"
     },
     "execution_count": 31,
     "metadata": {},
     "output_type": "execute_result"
    }
   ],
   "source": [
    "duration_pred.sum() / sum(is_vowels)"
   ],
   "metadata": {
    "collapsed": false
   }
  },
  {
   "cell_type": "code",
   "execution_count": 29,
   "outputs": [],
   "source": [
    "out_feats = extract_normalized_feats(out_path)"
   ],
   "metadata": {
    "collapsed": false
   }
  },
  {
   "cell_type": "code",
   "execution_count": 41,
   "outputs": [],
   "source": [
    "gener_feats = extract_normalized_feats(f'/home/perry/PycharmProjects/GenerSpeech/infer_out/{custom_text}-ref{ref_filename}.wav')"
   ],
   "metadata": {
    "collapsed": false
   }
  },
  {
   "cell_type": "code",
   "execution_count": 35,
   "outputs": [],
   "source": [
    "from espnet2.gan_tts.jets.alignments import average_by_duration\n",
    "p_outs = average_by_duration(\n",
    "                duration_pred.unsqueeze(0), orig_pitch.unsqueeze(0), torch.tensor([len(phone_ids)], device=device), orig_feats[3]\n",
    "            ).unsqueeze(-1)"
   ],
   "metadata": {
    "collapsed": false
   }
  },
  {
   "cell_type": "code",
   "execution_count": 179,
   "outputs": [
    {
     "data": {
      "text/plain": "torch.Size([94])"
     },
     "execution_count": 179,
     "metadata": {},
     "output_type": "execute_result"
    }
   ],
   "source": [
    "pitch.shape"
   ],
   "metadata": {
    "collapsed": false
   }
  },
  {
   "cell_type": "code",
   "execution_count": 15,
   "outputs": [],
   "source": [
    "def normalize_to_pred(reference, pred):\n",
    "    min_pred = pred.min()\n",
    "    scale = (pred.max() - min_pred) / (reference.max() - reference.min())\n",
    "    scaled_ref = reference * scale\n",
    "    reference = scaled_ref - scaled_ref.min() + min_pred\n",
    "    return reference"
   ],
   "metadata": {
    "collapsed": false
   }
  },
  {
   "cell_type": "code",
   "execution_count": 16,
   "outputs": [],
   "source": [
    "avg_energy = normalize_to_pred(avg_energy, energy_pred)\n",
    "pitch = normalize_to_pred(pitch, pitch_pred)"
   ],
   "metadata": {
    "collapsed": false
   }
  },
  {
   "cell_type": "code",
   "execution_count": 17,
   "outputs": [],
   "source": [],
   "metadata": {
    "collapsed": false
   }
  },
  {
   "cell_type": "code",
   "execution_count": 18,
   "outputs": [],
   "source": [],
   "metadata": {
    "collapsed": false
   }
  },
  {
   "cell_type": "code",
   "execution_count": 19,
   "outputs": [],
   "source": [
    "num_vowels = is_vowels.sum().item()"
   ],
   "metadata": {
    "collapsed": false
   }
  },
  {
   "cell_type": "code",
   "execution_count": 17,
   "outputs": [],
   "source": [
    "def shift_pad(x, shift, pad=0):\n",
    "    y = x.roll(shift)\n",
    "    if shift < 0:\n",
    "        y[shift:] = pad\n",
    "    else:\n",
    "        y[0:shift] = pad\n",
    "    return y"
   ],
   "metadata": {
    "collapsed": false
   }
  },
  {
   "cell_type": "code",
   "execution_count": 21,
   "outputs": [],
   "source": [
    "avg_energy_left = shift_pad(avg_energy, -1)\n",
    "avg_energy_right = shift_pad(avg_energy, 1)"
   ],
   "metadata": {
    "collapsed": false
   }
  },
  {
   "cell_type": "code",
   "execution_count": 22,
   "outputs": [],
   "source": [
    "peaks = torch.nonzero((avg_energy > avg_energy_left) & (avg_energy > avg_energy_right)).squeeze()"
   ],
   "metadata": {
    "collapsed": false
   }
  },
  {
   "cell_type": "code",
   "execution_count": 23,
   "outputs": [],
   "source": [
    "num_peaks = len(peaks)"
   ],
   "metadata": {
    "collapsed": false
   }
  },
  {
   "cell_type": "code",
   "execution_count": 24,
   "outputs": [],
   "source": [
    "if num_peaks < num_vowels:\n",
    "    scale = math.ceil(num_vowels / num_peaks)\n",
    "    peaks = torch.flatten(peaks + torch.arange(scale, device=device).unsqueeze(1) * len(avg_energy))\n",
    "    avg_energy = avg_energy.repeat(scale)\n",
    "    pitch = pitch.repeat(scale)"
   ],
   "metadata": {
    "collapsed": false
   }
  },
  {
   "cell_type": "code",
   "execution_count": 25,
   "outputs": [],
   "source": [
    "energy_new = energy_pred.clone()"
   ],
   "metadata": {
    "collapsed": false
   }
  },
  {
   "cell_type": "code",
   "execution_count": 26,
   "outputs": [],
   "source": [
    "energy_new[is_vowels] = avg_energy[peaks]"
   ],
   "metadata": {
    "collapsed": false
   }
  },
  {
   "cell_type": "code",
   "execution_count": 27,
   "outputs": [],
   "source": [
    "pitch_new = pitch_pred.clone()\n",
    "pitch_new[is_vowels] = pitch[peaks]"
   ],
   "metadata": {
    "collapsed": false
   }
  },
  {
   "cell_type": "code",
   "execution_count": 28,
   "outputs": [],
   "source": [
    "vowel_indices = torch.nonzero(is_vowels).squeeze()"
   ],
   "metadata": {
    "collapsed": false
   }
  },
  {
   "cell_type": "code",
   "execution_count": 29,
   "outputs": [],
   "source": [
    "duration_start = shift_pad(duration_pred.cumsum(0), shift=1)"
   ],
   "metadata": {
    "collapsed": false
   }
  },
  {
   "cell_type": "code",
   "execution_count": 30,
   "outputs": [],
   "source": [
    "phone_positions = duration_start + duration_pred / 2"
   ],
   "metadata": {
    "collapsed": false
   }
  },
  {
   "cell_type": "code",
   "execution_count": 31,
   "outputs": [],
   "source": [
    "def add_start_end(x, start_value, end_value):\n",
    "    y = torch.zeros(len(x)+2, dtype=x.dtype, device=x.device)\n",
    "    y[0] = start_value\n",
    "    y[1:-1] = x\n",
    "    y[-1] = end_value\n",
    "    return y"
   ],
   "metadata": {
    "collapsed": false
   }
  },
  {
   "cell_type": "code",
   "execution_count": 32,
   "outputs": [],
   "source": [
    "phone_positions = add_start_end(phone_positions, 0, duration_pred.sum())"
   ],
   "metadata": {
    "collapsed": false
   }
  },
  {
   "cell_type": "code",
   "execution_count": 33,
   "outputs": [],
   "source": [
    "vowel_positions = add_start_end(phone_positions[1:-1][is_vowels], 0, phone_positions[-1])"
   ],
   "metadata": {
    "collapsed": false
   }
  },
  {
   "cell_type": "code",
   "execution_count": 34,
   "outputs": [],
   "source": [
    "vowel_indices = torch.nonzero(is_vowels).squeeze()\n",
    "vowel_indices = add_start_end(vowel_indices, -1, len(duration_pred))"
   ],
   "metadata": {
    "collapsed": false
   }
  },
  {
   "cell_type": "code",
   "execution_count": 35,
   "outputs": [
    {
     "data": {
      "text/plain": "tensor([-1,  1,  3,  5,  7, 10, 12, 15, 19, 22, 24, 28, 30, 34, 37, 40, 43],\n       device='cuda:0')"
     },
     "execution_count": 35,
     "metadata": {},
     "output_type": "execute_result"
    }
   ],
   "source": [
    "vowel_indices"
   ],
   "metadata": {
    "collapsed": false
   }
  },
  {
   "cell_type": "code",
   "execution_count": 36,
   "outputs": [],
   "source": [
    "phone_positions = add_start_end(phone_positions, 0, duration_pred.sum())"
   ],
   "metadata": {
    "collapsed": false
   }
  },
  {
   "cell_type": "code",
   "execution_count": 37,
   "outputs": [],
   "source": [
    "peaks = add_start_end(peaks, 0, len(avg_energy))"
   ],
   "metadata": {
    "collapsed": false
   }
  },
  {
   "cell_type": "code",
   "execution_count": 41,
   "outputs": [
    {
     "data": {
      "text/plain": "tensor([ 1.0081,  1.6838,  1.6185,  1.3124,  1.0328,  0.6366,  0.4254,  0.5206,\n         0.3145, -0.0381, -0.2157,  0.0195, -0.3340, -0.4843, -0.3955, -0.4867,\n        -0.2431, -0.3562, -0.3014, -0.1122,  0.0362,  0.0138, -0.3176, -0.2748,\n        -0.1264,  0.0293,  0.0540,  0.2609,  0.2613,  0.3070, -0.4706, -0.5565,\n        -0.3059,  0.0631,  0.0668,  0.2042, -0.1482, -0.6567, -0.6116,  0.2347,\n        -0.1922, -0.7975, -0.7153], device='cuda:0')"
     },
     "execution_count": 41,
     "metadata": {},
     "output_type": "execute_result"
    }
   ],
   "source": [
    "pitch_pred.squeeze()"
   ],
   "metadata": {
    "collapsed": false
   }
  },
  {
   "cell_type": "code",
   "execution_count": 40,
   "outputs": [
    {
     "data": {
      "text/plain": "tensor([ 1.0081, -0.4784,  1.6185,  1.4350,  1.0328,  1.4863,  0.4254,  1.1621,\n         0.3145, -0.0381,  1.1934,  0.0195, -0.4784, -0.4843, -0.3955,  1.4350,\n        -0.2431, -0.3562, -0.3014,  1.4863,  0.0362,  0.0138,  1.1621, -0.2748,\n         1.1934,  0.0293,  0.0540,  0.2609, -0.4784,  0.3070,  1.4350, -0.5565,\n        -0.3059,  0.0631,  1.4863,  0.2042, -0.1482,  1.1621, -0.6116,  0.2347,\n         1.1934, -0.7975, -0.7153], device='cuda:0')"
     },
     "execution_count": 40,
     "metadata": {},
     "output_type": "execute_result"
    }
   ],
   "source": [
    "pitch_new"
   ],
   "metadata": {
    "collapsed": false
   }
  },
  {
   "cell_type": "code",
   "execution_count": 42,
   "outputs": [
    {
     "name": "stdout",
     "output_type": "stream",
     "text": [
      "\n",
      " -1 to 1 peak: 0 15\n",
      "0 3.5\n",
      "DH 0 0.0\n",
      "0.0\n",
      "new_pitch tensor(-1.0561, device='cuda:0') new energy tensor(-0.4784, device='cuda:0')\n",
      "\n",
      " 1 to 3 peak: 15 25\n",
      "3.5 19.5\n",
      "S 2 10.5\n",
      "19.375\n",
      "new_pitch tensor(0.6186, device='cuda:0') new energy tensor(0.7676, device='cuda:0')\n",
      "\n",
      " 3 to 5 peak: 25 39\n",
      "19.5 35.0\n",
      "Z 4 28.5\n",
      "33.12903225806451\n",
      "new_pitch tensor(0.3974, device='cuda:0') new energy tensor(1.4417, device='cuda:0')\n",
      "\n",
      " 5 to 7 peak: 39 63\n",
      "35.0 49.5\n",
      "L 6 42.0\n",
      "50.58620689655172\n",
      "new_pitch tensor(-0.3061, device='cuda:0') new energy tensor(1.2194, device='cuda:0')\n",
      "\n",
      " 7 to 10 peak: 63 80\n",
      "49.5 67.0\n",
      "NG 8 56.5\n",
      "69.8\n",
      "new_pitch tensor(-0.7593, device='cuda:0') new energy tensor(1.4110, device='cuda:0')\n",
      "G 9 62.0\n",
      "75.14285714285714\n",
      "new_pitch tensor(-0.4180, device='cuda:0') new energy tensor(1.1598, device='cuda:0')\n",
      "\n",
      " 10 to 12 peak: 80 109\n",
      "67.0 82.0\n",
      "S 11 74.0\n",
      "93.53333333333333\n",
      "new_pitch tensor(-1.0643, device='cuda:0') new energy tensor(0.1268, device='cuda:0')\n",
      "\n",
      " 12 to 15 peak: 109 119\n",
      "82.0 102.0\n",
      "N 13 89.0\n",
      "112.5\n",
      "new_pitch tensor(0.6418, device='cuda:0') new energy tensor(0.4782, device='cuda:0')\n",
      "T 14 95.5\n",
      "115.75\n",
      "new_pitch tensor(0.9122, device='cuda:0') new energy tensor(1.3632, device='cuda:0')\n",
      "\n",
      " 15 to 19 peak: 119 133\n",
      "102.0 128.5\n",
      "N 16 108.0\n",
      "122.16981132075472\n",
      "new_pitch tensor(0.4675, device='cuda:0') new energy tensor(1.5043, device='cuda:0')\n",
      "S 17 114.5\n",
      "125.60377358490567\n",
      "new_pitch tensor(0.1338, device='cuda:0') new energy tensor(1.4709, device='cuda:0')\n",
      "W 18 121.5\n",
      "129.30188679245282\n",
      "new_pitch tensor(0.9146, device='cuda:0') new energy tensor(1.6010, device='cuda:0')\n",
      "\n",
      " 19 to 22 peak: 133 157\n",
      "128.5 148.5\n",
      "CH 20 135.0\n",
      "140.8\n",
      "new_pitch tensor(-0.1009, device='cuda:0') new energy tensor(1.3297, device='cuda:0')\n",
      "W 21 141.5\n",
      "148.6\n",
      "new_pitch tensor(-0.1957, device='cuda:0') new energy tensor(1.1771, device='cuda:0')\n",
      "\n",
      " 22 to 24 peak: 157 174\n",
      "148.5 168.5\n",
      "W 23 158.0\n",
      "165.075\n",
      "new_pitch tensor(-0.8844, device='cuda:0') new energy tensor(1.4057, device='cuda:0')\n",
      "\n",
      " 24 to 28 peak: 174 203\n",
      "168.5 193.0\n",
      "N 25 176.5\n",
      "183.46938775510205\n",
      "new_pitch tensor(-0.8733, device='cuda:0') new energy tensor(0.9932, device='cuda:0')\n",
      "T 26 183.5\n",
      "191.75510204081633\n",
      "new_pitch tensor(-0.7019, device='cuda:0') new energy tensor(-0.4784, device='cuda:0')\n",
      "T 27 188.5\n",
      "197.6734693877551\n",
      "new_pitch tensor(0.5921, device='cuda:0') new energy tensor(-0.4784, device='cuda:0')\n",
      "\n",
      " 28 to 30 peak: 203 213\n",
      "193.0 211.5\n",
      "CH 29 201.0\n",
      "207.32432432432432\n",
      "new_pitch tensor(0.6167, device='cuda:0') new energy tensor(0.7527, device='cuda:0')\n",
      "\n",
      " 30 to 34 peak: 213 227\n",
      "211.5 245.0\n",
      "N 31 222.5\n",
      "217.59701492537314\n",
      "new_pitch tensor(0.1773, device='cuda:0') new energy tensor(1.4600, device='cuda:0')\n",
      "JH 32 231.5\n",
      "221.3582089552239\n",
      "new_pitch tensor(0.4501, device='cuda:0') new energy tensor(1.4405, device='cuda:0')\n",
      "DH 33 238.0\n",
      "224.07462686567163\n",
      "new_pitch tensor(1.0956, device='cuda:0') new energy tensor(1.6672, device='cuda:0')\n",
      "\n",
      " 34 to 37 peak: 227 251\n",
      "245.0 267.5\n",
      "S 35 252.5\n",
      "235.0\n",
      "new_pitch tensor(-0.1400, device='cuda:0') new energy tensor(1.3048, device='cuda:0')\n",
      "T 36 259.5\n",
      "242.46666666666667\n",
      "new_pitch tensor(-0.2030, device='cuda:0') new energy tensor(1.1730, device='cuda:0')\n",
      "\n",
      " 37 to 40 peak: 251 268\n",
      "267.5 299.0\n",
      "L 38 277.5\n",
      "256.3968253968254\n",
      "new_pitch tensor(-0.5440, device='cuda:0') new energy tensor(1.3809, device='cuda:0')\n",
      "F 39 287.5\n",
      "261.7936507936508\n",
      "new_pitch tensor(-0.6547, device='cuda:0') new energy tensor(1.3098, device='cuda:0')\n",
      "\n",
      " 40 to 43 peak: 268 282\n",
      "299.0 332.5\n",
      "R 41 312.5\n",
      "273.64179104477614\n",
      "new_pitch tensor(-0.4456, device='cuda:0') new energy tensor(1.0479, device='cuda:0')\n"
     ]
    }
   ],
   "source": [
    "for start_vowel, end_vowel, start_peak, end_peak in zip(vowel_indices[:-1], vowel_indices[1:], peaks[:-1], peaks[1:]):\n",
    "    start_peak = start_peak.item()\n",
    "    end_peak = end_peak.item()\n",
    "    peak_interval = end_peak - start_peak\n",
    "    print('\\n', start_vowel.item(), 'to', end_vowel.item(), 'peak:', start_peak, end_peak)\n",
    "    start_position = 0 if start_vowel == -1 else phone_positions[start_vowel+1].item()\n",
    "    end_position = phone_positions[end_vowel+1].item()\n",
    "    print(start_position, end_position)\n",
    "    interval = end_position - start_position\n",
    "    for phone_i in range(start_vowel, end_vowel):  # phone index\n",
    "        if is_consonants[phone_i]:\n",
    "            consonant_position = phone_positions[phone_i+1].item()\n",
    "            print(arpa_phones[phone_i], phone_i, consonant_position)\n",
    "            consonant_frame = start_peak + (consonant_position - start_position) / interval * peak_interval\n",
    "            print(consonant_frame)\n",
    "            floor_frame = int(consonant_frame)\n",
    "            consonant_pitch = pitch[floor_frame] * (floor_frame + 1 - consonant_frame) + pitch[floor_frame+1] * (consonant_frame - floor_frame)\n",
    "            consonant_energy = avg_energy[floor_frame] * (floor_frame + 1 - consonant_frame) + avg_energy[floor_frame+1] * (consonant_frame - floor_frame)\n",
    "            print('new_pitch', consonant_energy, 'new energy', consonant_pitch)\n",
    "            pitch_new[phone_i] = consonant_pitch\n",
    "            energy_new[phone_i] = consonant_energy"
   ],
   "metadata": {
    "collapsed": false
   }
  },
  {
   "cell_type": "code",
   "execution_count": 43,
   "outputs": [
    {
     "data": {
      "text/plain": "tensor([-0.4784, -0.4784,  0.7676,  1.4350,  1.4417,  1.4863,  1.2194,  1.1621,\n         1.4110,  1.1598,  1.1934,  0.1268, -0.4784,  0.4782,  1.3632,  1.4350,\n         1.5043,  1.4709,  1.6010,  1.4863,  1.3297,  1.1771,  1.1621,  1.4057,\n         1.1934,  0.9932, -0.4784, -0.4784, -0.4784,  0.7527,  1.4350,  1.4600,\n         1.4405,  1.6672,  1.4863,  1.3048,  1.1730,  1.1621,  1.3809,  1.3098,\n         1.1934,  1.0479, -0.7153], device='cuda:0')"
     },
     "execution_count": 43,
     "metadata": {},
     "output_type": "execute_result"
    }
   ],
   "source": [
    "pitch_new"
   ],
   "metadata": {
    "collapsed": false
   }
  },
  {
   "cell_type": "code",
   "execution_count": 51,
   "outputs": [
    {
     "name": "stdout",
     "output_type": "stream",
     "text": [
      "Duration pred: tensor([ 7,  7, 11,  7,  6,  8,  7,  7,  4,  6,  8,  8,  6,  7,  6,  6,  7,  7,\n",
      "         7,  6,  7,  7, 12,  9,  7,  7,  3,  6, 10, 11, 11,  7,  6,  8,  7,  7,\n",
      "         9, 11,  9, 14, 13,  9,  9], device='cuda:0')\n",
      "Pitch pred: tensor([ 1.0081,  1.6838,  1.6185,  1.3124,  1.0328,  0.6366,  0.4254,  0.5206,\n",
      "         0.3145, -0.0381, -0.2157,  0.0195, -0.3340, -0.4843, -0.3955, -0.4867,\n",
      "        -0.2431, -0.3562, -0.3014, -0.1122,  0.0362,  0.0138, -0.3176, -0.2748,\n",
      "        -0.1264,  0.0293,  0.0540,  0.2609,  0.2613,  0.3070, -0.4706, -0.5565,\n",
      "        -0.3059,  0.0631,  0.0668,  0.2042, -0.1482, -0.6567, -0.6116,  0.2347,\n",
      "        -0.1922, -0.7975, -0.7153], device='cuda:0')\n",
      "Energy pred: tensor([ 0.2849,  1.4135,  0.9846,  0.2767,  0.4766,  0.5926,  1.2596,  1.1123,\n",
      "        -0.0578,  0.3281, -0.1041,  0.3554,  0.5286, -0.6662, -0.3353, -0.2382,\n",
      "        -0.3709, -0.3895, -0.6102, -0.3633, -0.6187,  0.1462,  0.1574,  0.1421,\n",
      "         0.4741, -0.6809, -0.9164, -0.4543, -0.6819,  0.1474,  0.4009, -0.4276,\n",
      "        -0.7422, -0.6113,  0.6609,  0.4534,  0.3900,  0.4275, -0.5514, -0.7258,\n",
      "         0.8067, -0.6634, -1.0736], device='cuda:0')\n",
      "Duration (new): tensor([ 7,  7, 11,  7,  6,  8,  7,  7,  4,  6,  8,  8,  6,  7,  6,  6,  7,  7,\n",
      "         7,  6,  7,  7, 12,  9,  7,  7,  3,  6, 10, 11, 11,  7,  6,  8,  7,  7,\n",
      "         9, 11,  9, 14, 13,  9,  9], device='cuda:0')\n",
      "Pitch (new): tensor([-0.4784, -0.4784,  0.7676,  1.4350,  1.4417,  1.4863,  1.2194,  1.1621,\n",
      "         1.4110,  1.1598,  1.1934,  0.1268, -0.4784,  0.4782,  1.3632,  1.4350,\n",
      "         1.5043,  1.4709,  1.6010,  1.4863,  1.3297,  1.1771,  1.1621,  1.4057,\n",
      "         1.1934,  0.9932, -0.4784, -0.4784, -0.4784,  0.7527,  1.4350,  1.4600,\n",
      "         1.4405,  1.6672,  1.4863,  1.3048,  1.1730,  1.1621,  1.3809,  1.3098,\n",
      "         1.1934,  1.0479, -0.7153], device='cuda:0')\n",
      "Energy (new): tensor([-1.0561,  1.2622,  0.6186,  1.1931,  0.3974,  1.4135, -0.3061,  0.2183,\n",
      "        -0.7593, -0.4180,  0.1566, -1.0643,  1.2622,  0.6418,  0.9122,  1.1931,\n",
      "         0.4675,  0.1338,  0.9146,  1.4135, -0.1009, -0.1957,  0.2183, -0.8844,\n",
      "         0.1566, -0.8733, -0.7019,  0.5921,  1.2622,  0.6167,  1.1931,  0.1773,\n",
      "         0.4501,  1.0956,  1.4135, -0.1400, -0.2030,  0.2183, -0.5440, -0.6547,\n",
      "         0.1566, -0.4456, -1.0736], device='cuda:0')\n"
     ]
    }
   ],
   "source": [
    "with torch.no_grad():\n",
    "    output_dict = pretrained_model.tts.generator.inference(\n",
    "        text=phone_ids.unsqueeze(0), text_lengths=torch.tensor([len(phone_ids)], device=device),\n",
    "        p_reference=pitch_new.unsqueeze(-1)[None], e_reference=energy_new.unsqueeze(-1)[None],\n",
    "        verbose=True,\n",
    "    )"
   ],
   "metadata": {
    "collapsed": false
   }
  },
  {
   "cell_type": "code",
   "execution_count": 52,
   "outputs": [],
   "source": [
    "save_dir = Path('/home/perry/PycharmProjects/prosody/prosody') / pretrained_dir.stem\n",
    "sf.write(save_dir / 'transfer' / f'This is a longer sentence which we want to change the style for.-ref0018_000742.wav', output_dict[0].squeeze().cpu().numpy(), 22050, \"PCM_16\")"
   ],
   "metadata": {
    "collapsed": false
   }
  },
  {
   "cell_type": "code",
   "execution_count": 28,
   "outputs": [
    {
     "data": {
      "text/plain": "[<matplotlib.lines.Line2D at 0x7f34260afa00>]"
     },
     "execution_count": 28,
     "metadata": {},
     "output_type": "execute_result"
    },
    {
     "data": {
      "text/plain": "<Figure size 2000x480 with 1 Axes>",
      "image/png": "[encoded data removed]"
     },
     "metadata": {},
     "output_type": "display_data"
    }
   ],
   "source": [
    "plt.figure().set_figwidth(20)\n",
    "plt.xticks(range(len(arpa_phones)), arpa_phones)\n",
    "plt.plot(energy_pred)"
   ],
   "metadata": {
    "collapsed": false
   }
  },
  {
   "cell_type": "code",
   "execution_count": 26,
   "outputs": [
    {
     "data": {
      "text/plain": "43"
     },
     "execution_count": 26,
     "metadata": {},
     "output_type": "execute_result"
    }
   ],
   "source": [
    "len(energy_pred)"
   ],
   "metadata": {
    "collapsed": false
   }
  },
  {
   "cell_type": "code",
   "execution_count": 30,
   "outputs": [],
   "source": [
    "save_dir = Path('/home/perry/PycharmProjects/prosody/prosody') / pretrained_dir.stem\n",
    "sf.write(save_dir / 'transfer' / f'long_text_from_short.wav', output_dict[0].squeeze().cpu().numpy(), 22050, \"PCM_16\")"
   ],
   "metadata": {
    "collapsed": false
   }
  },
  {
   "cell_type": "code",
   "execution_count": 9,
   "outputs": [
    {
     "ename": "TypeError",
     "evalue": "collect_feats() missing 3 required positional arguments: 'text_lengths', 'speech', and 'speech_lengths'",
     "output_type": "error",
     "traceback": [
      "\u001B[0;31m---------------------------------------------------------------------------\u001B[0m",
      "\u001B[0;31mTypeError\u001B[0m                                 Traceback (most recent call last)",
      "Cell \u001B[0;32mIn [9], line 1\u001B[0m\n\u001B[0;32m----> 1\u001B[0m feats_dict \u001B[38;5;241m=\u001B[39m \u001B[43mpretrained_model\u001B[49m\u001B[38;5;241;43m.\u001B[39;49m\u001B[43mcollect_feats\u001B[49m\u001B[43m(\u001B[49m\u001B[43mbatch\u001B[49m\u001B[43m)\u001B[49m\n",
      "\u001B[0;31mTypeError\u001B[0m: collect_feats() missing 3 required positional arguments: 'text_lengths', 'speech', and 'speech_lengths'"
     ]
    }
   ],
   "source": [
    "feats_dict = pretrained_model.collect_feats(batch)"
   ],
   "metadata": {
    "collapsed": false
   }
  },
  {
   "cell_type": "code",
   "execution_count": 27,
   "outputs": [],
   "source": [
    "vowel_count = sum(phoneme in vowels for phoneme in phonemes)\n",
    "batch_phone_ids = [phone_ids] * (1+vowel_count)\n",
    "batch_d_factor = d_factor.unsqueeze(0).repeat(1+vowel_count, 1, 1)\n",
    "batch_text = [orig_text] * (1+vowel_count)\n",
    "count = 1\n",
    "for i, phoneme in enumerate(phonemes):\n",
    "    if phoneme in vowels:\n",
    "        batch_text[count] = batch_text[count] + f'{count}{phoneme}x3'\n",
    "        batch_d_factor[count][0, i] = 4.0\n",
    "        count += 1"
   ],
   "metadata": {
    "collapsed": false
   }
  },
  {
   "cell_type": "code",
   "execution_count": 7,
   "outputs": [],
   "source": [
    "with torch.no_grad():\n",
    "    output_dict = pretrained_model.tts.inference(text=phone_ids)\n",
    "outputs, batch_text = [output_dict], [orig_text]"
   ],
   "metadata": {
    "collapsed": false
   }
  },
  {
   "cell_type": "code",
   "execution_count": 8,
   "outputs": [],
   "source": [
    "wav = output_dict['wav'].detach().cpu().numpy()"
   ],
   "metadata": {
    "collapsed": false
   }
  },
  {
   "cell_type": "code",
   "execution_count": 13,
   "outputs": [],
   "source": [
    "duration = output_dict['duration']"
   ],
   "metadata": {
    "collapsed": false
   }
  },
  {
   "cell_type": "code",
   "execution_count": 11,
   "outputs": [],
   "source": [
    "vowel_positions = [i for i, phone in enumerate(phonemes) if phone in vowels]"
   ],
   "metadata": {
    "collapsed": false
   }
  },
  {
   "cell_type": "code",
   "execution_count": 4,
   "outputs": [],
   "source": [
    "def fill_fn_risefall(h_val, fac, div):\n",
    "    count = fac.item()\n",
    "    if count < 3:\n",
    "        return h_val\n",
    "    else:\n",
    "        rising = np.linspace(0, 1, (count+1)//2)\n",
    "        falling = np.flip(rising)\n",
    "        # falling = np.zeros(rising.shape)\n",
    "        if count % 2 == 0:\n",
    "            fill_arr = np.concatenate([rising, falling])\n",
    "        else:\n",
    "            fill_arr = np.concatenate([rising, falling[1:]])\n",
    "        fill_tensor = torch.tensor(fill_arr, device=h_val.device)\n",
    "        if h_val.ndim:\n",
    "            fill_tensor = fill_tensor.unsqueeze(-1)\n",
    "        return fill_tensor"
   ],
   "metadata": {
    "collapsed": false
   }
  },
  {
   "cell_type": "code",
   "execution_count": 11,
   "outputs": [],
   "source": [
    "def fill_fn(h_val, fac, div):\n",
    "    count = fac.item()\n",
    "    if count < 2:\n",
    "        return h_val\n",
    "    else:\n",
    "        fill_arr = np.linspace(0.0, 1.0, count)\n",
    "        fill_tensor = torch.tensor(fill_arr, device=h_val.device)\n",
    "        if h_val.ndim:\n",
    "            fill_tensor = fill_tensor.unsqueeze(-1)\n",
    "        return fill_tensor"
   ],
   "metadata": {
    "collapsed": false
   }
  },
  {
   "cell_type": "code",
   "execution_count": 5,
   "outputs": [
    {
     "name": "stdout",
     "output_type": "stream",
     "text": [
      "Duration pred: tensor([19.4989, 13.2591, 10.9338,  9.1970], device='cuda:0')\n",
      "Pitch pred: tensor([ 0.8972,  0.1140, -0.8402, -0.9685], device='cuda:0')\n",
      "Energy pred: tensor([ 0.1597,  0.8255, -0.3954, -1.0230], device='cuda:0')\n",
      "Duration (new): tensor([19,  7,  7,  7,  7,  7,  7,  7,  7,  7,  7, 11,  9], device='cuda:0')\n",
      "Pitch (new): tensor([ 0.8972,  0.0000,  0.2500,  0.5000,  0.7500,  1.0000,  1.0000,  0.7500,\n",
      "         0.5000,  0.2500,  0.0000, -0.8402, -0.9685], device='cuda:0')\n",
      "Energy (new): tensor([ 0.1597,  0.0000,  0.2500,  0.5000,  0.7500,  1.0000,  1.0000,  0.7500,\n",
      "         0.5000,  0.2500,  0.0000, -0.3954, -1.0230], device='cuda:0')\n"
     ]
    }
   ],
   "source": [
    "# phonemes = ['K', 'R', 'EY1', 'Z', 'IY0']\n",
    "# phonemes = ['DH', 'AE1', 'T', '.']\n",
    "phonemes = ['SH', 'UH1', 'R', '.']\n",
    "# phonemes = ['N', 'OW1', '!', '!']\n",
    "phone_ids = torch.tensor(id_converter.tokens2ids(phonemes), dtype=torch.int32, device=device)\n",
    "with torch.no_grad():\n",
    "    # d_factor = torch.tensor([[1.0, 1.0, 6.0, 1.0, 1.0]], device=device)\n",
    "    d_factor = torch.tensor([[1.0, 5.0, 1.0, 1.0]], device=device)\n",
    "    d_split_factor = torch.tensor([[1.0, 2.0, 1.0, 1.0]], device=device)\n",
    "    output_dict = pretrained_model.tts.inference(text=phone_ids,\n",
    "                                                 d_factor=d_factor,\n",
    "                                                 d_split_factor=d_split_factor,\n",
    "                                                 p_fill_fn=fill_fn_risefall,\n",
    "                                                 e_fill_fn=fill_fn_risefall,\n",
    "                                                 # p_factor=(d_factor-1)/3.0,\n",
    "                                                 verbose=True\n",
    "                                                 )\n",
    "    wav = output_dict['wav']\n",
    "    save_dir = Path('/home/perry/PycharmProjects/prosody/prosody') / pretrained_dir.stem\n",
    "    # sf.write(save_dir / f'that.ax6.wav', wav.cpu().numpy(), 22050, \"PCM_16\")\n",
    "    # sf.write(save_dir / f'no!!ox4_8risefall.wav', wav.cpu().numpy(), 22050, \"PCM_16\")\n",
    "    # sf.write(save_dir / f'crazy_ax6_rise-0.5fall-0.5.wav', wav.cpu().numpy(), 22050, \"PCM_16\")\n",
    "    sf.write(save_dir / f'sure.ux5.10risefall.wav', wav.cpu().numpy(), 22050, \"PCM_16\")\n",
    "    # d_factor = torch.tensor([[1.0, 1.0, 4.0, 1.0, 1.0]], device=device)\n",
    "    # output_dict = pretrained_model.tts.inference(text=phone_ids, d_factor=d_factor, d_interpolate=False)\n",
    "    # wav = output_dict['wav']\n",
    "    # save_dir = Path('/home/perry/PycharmProjects/prosody/prosody') / pretrained_dir.stem\n",
    "    # sf.write(save_dir / f'crazy.ax4.wav', wav.cpu().numpy(), 22050, \"PCM_16\")"
   ],
   "metadata": {
    "collapsed": false
   }
  },
  {
   "cell_type": "code",
   "execution_count": 7,
   "outputs": [
    {
     "name": "stdout",
     "output_type": "stream",
     "text": [
      "Duration pred: tensor([19, 13, 11,  9], device='cuda:0')\n",
      "Pitch pred: tensor([ 0.8972,  0.1140, -0.8402, -0.9685], device='cuda:0')\n",
      "Energy pred: tensor([ 0.1597,  0.8255, -0.3954, -1.0230], device='cuda:0')\n",
      "Duration (new): tensor([19,  6,  6,  6,  6,  6,  6,  6,  6,  6,  6, 11,  9], device='cuda:0')\n",
      "Pitch (new): tensor([ 0.8972,  0.0000,  0.2500,  0.5000,  0.7500,  1.0000,  1.0000,  0.7500,\n",
      "         0.5000,  0.2500,  0.0000, -0.8402, -0.9685], device='cuda:0')\n",
      "Energy (new): tensor([ 0.1597,  0.0000,  0.2500,  0.5000,  0.7500,  1.0000,  1.0000,  0.7500,\n",
      "         0.5000,  0.2500,  0.0000, -0.3954, -1.0230], device='cuda:0')\n"
     ]
    }
   ],
   "source": [
    "# phonemes = ['K', 'R', 'EY1', 'Z', 'IY0']\n",
    "# phonemes = ['DH', 'AE1', 'T', '.']\n",
    "phonemes = ['SH', 'UH1', 'R', '.']\n",
    "# phonemes = ['N', 'OW1', '!', '!']\n",
    "phone_ids = torch.tensor(id_converter.tokens2ids(phonemes), dtype=torch.int32, device=device)\n",
    "with torch.no_grad():\n",
    "    # d_factor = torch.tensor([[1.0, 1.0, 6.0, 1.0, 1.0]], device=device)\n",
    "    d_factor = torch.tensor([[1.0, 5.0, 1.0, 1.0]], device=device)\n",
    "    d_split_factor = torch.tensor([[1.0, 2.0, 1.0, 1.0]], device=device)\n",
    "    output_dict = pretrained_model.tts.inference(text=phone_ids,\n",
    "                                                 d_factor=d_factor,\n",
    "                                                 d_split_factor=d_split_factor,\n",
    "                                                 p_fill_fn=fill_fn_risefall,\n",
    "                                                 e_fill_fn=fill_fn_risefall,\n",
    "                                                 # p_factor=(d_factor-1)/3.0,\n",
    "                                                 verbose=True\n",
    "                                                 )\n",
    "    wav = output_dict['wav']\n",
    "    save_dir = Path('/home/perry/PycharmProjects/prosody/prosody') / pretrained_dir.stem\n",
    "    # sf.write(save_dir / f'that.ax6.wav', wav.cpu().numpy(), 22050, \"PCM_16\")\n",
    "    # sf.write(save_dir / f'no!!ox4_8risefall.wav', wav.cpu().numpy(), 22050, \"PCM_16\")\n",
    "    # sf.write(save_dir / f'crazy_ax6_rise-0.5fall-0.5.wav', wav.cpu().numpy(), 22050, \"PCM_16\")\n",
    "    sf.write(save_dir / f'sure.ux5.10risefall.wav', wav.cpu().numpy(), 22050, \"PCM_16\")\n",
    "    # d_factor = torch.tensor([[1.0, 1.0, 4.0, 1.0, 1.0]], device=device)\n",
    "    # output_dict = pretrained_model.tts.inference(text=phone_ids, d_factor=d_factor, d_interpolate=False)\n",
    "    # wav = output_dict['wav']\n",
    "    # save_dir = Path('/home/perry/PycharmProjects/prosody/prosody') / pretrained_dir.stem\n",
    "    # sf.write(save_dir / f'crazy.ax4.wav', wav.cpu().numpy(), 22050, \"PCM_16\")"
   ],
   "metadata": {
    "collapsed": false
   }
  },
  {
   "cell_type": "code",
   "execution_count": 6,
   "outputs": [],
   "source": [
    "with open(save_dir / 'crazy.ax4.wav', 'rb') as f:\n",
    "    old = sf.read(f)\n",
    "new = wav.cpu().numpy()"
   ],
   "metadata": {
    "collapsed": false
   }
  },
  {
   "cell_type": "code",
   "execution_count": 13,
   "outputs": [
    {
     "data": {
      "text/plain": "array([0.01004028, 0.01229858, 0.01342773, 0.01379395, 0.01278687,\n       0.01147461, 0.0098877 , 0.00762939, 0.00552368, 0.003479  ])"
     },
     "execution_count": 13,
     "metadata": {},
     "output_type": "execute_result"
    }
   ],
   "source": [
    "old[:10]"
   ],
   "metadata": {
    "collapsed": false
   }
  },
  {
   "cell_type": "code",
   "execution_count": 14,
   "outputs": [
    {
     "data": {
      "text/plain": "array([0.01009708, 0.0123611 , 0.01348879, 0.01384719, 0.01282857,\n       0.01152581, 0.00992997, 0.00763391, 0.00552392, 0.00348757],\n      dtype=float32)"
     },
     "execution_count": 14,
     "metadata": {},
     "output_type": "execute_result"
    }
   ],
   "source": [
    "new[:10]"
   ],
   "metadata": {
    "collapsed": false
   }
  },
  {
   "cell_type": "code",
   "execution_count": 34,
   "outputs": [],
   "source": [
    "phonemes = ['DH', 'AE1', 'T', '.']\n",
    "phone_ids = torch.tensor(id_converter.tokens2ids(phonemes), dtype=torch.int32, device=device)\n",
    "phone_ids = phone_ids.unsqueeze(0).repeat(2, 1).unsqueeze(-1)"
   ],
   "metadata": {
    "collapsed": false
   }
  },
  {
   "cell_type": "code",
   "execution_count": 39,
   "outputs": [],
   "source": [
    "text_lengths = torch.tensor(\n",
    "            [phone_ids.size(1)],\n",
    "            dtype=torch.long,\n",
    "            device=phone_ids.device,\n",
    "        )"
   ],
   "metadata": {
    "collapsed": false
   }
  },
  {
   "cell_type": "code",
   "execution_count": 40,
   "outputs": [
    {
     "data": {
      "text/plain": "tensor([4], device='cuda:0')"
     },
     "execution_count": 40,
     "metadata": {},
     "output_type": "execute_result"
    }
   ],
   "source": [
    "text_lengths"
   ],
   "metadata": {
    "collapsed": false
   }
  },
  {
   "cell_type": "code",
   "execution_count": 231,
   "outputs": [],
   "source": [
    "base_wav = wavs[4].cpu().numpy()\n",
    "new_wavs = []\n",
    "for i in range(-4, 5):\n",
    "    new_wavs.append(librosa.effects.pitch_shift(base_wav, sr=22050, n_steps=i))"
   ],
   "metadata": {
    "collapsed": false
   }
  },
  {
   "cell_type": "code",
   "execution_count": 185,
   "outputs": [],
   "source": [
    "p_factorss = []\n",
    "for i in range(-4, 4):\n",
    "    p_factorss.append(torch.tensor([[i/4.0, i/2.0, i/4.0, 0.0]], device=device))"
   ],
   "metadata": {
    "collapsed": false
   }
  },
  {
   "cell_type": "code",
   "execution_count": 159,
   "outputs": [],
   "source": [
    "words, mark_positions = preprocess('No, no, I will not stand it!')\n",
    "word_phones = phonemize(words)\n",
    "alignments, graphemes, phonemes, g2p_pos = get_alignment_data(words, word_phones)\n",
    "phone_ids = torch.tensor(id_converter.tokens2ids(phonemes), dtype=torch.int32, device=device)\n",
    "d_factor, p_factor, e_factor = get_scale_factors(phonemes, g2p_pos, mark_positions)"
   ],
   "metadata": {
    "collapsed": false
   }
  },
  {
   "cell_type": "code",
   "execution_count": 162,
   "outputs": [],
   "source": [
    "for i, phoneme in enumerate(phonemes):\n",
    "    if phoneme == '!':\n",
    "        phone_pos = i-1\n",
    "        vowels_found = 0\n",
    "        while phone_pos >= 0:\n",
    "            phoneme = phonemes[phone_pos]\n",
    "            if phoneme in PUNCS:\n",
    "                break\n",
    "            elif phoneme in ARPA_VOWELS:\n",
    "                vowels_found += 1\n",
    "                p_factor[phone_pos] += 0.5 * vowels_found\n",
    "                if vowels_found >= 2 and '1' in phoneme:\n",
    "                    break\n",
    "            else:\n",
    "                p_factor[phone_pos] += 0.5\n",
    "            phone_pos -= 1"
   ],
   "metadata": {
    "collapsed": false
   }
  },
  {
   "cell_type": "code",
   "execution_count": 168,
   "outputs": [],
   "source": [
    "phonemes, phone_ids, d_factor, p_factor, e_factor = get_inputs('You ought to be ashamed of yourselves!', tokens2ids_fn=id_converter.tokens2ids)"
   ],
   "metadata": {
    "collapsed": false
   }
  },
  {
   "cell_type": "code",
   "execution_count": 170,
   "outputs": [],
   "source": [
    "words, mark_positions = preprocess('You ought to be ashamed of yourselves!')\n",
    "word_phones = phonemize(words)\n",
    "alignments, graphemes, phonemes, g2p_pos = get_alignment_data(words, word_phones)\n",
    "phone_ids = torch.tensor(id_converter.tokens2ids(phonemes), dtype=torch.int32, device=device)\n",
    "d_factor, p_factor, e_factor = get_scale_factors(phonemes, g2p_pos, mark_positions)"
   ],
   "metadata": {
    "collapsed": false
   }
  },
  {
   "cell_type": "code",
   "execution_count": 178,
   "outputs": [],
   "source": [
    "p_factor = [0.0] * len(phonemes)\n",
    "for i, phoneme in enumerate(phonemes):\n",
    "    if phoneme == '!':\n",
    "        phone_pos = i-1\n",
    "        vowels_found = 0\n",
    "        while phone_pos >= 0:\n",
    "            phoneme = phonemes[phone_pos]\n",
    "            if phoneme in PUNCS:\n",
    "                break\n",
    "            elif phoneme in ARPA_VOWELS:\n",
    "                vowels_found += 1\n",
    "                p_factor[phone_pos] += 0.5 * vowels_found\n",
    "                if vowels_found >= 2 and '1' in phoneme:\n",
    "                    break\n",
    "            else:\n",
    "                p_factor[phone_pos] += 0.5\n",
    "            phone_pos -= 1"
   ],
   "metadata": {
    "collapsed": false
   }
  },
  {
   "cell_type": "code",
   "execution_count": 182,
   "outputs": [],
   "source": [
    "p_factor = torch.tensor([p_factor], device=device)"
   ],
   "metadata": {
    "collapsed": false
   }
  },
  {
   "cell_type": "code",
   "execution_count": 183,
   "outputs": [
    {
     "name": "stdout",
     "output_type": "stream",
     "text": [
      "Pitch pred: tensor([[[ 0.4832],\n",
      "         [ 0.6138],\n",
      "         [ 0.3746],\n",
      "         [ 0.2471],\n",
      "         [ 0.4046],\n",
      "         [ 0.2490],\n",
      "         [ 0.4034],\n",
      "         [ 0.4148],\n",
      "         [ 0.4543],\n",
      "         [ 1.0424],\n",
      "         [ 1.1197],\n",
      "         [ 1.2813],\n",
      "         [ 1.2220],\n",
      "         [ 0.7535],\n",
      "         [ 0.3195],\n",
      "         [ 0.1217],\n",
      "         [-0.1238],\n",
      "         [-0.0921],\n",
      "         [ 0.3630],\n",
      "         [-0.3430],\n",
      "         [-1.0084],\n",
      "         [-1.0646],\n",
      "         [-1.3242],\n",
      "         [-1.4642]]], device='cuda:0')\n",
      "Pitch (new): tensor([[[ 0.4832],\n",
      "         [ 0.6138],\n",
      "         [ 0.3746],\n",
      "         [ 0.2471],\n",
      "         [ 0.4046],\n",
      "         [ 0.2490],\n",
      "         [ 0.4034],\n",
      "         [ 0.4148],\n",
      "         [ 0.4543],\n",
      "         [ 1.0424],\n",
      "         [ 1.1197],\n",
      "         [ 1.2813],\n",
      "         [ 1.2220],\n",
      "         [ 2.2535],\n",
      "         [ 0.8195],\n",
      "         [ 0.6217],\n",
      "         [ 0.8762],\n",
      "         [ 0.4079],\n",
      "         [ 0.8630],\n",
      "         [ 0.1570],\n",
      "         [-0.5084],\n",
      "         [-0.5646],\n",
      "         [-0.8242],\n",
      "         [-1.4642]]], device='cuda:0')\n"
     ]
    }
   ],
   "source": [
    "with torch.no_grad():\n",
    "    output_dict = pretrained_model.tts.inference(text=phone_ids, p_factor=p_factor)\n",
    "    wav = output_dict['wav']\n",
    "    sf.write(save_dir / f'You ought to be ashamed of yourselves!.wav', wav.cpu().numpy(), 22050, \"PCM_16\")"
   ],
   "metadata": {
    "collapsed": false
   }
  },
  {
   "cell_type": "code",
   "execution_count": 75,
   "outputs": [],
   "source": [
    "sq_wavs = [torch.sum(wav*wav).cpu().item() for wav in wavs]"
   ],
   "metadata": {
    "collapsed": false
   }
  },
  {
   "cell_type": "code",
   "execution_count": 76,
   "outputs": [
    {
     "data": {
      "text/plain": "[15.179880142211914,\n 31.90578842163086,\n 55.934356689453125,\n 88.82083129882812,\n 104.86000061035156,\n 120.048828125,\n 128.54351806640625,\n 141.59689331054688,\n 154.67254638671875]"
     },
     "execution_count": 76,
     "metadata": {},
     "output_type": "execute_result"
    }
   ],
   "source": [
    "sq_wavs"
   ],
   "metadata": {
    "collapsed": false
   }
  },
  {
   "cell_type": "code",
   "execution_count": 60,
   "outputs": [
    {
     "name": "stdout",
     "output_type": "stream",
     "text": [
      "tensor(3.4628, device='cuda:0')\n",
      "tensor(4.0242, device='cuda:0')\n",
      "tensor(4.4866, device='cuda:0')\n",
      "tensor(4.6526, device='cuda:0')\n",
      "tensor(4.7879, device='cuda:0')\n",
      "tensor(4.8563, device='cuda:0')\n",
      "tensor(4.9530, device='cuda:0')\n"
     ]
    }
   ],
   "source": [
    "\n",
    "for wav in wavs:\n",
    "    print(torch.log(torch.sum(wav*wav)))"
   ],
   "metadata": {
    "collapsed": false
   }
  },
  {
   "cell_type": "code",
   "execution_count": 61,
   "outputs": [],
   "source": [
    "%matplotlib inline"
   ],
   "metadata": {
    "collapsed": false
   }
  },
  {
   "cell_type": "code",
   "execution_count": 72,
   "outputs": [
    {
     "data": {
      "text/plain": "<Figure size 640x480 with 1 Axes>",
      "image/png": "[encoded data removed]"
     },
     "metadata": {},
     "output_type": "display_data"
    }
   ],
   "source": [
    "import matplotlib.pyplot as plt\n",
    "e_facs = [x/2 for x in range(-3, 6)]\n",
    "plt.plot(e_facs, [x for x in sq_wavs])\n",
    "plt.show()"
   ],
   "metadata": {
    "collapsed": false
   }
  },
  {
   "cell_type": "code",
   "execution_count": 80,
   "outputs": [],
   "source": [
    "base_wav_trim, idx = librosa.effects.trim(\n",
    "                y=wavs[3].cpu().numpy(),\n",
    "                top_db=60,\n",
    "                frame_length=1024,\n",
    "                hop_length=256,\n",
    "            )"
   ],
   "metadata": {
    "collapsed": false
   }
  },
  {
   "cell_type": "code",
   "execution_count": 125,
   "outputs": [],
   "source": [
    "save_dir = Path('/home/perry/PycharmProjects/prosody/prosody') / pretrained_dir.stem\n",
    "for p, wav in zip(p_, wavs):\n",
    "    plus_e = f'+{e}' if e > 0 else e\n",
    "    half_e = f'+{e/2}' if e > 0 else e/2\n",
    "    sf.write(save_dir / f'that.th{half_e}a{plus_e}.wav', wav.cpu().numpy(), 22050, \"PCM_16\")"
   ],
   "metadata": {
    "collapsed": false
   }
  },
  {
   "cell_type": "code",
   "execution_count": 96,
   "outputs": [],
   "source": [
    "ef = e_factor.squeeze().cpu().numpy().tolist()"
   ],
   "metadata": {
    "collapsed": false
   }
  },
  {
   "cell_type": "code",
   "execution_count": 100,
   "outputs": [],
   "source": [
    "durations = output_dict['duration'].squeeze().cpu().numpy().tolist()"
   ],
   "metadata": {
    "collapsed": false
   }
  },
  {
   "cell_type": "code",
   "execution_count": null,
   "outputs": [],
   "source": [],
   "metadata": {
    "collapsed": false
   }
  },
  {
   "cell_type": "code",
   "execution_count": 128,
   "outputs": [],
   "source": [
    "hop_length = 256\n",
    "base_wav = wavs[3].cpu().numpy()\n",
    "mod_wav = wavs[-1].cpu().numpy()\n",
    "start_pos = 0\n",
    "end_pos = 0\n",
    "new_wav = []\n",
    "for d, e in zip(durations, ef):\n",
    "    end_pos += d*hop_length\n",
    "    base_segment = base_wav[start_pos:end_pos]\n",
    "    mod_segment = mod_wav[start_pos:end_pos]\n",
    "    amplitude_factor = math.sqrt(2 / (1 + math.exp(-e)))\n",
    "    new_wav.append(base_segment * amplitude_factor)\n",
    "    start_pos = end_pos\n",
    "new_wav = np.concatenate(new_wav)"
   ],
   "metadata": {
    "collapsed": false
   }
  },
  {
   "cell_type": "code",
   "execution_count": 121,
   "outputs": [
    {
     "name": "stdout",
     "output_type": "stream",
     "text": [
      "1.5545997223493822\n",
      "1.848283639957513\n",
      "1.5545997223493822\n",
      "1.0\n"
     ]
    }
   ],
   "source": [
    "for d, e in zip(durations, ef):\n",
    "    print(2 / (1 + math.exp(-e)))"
   ],
   "metadata": {
    "collapsed": false
   }
  },
  {
   "cell_type": "code",
   "execution_count": 129,
   "outputs": [],
   "source": [
    "sf.write(save_dir / f\"that._sigm_dsp.wav\", new_wav, 22050, \"PCM_16\")"
   ],
   "metadata": {
    "collapsed": false
   }
  },
  {
   "cell_type": "code",
   "execution_count": 122,
   "outputs": [
    {
     "data": {
      "text/plain": "[<matplotlib.lines.Line2D at 0x7fb3907fa4c0>]"
     },
     "execution_count": 122,
     "metadata": {},
     "output_type": "execute_result"
    },
    {
     "data": {
      "text/plain": "<Figure size 640x480 with 1 Axes>",
      "image/png": "[encoded data removed]"
     },
     "metadata": {},
     "output_type": "display_data"
    }
   ],
   "source": [
    "plt.plot(new_wav)"
   ],
   "metadata": {
    "collapsed": false
   }
  },
  {
   "cell_type": "code",
   "execution_count": 123,
   "outputs": [
    {
     "data": {
      "text/plain": "[<matplotlib.lines.Line2D at 0x7fb391583a60>]"
     },
     "execution_count": 123,
     "metadata": {},
     "output_type": "execute_result"
    },
    {
     "data": {
      "text/plain": "<Figure size 640x480 with 1 Axes>",
      "image/png": "[encoded data removed]"
     },
     "metadata": {},
     "output_type": "display_data"
    }
   ],
   "source": [
    "plt.plot(base_wav)"
   ],
   "metadata": {
    "collapsed": false
   }
  },
  {
   "cell_type": "code",
   "execution_count": 38,
   "outputs": [],
   "source": [
    "durations = output_dict['duration'].unsqueeze(0)\n",
    "durations_lengths = torch.tensor(durations.size())"
   ],
   "metadata": {
    "collapsed": false
   }
  },
  {
   "cell_type": "code",
   "execution_count": 36,
   "outputs": [],
   "source": [
    "feats_lengths = torch.tensor([35], device=device)"
   ],
   "metadata": {
    "collapsed": false
   }
  },
  {
   "cell_type": "code",
   "execution_count": 43,
   "outputs": [],
   "source": [
    "base_energy, _ = pretrained_model.energy_extract(base_wav.unsqueeze(0), torch.tensor(base_wav.size()),\n",
    "                                feats_lengths, durations, durations_lengths)"
   ],
   "metadata": {
    "collapsed": false
   }
  },
  {
   "cell_type": "code",
   "execution_count": 220,
   "outputs": [],
   "source": [
    "pitches = []\n",
    "for wav in wavs:\n",
    "    pitch, _ = pretrained_model.pitch_extract(wav.unsqueeze(0), torch.tensor(wav.size()),\n",
    "                                feats_lengths, durations, durations_lengths)\n",
    "    pitches.append(pitch.squeeze().mean().cpu().item())"
   ],
   "metadata": {
    "collapsed": false
   }
  },
  {
   "cell_type": "code",
   "execution_count": 234,
   "outputs": [],
   "source": [
    "new_pitches = []\n",
    "for wav in new_wavs:\n",
    "    pitch, _ = pretrained_model.pitch_extract(torch.tensor([wav]), torch.tensor([len(wav)]),\n",
    "                                feats_lengths, durations, durations_lengths)\n",
    "    new_pitches.append(pitch.squeeze().mean().cpu().item())"
   ],
   "metadata": {
    "collapsed": false
   }
  },
  {
   "cell_type": "code",
   "execution_count": 232,
   "outputs": [],
   "source": [
    "\n",
    "for wav, new_wav, i in zip(wavs, new_wavs, range(-4, 5)):\n",
    "    shift = i*1.0\n",
    "    # sf.write(save_dir / f\"that.p{shift}.wav\", wav.cpu().numpy(), 22050, \"PCM_16\")\n",
    "    sf.write(save_dir / f\"that.p{shift}_dsp.wav\", new_wav, 22050, \"PCM_16\")"
   ],
   "metadata": {
    "collapsed": false
   }
  },
  {
   "cell_type": "code",
   "execution_count": 235,
   "outputs": [
    {
     "data": {
      "text/plain": "[4.923503398895264,\n 5.0435590744018555,\n 5.04128360748291,\n 5.145663261413574,\n 5.327414035797119,\n 5.174620628356934,\n 5.219992637634277,\n 5.334314823150635,\n 5.440422058105469]"
     },
     "execution_count": 235,
     "metadata": {},
     "output_type": "execute_result"
    }
   ],
   "source": [
    "new_pitches"
   ],
   "metadata": {
    "collapsed": false
   }
  },
  {
   "cell_type": "code",
   "execution_count": 236,
   "outputs": [
    {
     "data": {
      "text/plain": "[4.816781997680664,\n 4.753146171569824,\n 4.895610809326172,\n 5.0483078956604,\n 5.327413082122803,\n 5.214310169219971,\n 5.396207809448242,\n 5.477133750915527,\n 5.660858154296875]"
     },
     "execution_count": 236,
     "metadata": {},
     "output_type": "execute_result"
    }
   ],
   "source": [
    "pitches"
   ],
   "metadata": {
    "collapsed": false
   }
  },
  {
   "cell_type": "code",
   "execution_count": 202,
   "outputs": [],
   "source": [
    "base_wav = wavs[4].cpu().numpy()\n",
    "start_pos = 0\n",
    "end_pos = 0\n",
    "positions = []\n",
    "for d in durations:\n",
    "    end_pos = start_pos + d * 256\n",
    "    positions.append((start_pos, end_pos))\n",
    "    start_pos = end_pos\n",
    "segments = []\n",
    "new_wavs = []\n",
    "for p_factor in p_factorss:\n",
    "    p_factor = p_factor.squeeze().cpu().numpy()\n",
    "    for p, (start_pos, end_pos) in zip(p_factor, positions):\n",
    "        segment = base_wav[start_pos:end_pos]\n",
    "        segments.append(librosa.effects.pitch_shift(segment, sr=22050, n_steps=p))\n",
    "    new_wavs.append(np.concatenate(segments))"
   ],
   "metadata": {
    "collapsed": false
   }
  },
  {
   "cell_type": "code",
   "execution_count": null,
   "outputs": [],
   "source": [],
   "metadata": {
    "collapsed": false
   }
  },
  {
   "cell_type": "code",
   "execution_count": 56,
   "outputs": [
    {
     "name": "stdout",
     "output_type": "stream",
     "text": [
      "tensor(88.8208, device='cuda:0')\n",
      "tensor(85.6178, device='cuda:0')\n",
      "tensor(84.8873, device='cuda:0')\n",
      "tensor(81.2981, device='cuda:0')\n",
      "tensor(81.7510, device='cuda:0')\n"
     ]
    }
   ],
   "source": [
    "import math\n",
    "for i, wav in enumerate(wavs):\n",
    "    print(torch.sum(wav*wav) / math.sqrt((i+2)/2-1))"
   ],
   "metadata": {
    "collapsed": false
   }
  },
  {
   "cell_type": "code",
   "execution_count": 50,
   "outputs": [
    {
     "name": "stdout",
     "output_type": "stream",
     "text": [
      "tensor(1026.3350, device='cuda:0')\n",
      "tensor(1183.9402, device='cuda:0')\n",
      "tensor(1293.1489, device='cuda:0')\n",
      "tensor(1375.7120, device='cuda:0')\n",
      "tensor(1475.3696, device='cuda:0')\n"
     ]
    }
   ],
   "source": [
    "print(torch.sum(base_energy))\n",
    "for energy in energies:\n",
    "    print(torch.sum(energy))"
   ],
   "metadata": {
    "collapsed": false
   }
  },
  {
   "cell_type": "markdown",
   "source": [],
   "metadata": {
    "collapsed": false
   }
  },
  {
   "cell_type": "code",
   "execution_count": 40,
   "outputs": [
    {
     "data": {
      "text/plain": "tensor([[[ 0.5454],\n         [ 5.4649],\n         [32.8088],\n         [63.3920],\n         [78.6348],\n         [82.7436],\n         [84.2931],\n         [86.2685],\n         [85.7019],\n         [82.4692],\n         [78.6783],\n         [72.1199],\n         [63.8343],\n         [53.3254],\n         [39.5262],\n         [26.0968],\n         [12.8273],\n         [ 6.6415],\n         [ 7.2623],\n         [ 6.4622],\n         [12.5029],\n         [14.8022],\n         [ 8.7500],\n         [ 5.0235],\n         [ 3.1658],\n         [ 2.8651],\n         [ 2.3932],\n         [ 1.5994],\n         [ 1.2492],\n         [ 1.1724],\n         [ 1.0174],\n         [ 0.8575],\n         [ 0.7179],\n         [ 0.6042],\n         [ 0.5180]]], device='cuda:0')"
     },
     "execution_count": 40,
     "metadata": {},
     "output_type": "execute_result"
    }
   ],
   "source": [
    "save_dir = Path('/home/perry/PycharmProjects/prosody/prosody') / pretrained_dir.stem\n",
    "os.makedirs(save_dir, exist_ok=True)\n",
    "sf.write(save_dir / f\"{orig_text}_dsp.wav\", wav_result, 22050, \"PCM_16\")"
   ],
   "metadata": {
    "collapsed": false
   }
  },
  {
   "cell_type": "code",
   "execution_count": 44,
   "outputs": [
    {
     "data": {
      "text/plain": "array([-0.04571102, -0.0352678 , -0.01489699, ...,  0.00032871,\n        0.00042657,  0.00053737], dtype=float32)"
     },
     "execution_count": 44,
     "metadata": {},
     "output_type": "execute_result"
    }
   ],
   "source": [
    "wav_result[start_pos:]"
   ],
   "metadata": {
    "collapsed": false
   }
  },
  {
   "cell_type": "code",
   "execution_count": 26,
   "outputs": [],
   "source": [
    "import numpy as np\n",
    "num_points = len(wav_edit)\n",
    "x = np.linspace(0, num_points, num=num_points*4)\n",
    "interpolated = np.interp(x, list(range(0, num_points)), wav_edit)"
   ],
   "metadata": {
    "collapsed": false
   }
  },
  {
   "cell_type": "code",
   "execution_count": 30,
   "outputs": [],
   "source": [
    "wav_result = np.concatenate([start_wav, interpolated, end_wav])"
   ],
   "metadata": {
    "collapsed": false
   }
  },
  {
   "cell_type": "code",
   "execution_count": 47,
   "outputs": [],
   "source": [
    "save_dir = Path('/home/perry/PycharmProjects/prosody/prosody') / pretrained_dir.stem\n",
    "os.makedirs(save_dir, exist_ok=True)\n",
    "sf.write(save_dir / f\"{orig_text}_dsp.wav\", wav_result, 22050, \"PCM_16\")"
   ],
   "metadata": {
    "collapsed": false
   }
  },
  {
   "cell_type": "code",
   "execution_count": 13,
   "outputs": [
    {
     "data": {
      "text/plain": "'DH IH1 S IH1 Z AH0 V EH1 R IY0 L AO1 NG T EH1 K S T , W IH1 CH AY1 IH0 K S P EH1 K T DH AH0 M AA1 D AH0 L T UW1 R EH1 D P R AA1 P ER0 L IY0 AH0 N D N AA1 T T UW1 F AE1 S T .'"
     },
     "execution_count": 13,
     "metadata": {},
     "output_type": "execute_result"
    }
   ],
   "source": [
    "' '.join(phonemes)"
   ],
   "metadata": {
    "collapsed": false
   }
  },
  {
   "cell_type": "code",
   "execution_count": 28,
   "outputs": [
    {
     "name": "stdout",
     "output_type": "stream",
     "text": [
      "Duration pred: tensor([[ 7,  6, 12,  7,  6,  8,  6,  6,  7,  9,  7,  9,  9,  9, 10,  9,  7,  7,\n",
      "          5,  5,  7, 11,  9,  9,  7,  8,  6,  6,  6,  4,  5,  6,  7,  9,  6,  7,\n",
      "         15,  7,  7,  8,  9,  7,  6,  7,  7,  7,  8,  8,  7,  6,  7,  7,  6,  8,\n",
      "          7,  7, 11, 10, 17, 16,  7,  9]], device='cuda:0')\n",
      "Duration (new): tensor([[ 7,  6, 12,  7,  6,  8,  6,  6,  7,  9,  7,  9,  9,  9, 10,  9,  7,  7,\n",
      "          5,  5,  7, 11,  9,  9,  7,  8,  6,  6,  6,  4,  5,  6,  7,  9,  6,  7,\n",
      "         15,  7,  7,  8,  9,  7,  6,  7,  7,  7,  8,  8,  7,  6,  7,  7,  6,  8,\n",
      "          7,  7, 11, 10, 17, 16,  7,  9]], device='cuda:0')\n",
      "Duration pred: tensor([[ 7,  6, 12,  7,  6,  8,  6,  6,  7,  9,  7,  9,  9,  9, 10,  9,  7,  7,\n",
      "          5,  5,  7, 11,  9,  9,  7,  8,  6,  6,  6,  4,  5,  6,  7,  9,  6,  7,\n",
      "         15,  7,  7,  8,  9,  7,  6,  7,  7,  7,  8,  8,  7,  6,  7,  7,  6,  8,\n",
      "          7,  7, 11, 10, 17, 16,  7,  9]], device='cuda:0')\n",
      "Duration (new): tensor([[ 7, 24, 12,  7,  6,  8,  6,  6,  7,  9,  7,  9,  9,  9, 10,  9,  7,  7,\n",
      "          5,  5,  7, 11,  9,  9,  7,  8,  6,  6,  6,  4,  5,  6,  7,  9,  6,  7,\n",
      "         15,  7,  7,  8,  9,  7,  6,  7,  7,  7,  8,  8,  7,  6,  7,  7,  6,  8,\n",
      "          7,  7, 11, 10, 17, 16,  7,  9]], device='cuda:0')\n",
      "Duration pred: tensor([[ 7,  6, 12,  7,  6,  8,  6,  6,  7,  9,  7,  9,  9,  9, 10,  9,  7,  7,\n",
      "          5,  5,  7, 11,  9,  9,  7,  8,  6,  6,  6,  4,  5,  6,  7,  9,  6,  7,\n",
      "         15,  7,  7,  8,  9,  7,  6,  7,  7,  7,  8,  8,  7,  6,  7,  7,  6,  8,\n",
      "          7,  7, 11, 10, 17, 16,  7,  9]], device='cuda:0')\n",
      "Duration (new): tensor([[ 7,  6, 12, 28,  6,  8,  6,  6,  7,  9,  7,  9,  9,  9, 10,  9,  7,  7,\n",
      "          5,  5,  7, 11,  9,  9,  7,  8,  6,  6,  6,  4,  5,  6,  7,  9,  6,  7,\n",
      "         15,  7,  7,  8,  9,  7,  6,  7,  7,  7,  8,  8,  7,  6,  7,  7,  6,  8,\n",
      "          7,  7, 11, 10, 17, 16,  7,  9]], device='cuda:0')\n",
      "Duration pred: tensor([[ 7,  6, 12,  7,  6,  8,  6,  6,  7,  9,  7,  9,  9,  9, 10,  9,  7,  7,\n",
      "          5,  5,  7, 11,  9,  9,  7,  8,  6,  6,  6,  4,  5,  6,  7,  9,  6,  7,\n",
      "         15,  7,  7,  8,  9,  7,  6,  7,  7,  7,  8,  8,  7,  6,  7,  7,  6,  8,\n",
      "          7,  7, 11, 10, 17, 16,  7,  9]], device='cuda:0')\n",
      "Duration (new): tensor([[ 7,  6, 12,  7,  6, 32,  6,  6,  7,  9,  7,  9,  9,  9, 10,  9,  7,  7,\n",
      "          5,  5,  7, 11,  9,  9,  7,  8,  6,  6,  6,  4,  5,  6,  7,  9,  6,  7,\n",
      "         15,  7,  7,  8,  9,  7,  6,  7,  7,  7,  8,  8,  7,  6,  7,  7,  6,  8,\n",
      "          7,  7, 11, 10, 17, 16,  7,  9]], device='cuda:0')\n",
      "Duration pred: tensor([[ 7,  6, 12,  7,  6,  8,  6,  6,  7,  9,  7,  9,  9,  9, 10,  9,  7,  7,\n",
      "          5,  5,  7, 11,  9,  9,  7,  8,  6,  6,  6,  4,  5,  6,  7,  9,  6,  7,\n",
      "         15,  7,  7,  8,  9,  7,  6,  7,  7,  7,  8,  8,  7,  6,  7,  7,  6,  8,\n",
      "          7,  7, 11, 10, 17, 16,  7,  9]], device='cuda:0')\n",
      "Duration (new): tensor([[ 7,  6, 12,  7,  6,  8,  6, 24,  7,  9,  7,  9,  9,  9, 10,  9,  7,  7,\n",
      "          5,  5,  7, 11,  9,  9,  7,  8,  6,  6,  6,  4,  5,  6,  7,  9,  6,  7,\n",
      "         15,  7,  7,  8,  9,  7,  6,  7,  7,  7,  8,  8,  7,  6,  7,  7,  6,  8,\n",
      "          7,  7, 11, 10, 17, 16,  7,  9]], device='cuda:0')\n",
      "Duration pred: tensor([[ 7,  6, 12,  7,  6,  8,  6,  6,  7,  9,  7,  9,  9,  9, 10,  9,  7,  7,\n",
      "          5,  5,  7, 11,  9,  9,  7,  8,  6,  6,  6,  4,  5,  6,  7,  9,  6,  7,\n",
      "         15,  7,  7,  8,  9,  7,  6,  7,  7,  7,  8,  8,  7,  6,  7,  7,  6,  8,\n",
      "          7,  7, 11, 10, 17, 16,  7,  9]], device='cuda:0')\n",
      "Duration (new): tensor([[ 7,  6, 12,  7,  6,  8,  6,  6,  7, 36,  7,  9,  9,  9, 10,  9,  7,  7,\n",
      "          5,  5,  7, 11,  9,  9,  7,  8,  6,  6,  6,  4,  5,  6,  7,  9,  6,  7,\n",
      "         15,  7,  7,  8,  9,  7,  6,  7,  7,  7,  8,  8,  7,  6,  7,  7,  6,  8,\n",
      "          7,  7, 11, 10, 17, 16,  7,  9]], device='cuda:0')\n",
      "Duration pred: tensor([[ 7,  6, 12,  7,  6,  8,  6,  6,  7,  9,  7,  9,  9,  9, 10,  9,  7,  7,\n",
      "          5,  5,  7, 11,  9,  9,  7,  8,  6,  6,  6,  4,  5,  6,  7,  9,  6,  7,\n",
      "         15,  7,  7,  8,  9,  7,  6,  7,  7,  7,  8,  8,  7,  6,  7,  7,  6,  8,\n",
      "          7,  7, 11, 10, 17, 16,  7,  9]], device='cuda:0')\n",
      "Duration (new): tensor([[ 7,  6, 12,  7,  6,  8,  6,  6,  7,  9,  7, 36,  9,  9, 10,  9,  7,  7,\n",
      "          5,  5,  7, 11,  9,  9,  7,  8,  6,  6,  6,  4,  5,  6,  7,  9,  6,  7,\n",
      "         15,  7,  7,  8,  9,  7,  6,  7,  7,  7,  8,  8,  7,  6,  7,  7,  6,  8,\n",
      "          7,  7, 11, 10, 17, 16,  7,  9]], device='cuda:0')\n",
      "Duration pred: tensor([[ 7,  6, 12,  7,  6,  8,  6,  6,  7,  9,  7,  9,  9,  9, 10,  9,  7,  7,\n",
      "          5,  5,  7, 11,  9,  9,  7,  8,  6,  6,  6,  4,  5,  6,  7,  9,  6,  7,\n",
      "         15,  7,  7,  8,  9,  7,  6,  7,  7,  7,  8,  8,  7,  6,  7,  7,  6,  8,\n",
      "          7,  7, 11, 10, 17, 16,  7,  9]], device='cuda:0')\n",
      "Duration (new): tensor([[ 7,  6, 12,  7,  6,  8,  6,  6,  7,  9,  7,  9,  9,  9, 40,  9,  7,  7,\n",
      "          5,  5,  7, 11,  9,  9,  7,  8,  6,  6,  6,  4,  5,  6,  7,  9,  6,  7,\n",
      "         15,  7,  7,  8,  9,  7,  6,  7,  7,  7,  8,  8,  7,  6,  7,  7,  6,  8,\n",
      "          7,  7, 11, 10, 17, 16,  7,  9]], device='cuda:0')\n",
      "Duration pred: tensor([[ 7,  6, 12,  7,  6,  8,  6,  6,  7,  9,  7,  9,  9,  9, 10,  9,  7,  7,\n",
      "          5,  5,  7, 11,  9,  9,  7,  8,  6,  6,  6,  4,  5,  6,  7,  9,  6,  7,\n",
      "         15,  7,  7,  8,  9,  7,  6,  7,  7,  7,  8,  8,  7,  6,  7,  7,  6,  8,\n",
      "          7,  7, 11, 10, 17, 16,  7,  9]], device='cuda:0')\n",
      "Duration (new): tensor([[ 7,  6, 12,  7,  6,  8,  6,  6,  7,  9,  7,  9,  9,  9, 10,  9,  7,  7,\n",
      "          5,  5, 28, 11,  9,  9,  7,  8,  6,  6,  6,  4,  5,  6,  7,  9,  6,  7,\n",
      "         15,  7,  7,  8,  9,  7,  6,  7,  7,  7,  8,  8,  7,  6,  7,  7,  6,  8,\n",
      "          7,  7, 11, 10, 17, 16,  7,  9]], device='cuda:0')\n",
      "Duration pred: tensor([[ 7,  6, 12,  7,  6,  8,  6,  6,  7,  9,  7,  9,  9,  9, 10,  9,  7,  7,\n",
      "          5,  5,  7, 11,  9,  9,  7,  8,  6,  6,  6,  4,  5,  6,  7,  9,  6,  7,\n",
      "         15,  7,  7,  8,  9,  7,  6,  7,  7,  7,  8,  8,  7,  6,  7,  7,  6,  8,\n",
      "          7,  7, 11, 10, 17, 16,  7,  9]], device='cuda:0')\n",
      "Duration (new): tensor([[ 7,  6, 12,  7,  6,  8,  6,  6,  7,  9,  7,  9,  9,  9, 10,  9,  7,  7,\n",
      "          5,  5,  7, 11, 36,  9,  7,  8,  6,  6,  6,  4,  5,  6,  7,  9,  6,  7,\n",
      "         15,  7,  7,  8,  9,  7,  6,  7,  7,  7,  8,  8,  7,  6,  7,  7,  6,  8,\n",
      "          7,  7, 11, 10, 17, 16,  7,  9]], device='cuda:0')\n",
      "Duration pred: tensor([[ 7,  6, 12,  7,  6,  8,  6,  6,  7,  9,  7,  9,  9,  9, 10,  9,  7,  7,\n",
      "          5,  5,  7, 11,  9,  9,  7,  8,  6,  6,  6,  4,  5,  6,  7,  9,  6,  7,\n",
      "         15,  7,  7,  8,  9,  7,  6,  7,  7,  7,  8,  8,  7,  6,  7,  7,  6,  8,\n",
      "          7,  7, 11, 10, 17, 16,  7,  9]], device='cuda:0')\n",
      "Duration (new): tensor([[ 7,  6, 12,  7,  6,  8,  6,  6,  7,  9,  7,  9,  9,  9, 10,  9,  7,  7,\n",
      "          5,  5,  7, 11,  9, 36,  7,  8,  6,  6,  6,  4,  5,  6,  7,  9,  6,  7,\n",
      "         15,  7,  7,  8,  9,  7,  6,  7,  7,  7,  8,  8,  7,  6,  7,  7,  6,  8,\n",
      "          7,  7, 11, 10, 17, 16,  7,  9]], device='cuda:0')\n",
      "Duration pred: tensor([[ 7,  6, 12,  7,  6,  8,  6,  6,  7,  9,  7,  9,  9,  9, 10,  9,  7,  7,\n",
      "          5,  5,  7, 11,  9,  9,  7,  8,  6,  6,  6,  4,  5,  6,  7,  9,  6,  7,\n",
      "         15,  7,  7,  8,  9,  7,  6,  7,  7,  7,  8,  8,  7,  6,  7,  7,  6,  8,\n",
      "          7,  7, 11, 10, 17, 16,  7,  9]], device='cuda:0')\n",
      "Duration (new): tensor([[ 7,  6, 12,  7,  6,  8,  6,  6,  7,  9,  7,  9,  9,  9, 10,  9,  7,  7,\n",
      "          5,  5,  7, 11,  9,  9,  7,  8,  6, 24,  6,  4,  5,  6,  7,  9,  6,  7,\n",
      "         15,  7,  7,  8,  9,  7,  6,  7,  7,  7,  8,  8,  7,  6,  7,  7,  6,  8,\n",
      "          7,  7, 11, 10, 17, 16,  7,  9]], device='cuda:0')\n",
      "Duration pred: tensor([[ 7,  6, 12,  7,  6,  8,  6,  6,  7,  9,  7,  9,  9,  9, 10,  9,  7,  7,\n",
      "          5,  5,  7, 11,  9,  9,  7,  8,  6,  6,  6,  4,  5,  6,  7,  9,  6,  7,\n",
      "         15,  7,  7,  8,  9,  7,  6,  7,  7,  7,  8,  8,  7,  6,  7,  7,  6,  8,\n",
      "          7,  7, 11, 10, 17, 16,  7,  9]], device='cuda:0')\n",
      "Duration (new): tensor([[ 7,  6, 12,  7,  6,  8,  6,  6,  7,  9,  7,  9,  9,  9, 10,  9,  7,  7,\n",
      "          5,  5,  7, 11,  9,  9,  7,  8,  6,  6,  6,  4,  5, 24,  7,  9,  6,  7,\n",
      "         15,  7,  7,  8,  9,  7,  6,  7,  7,  7,  8,  8,  7,  6,  7,  7,  6,  8,\n",
      "          7,  7, 11, 10, 17, 16,  7,  9]], device='cuda:0')\n",
      "Duration pred: tensor([[ 7,  6, 12,  7,  6,  8,  6,  6,  7,  9,  7,  9,  9,  9, 10,  9,  7,  7,\n",
      "          5,  5,  7, 11,  9,  9,  7,  8,  6,  6,  6,  4,  5,  6,  7,  9,  6,  7,\n",
      "         15,  7,  7,  8,  9,  7,  6,  7,  7,  7,  8,  8,  7,  6,  7,  7,  6,  8,\n",
      "          7,  7, 11, 10, 17, 16,  7,  9]], device='cuda:0')\n",
      "Duration (new): tensor([[ 7,  6, 12,  7,  6,  8,  6,  6,  7,  9,  7,  9,  9,  9, 10,  9,  7,  7,\n",
      "          5,  5,  7, 11,  9,  9,  7,  8,  6,  6,  6,  4,  5,  6,  7, 36,  6,  7,\n",
      "         15,  7,  7,  8,  9,  7,  6,  7,  7,  7,  8,  8,  7,  6,  7,  7,  6,  8,\n",
      "          7,  7, 11, 10, 17, 16,  7,  9]], device='cuda:0')\n",
      "Duration pred: tensor([[ 7,  6, 12,  7,  6,  8,  6,  6,  7,  9,  7,  9,  9,  9, 10,  9,  7,  7,\n",
      "          5,  5,  7, 11,  9,  9,  7,  8,  6,  6,  6,  4,  5,  6,  7,  9,  6,  7,\n",
      "         15,  7,  7,  8,  9,  7,  6,  7,  7,  7,  8,  8,  7,  6,  7,  7,  6,  8,\n",
      "          7,  7, 11, 10, 17, 16,  7,  9]], device='cuda:0')\n",
      "Duration (new): tensor([[ 7,  6, 12,  7,  6,  8,  6,  6,  7,  9,  7,  9,  9,  9, 10,  9,  7,  7,\n",
      "          5,  5,  7, 11,  9,  9,  7,  8,  6,  6,  6,  4,  5,  6,  7,  9,  6, 28,\n",
      "         15,  7,  7,  8,  9,  7,  6,  7,  7,  7,  8,  8,  7,  6,  7,  7,  6,  8,\n",
      "          7,  7, 11, 10, 17, 16,  7,  9]], device='cuda:0')\n",
      "Duration pred: tensor([[ 7,  6, 12,  7,  6,  8,  6,  6,  7,  9,  7,  9,  9,  9, 10,  9,  7,  7,\n",
      "          5,  5,  7, 11,  9,  9,  7,  8,  6,  6,  6,  4,  5,  6,  7,  9,  6,  7,\n",
      "         15,  7,  7,  8,  9,  7,  6,  7,  7,  7,  8,  8,  7,  6,  7,  7,  6,  8,\n",
      "          7,  7, 11, 10, 17, 16,  7,  9]], device='cuda:0')\n",
      "Duration (new): tensor([[ 7,  6, 12,  7,  6,  8,  6,  6,  7,  9,  7,  9,  9,  9, 10,  9,  7,  7,\n",
      "          5,  5,  7, 11,  9,  9,  7,  8,  6,  6,  6,  4,  5,  6,  7,  9,  6,  7,\n",
      "         15,  7, 28,  8,  9,  7,  6,  7,  7,  7,  8,  8,  7,  6,  7,  7,  6,  8,\n",
      "          7,  7, 11, 10, 17, 16,  7,  9]], device='cuda:0')\n",
      "Duration pred: tensor([[ 7,  6, 12,  7,  6,  8,  6,  6,  7,  9,  7,  9,  9,  9, 10,  9,  7,  7,\n",
      "          5,  5,  7, 11,  9,  9,  7,  8,  6,  6,  6,  4,  5,  6,  7,  9,  6,  7,\n",
      "         15,  7,  7,  8,  9,  7,  6,  7,  7,  7,  8,  8,  7,  6,  7,  7,  6,  8,\n",
      "          7,  7, 11, 10, 17, 16,  7,  9]], device='cuda:0')\n",
      "Duration (new): tensor([[ 7,  6, 12,  7,  6,  8,  6,  6,  7,  9,  7,  9,  9,  9, 10,  9,  7,  7,\n",
      "          5,  5,  7, 11,  9,  9,  7,  8,  6,  6,  6,  4,  5,  6,  7,  9,  6,  7,\n",
      "         15,  7,  7,  8, 36,  7,  6,  7,  7,  7,  8,  8,  7,  6,  7,  7,  6,  8,\n",
      "          7,  7, 11, 10, 17, 16,  7,  9]], device='cuda:0')\n",
      "Duration pred: tensor([[ 7,  6, 12,  7,  6,  8,  6,  6,  7,  9,  7,  9,  9,  9, 10,  9,  7,  7,\n",
      "          5,  5,  7, 11,  9,  9,  7,  8,  6,  6,  6,  4,  5,  6,  7,  9,  6,  7,\n",
      "         15,  7,  7,  8,  9,  7,  6,  7,  7,  7,  8,  8,  7,  6,  7,  7,  6,  8,\n",
      "          7,  7, 11, 10, 17, 16,  7,  9]], device='cuda:0')\n",
      "Duration (new): tensor([[ 7,  6, 12,  7,  6,  8,  6,  6,  7,  9,  7,  9,  9,  9, 10,  9,  7,  7,\n",
      "          5,  5,  7, 11,  9,  9,  7,  8,  6,  6,  6,  4,  5,  6,  7,  9,  6,  7,\n",
      "         15,  7,  7,  8,  9,  7,  6,  7, 28,  7,  8,  8,  7,  6,  7,  7,  6,  8,\n",
      "          7,  7, 11, 10, 17, 16,  7,  9]], device='cuda:0')\n",
      "Duration pred: tensor([[ 7,  6, 12,  7,  6,  8,  6,  6,  7,  9,  7,  9,  9,  9, 10,  9,  7,  7,\n",
      "          5,  5,  7, 11,  9,  9,  7,  8,  6,  6,  6,  4,  5,  6,  7,  9,  6,  7,\n",
      "         15,  7,  7,  8,  9,  7,  6,  7,  7,  7,  8,  8,  7,  6,  7,  7,  6,  8,\n",
      "          7,  7, 11, 10, 17, 16,  7,  9]], device='cuda:0')\n",
      "Duration (new): tensor([[ 7,  6, 12,  7,  6,  8,  6,  6,  7,  9,  7,  9,  9,  9, 10,  9,  7,  7,\n",
      "          5,  5,  7, 11,  9,  9,  7,  8,  6,  6,  6,  4,  5,  6,  7,  9,  6,  7,\n",
      "         15,  7,  7,  8,  9,  7,  6,  7,  7,  7, 32,  8,  7,  6,  7,  7,  6,  8,\n",
      "          7,  7, 11, 10, 17, 16,  7,  9]], device='cuda:0')\n",
      "Duration pred: tensor([[ 7,  6, 12,  7,  6,  8,  6,  6,  7,  9,  7,  9,  9,  9, 10,  9,  7,  7,\n",
      "          5,  5,  7, 11,  9,  9,  7,  8,  6,  6,  6,  4,  5,  6,  7,  9,  6,  7,\n",
      "         15,  7,  7,  8,  9,  7,  6,  7,  7,  7,  8,  8,  7,  6,  7,  7,  6,  8,\n",
      "          7,  7, 11, 10, 17, 16,  7,  9]], device='cuda:0')\n",
      "Duration (new): tensor([[ 7,  6, 12,  7,  6,  8,  6,  6,  7,  9,  7,  9,  9,  9, 10,  9,  7,  7,\n",
      "          5,  5,  7, 11,  9,  9,  7,  8,  6,  6,  6,  4,  5,  6,  7,  9,  6,  7,\n",
      "         15,  7,  7,  8,  9,  7,  6,  7,  7,  7,  8,  8, 28,  6,  7,  7,  6,  8,\n",
      "          7,  7, 11, 10, 17, 16,  7,  9]], device='cuda:0')\n",
      "Duration pred: tensor([[ 7,  6, 12,  7,  6,  8,  6,  6,  7,  9,  7,  9,  9,  9, 10,  9,  7,  7,\n",
      "          5,  5,  7, 11,  9,  9,  7,  8,  6,  6,  6,  4,  5,  6,  7,  9,  6,  7,\n",
      "         15,  7,  7,  8,  9,  7,  6,  7,  7,  7,  8,  8,  7,  6,  7,  7,  6,  8,\n",
      "          7,  7, 11, 10, 17, 16,  7,  9]], device='cuda:0')\n",
      "Duration (new): tensor([[ 7,  6, 12,  7,  6,  8,  6,  6,  7,  9,  7,  9,  9,  9, 10,  9,  7,  7,\n",
      "          5,  5,  7, 11,  9,  9,  7,  8,  6,  6,  6,  4,  5,  6,  7,  9,  6,  7,\n",
      "         15,  7,  7,  8,  9,  7,  6,  7,  7,  7,  8,  8,  7, 24,  7,  7,  6,  8,\n",
      "          7,  7, 11, 10, 17, 16,  7,  9]], device='cuda:0')\n",
      "Duration pred: tensor([[ 7,  6, 12,  7,  6,  8,  6,  6,  7,  9,  7,  9,  9,  9, 10,  9,  7,  7,\n",
      "          5,  5,  7, 11,  9,  9,  7,  8,  6,  6,  6,  4,  5,  6,  7,  9,  6,  7,\n",
      "         15,  7,  7,  8,  9,  7,  6,  7,  7,  7,  8,  8,  7,  6,  7,  7,  6,  8,\n",
      "          7,  7, 11, 10, 17, 16,  7,  9]], device='cuda:0')\n",
      "Duration (new): tensor([[ 7,  6, 12,  7,  6,  8,  6,  6,  7,  9,  7,  9,  9,  9, 10,  9,  7,  7,\n",
      "          5,  5,  7, 11,  9,  9,  7,  8,  6,  6,  6,  4,  5,  6,  7,  9,  6,  7,\n",
      "         15,  7,  7,  8,  9,  7,  6,  7,  7,  7,  8,  8,  7,  6,  7,  7,  6, 32,\n",
      "          7,  7, 11, 10, 17, 16,  7,  9]], device='cuda:0')\n",
      "Duration pred: tensor([[ 7,  6, 12,  7,  6,  8,  6,  6,  7,  9,  7,  9,  9,  9, 10,  9,  7,  7,\n",
      "          5,  5,  7, 11,  9,  9,  7,  8,  6,  6,  6,  4,  5,  6,  7,  9,  6,  7,\n",
      "         15,  7,  7,  8,  9,  7,  6,  7,  7,  7,  8,  8,  7,  6,  7,  7,  6,  8,\n",
      "          7,  7, 11, 10, 17, 16,  7,  9]], device='cuda:0')\n",
      "Duration (new): tensor([[ 7,  6, 12,  7,  6,  8,  6,  6,  7,  9,  7,  9,  9,  9, 10,  9,  7,  7,\n",
      "          5,  5,  7, 11,  9,  9,  7,  8,  6,  6,  6,  4,  5,  6,  7,  9,  6,  7,\n",
      "         15,  7,  7,  8,  9,  7,  6,  7,  7,  7,  8,  8,  7,  6,  7,  7,  6,  8,\n",
      "          7,  7, 44, 10, 17, 16,  7,  9]], device='cuda:0')\n",
      "Duration pred: tensor([[ 7,  6, 12,  7,  6,  8,  6,  6,  7,  9,  7,  9,  9,  9, 10,  9,  7,  7,\n",
      "          5,  5,  7, 11,  9,  9,  7,  8,  6,  6,  6,  4,  5,  6,  7,  9,  6,  7,\n",
      "         15,  7,  7,  8,  9,  7,  6,  7,  7,  7,  8,  8,  7,  6,  7,  7,  6,  8,\n",
      "          7,  7, 11, 10, 17, 16,  7,  9]], device='cuda:0')\n",
      "Duration (new): tensor([[ 7,  6, 12,  7,  6,  8,  6,  6,  7,  9,  7,  9,  9,  9, 10,  9,  7,  7,\n",
      "          5,  5,  7, 11,  9,  9,  7,  8,  6,  6,  6,  4,  5,  6,  7,  9,  6,  7,\n",
      "         15,  7,  7,  8,  9,  7,  6,  7,  7,  7,  8,  8,  7,  6,  7,  7,  6,  8,\n",
      "          7,  7, 11, 10, 68, 16,  7,  9]], device='cuda:0')\n"
     ]
    }
   ],
   "source": [
    "with torch.no_grad():\n",
    "    outputs = []\n",
    "    for phone_ids, d_factor in zip(batch_phone_ids, batch_d_factor):\n",
    "        output_dict = pretrained_model.tts.inference(text=phone_ids, d_factor=d_factor)\n",
    "        outputs.append(output_dict)"
   ],
   "metadata": {
    "collapsed": false
   }
  },
  {
   "cell_type": "code",
   "execution_count": 39,
   "outputs": [],
   "source": [
    "#                             IH1 Z DH AE1 T K ER0 EH1 K T ?"
   ],
   "metadata": {
    "collapsed": false
   }
  },
  {
   "cell_type": "code",
   "execution_count": null,
   "outputs": [],
   "source": [
    "p_factor = [float(x) for x in '0  0  0  0  0 0 -0.8 0.8 1 1 0'.split()]\n",
    "p_factor = torch.FloatTensor(p_factor).to(device)"
   ],
   "metadata": {
    "collapsed": false
   }
  },
  {
   "cell_type": "code",
   "execution_count": 109,
   "outputs": [],
   "source": [
    "save_dir = Path('/home/perry/PycharmProjects/prosody/prosody') / pretrained_dir.stem\n",
    "os.makedirs(save_dir, exist_ok=True)\n",
    "\n",
    "for output_dict, text in zip(outputs, batch_text):\n",
    "    # save as PCM 16 bit wav file\n",
    "    sf.write(\n",
    "        save_dir / f\"{text}.wav\",\n",
    "        output_dict['wav'].detach().cpu().numpy(),\n",
    "        22050,\n",
    "        \"PCM_16\",\n",
    "    )"
   ],
   "metadata": {
    "collapsed": false
   }
  },
  {
   "cell_type": "code",
   "execution_count": 105,
   "outputs": [
    {
     "data": {
      "text/plain": "['THIS, *is* ^AB^soLUTE_ly craaaaazzzyyyyy!!']"
     },
     "execution_count": 105,
     "metadata": {},
     "output_type": "execute_result"
    }
   ],
   "source": [
    "batch_text"
   ],
   "metadata": {
    "collapsed": false
   }
  },
  {
   "cell_type": "code",
   "execution_count": 56,
   "outputs": [],
   "source": [
    "def get_vocoder(checkpoint):\n",
    "    vocoder = load_vocoder(checkpoint)\n",
    "    # logging.info(f\"Loaded model parameters from {checkpoint}.\")\n",
    "    vocoder.remove_weight_norm()\n",
    "    vocoder = vocoder.eval().to(device)\n",
    "    return vocoder"
   ],
   "metadata": {
    "collapsed": false
   }
  },
  {
   "cell_type": "code",
   "execution_count": 57,
   "outputs": [],
   "source": [
    "pwgan = get_vocoder(LJSPEECH_DIR / 'parallel_wavegan' / 'checkpoint-3000000steps.pkl')"
   ],
   "metadata": {
    "collapsed": false
   }
  },
  {
   "cell_type": "code",
   "execution_count": 7,
   "outputs": [],
   "source": [
    "hifigan = get_vocoder(VCTK_DIR / 'hifigan' / 'checkpoint-2500000steps.pkl')"
   ],
   "metadata": {
    "collapsed": false
   }
  },
  {
   "cell_type": "code",
   "execution_count": null,
   "outputs": [],
   "source": [],
   "metadata": {
    "collapsed": false
   }
  },
  {
   "cell_type": "code",
   "execution_count": 58,
   "outputs": [],
   "source": [
    "def save_wav(model, model_file, vocoder, filename, text, duration_scaling=None, pitch_scaling=None, energy_scaling=None):\n",
    "    with torch.no_grad():\n",
    "        output_dic = model.tts.inference(\n",
    "            text=text, duration_scaling=duration_scaling, pitch_scaling=pitch_scaling, energy_scaling=energy_scaling)\n",
    "    mel = output_dic['feat_gen']\n",
    "    y = vocoder.inference(mel, normalize_before=False).view(-1)\n",
    "    save_dir = Path('/home/perry/PycharmProjects/prosody/prosody') / model_file.parent.stem / model_file.stem\n",
    "    os.makedirs(save_dir, exist_ok=True)\n",
    "    # save as PCM 16 bit wav file\n",
    "    sf.write(\n",
    "        save_dir / f\"{filename}.wav\",\n",
    "        y.detach().cpu().numpy(),\n",
    "        22050,\n",
    "        \"PCM_16\",\n",
    "    )"
   ],
   "metadata": {
    "collapsed": false
   }
  },
  {
   "cell_type": "code",
   "execution_count": 59,
   "outputs": [
    {
     "name": "stderr",
     "output_type": "stream",
     "text": [
      "DEBUG:validation_g2p:Beginning run for g2p on validation\n",
      "DEBUG:validation_g2p:Using multiprocessing with 3\n",
      "DEBUG:validation_g2p:Set up logger for MFA version: 2.0.5\n",
      "INFO:validation_g2p:Generating pronunciations...\n",
      "DEBUG:validation_g2p:Skipping 1 words for containing the following graphemes: !, *, ,, A, B, E, H, I, L, S, T, U, ^, and _\n",
      "DEBUG:validation_g2p:Processed 4 in 0.8278882503509521 seconds\n"
     ]
    }
   ],
   "source": [
    "from montreal_forced_aligner.g2p.generator import PyniniValidator\n",
    "from montreal_forced_aligner.models import G2PModel #, ModelManager\n",
    "language = \"english_us_mfa\"\n",
    "# manager = ModelManager()\n",
    "# manager.download_model(\"g2p\", language)\n",
    "model_path = G2PModel.get_pretrained_path(language)\n",
    "g2p = PyniniValidator(g2p_model_path=model_path, num_pronunciations=1, quiet=True)\n",
    "words, mark_positions = preprocess(orig_text)\n",
    "g2p.word_list = words\n",
    "phonemes = g2p.generate_pronunciations()\n",
    "phonemes = [p for word in g2p.word_list for p in phonemes.get(word, word)[0].split()]"
   ],
   "metadata": {
    "collapsed": false
   }
  },
  {
   "cell_type": "code",
   "execution_count": 88,
   "outputs": [],
   "source": [
    "_, phone_ids, d_factor, p_factor, e_factor = get_inputs(orig_text, has_eos_token=True)\n",
    "my_phone_ids = torch.tensor(my_id_conv.tokens2ids(phonemes), dtype=torch.int32, device=device)"
   ],
   "metadata": {
    "collapsed": false
   }
  },
  {
   "cell_type": "code",
   "execution_count": 82,
   "outputs": [
    {
     "data": {
      "text/plain": "22"
     },
     "execution_count": 82,
     "metadata": {},
     "output_type": "execute_result"
    }
   ],
   "source": [
    "len(phone_ids)"
   ],
   "metadata": {
    "collapsed": false
   }
  },
  {
   "cell_type": "code",
   "execution_count": 30,
   "outputs": [],
   "source": [
    "phonemes =                   'ʃ ɒː , d̪ ow z t w ɛ ɫ v b ej ʒ h ʊ k s ɛ ɹ dʒ ɔj n d ɪ f aj pʰ æ tʃ ə j ɐ ŋ , ɡ ʉː i m aw θ .'.split()\n",
    "my_phone_ids = torch.tensor(my_id_conv.tokens2ids(phonemes), dtype=torch.int32, device=device)"
   ],
   "metadata": {
    "collapsed": false
   }
  },
  {
   "cell_type": "code",
   "execution_count": 48,
   "outputs": [],
   "source": [
    "phonemes =                   'ç ɪ z ɪ z ə v ə ɹ i l ɒ ŋ tʰ ɛ k s t , w ɪ tʃ aj ɪ k s p ɛ k t ð m ɑː d ɫ̩ tʰ ow ɹ iː d p ɹ ɑ p ɚ ʎ i æ n d n ɑ t tʰ ʉː f æ s t .'.split()\n",
    "my_phone_ids = torch.tensor(my_id_conv.tokens2ids(phonemes), dtype=torch.int32, device=device)"
   ],
   "metadata": {
    "collapsed": false
   }
  },
  {
   "cell_type": "code",
   "execution_count": 77,
   "outputs": [],
   "source": [
    "d_factor = torch.tensor([[1.0]*(len(phonemes)+1)], device=device)"
   ],
   "metadata": {
    "collapsed": false
   }
  },
  {
   "cell_type": "code",
   "execution_count": 19,
   "outputs": [
    {
     "data": {
      "text/plain": "'<blank> <unk> ə ɪ n s ɹ t d ð ɛ z æ w m sil v ɚ ej iː f i , k ɐ ɑ aj p b ɒ l ow tʲ ʔ tʰ ɫ . ʎ ʉː h ʃ ŋ pʰ ɲ kʰ dʲ ɫ̩ ɝ ç tʃ dʒ bʲ aw θ c cʰ mʲ ʉ ɟ ʊ ɡ n̩ fʲ ɒː vʲ j pʲ ɑː ɾ ɱ ɔj m̩ ʒ ɾʲ ? \" ! t̪ d̪ \\' <sos/eos>'"
     },
     "execution_count": 19,
     "metadata": {},
     "output_type": "execute_result"
    }
   ],
   "source": [
    "' '.join(my_id_conv.token_list)"
   ],
   "metadata": {
    "collapsed": false
   }
  },
  {
   "cell_type": "code",
   "execution_count": 40,
   "outputs": [],
   "source": [
    "vowels = set('ə ɪ ɛ æ ɚ ej iː i ɐ ɑ aj ɒ ow ʉː ɝ aw ʉ ʊ ɒː ɑː ɔj'.split())"
   ],
   "metadata": {
    "collapsed": false
   }
  },
  {
   "cell_type": "code",
   "execution_count": 50,
   "outputs": [],
   "source": [
    "vowel_count = sum(phoneme in vowels for phoneme in phonemes)\n",
    "batch_phone_ids = [my_phone_ids] * (1+vowel_count)\n",
    "batch_d_factor = d_factor.repeat(1+vowel_count, 1)\n",
    "batch_text = [orig_text] * (1+vowel_count)\n",
    "count = 1\n",
    "for i, phoneme in enumerate(phonemes):\n",
    "    if phoneme in vowels:\n",
    "        batch_text[count] = batch_text[count] + f'{count}{phoneme}x4'\n",
    "        batch_d_factor[count][i] = 4.0\n",
    "        count += 1"
   ],
   "metadata": {
    "collapsed": false
   }
  },
  {
   "cell_type": "code",
   "execution_count": 96,
   "outputs": [
    {
     "data": {
      "text/plain": "['this', ',', 'is', 'absolutely', 'crazy', '!', '!']"
     },
     "execution_count": 96,
     "metadata": {},
     "output_type": "execute_result"
    }
   ],
   "source": [
    "words"
   ],
   "metadata": {
    "collapsed": false
   }
  },
  {
   "cell_type": "code",
   "execution_count": 92,
   "outputs": [
    {
     "data": {
      "text/plain": "torch.Size([1, 23])"
     },
     "execution_count": 92,
     "metadata": {},
     "output_type": "execute_result"
    }
   ],
   "source": [
    "d_factor.size()"
   ],
   "metadata": {
    "collapsed": false
   }
  },
  {
   "cell_type": "code",
   "execution_count": 94,
   "outputs": [],
   "source": [
    "d_factor = d_factor.squeeze(0)"
   ],
   "metadata": {
    "collapsed": false
   }
  },
  {
   "cell_type": "code",
   "execution_count": 99,
   "outputs": [],
   "source": [
    "p_factor = p_factor.squeeze(0)\n",
    "e_factor = e_factor.squeeze(0)"
   ],
   "metadata": {
    "collapsed": false
   }
  },
  {
   "cell_type": "code",
   "execution_count": 101,
   "outputs": [
    {
     "data": {
      "text/plain": "tensor([1., 1., 1., 0., 1., 1., 1., 1., 0., 0., 1., 1., 1., 0., 0., 0., 0., 0.,\n        0., 0., 0., 0., 0.], device='cuda:0')"
     },
     "execution_count": 101,
     "metadata": {},
     "output_type": "execute_result"
    }
   ],
   "source": [
    "e_factor"
   ],
   "metadata": {
    "collapsed": false
   }
  },
  {
   "cell_type": "code",
   "execution_count": 100,
   "outputs": [
    {
     "name": "stdout",
     "output_type": "stream",
     "text": [
      "Duration pred: tensor([[ 3, 14, 25, 25, 11,  7, 19,  5, 11,  4,  9,  8,  5,  7,  4, 15,  4, 12,\n",
      "          8, 18,  8,  7,  0]], device='cuda:0')\n",
      "Duration (new): tensor([[ 3, 14, 25, 25, 11,  7, 19,  5, 11,  4,  9,  8,  5,  7,  4, 15,  4, 36,\n",
      "         16, 54,  8,  7,  0]], device='cuda:0')\n",
      "Pitch pred: tensor([[[ 2.6370e-01],\n",
      "         [ 2.8156e-01],\n",
      "         [ 7.8544e-02],\n",
      "         [-3.6989e-02],\n",
      "         [ 1.0073e-01],\n",
      "         [ 5.4575e-02],\n",
      "         [ 2.5324e-01],\n",
      "         [ 3.5622e-01],\n",
      "         [ 3.4414e-01],\n",
      "         [ 3.2794e-01],\n",
      "         [ 1.5558e-01],\n",
      "         [ 6.1514e-02],\n",
      "         [ 1.0552e-02],\n",
      "         [ 3.5569e-03],\n",
      "         [-2.3573e-02],\n",
      "         [ 4.2233e-02],\n",
      "         [ 1.3296e-01],\n",
      "         [-6.7708e-02],\n",
      "         [-2.0825e-01],\n",
      "         [-2.0293e-01],\n",
      "         [-2.0532e-01],\n",
      "         [-2.1556e-01],\n",
      "         [-7.7539e+00]]], device='cuda:0')\n",
      "Pitch (new): tensor([[[ 0.2637],\n",
      "         [ 0.2816],\n",
      "         [ 0.0785],\n",
      "         [-0.0370],\n",
      "         [ 0.1007],\n",
      "         [ 0.0546],\n",
      "         [ 1.2532],\n",
      "         [ 0.3562],\n",
      "         [ 1.3441],\n",
      "         [ 1.3279],\n",
      "         [ 0.1556],\n",
      "         [ 0.0615],\n",
      "         [ 0.0106],\n",
      "         [-0.9964],\n",
      "         [-1.0236],\n",
      "         [ 0.0422],\n",
      "         [ 0.1330],\n",
      "         [-0.0677],\n",
      "         [-0.2082],\n",
      "         [-0.2029],\n",
      "         [-0.2053],\n",
      "         [-0.2156],\n",
      "         [-7.7539]]], device='cuda:0')\n",
      "Energy pred: tensor([[[-1.0575],\n",
      "         [ 1.3671],\n",
      "         [ 0.6212],\n",
      "         [-1.2422],\n",
      "         [ 0.2241],\n",
      "         [ 0.1716],\n",
      "         [ 0.5003],\n",
      "         [-0.0040],\n",
      "         [ 0.7401],\n",
      "         [-0.0274],\n",
      "         [-0.1363],\n",
      "         [ 0.1561],\n",
      "         [-1.0761],\n",
      "         [-0.5056],\n",
      "         [ 0.0265],\n",
      "         [-1.0615],\n",
      "         [-0.2569],\n",
      "         [ 0.6433],\n",
      "         [-0.1158],\n",
      "         [-0.3788],\n",
      "         [-1.1952],\n",
      "         [-1.2691],\n",
      "         [-1.2916]]], device='cuda:0')\n",
      "Energy (new): tensor([[[-0.0575],\n",
      "         [ 2.3671],\n",
      "         [ 1.6212],\n",
      "         [-1.2422],\n",
      "         [ 1.2241],\n",
      "         [ 1.1716],\n",
      "         [ 1.5003],\n",
      "         [ 0.9960],\n",
      "         [ 0.7401],\n",
      "         [-0.0274],\n",
      "         [ 0.8637],\n",
      "         [ 1.1561],\n",
      "         [-0.0761],\n",
      "         [-0.5056],\n",
      "         [ 0.0265],\n",
      "         [-1.0615],\n",
      "         [-0.2569],\n",
      "         [ 0.6433],\n",
      "         [-0.1158],\n",
      "         [-0.3788],\n",
      "         [-1.1952],\n",
      "         [-1.2691],\n",
      "         [-1.2916]]], device='cuda:0')\n"
     ]
    }
   ],
   "source": [
    "save_wav(my_fs2, my_model_file, pwgan, filename=orig_text, text=my_phone_ids,\n",
    "         duration_scaling=d_factor, pitch_scaling=p_factor, energy_scaling=e_factor)"
   ],
   "metadata": {
    "collapsed": false
   }
  },
  {
   "cell_type": "code",
   "execution_count": 51,
   "outputs": [
    {
     "name": "stdout",
     "output_type": "stream",
     "text": [
      "Duration pred: tensor([[ 3,  4,  6,  8,  6,  6,  6,  4,  6,  6,  9, 14, 10,  9, 13, 11,  8, 13,\n",
      "         25,  5,  4,  9, 12,  9,  6,  8,  6,  7,  8,  3,  3, 10, 12,  3,  9, 15,\n",
      "         13, 11, 14,  9,  8,  4,  7,  8,  7,  9, 11,  8,  6,  7,  5, 12,  9, 10,\n",
      "          4, 12, 25, 19, 11,  6,  0]], device='cuda:0')\n",
      "Duration (new): tensor([[ 3,  4,  6,  8,  6,  6,  6,  4,  6,  6,  9, 14, 10,  9, 13, 11,  8, 13,\n",
      "         25,  5,  4,  9, 12,  9,  6,  8,  6,  7,  8,  3,  3, 10, 12,  3,  9, 15,\n",
      "         13, 11, 14,  9,  8,  4,  7,  8,  7,  9, 11,  8,  6,  7,  5, 12,  9, 10,\n",
      "          4, 12, 25, 19, 11,  6,  0]], device='cuda:0')\n",
      "Duration pred: tensor([[ 3,  4,  6,  8,  6,  6,  6,  4,  6,  6,  9, 14, 10,  9, 13, 11,  8, 13,\n",
      "         25,  5,  4,  9, 12,  9,  6,  8,  6,  7,  8,  3,  3, 10, 12,  3,  9, 15,\n",
      "         13, 11, 14,  9,  8,  4,  7,  8,  7,  9, 11,  8,  6,  7,  5, 12,  9, 10,\n",
      "          4, 12, 25, 19, 11,  6,  0]], device='cuda:0')\n",
      "Duration (new): tensor([[ 3, 16,  6,  8,  6,  6,  6,  4,  6,  6,  9, 14, 10,  9, 13, 11,  8, 13,\n",
      "         25,  5,  4,  9, 12,  9,  6,  8,  6,  7,  8,  3,  3, 10, 12,  3,  9, 15,\n",
      "         13, 11, 14,  9,  8,  4,  7,  8,  7,  9, 11,  8,  6,  7,  5, 12,  9, 10,\n",
      "          4, 12, 25, 19, 11,  6,  0]], device='cuda:0')\n",
      "Duration pred: tensor([[ 3,  4,  6,  8,  6,  6,  6,  4,  6,  6,  9, 14, 10,  9, 13, 11,  8, 13,\n",
      "         25,  5,  4,  9, 12,  9,  6,  8,  6,  7,  8,  3,  3, 10, 12,  3,  9, 15,\n",
      "         13, 11, 14,  9,  8,  4,  7,  8,  7,  9, 11,  8,  6,  7,  5, 12,  9, 10,\n",
      "          4, 12, 25, 19, 11,  6,  0]], device='cuda:0')\n",
      "Duration (new): tensor([[ 3,  4,  6, 32,  6,  6,  6,  4,  6,  6,  9, 14, 10,  9, 13, 11,  8, 13,\n",
      "         25,  5,  4,  9, 12,  9,  6,  8,  6,  7,  8,  3,  3, 10, 12,  3,  9, 15,\n",
      "         13, 11, 14,  9,  8,  4,  7,  8,  7,  9, 11,  8,  6,  7,  5, 12,  9, 10,\n",
      "          4, 12, 25, 19, 11,  6,  0]], device='cuda:0')\n",
      "Duration pred: tensor([[ 3,  4,  6,  8,  6,  6,  6,  4,  6,  6,  9, 14, 10,  9, 13, 11,  8, 13,\n",
      "         25,  5,  4,  9, 12,  9,  6,  8,  6,  7,  8,  3,  3, 10, 12,  3,  9, 15,\n",
      "         13, 11, 14,  9,  8,  4,  7,  8,  7,  9, 11,  8,  6,  7,  5, 12,  9, 10,\n",
      "          4, 12, 25, 19, 11,  6,  0]], device='cuda:0')\n",
      "Duration (new): tensor([[ 3,  4,  6,  8,  6, 24,  6,  4,  6,  6,  9, 14, 10,  9, 13, 11,  8, 13,\n",
      "         25,  5,  4,  9, 12,  9,  6,  8,  6,  7,  8,  3,  3, 10, 12,  3,  9, 15,\n",
      "         13, 11, 14,  9,  8,  4,  7,  8,  7,  9, 11,  8,  6,  7,  5, 12,  9, 10,\n",
      "          4, 12, 25, 19, 11,  6,  0]], device='cuda:0')\n",
      "Duration pred: tensor([[ 3,  4,  6,  8,  6,  6,  6,  4,  6,  6,  9, 14, 10,  9, 13, 11,  8, 13,\n",
      "         25,  5,  4,  9, 12,  9,  6,  8,  6,  7,  8,  3,  3, 10, 12,  3,  9, 15,\n",
      "         13, 11, 14,  9,  8,  4,  7,  8,  7,  9, 11,  8,  6,  7,  5, 12,  9, 10,\n",
      "          4, 12, 25, 19, 11,  6,  0]], device='cuda:0')\n",
      "Duration (new): tensor([[ 3,  4,  6,  8,  6,  6,  6, 16,  6,  6,  9, 14, 10,  9, 13, 11,  8, 13,\n",
      "         25,  5,  4,  9, 12,  9,  6,  8,  6,  7,  8,  3,  3, 10, 12,  3,  9, 15,\n",
      "         13, 11, 14,  9,  8,  4,  7,  8,  7,  9, 11,  8,  6,  7,  5, 12,  9, 10,\n",
      "          4, 12, 25, 19, 11,  6,  0]], device='cuda:0')\n",
      "Duration pred: tensor([[ 3,  4,  6,  8,  6,  6,  6,  4,  6,  6,  9, 14, 10,  9, 13, 11,  8, 13,\n",
      "         25,  5,  4,  9, 12,  9,  6,  8,  6,  7,  8,  3,  3, 10, 12,  3,  9, 15,\n",
      "         13, 11, 14,  9,  8,  4,  7,  8,  7,  9, 11,  8,  6,  7,  5, 12,  9, 10,\n",
      "          4, 12, 25, 19, 11,  6,  0]], device='cuda:0')\n",
      "Duration (new): tensor([[ 3,  4,  6,  8,  6,  6,  6,  4,  6, 24,  9, 14, 10,  9, 13, 11,  8, 13,\n",
      "         25,  5,  4,  9, 12,  9,  6,  8,  6,  7,  8,  3,  3, 10, 12,  3,  9, 15,\n",
      "         13, 11, 14,  9,  8,  4,  7,  8,  7,  9, 11,  8,  6,  7,  5, 12,  9, 10,\n",
      "          4, 12, 25, 19, 11,  6,  0]], device='cuda:0')\n",
      "Duration pred: tensor([[ 3,  4,  6,  8,  6,  6,  6,  4,  6,  6,  9, 14, 10,  9, 13, 11,  8, 13,\n",
      "         25,  5,  4,  9, 12,  9,  6,  8,  6,  7,  8,  3,  3, 10, 12,  3,  9, 15,\n",
      "         13, 11, 14,  9,  8,  4,  7,  8,  7,  9, 11,  8,  6,  7,  5, 12,  9, 10,\n",
      "          4, 12, 25, 19, 11,  6,  0]], device='cuda:0')\n",
      "Duration (new): tensor([[ 3,  4,  6,  8,  6,  6,  6,  4,  6,  6,  9, 56, 10,  9, 13, 11,  8, 13,\n",
      "         25,  5,  4,  9, 12,  9,  6,  8,  6,  7,  8,  3,  3, 10, 12,  3,  9, 15,\n",
      "         13, 11, 14,  9,  8,  4,  7,  8,  7,  9, 11,  8,  6,  7,  5, 12,  9, 10,\n",
      "          4, 12, 25, 19, 11,  6,  0]], device='cuda:0')\n",
      "Duration pred: tensor([[ 3,  4,  6,  8,  6,  6,  6,  4,  6,  6,  9, 14, 10,  9, 13, 11,  8, 13,\n",
      "         25,  5,  4,  9, 12,  9,  6,  8,  6,  7,  8,  3,  3, 10, 12,  3,  9, 15,\n",
      "         13, 11, 14,  9,  8,  4,  7,  8,  7,  9, 11,  8,  6,  7,  5, 12,  9, 10,\n",
      "          4, 12, 25, 19, 11,  6,  0]], device='cuda:0')\n",
      "Duration (new): tensor([[ 3,  4,  6,  8,  6,  6,  6,  4,  6,  6,  9, 14, 10,  9, 52, 11,  8, 13,\n",
      "         25,  5,  4,  9, 12,  9,  6,  8,  6,  7,  8,  3,  3, 10, 12,  3,  9, 15,\n",
      "         13, 11, 14,  9,  8,  4,  7,  8,  7,  9, 11,  8,  6,  7,  5, 12,  9, 10,\n",
      "          4, 12, 25, 19, 11,  6,  0]], device='cuda:0')\n",
      "Duration pred: tensor([[ 3,  4,  6,  8,  6,  6,  6,  4,  6,  6,  9, 14, 10,  9, 13, 11,  8, 13,\n",
      "         25,  5,  4,  9, 12,  9,  6,  8,  6,  7,  8,  3,  3, 10, 12,  3,  9, 15,\n",
      "         13, 11, 14,  9,  8,  4,  7,  8,  7,  9, 11,  8,  6,  7,  5, 12,  9, 10,\n",
      "          4, 12, 25, 19, 11,  6,  0]], device='cuda:0')\n",
      "Duration (new): tensor([[ 3,  4,  6,  8,  6,  6,  6,  4,  6,  6,  9, 14, 10,  9, 13, 11,  8, 13,\n",
      "         25,  5, 16,  9, 12,  9,  6,  8,  6,  7,  8,  3,  3, 10, 12,  3,  9, 15,\n",
      "         13, 11, 14,  9,  8,  4,  7,  8,  7,  9, 11,  8,  6,  7,  5, 12,  9, 10,\n",
      "          4, 12, 25, 19, 11,  6,  0]], device='cuda:0')\n",
      "Duration pred: tensor([[ 3,  4,  6,  8,  6,  6,  6,  4,  6,  6,  9, 14, 10,  9, 13, 11,  8, 13,\n",
      "         25,  5,  4,  9, 12,  9,  6,  8,  6,  7,  8,  3,  3, 10, 12,  3,  9, 15,\n",
      "         13, 11, 14,  9,  8,  4,  7,  8,  7,  9, 11,  8,  6,  7,  5, 12,  9, 10,\n",
      "          4, 12, 25, 19, 11,  6,  0]], device='cuda:0')\n",
      "Duration (new): tensor([[ 3,  4,  6,  8,  6,  6,  6,  4,  6,  6,  9, 14, 10,  9, 13, 11,  8, 13,\n",
      "         25,  5,  4,  9, 48,  9,  6,  8,  6,  7,  8,  3,  3, 10, 12,  3,  9, 15,\n",
      "         13, 11, 14,  9,  8,  4,  7,  8,  7,  9, 11,  8,  6,  7,  5, 12,  9, 10,\n",
      "          4, 12, 25, 19, 11,  6,  0]], device='cuda:0')\n",
      "Duration pred: tensor([[ 3,  4,  6,  8,  6,  6,  6,  4,  6,  6,  9, 14, 10,  9, 13, 11,  8, 13,\n",
      "         25,  5,  4,  9, 12,  9,  6,  8,  6,  7,  8,  3,  3, 10, 12,  3,  9, 15,\n",
      "         13, 11, 14,  9,  8,  4,  7,  8,  7,  9, 11,  8,  6,  7,  5, 12,  9, 10,\n",
      "          4, 12, 25, 19, 11,  6,  0]], device='cuda:0')\n",
      "Duration (new): tensor([[ 3,  4,  6,  8,  6,  6,  6,  4,  6,  6,  9, 14, 10,  9, 13, 11,  8, 13,\n",
      "         25,  5,  4,  9, 12, 36,  6,  8,  6,  7,  8,  3,  3, 10, 12,  3,  9, 15,\n",
      "         13, 11, 14,  9,  8,  4,  7,  8,  7,  9, 11,  8,  6,  7,  5, 12,  9, 10,\n",
      "          4, 12, 25, 19, 11,  6,  0]], device='cuda:0')\n",
      "Duration pred: tensor([[ 3,  4,  6,  8,  6,  6,  6,  4,  6,  6,  9, 14, 10,  9, 13, 11,  8, 13,\n",
      "         25,  5,  4,  9, 12,  9,  6,  8,  6,  7,  8,  3,  3, 10, 12,  3,  9, 15,\n",
      "         13, 11, 14,  9,  8,  4,  7,  8,  7,  9, 11,  8,  6,  7,  5, 12,  9, 10,\n",
      "          4, 12, 25, 19, 11,  6,  0]], device='cuda:0')\n",
      "Duration (new): tensor([[ 3,  4,  6,  8,  6,  6,  6,  4,  6,  6,  9, 14, 10,  9, 13, 11,  8, 13,\n",
      "         25,  5,  4,  9, 12,  9,  6,  8,  6, 28,  8,  3,  3, 10, 12,  3,  9, 15,\n",
      "         13, 11, 14,  9,  8,  4,  7,  8,  7,  9, 11,  8,  6,  7,  5, 12,  9, 10,\n",
      "          4, 12, 25, 19, 11,  6,  0]], device='cuda:0')\n",
      "Duration pred: tensor([[ 3,  4,  6,  8,  6,  6,  6,  4,  6,  6,  9, 14, 10,  9, 13, 11,  8, 13,\n",
      "         25,  5,  4,  9, 12,  9,  6,  8,  6,  7,  8,  3,  3, 10, 12,  3,  9, 15,\n",
      "         13, 11, 14,  9,  8,  4,  7,  8,  7,  9, 11,  8,  6,  7,  5, 12,  9, 10,\n",
      "          4, 12, 25, 19, 11,  6,  0]], device='cuda:0')\n",
      "Duration (new): tensor([[ 3,  4,  6,  8,  6,  6,  6,  4,  6,  6,  9, 14, 10,  9, 13, 11,  8, 13,\n",
      "         25,  5,  4,  9, 12,  9,  6,  8,  6,  7,  8,  3,  3, 10, 48,  3,  9, 15,\n",
      "         13, 11, 14,  9,  8,  4,  7,  8,  7,  9, 11,  8,  6,  7,  5, 12,  9, 10,\n",
      "          4, 12, 25, 19, 11,  6,  0]], device='cuda:0')\n",
      "Duration pred: tensor([[ 3,  4,  6,  8,  6,  6,  6,  4,  6,  6,  9, 14, 10,  9, 13, 11,  8, 13,\n",
      "         25,  5,  4,  9, 12,  9,  6,  8,  6,  7,  8,  3,  3, 10, 12,  3,  9, 15,\n",
      "         13, 11, 14,  9,  8,  4,  7,  8,  7,  9, 11,  8,  6,  7,  5, 12,  9, 10,\n",
      "          4, 12, 25, 19, 11,  6,  0]], device='cuda:0')\n",
      "Duration (new): tensor([[ 3,  4,  6,  8,  6,  6,  6,  4,  6,  6,  9, 14, 10,  9, 13, 11,  8, 13,\n",
      "         25,  5,  4,  9, 12,  9,  6,  8,  6,  7,  8,  3,  3, 10, 12,  3,  9, 15,\n",
      "         52, 11, 14,  9,  8,  4,  7,  8,  7,  9, 11,  8,  6,  7,  5, 12,  9, 10,\n",
      "          4, 12, 25, 19, 11,  6,  0]], device='cuda:0')\n",
      "Duration pred: tensor([[ 3,  4,  6,  8,  6,  6,  6,  4,  6,  6,  9, 14, 10,  9, 13, 11,  8, 13,\n",
      "         25,  5,  4,  9, 12,  9,  6,  8,  6,  7,  8,  3,  3, 10, 12,  3,  9, 15,\n",
      "         13, 11, 14,  9,  8,  4,  7,  8,  7,  9, 11,  8,  6,  7,  5, 12,  9, 10,\n",
      "          4, 12, 25, 19, 11,  6,  0]], device='cuda:0')\n",
      "Duration (new): tensor([[ 3,  4,  6,  8,  6,  6,  6,  4,  6,  6,  9, 14, 10,  9, 13, 11,  8, 13,\n",
      "         25,  5,  4,  9, 12,  9,  6,  8,  6,  7,  8,  3,  3, 10, 12,  3,  9, 15,\n",
      "         13, 11, 56,  9,  8,  4,  7,  8,  7,  9, 11,  8,  6,  7,  5, 12,  9, 10,\n",
      "          4, 12, 25, 19, 11,  6,  0]], device='cuda:0')\n",
      "Duration pred: tensor([[ 3,  4,  6,  8,  6,  6,  6,  4,  6,  6,  9, 14, 10,  9, 13, 11,  8, 13,\n",
      "         25,  5,  4,  9, 12,  9,  6,  8,  6,  7,  8,  3,  3, 10, 12,  3,  9, 15,\n",
      "         13, 11, 14,  9,  8,  4,  7,  8,  7,  9, 11,  8,  6,  7,  5, 12,  9, 10,\n",
      "          4, 12, 25, 19, 11,  6,  0]], device='cuda:0')\n",
      "Duration (new): tensor([[ 3,  4,  6,  8,  6,  6,  6,  4,  6,  6,  9, 14, 10,  9, 13, 11,  8, 13,\n",
      "         25,  5,  4,  9, 12,  9,  6,  8,  6,  7,  8,  3,  3, 10, 12,  3,  9, 15,\n",
      "         13, 11, 14,  9,  8,  4, 28,  8,  7,  9, 11,  8,  6,  7,  5, 12,  9, 10,\n",
      "          4, 12, 25, 19, 11,  6,  0]], device='cuda:0')\n",
      "Duration pred: tensor([[ 3,  4,  6,  8,  6,  6,  6,  4,  6,  6,  9, 14, 10,  9, 13, 11,  8, 13,\n",
      "         25,  5,  4,  9, 12,  9,  6,  8,  6,  7,  8,  3,  3, 10, 12,  3,  9, 15,\n",
      "         13, 11, 14,  9,  8,  4,  7,  8,  7,  9, 11,  8,  6,  7,  5, 12,  9, 10,\n",
      "          4, 12, 25, 19, 11,  6,  0]], device='cuda:0')\n",
      "Duration (new): tensor([[ 3,  4,  6,  8,  6,  6,  6,  4,  6,  6,  9, 14, 10,  9, 13, 11,  8, 13,\n",
      "         25,  5,  4,  9, 12,  9,  6,  8,  6,  7,  8,  3,  3, 10, 12,  3,  9, 15,\n",
      "         13, 11, 14,  9,  8,  4,  7,  8, 28,  9, 11,  8,  6,  7,  5, 12,  9, 10,\n",
      "          4, 12, 25, 19, 11,  6,  0]], device='cuda:0')\n",
      "Duration pred: tensor([[ 3,  4,  6,  8,  6,  6,  6,  4,  6,  6,  9, 14, 10,  9, 13, 11,  8, 13,\n",
      "         25,  5,  4,  9, 12,  9,  6,  8,  6,  7,  8,  3,  3, 10, 12,  3,  9, 15,\n",
      "         13, 11, 14,  9,  8,  4,  7,  8,  7,  9, 11,  8,  6,  7,  5, 12,  9, 10,\n",
      "          4, 12, 25, 19, 11,  6,  0]], device='cuda:0')\n",
      "Duration (new): tensor([[ 3,  4,  6,  8,  6,  6,  6,  4,  6,  6,  9, 14, 10,  9, 13, 11,  8, 13,\n",
      "         25,  5,  4,  9, 12,  9,  6,  8,  6,  7,  8,  3,  3, 10, 12,  3,  9, 15,\n",
      "         13, 11, 14,  9,  8,  4,  7,  8,  7,  9, 44,  8,  6,  7,  5, 12,  9, 10,\n",
      "          4, 12, 25, 19, 11,  6,  0]], device='cuda:0')\n",
      "Duration pred: tensor([[ 3,  4,  6,  8,  6,  6,  6,  4,  6,  6,  9, 14, 10,  9, 13, 11,  8, 13,\n",
      "         25,  5,  4,  9, 12,  9,  6,  8,  6,  7,  8,  3,  3, 10, 12,  3,  9, 15,\n",
      "         13, 11, 14,  9,  8,  4,  7,  8,  7,  9, 11,  8,  6,  7,  5, 12,  9, 10,\n",
      "          4, 12, 25, 19, 11,  6,  0]], device='cuda:0')\n",
      "Duration (new): tensor([[ 3,  4,  6,  8,  6,  6,  6,  4,  6,  6,  9, 14, 10,  9, 13, 11,  8, 13,\n",
      "         25,  5,  4,  9, 12,  9,  6,  8,  6,  7,  8,  3,  3, 10, 12,  3,  9, 15,\n",
      "         13, 11, 14,  9,  8,  4,  7,  8,  7,  9, 11, 32,  6,  7,  5, 12,  9, 10,\n",
      "          4, 12, 25, 19, 11,  6,  0]], device='cuda:0')\n",
      "Duration pred: tensor([[ 3,  4,  6,  8,  6,  6,  6,  4,  6,  6,  9, 14, 10,  9, 13, 11,  8, 13,\n",
      "         25,  5,  4,  9, 12,  9,  6,  8,  6,  7,  8,  3,  3, 10, 12,  3,  9, 15,\n",
      "         13, 11, 14,  9,  8,  4,  7,  8,  7,  9, 11,  8,  6,  7,  5, 12,  9, 10,\n",
      "          4, 12, 25, 19, 11,  6,  0]], device='cuda:0')\n",
      "Duration (new): tensor([[ 3,  4,  6,  8,  6,  6,  6,  4,  6,  6,  9, 14, 10,  9, 13, 11,  8, 13,\n",
      "         25,  5,  4,  9, 12,  9,  6,  8,  6,  7,  8,  3,  3, 10, 12,  3,  9, 15,\n",
      "         13, 11, 14,  9,  8,  4,  7,  8,  7,  9, 11,  8,  6,  7,  5, 48,  9, 10,\n",
      "          4, 12, 25, 19, 11,  6,  0]], device='cuda:0')\n",
      "Duration pred: tensor([[ 3,  4,  6,  8,  6,  6,  6,  4,  6,  6,  9, 14, 10,  9, 13, 11,  8, 13,\n",
      "         25,  5,  4,  9, 12,  9,  6,  8,  6,  7,  8,  3,  3, 10, 12,  3,  9, 15,\n",
      "         13, 11, 14,  9,  8,  4,  7,  8,  7,  9, 11,  8,  6,  7,  5, 12,  9, 10,\n",
      "          4, 12, 25, 19, 11,  6,  0]], device='cuda:0')\n",
      "Duration (new): tensor([[ 3,  4,  6,  8,  6,  6,  6,  4,  6,  6,  9, 14, 10,  9, 13, 11,  8, 13,\n",
      "         25,  5,  4,  9, 12,  9,  6,  8,  6,  7,  8,  3,  3, 10, 12,  3,  9, 15,\n",
      "         13, 11, 14,  9,  8,  4,  7,  8,  7,  9, 11,  8,  6,  7,  5, 12,  9, 10,\n",
      "         16, 12, 25, 19, 11,  6,  0]], device='cuda:0')\n",
      "Duration pred: tensor([[ 3,  4,  6,  8,  6,  6,  6,  4,  6,  6,  9, 14, 10,  9, 13, 11,  8, 13,\n",
      "         25,  5,  4,  9, 12,  9,  6,  8,  6,  7,  8,  3,  3, 10, 12,  3,  9, 15,\n",
      "         13, 11, 14,  9,  8,  4,  7,  8,  7,  9, 11,  8,  6,  7,  5, 12,  9, 10,\n",
      "          4, 12, 25, 19, 11,  6,  0]], device='cuda:0')\n",
      "Duration (new): tensor([[  3,   4,   6,   8,   6,   6,   6,   4,   6,   6,   9,  14,  10,   9,\n",
      "          13,  11,   8,  13,  25,   5,   4,   9,  12,   9,   6,   8,   6,   7,\n",
      "           8,   3,   3,  10,  12,   3,   9,  15,  13,  11,  14,   9,   8,   4,\n",
      "           7,   8,   7,   9,  11,   8,   6,   7,   5,  12,   9,  10,   4,  12,\n",
      "         100,  19,  11,   6,   0]], device='cuda:0')\n"
     ]
    }
   ],
   "source": [
    "for my_phone_ids, text, d_factor in zip(batch_phone_ids, batch_text, batch_d_factor):\n",
    "    save_wav(my_fs2, my_model_file, pwgan, filename=text, text=my_phone_ids,\n",
    "             duration_scaling=d_factor, pitch_scaling=p_factor, energy_scaling=e_factor)"
   ],
   "metadata": {
    "collapsed": false
   }
  },
  {
   "cell_type": "code",
   "execution_count": null,
   "outputs": [],
   "source": [],
   "metadata": {
    "collapsed": false
   }
  },
  {
   "cell_type": "code",
   "execution_count": 11,
   "outputs": [],
   "source": [
    "phonemes =                   ' '.join('ð ɪ s ɪ z ɡ ʊ d .'.split())\n",
    "my_phone_ids = torch.IntTensor(my_id_conv.tokens2ids(phonemes)).to(device)"
   ],
   "metadata": {
    "collapsed": false
   }
  },
  {
   "cell_type": "code",
   "execution_count": 39,
   "outputs": [],
   "source": [
    "phonemes =                   ' '.join('ð iː kʰ ə mʲ ɪ ʃ ə n  ʃ  ɛ ɹ z ð ɪ s kʰ ə n s  ɝ  n .'.split())\n",
    "my_phone_ids = torch.IntTensor(my_id_conv.tokens2ids(phonemes)).to(device)"
   ],
   "metadata": {
    "collapsed": false
   }
  },
  {
   "cell_type": "code",
   "execution_count": 40,
   "outputs": [],
   "source": [
    "duration_scaling = [float(x) for x in '1  1  1 1  1 1 1 1 1  1   1 1 1 1 1  1 1 1 1  1  1 1 1 1'.split()]\n",
    "duration_scaling = np.array(duration_scaling)"
   ],
   "metadata": {
    "collapsed": false
   }
  },
  {
   "cell_type": "code",
   "execution_count": 12,
   "outputs": [],
   "source": [
    "pitch_scaling    = [float(x) for x in '0  0  0 0  0 0 0 0 0  0   0 0 0 0 0.5 0 0 0 0 0  0  0 0 0'.split()]\n",
    "pitch_scaling    = np.array(pitch_scaling)"
   ],
   "metadata": {
    "collapsed": false
   }
  },
  {
   "cell_type": "code",
   "execution_count": 13,
   "outputs": [],
   "source": [
    "energy_scaling   = [float(x) for x in '1  1  1 1  1 1 1 1 1  1   1 1 1 1 5 1 1 1 1  1  1 1 1 1 1'.split()]\n",
    "energy_scaling   = np.array(energy_scaling)"
   ],
   "metadata": {
    "collapsed": false
   }
  },
  {
   "cell_type": "code",
   "execution_count": 12,
   "outputs": [],
   "source": [
    "phonemes =                   ' '.join('ð ɪ s ɪ z ɡ ʊ d .'.split())\n",
    "duration_scaling = [float(x) for x in '1 1 1 1 1 1 5 1 1  1'.split()]\n",
    "duration_scaling = np.array(duration_scaling)"
   ],
   "metadata": {
    "collapsed": false
   }
  },
  {
   "cell_type": "code",
   "execution_count": 17,
   "outputs": [],
   "source": [
    "pitch_scaling    = [float(x) for x in '-1 0 1 0 0 0 0 0 0  0'.split()]\n",
    "pitch_scaling    = np.array(pitch_scaling)"
   ],
   "metadata": {
    "collapsed": false
   }
  },
  {
   "cell_type": "code",
   "execution_count": null,
   "outputs": [],
   "source": [
    "energy_scaling   = [float(x) for x in '1 1 1 1 1 1 1 1 1  1'.split()]\n",
    "energy_scaling   = np.array(energy_scaling)"
   ],
   "metadata": {
    "collapsed": false
   }
  },
  {
   "cell_type": "code",
   "execution_count": 14,
   "outputs": [],
   "source": [
    "arpa_phones =                         'DH AH0 K AH0 M IH1 SH AH0 N SH EH1 R Z DH IH1 S K AH0 N S AH0 R N .'.split()\n",
    "phone_ids   = np.array(id_converter.tokens2ids(arpa_phones))"
   ],
   "metadata": {
    "collapsed": false
   }
  },
  {
   "cell_type": "code",
   "execution_count": 70,
   "outputs": [],
   "source": [
    "duration_scaling = [float(x) for x in '1   1  1  1  1  1   1  1  1  1  1  1 1  1  1  1 1  1  1 1  1  5 1 1 1'.split()]\n",
    "duration_scaling = np.array(duration_scaling)"
   ],
   "metadata": {
    "collapsed": false
   }
  },
  {
   "cell_type": "code",
   "execution_count": 7,
   "outputs": [],
   "source": [
    "arpa_phones =                         'AA1 R Y UW1  SH UH1 R'.split(' ')\n",
    "arpa_phones = [p if p else ' ' for p in arpa_phones]\n",
    "phone_ids = torch.IntTensor(id_converter.tokens2ids(arpa_phones)).to(device)"
   ],
   "metadata": {
    "collapsed": false
   }
  },
  {
   "cell_type": "code",
   "execution_count": 24,
   "outputs": [],
   "source": [
    "duration_scaling = [float(x) for x in ' 1  4 1  1  1 1  1  4  1'.strip().split()]\n",
    "duration_scaling = torch.FloatTensor(duration_scaling).to(device)"
   ],
   "metadata": {
    "collapsed": false
   }
  },
  {
   "cell_type": "code",
   "execution_count": 90,
   "outputs": [],
   "source": [
    "arpa_phones =                         'SH UH1 R'.split(' ')\n",
    "phone_ids = torch.IntTensor(id_converter.tokens2ids(arpa_phones)).to(device)"
   ],
   "metadata": {
    "collapsed": false
   }
  },
  {
   "cell_type": "code",
   "execution_count": 31,
   "outputs": [],
   "source": [
    "duration_scaling = [float(x) for x in ' 1  4  4  1'.strip().split()]\n",
    "duration_scaling = torch.FloatTensor(duration_scaling).to(device)"
   ],
   "metadata": {
    "collapsed": false
   }
  },
  {
   "cell_type": "code",
   "execution_count": null,
   "outputs": [],
   "source": [],
   "metadata": {
    "collapsed": false
   }
  },
  {
   "cell_type": "code",
   "execution_count": 18,
   "outputs": [],
   "source": [
    "arpa_phones =                         'B UH1 K'.split(' ')\n",
    "phone_ids = torch.IntTensor(id_converter.tokens2ids(arpa_phones)).to(device)"
   ],
   "metadata": {
    "collapsed": false
   }
  },
  {
   "cell_type": "code",
   "execution_count": 65,
   "outputs": [
    {
     "data": {
      "text/plain": "tensor([ 1, 53, 34, 68], device='cuda:0', dtype=torch.int32)"
     },
     "execution_count": 65,
     "metadata": {},
     "output_type": "execute_result"
    }
   ],
   "source": [
    "phone_ids"
   ],
   "metadata": {
    "collapsed": false
   }
  },
  {
   "cell_type": "code",
   "execution_count": 71,
   "outputs": [],
   "source": [
    "duration_scaling = [float(x) for x in '0.5 1  4  1  1'.strip().split()]\n",
    "duration_scaling = torch.FloatTensor(duration_scaling).to(device)"
   ],
   "metadata": {
    "collapsed": false
   }
  },
  {
   "cell_type": "code",
   "execution_count": 19,
   "outputs": [],
   "source": [
    "phonemes =                            'b ʉː k'.split(' ')\n",
    "my_phone_ids = torch.IntTensor(my_id_conv.tokens2ids(phonemes)).to(device)"
   ],
   "metadata": {
    "collapsed": false
   }
  },
  {
   "cell_type": "code",
   "execution_count": 21,
   "outputs": [],
   "source": [
    "duration_scaling = [float(x) for x in '1  4 1 1'.strip().split()]\n",
    "duration_scaling = torch.FloatTensor(duration_scaling).to(device)"
   ],
   "metadata": {
    "collapsed": false
   }
  },
  {
   "cell_type": "code",
   "execution_count": 15,
   "outputs": [
    {
     "data": {
      "text/plain": "['ð',\n 'ɪ',\n 's',\n 'ɪ',\n 'z',\n 'ə',\n 'c',\n 'ɹ',\n 'i',\n 'ej',\n 'tʲ',\n 'ɪ',\n 'v',\n 's',\n 'ə',\n 'ʎ',\n 'ʉː',\n 'ʃ',\n 'n̩',\n '.']"
     },
     "execution_count": 15,
     "metadata": {},
     "output_type": "execute_result"
    }
   ],
   "source": [
    "my_id_conv.ids2tokens(my_phone_ids)"
   ],
   "metadata": {
    "collapsed": false
   }
  },
  {
   "cell_type": "code",
   "execution_count": 92,
   "outputs": [],
   "source": [
    "phonemes =                            'ʃ ʊ ɹ'.split(' ')\n",
    "my_phone_ids = torch.IntTensor(my_id_conv.tokens2ids(phonemes)).to(device)"
   ],
   "metadata": {
    "collapsed": false
   }
  },
  {
   "cell_type": "code",
   "execution_count": 58,
   "outputs": [],
   "source": [
    "arpa_phones =                         'DH AH0 K AH0 M IH1 SH AH0 N SH EH1 R Z AH0 B UH1 UH1 UH1 UH1 K .'.split(' ')\n",
    "phone_ids = torch.IntTensor(id_converter.tokens2ids(arpa_phones)).to(device)"
   ],
   "metadata": {
    "collapsed": false
   }
  },
  {
   "cell_type": "code",
   "execution_count": 55,
   "outputs": [],
   "source": [
    "duration_scaling = [float(x) for x in '1   1  1  1  1  1   1  1  1  1  1  1 1  1  1    1 1  1'.split()]\n",
    "duration_scaling = torch.FloatTensor(duration_scaling).to(device)"
   ],
   "metadata": {
    "collapsed": false
   }
  },
  {
   "cell_type": "code",
   "execution_count": 67,
   "outputs": [
    {
     "data": {
      "text/plain": "array([53, 34, 68])"
     },
     "execution_count": 67,
     "metadata": {},
     "output_type": "execute_result"
    }
   ],
   "source": [
    "pretrained_fs2.preprocess_fn(\"<dummy>\", dict(text='book'))[\"text\"]"
   ],
   "metadata": {
    "collapsed": false
   }
  },
  {
   "cell_type": "code",
   "execution_count": 22,
   "outputs": [
    {
     "name": "stdout",
     "output_type": "stream",
     "text": [
      "fastspeech2_0\n"
     ]
    }
   ],
   "source": [
    "save_wav(model=my_fs2, model_file=my_model_file, vocoder=pwgan,\n",
    "         filename='this_is_a_creative_solution', text=my_phone_ids)"
   ],
   "metadata": {
    "collapsed": false
   }
  },
  {
   "cell_type": "code",
   "execution_count": 23,
   "outputs": [
    {
     "name": "stdout",
     "output_type": "stream",
     "text": [
      "Duration pred: tensor([[ 5, 16, 12,  0]], device='cuda:0')\n",
      "Duration (new): tensor([[ 5, 64, 12,  0]], device='cuda:0')\n"
     ]
    }
   ],
   "source": [
    "save_wav(model=my_fs2, model_file=my_model_file, vocoder=pwgan,\n",
    "         filename='boooook', text=my_phone_ids, duration_scaling=duration_scaling)"
   ],
   "metadata": {
    "collapsed": false
   }
  },
  {
   "cell_type": "code",
   "execution_count": 95,
   "outputs": [
    {
     "name": "stdout",
     "output_type": "stream",
     "text": [
      "Duration pred: tensor([[16, 19, 14,  0]], device='cuda:0')\n",
      "Duration (new): tensor([[16, 76, 14,  0]], device='cuda:0')\n"
     ]
    }
   ],
   "source": [
    "save_wav(model=my_fs2, vocoder=pwgan, filename='suuuure', text=my_phone_ids, duration_scaling=duration_scaling)"
   ],
   "metadata": {
    "collapsed": false
   }
  },
  {
   "cell_type": "code",
   "execution_count": 89,
   "outputs": [],
   "source": [
    "save_wav(model=pretrained_fs2, vocoder=pwgan, filename='book', text=phone_ids)"
   ],
   "metadata": {
    "collapsed": false
   }
  },
  {
   "cell_type": "code",
   "execution_count": 73,
   "outputs": [
    {
     "name": "stdout",
     "output_type": "stream",
     "text": [
      "Duration pred: tensor([[ 3,  8, 13,  9, 15]], device='cuda:0')\n",
      "Duration (new): tensor([[ 2,  8, 52,  9, 15]], device='cuda:0')\n"
     ]
    }
   ],
   "source": [
    "save_wav(model=pretrained_fs2, vocoder=pwgan, filename='.boooook', text=phone_ids, duration_scaling=duration_scaling)"
   ],
   "metadata": {
    "collapsed": false
   }
  },
  {
   "cell_type": "code",
   "execution_count": 59,
   "outputs": [],
   "source": [
    "save_wav(model=pretrained_fs2, vocoder=pwgan, filename='thecommissionsharesabo;;ok', text=phone_ids)"
   ],
   "metadata": {
    "collapsed": false
   }
  },
  {
   "cell_type": "code",
   "execution_count": 38,
   "outputs": [],
   "source": [
    "save_wav(model=pretrained_fs2, vocoder=pwgan, filename='areyousure(q)', text=phone_ids)"
   ],
   "metadata": {
    "collapsed": false
   }
  },
  {
   "cell_type": "code",
   "execution_count": 91,
   "outputs": [],
   "source": [
    "save_wav(model=pretrained_fs2, vocoder=pwgan, filename='sure', text=phone_ids)"
   ],
   "metadata": {
    "collapsed": false
   }
  },
  {
   "cell_type": "code",
   "execution_count": 50,
   "outputs": [
    {
     "name": "stdout",
     "output_type": "stream",
     "text": [
      "Duration pred: tensor([[ 5, 10, 14,  9, 16]], device='cuda:0')\n",
      "Duration (new): tensor([[ 5, 10, 56,  9, 16]], device='cuda:0')\n"
     ]
    }
   ],
   "source": [
    "save_wav(model=pretrained_fs2, vocoder=pwgan, filename='_boooook', text=phone_ids, duration_scaling=duration_scaling)"
   ],
   "metadata": {
    "collapsed": false
   }
  },
  {
   "cell_type": "code",
   "execution_count": 32,
   "outputs": [
    {
     "name": "stdout",
     "output_type": "stream",
     "text": [
      "Duration pred: tensor([[ 7, 14, 15, 19]], device='cuda:0')\n",
      "Duration (new): tensor([[ 7, 56, 60, 19]], device='cuda:0')\n"
     ]
    }
   ],
   "source": [
    "save_wav(model=pretrained_fs2, vocoder=pwgan, filename='suuurrrre', text=phone_ids, duration_scaling=duration_scaling)"
   ],
   "metadata": {
    "collapsed": false
   }
  },
  {
   "cell_type": "code",
   "execution_count": 25,
   "outputs": [
    {
     "name": "stdout",
     "output_type": "stream",
     "text": [
      "Duration pred: tensor([[ 3,  8,  8,  8,  8, 11, 12, 13, 17]], device='cuda:0')\n",
      "Duration (new): tensor([[ 3, 32,  8,  8,  8, 11, 12, 52, 17]], device='cuda:0')\n"
     ]
    }
   ],
   "source": [
    "save_wav(model=pretrained_fs2, vocoder=pwgan, filename='arrreyou_surrrre', text=phone_ids, duration_scaling=duration_scaling)"
   ],
   "metadata": {
    "collapsed": false
   }
  },
  {
   "cell_type": "code",
   "execution_count": 51,
   "outputs": [
    {
     "name": "stdout",
     "output_type": "stream",
     "text": [
      "[69 76 68 76 64 66 43 76 75 43 63 71 67 69 66 72 68 76 75 72 76 71 75 45]\n"
     ]
    },
    {
     "data": {
      "text/plain": "tensor([[-1.3969, -0.8583, -0.8896,  ...,  0.6136,  0.5762,  0.6000],\n        [-0.5911, -0.1105,  0.2743,  ...,  0.5918,  0.5819,  0.6414],\n        [-0.1450,  0.1302,  0.7574,  ...,  0.4194,  0.5463,  0.7029],\n        ...,\n        [-1.3131, -0.9279, -1.3022,  ..., -1.1957, -1.2971, -1.3577],\n        [-1.3000, -0.9907, -1.3771,  ..., -1.2181, -1.3120, -1.3717],\n        [-1.3402, -1.0958, -1.4299,  ..., -1.2188, -1.3229, -1.3871]],\n       device='cuda:0')"
     },
     "execution_count": 51,
     "metadata": {},
     "output_type": "execute_result"
    }
   ],
   "source": [
    "save_wav(pretrained_fs2, 'LJ050-0075_concerrrrrn', text=phone_ids, duration_scaling=duration_scaling)"
   ],
   "metadata": {
    "collapsed": false
   }
  }
 ],
 "metadata": {
  "kernelspec": {
   "display_name": "Python 3",
   "language": "python",
   "name": "python3"
  },
  "language_info": {
   "codemirror_mode": {
    "name": "ipython",
    "version": 2
   },
   "file_extension": ".py",
   "mimetype": "text/x-python",
   "name": "python",
   "nbconvert_exporter": "python",
   "pygments_lexer": "ipython2",
   "version": "2.7.6"
  }
 },
 "nbformat": 4,
 "nbformat_minor": 0
}
