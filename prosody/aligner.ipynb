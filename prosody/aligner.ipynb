{
 "cells": [
  {
   "cell_type": "code",
   "execution_count": 39,
   "outputs": [],
   "source": [
    "from pathlib import Path\n",
    "from prosody.aligner import G2PAligner"
   ],
   "metadata": {
    "collapsed": false
   }
  },
  {
   "cell_type": "code",
   "execution_count": 12,
   "outputs": [],
   "source": [
    "aligner = G2PAligner('g2p_dict.txt', 'g2p_letters.txt')"
   ],
   "metadata": {
    "collapsed": false
   }
  },
  {
   "cell_type": "code",
   "execution_count": 21,
   "outputs": [
    {
     "data": {
      "text/plain": "[('wh', ('W',)),\n ('e', ('EH0',)),\n ('r', ('R',)),\n ('e', ()),\n ('b', ('B',)),\n ('y', ('AY1',))]"
     },
     "execution_count": 21,
     "metadata": {},
     "output_type": "execute_result"
    }
   ],
   "source": [
    "# Simply call aligner to get a list of (graphemes, phonemes)\n",
    "aligner(word='whereby', pron='W EH0 R B AY1'.split())"
   ],
   "metadata": {
    "collapsed": false
   }
  },
  {
   "cell_type": "code",
   "execution_count": 25,
   "outputs": [
    {
     "data": {
      "text/plain": "[('wh', ('W',)),\n ('', 'Z'),\n ('e', ('EH0',)),\n ('r', ('R',)),\n ('e', ()),\n ('b', ('B',)),\n ('o', ('AY1',)),\n ('k', ())]"
     },
     "execution_count": 25,
     "metadata": {},
     "output_type": "execute_result"
    }
   ],
   "source": [
    "# If it cannot be aligned, the default behaviour is to insert silent graphemes or phonemes and substitute\n",
    "aligner(word='wherebok', pron='W Z EH0 R B AY1'.split())\n",
    "# in this example, nothing maps to phoneme Z, 'o' gets mapped to AY1 (though invalid) and 'k' maps to nothing"
   ],
   "metadata": {
    "collapsed": false
   }
  },
  {
   "cell_type": "code",
   "execution_count": 27,
   "outputs": [
    {
     "data": {
      "text/plain": "[('th', ('TH',)),\n ('r', ('R',)),\n ('ee', ('IY1',)),\n ('-', ()),\n ('d', ('D', 'IY2'))]"
     },
     "execution_count": 27,
     "metadata": {},
     "output_type": "execute_result"
    }
   ],
   "source": [
    "# If you need to align with letters being pronounced\n",
    "alignment, valid, traceback = aligner.align_spell_letters(word='three-d', pron='TH R IY1 D IY2'.split())\n",
    "alignment"
   ],
   "metadata": {
    "collapsed": false
   }
  },
  {
   "cell_type": "code",
   "execution_count": 36,
   "outputs": [
    {
     "data": {
      "text/plain": "False"
     },
     "execution_count": 36,
     "metadata": {},
     "output_type": "execute_result"
    }
   ],
   "source": [
    "# If you need to check whether the graphemes can be aligned or not\n",
    "alignment, valid, traceback = aligner.align(word='wherebok', pron='W Z EH0 R B AY1'.split())\n",
    "valid"
   ],
   "metadata": {
    "collapsed": false
   }
  },
  {
   "cell_type": "code",
   "execution_count": 38,
   "outputs": [
    {
     "data": {
      "text/plain": "[('wherebok', ['W', 'Z', 'EH0', 'R', 'B', 'AY1']),\n ('erebok', ['Z', 'EH0', 'R', 'B', 'AY1']),\n ('rebok', ['Z', 'EH0', 'R', 'B', 'AY1']),\n ('bok', ['Z', 'EH0', 'R', 'B', 'AY1']),\n ('herebok', ['Z', 'EH0', 'R', 'B', 'AY1']),\n ('erebok', ['Z', 'EH0', 'R', 'B', 'AY1']),\n ('rebok', ['Z', 'EH0', 'R', 'B', 'AY1']),\n ('bok', ['Z', 'EH0', 'R', 'B', 'AY1'])]"
     },
     "execution_count": 38,
     "metadata": {},
     "output_type": "execute_result"
    }
   ],
   "source": [
    "# If you need to check what failed during alignment. Here we expect to fail with hitting phoneme Z\n",
    "alignment, valid, traceback = aligner.align(\n",
    "    word='wherebok', pron='W Z EH0 R B AY1'.split(), traceback=[]\n",
    ")\n",
    "traceback"
   ],
   "metadata": {
    "collapsed": false
   }
  },
  {
   "cell_type": "code",
   "execution_count": 195,
   "outputs": [],
   "source": [
    "# Checking the CMU dictionary for words that cannot be aligned\n",
    "# hence, either our G2P dictionary is wrong or the CMU dictionary is wrong\n",
    "import re\n",
    "\n",
    "def read_word_prons(cmudict_path):\n",
    "    word_prons = []\n",
    "    with open(cmudict_path) as dic:\n",
    "        for line in dic:\n",
    "            if not line.startswith(';'):\n",
    "                word, pron = line.rstrip().split('  ')\n",
    "                if '.' in word:\n",
    "                    continue\n",
    "                pron = pron.split(' ')\n",
    "                word = word.lower()\n",
    "                word = re.sub(r\"[^a-z']\", '', word)\n",
    "                word_prons.append((word, pron))\n",
    "    return word_prons\n"
   ],
   "metadata": {
    "collapsed": false
   }
  },
  {
   "cell_type": "code",
   "execution_count": 196,
   "outputs": [],
   "source": [
    "# Generate tracebacks for any word that can't be aligned\n",
    "def check_invalids(word_prons, out_path):\n",
    "    with open(out_path, 'w') as f:\n",
    "        for i, (word, pron) in enumerate(word_prons):\n",
    "            traceback = []\n",
    "            alignment, valid, traceback = aligner.align(word, pron, traceback)\n",
    "            if not valid:\n",
    "                traceback = []\n",
    "                alignment, valid, traceback = aligner.align_spell_letters(word, pron, traceback)\n",
    "                if not valid:\n",
    "                    f.write(str(i))\n",
    "                    for subword, subpron in traceback:\n",
    "                        f.write(f'\\t{subword} {subpron}\\n')\n",
    "                    f.write('\\n')"
   ],
   "metadata": {
    "collapsed": false
   }
  },
  {
   "cell_type": "code",
   "execution_count": null,
   "outputs": [],
   "source": [
    "word_prons = read_word_prons('cmudict-0.7b.txt')\n",
    "check_invalids(word_prons, 'invalids')"
   ],
   "metadata": {
    "collapsed": false
   }
  },
  {
   "cell_type": "code",
   "execution_count": 292,
   "outputs": [],
   "source": [
    "# If we want to check the penalty for invalid alignments (substition = 1.5, addition/deletion = 1)\n",
    "with open('invalids') as f:\n",
    "    for line in f:\n",
    "        split_line = line.rstrip().split('  ', maxsplit=1)\n",
    "        if len(split_line) == 2:\n",
    "            word, pron = split_line[1].split(' ', maxsplit=1)\n",
    "            alignment, penalty = aligner.align_fallback(word, pron)\n",
    "            print(alignment, penalty)"
   ],
   "metadata": {
    "collapsed": false
   }
  },
  {
   "cell_type": "code",
   "execution_count": 296,
   "outputs": [],
   "source": [
    "# Log any changes made in the updated CMU dictionary to a new file\n",
    "word_prons = {}\n",
    "with open('cmudict-0.7c.txt') as dic:\n",
    "    for line in dic:\n",
    "        if not line.startswith(';'):\n",
    "            word, pron = line.rstrip().split('  ')\n",
    "            word_prons[word] = pron\n",
    "old_word_prons = {}\n",
    "with open('cmudict-0.7b.txt') as dic:\n",
    "    for line in dic:\n",
    "        if not line.startswith(';'):\n",
    "            word, pron = line.rstrip().split('  ')\n",
    "            old_word_prons[word] = pron\n",
    "\n",
    "with open('dict_changes.txt', 'w') as f:\n",
    "    f.write('**** ADDITIONS ****\\n\\n')\n",
    "    for word in sorted(word_prons.keys() - old_word_prons.keys()):\n",
    "        pron = word_prons[word]\n",
    "        f.write(f'{word}  {pron}\\n')\n",
    "    f.write('\\n**** DELETIONS ****\\n\\n')\n",
    "    for word in sorted(old_word_prons.keys() - word_prons.keys()):\n",
    "        old_pron = old_word_prons[word]\n",
    "        f.write(f'{word}  {old_pron}\\n')\n",
    "    f.write('\\n**** CORRECTIONS ****\\n\\n')\n",
    "    for word in sorted(old_word_prons.keys() & word_prons.keys()):\n",
    "        old_pron = old_word_prons[word]\n",
    "        pron = word_prons[word]\n",
    "        if old_pron != pron:\n",
    "            f.write(f'{word}  {old_pron} >> {pron}\\n')"
   ],
   "metadata": {
    "collapsed": false
   }
  },
  {
   "cell_type": "code",
   "execution_count": 301,
   "outputs": [
    {
     "data": {
      "text/plain": "{'BABLER',\n \"RISSOLI'S\",\n 'NISWANDER',\n 'SUMMONSES',\n 'WHANG',\n 'PIGEONHOLED',\n 'OAKLEY',\n 'FRITCHMAN',\n 'INTEGER',\n \"DARROW'S\",\n 'VOMIT',\n 'HUGUET',\n 'CLASSY',\n 'QUES(1)',\n 'NONSTARTER',\n 'MONTRONE',\n 'VINDICATION',\n 'FILION',\n 'GRANDBABY',\n 'RICHCO',\n 'AZALIA',\n 'FRIL',\n 'SELF-SUFFICIENCY',\n 'RESPEAK',\n 'PATRICE',\n 'EURO(1)',\n 'MANIC',\n 'BROSHEARS',\n 'DROMEDARY',\n 'QUIZZICAL',\n 'TOTMAN',\n 'HONKY',\n 'TANGUAY',\n 'BALDERSON',\n 'SCAM',\n \"NATIONSBANC'S(1)\",\n 'CELIS',\n 'KOFFLER(1)',\n 'DECHERD',\n 'KLUMB',\n 'HARSHA',\n 'ISLER',\n 'VISITS',\n 'COMMUNIQUE(1)',\n 'STRIPER',\n 'UREMIA',\n 'FEARLESS',\n 'JANINA',\n 'MAGLICA',\n 'POLITICAL',\n 'GARSIDE',\n 'SCHAEFFER',\n 'TWAT',\n 'RUDDICK',\n 'INFECTING',\n \"CUNNINGHAM'S\",\n \"SOUP'S\",\n 'GIROUARD',\n 'FERNANDES',\n 'SCHNIER',\n 'PRONG',\n 'LOBE',\n 'KIS',\n 'REVOKE(1)',\n 'CRITICALLY',\n 'TOWNSON',\n 'VANDERWOUDE',\n 'CIST',\n 'JUNETTE',\n 'CONROW',\n 'ENIX',\n 'OPPORTUNIST',\n 'ALVERTON',\n 'BUFFETING(1)',\n 'LETTER',\n 'HASER',\n 'FARING',\n 'INCUR',\n 'MCKENNEY',\n 'MOHLER',\n 'MORPHONIOS',\n 'LANDVIEW',\n 'WESTMAN',\n 'WIPEOUT',\n 'STOPPAGE',\n 'BEHNKEN',\n 'HEAVILY',\n 'XUAN',\n 'DOOLEY',\n 'IMPEDIMENTS',\n 'PUFFING',\n 'SCHMETTERER',\n 'TANGERINE',\n 'INDEFINABLE',\n 'ABSENTEE',\n 'BOSKOVICH',\n 'FANGMAN',\n 'NON-TURBOS',\n 'CONTRIVED',\n 'DEPERSONALIZE(1)',\n 'OLAY',\n 'FIBROIDS',\n 'WIZARDS',\n 'CLAYMONT',\n 'INCORRIGIBLE',\n 'FUNK',\n 'KLEJNA',\n 'HEISEL',\n 'LACTASE',\n 'ZAMBRANA',\n 'MADONIA',\n 'COURTADE',\n 'MENNINI',\n \"PAL'S\",\n 'KINCY',\n 'CHABLIS',\n 'DANTE',\n 'RUBBERS',\n 'ELDRIDGE',\n 'FULMER',\n 'WHEATLY(1)',\n \"MICHAEL'S\",\n 'BOROWIEC',\n 'KOERNKE',\n 'LAXSON',\n 'TSUKAMOTO(1)',\n 'LANDSAT',\n 'SUPER',\n 'RHEA',\n 'BP',\n 'OCONNER',\n 'WACKY',\n 'PELLERITO',\n 'TAPIAS',\n 'BRANDI',\n 'COWPER',\n 'OBSERVING',\n 'BIGWIGS',\n 'BUDNIK',\n 'ABERRATIONS',\n 'CROOKS',\n 'DUSH(1)',\n \"EQUITABLE'S\",\n 'LASKIN',\n 'HARRON',\n 'LEWTON',\n 'LAYPERSON',\n 'PAPERBOY',\n 'VANESSA',\n 'THREADBARE',\n 'BUGGER',\n 'NOIR',\n 'ROLLET',\n \"AUTO'S\",\n 'SANITATION(1)',\n 'WIDMER',\n 'MAGNONE',\n 'ECHOLOCATION',\n \"JEFF'S\",\n 'FINNING',\n 'BRINKERHOFF',\n 'HERMENIO',\n 'DANTUONO',\n 'VEST',\n 'LORELLI',\n 'CARRIBEAN',\n 'BOWER',\n 'ETHIOPIA',\n 'VLASIC',\n 'MENAGERIE',\n 'SOVIET-UNION',\n 'ESME',\n 'DILMORE',\n 'EXTRATERRITORIALITY',\n 'GULL',\n 'NOSINESS',\n 'MARQUAND',\n 'AUCH',\n 'SEGUE(1)',\n 'CANADIANS',\n 'FUNNELING(1)',\n 'RESPONSIVENESS',\n 'MUTINEER',\n 'DIMARCO',\n 'AMORIST',\n 'LATHEM',\n 'SURPASSING',\n 'LEWIN',\n 'TRUS',\n \"NADER'S\",\n 'LANGHORNE',\n 'PASZEK',\n 'ANDREZAK',\n 'APPOINTMENTS',\n 'IRREPRESSIBLE',\n 'ADIRONDACK',\n 'KRIMINYOK',\n 'LYRIS',\n 'SLATTEN',\n 'ASSISTANCE',\n 'VALLERY',\n 'SCHOW',\n 'ROBLEY',\n 'LEARNERS',\n \"HINDSIGHT'S\",\n 'LUBER',\n 'YIN',\n 'COUNTERMOVE',\n 'BLOOMINGDALE',\n 'BEITZEL',\n 'ALTSHULER(1)',\n 'COSSAT',\n 'BONSAI',\n 'FRAPH',\n 'FINANCIALLY',\n 'JACINTO',\n 'SUPERCENTER',\n 'DOUGHERTY(1)',\n \"FARM'S\",\n \"AGUIRRE'S(1)\",\n 'DYSART',\n 'GODFATHER',\n 'KNOPF',\n 'TRUDY',\n 'TAMOXIFEN',\n \"BROKERAGES'\",\n 'KAMIKAZE',\n 'BAYNE',\n 'LILIA',\n 'SCHLEICHER',\n 'THERESA(1)',\n 'WEASELS',\n 'CAPITALIZED',\n 'OUTDID',\n 'TIGERA',\n 'ARROGATE',\n 'FEAT',\n 'PRODUCTIONS(1)',\n 'CAVALCADE',\n 'EASOM',\n 'LIPPA',\n 'FLESHER',\n 'HODGEN',\n 'JURANEK',\n 'ASSERTIVELY',\n 'UNQUESTIONED',\n 'INNISS',\n 'CHASTISED',\n 'GRAMMYS',\n 'DROWNINGS',\n \"MORGAN'S\",\n 'TERHAAR',\n 'VOUCH',\n 'BAKELMAN',\n \"FARGO'S\",\n 'FREEDLAND',\n 'IAKOVOS',\n 'JABBING',\n 'LANDHOLDINGS',\n 'MCELRAVY',\n 'AZTAR',\n 'LIBERMAN',\n 'SIXERS',\n 'VANDELLAS',\n 'COMPUTERLAND',\n 'DÉJÀ',\n 'NUDEY',\n 'CORSETTI',\n 'INTERRELATED',\n \"NATION'S\",\n 'COUNCILORS',\n 'GANGBANGER',\n 'KNIGGE',\n 'NIEDER',\n 'KEYSOR',\n 'PASSAIC',\n 'PENTATHLON',\n 'PLYMOUTH',\n 'LOVINGER',\n 'BENNINGTON',\n 'TOMATO',\n 'WINDOM',\n 'GILLEY',\n 'LAZIER',\n 'BIRKLAND',\n 'OVIPAROUS',\n 'BABINEAUX',\n 'BOITANO',\n 'INTERNATIONALIZATION(1)',\n \"RUDY'S\",\n 'URINALYSIS',\n 'FERTILIZERS',\n 'EVIDENTLY',\n 'BRAE',\n 'FUCKS',\n 'SILLIER',\n 'BOLSHEVIKS',\n 'HEADCHEESE',\n 'CONSTANTINOS',\n 'WILBERFORCE',\n 'DOMAS',\n 'DEFAULTS',\n 'SPACESHIPS',\n 'HIGHFIELD',\n 'OUTLAWING',\n 'BERTHS',\n 'SATISFACTORILY',\n 'ALAGAPPAN',\n 'SPRAYERS',\n 'SCHMITT',\n 'CAPS',\n 'LUPI',\n 'LILCO',\n 'YAZOV(1)',\n 'KILLMAN',\n 'DYMOND',\n 'MIGRATED',\n 'BABULA',\n 'RHINOCEROS',\n 'DE(2)',\n 'HOVERSON',\n 'DECARLI',\n 'PIHL',\n 'LORAL',\n 'CANSLER',\n 'MISMANAGING',\n 'PAGEANTRY',\n 'ST_CLAIR',\n 'WEINREB',\n 'CONJUGATED',\n 'DIBARTOLO',\n 'UHLS',\n 'BUREAUCRATS(1)',\n 'HEYMAN',\n 'LAMMONS',\n 'OSTERHOFF',\n 'REPORTER',\n 'CATALANO',\n 'NORNA',\n 'CALLICOTT',\n 'MASSOTH',\n 'TUTORIAL',\n 'CAMILLI',\n 'KINTER',\n 'MEDICI',\n 'GAUDIOSO',\n 'UNVARNISHED',\n 'BOHANNON',\n 'PABON',\n 'STAMLER',\n 'CONNOISSEUR',\n 'BEDDING',\n 'CRENWELGE',\n 'FEDELE',\n 'UNDERSEA',\n 'WAREHIME',\n 'HOMESICKNESS',\n 'WEATHERPERSON',\n 'EDGER',\n 'ENGH',\n 'ALBERTVILLE',\n 'NOBODY(1)',\n 'RAIDERS',\n 'CLAYBORNE',\n 'CORNY',\n 'BILDNER',\n 'CRUNCHY',\n 'KAYES',\n 'AMBULATOR',\n 'SAPPING',\n 'LOPP',\n 'CONCORD(1)',\n 'USTASHA',\n 'GRANDA',\n 'KOREA',\n 'REBELLIOUS(1)',\n 'REMODELING(1)',\n 'ESKEY',\n 'POPPIES',\n 'VOLATILITY',\n 'PROGNOSIS',\n 'PANSOPHIC',\n 'TINCH',\n 'GENETICIST',\n 'INCISIONS',\n 'MISDIRECTED',\n 'HERSELF',\n 'ORENSTEIN',\n 'YURCHAK(1)',\n 'GERSTEN',\n 'WHACKOS',\n 'FIRMNESS',\n 'REGIMENTED',\n 'SEAWOLF',\n 'DECAFFEINATING',\n 'KRITZER',\n 'OGLESBY',\n \"O'DELL\",\n 'PINKSTAFF',\n 'HAIR',\n 'REFERENCE',\n 'SLUGGISHLY',\n 'SOMMERVILLE',\n 'TUNED',\n 'OSTERMEYER',\n 'AGGRANDIZING(1)',\n 'YENE(1)',\n 'HAALAND',\n 'LENTIL',\n 'PRETEND',\n \"THORNBURGH'S\",\n 'FLANERY',\n 'RIPPLINGER(1)',\n 'ARMER',\n 'IMPORTS',\n 'KNEISLEY',\n 'MCKOWEN',\n 'OMNIBUS',\n \"KATIE'S\",\n 'BORTEL',\n 'ABOU',\n 'SISCO',\n 'PARAPLEGIC',\n 'GRISSOM',\n 'SEREX',\n 'HABERSTROH',\n 'SELF-DESTRUCTING',\n 'STEIN',\n \"HOMEOWNERS'\",\n 'INSTITUTIONALLY',\n 'BROOKMAN',\n 'NOSTRIL',\n 'TURSKI',\n 'WETHINGTON',\n 'OVERGROWN',\n 'RICKE',\n 'BENESCH',\n 'CYCLONE',\n 'FINANCIER',\n 'LYMPHOMA',\n 'THUMB',\n 'WAIKIKI',\n 'FEIGENBAUM',\n 'CONSUMERS',\n 'KLOOS',\n 'WEBSITES',\n 'GLOOMIER',\n 'BENNETTS',\n 'DENOTED',\n 'RANLEY',\n 'FAINTED',\n 'PARLETT',\n 'BLEY',\n 'MARLYS',\n 'BENEFITING',\n 'OVER',\n 'ALARMINGLY',\n \"FOREIGNERS'\",\n 'LIFER',\n 'PASTORA',\n 'SYSTEMWIDE',\n 'BLUE',\n 'ABKHAZIA(1)',\n 'BURL',\n 'TOMATINO',\n 'BAYLEE',\n 'ONE-ON-ONE',\n 'ROB',\n 'VUKOVICH',\n 'ARBEITER',\n 'WISPY',\n \"CASINO'S\",\n 'DRAHUSCHAK(1)',\n 'CANINO',\n 'MIURA',\n 'ANTAYA',\n \"ETTINGER'S\",\n \"MAKERS'\",\n 'ESSENTIALS',\n 'AMOCO',\n 'STERNPOST',\n 'HAGINS(1)',\n 'RALLS',\n 'DOROW',\n 'FIREFOX',\n 'HABLE',\n 'HALBUR',\n 'FATH',\n 'COPPINGER',\n 'LAFFEY',\n 'MEDICAL',\n 'TORAN',\n 'SWEATSUIT',\n 'TREBLED',\n 'DECCA',\n 'SURFACES',\n 'THEW',\n 'FOLAN',\n 'TELFOUR',\n 'GRIMLY',\n 'FIER',\n 'MUNDEN',\n 'WATCHING',\n 'RAGONA',\n 'PRYING',\n 'MULLINIX',\n 'GUERRE',\n 'DEEPENED',\n 'HILSINGER',\n 'LIFTS',\n 'LILLEHAMER',\n 'GAMBIA',\n 'AMBOY',\n 'TOLERANT',\n 'JETBORNE',\n 'FLINNER',\n 'CHRISTON',\n 'AWAYS',\n 'DREILING',\n 'TIRED',\n 'SEISMOLOGY',\n 'BESSEMER',\n 'COIPA',\n 'JAEGER(1)',\n 'AMD',\n 'BELLEVUE',\n 'MULTIVARIATE',\n 'PREDAWN',\n 'PRIZED',\n 'SCHOLZE',\n 'BRINKMANN',\n 'GEAC',\n 'INEQUALITY',\n 'FARRAN',\n 'LEAS',\n 'LIONIZE',\n 'REMEDIATION',\n 'CREDENZA',\n 'SAMPLEY',\n 'SITUATION',\n 'PARGESA',\n 'BEALS',\n \"MCGEE'S\",\n 'ILLITERACY',\n 'DINGLEY',\n 'LUDKE',\n 'MENDILLO',\n 'COLLOPY',\n 'WEISSERT',\n 'CORNELIOUS',\n 'ORONA',\n 'DEDIOS',\n 'DOV',\n 'SALYER',\n 'TRIVEST',\n 'HOY',\n 'TABLETOP',\n 'ENSEY',\n 'RUDE',\n 'OBJECTS(1)',\n 'CHIMPANZEE',\n 'GRANDS',\n 'KRIZAN',\n 'DEDHAM',\n 'FELAN',\n 'OPTIMISTS',\n 'GRANDBERRY',\n 'GRAS(1)',\n 'LECLERC',\n 'DILEONARDO',\n 'CASHION',\n 'LEMBO',\n 'MICKI',\n 'AREQUIPA',\n 'BISEL',\n 'WHEEZE(1)',\n 'FORKER',\n 'ROEHL',\n 'SHRUNKEN',\n 'WARSTLER',\n 'IMPRISONMENT',\n 'WHEW',\n 'ALIGNMENT',\n 'CANONIZATION',\n 'COVERAGES(1)',\n 'CUTHBERT',\n 'GASCON',\n 'MOLDS',\n 'PAOLINO',\n 'WALBORN',\n 'LESOTHO',\n 'ALASKA',\n 'GRAFF',\n 'CENTANNI(1)',\n 'KOHR',\n 'WHOREHOUSE',\n 'PRECIOUS',\n 'APPENDIX',\n 'PROCESSIONS',\n 'ENTERTAINED(1)',\n 'EVANGELICAL',\n 'KERTESZ',\n 'BLOWGUNS',\n 'REASONED',\n 'COMPOSTS',\n 'BLANDIN',\n \"CONSERVATIVES'\",\n 'ADERMAN',\n 'ZUCCARO',\n 'DISBURSEMENT',\n 'COEXISTING',\n \"BART'S\",\n 'WIDRIG',\n 'DASHEL',\n 'STANDEX',\n 'COBRAS',\n 'ANNANDALE',\n \"CURT'S\",\n 'LA_PAZ',\n 'YAOHAN',\n 'RENMINBI',\n 'WALDNER',\n 'PROOFREAD',\n 'LULLS',\n 'TRISTAR',\n 'BIEDA',\n 'IDEOLOGICAL',\n 'DISPUTATION',\n 'SUSCEPTIBILITY',\n 'DALFEN',\n 'GANGE',\n \"DIDN'T(1)\",\n \"PIG'S\",\n 'GREGORI',\n 'DESCRIBABLE',\n \"TERESA'S(1)\",\n 'TEICHER',\n 'SHOP',\n 'WORSHIPS',\n 'JOURNALISM',\n 'UENOHARA',\n 'KRZYWICKI',\n 'PERMENTER',\n 'IMHOFF',\n 'HIROAKI',\n 'MANOLIS',\n 'SUTER',\n 'BOSTON',\n 'MIDDLEKAUFF',\n 'TOURNQUIST',\n 'HEMSLEY',\n \"COMPANY'S\",\n 'ORLOFF',\n 'COULTAS',\n 'THAXTER',\n 'TAUGHT',\n 'QUOTING',\n 'EICH',\n 'REMISSION',\n 'HOENIG',\n 'MARGARETA',\n \"DAX'\",\n 'STETSON',\n 'DEFUSED',\n 'BITZER',\n 'KLAWITTER',\n 'GOMILLION',\n 'MASONS',\n 'BINNIE',\n 'ENTRANCED',\n 'CARTHAGE',\n 'INACCESSIBILITY',\n 'LANEVE',\n 'ARNWINE',\n 'UNKNOWNS',\n 'N_WORDS',\n 'NONNATIVE',\n 'ZENTRALSPARKASSE',\n \"VENDORS'\",\n 'RINALDO',\n 'BJORKMAN',\n 'ACUTENESS',\n 'UNITAF',\n 'WHITESELL',\n 'ROSEN',\n 'PENN',\n 'COLONIALIST',\n 'PLANAS',\n 'MASHBURN',\n 'BROOKBANK',\n 'MACKINLEY',\n 'MEZGER',\n 'FOLAND',\n 'SWEEZY',\n 'LAMAN',\n 'MERITLESS',\n 'CUPPLES',\n 'DEDUCTS',\n 'EXTREMISM',\n 'CRACKING',\n 'RAFALE',\n 'SORCERER',\n 'BAPTISTS(1)',\n 'SPAGNOLA',\n 'INFIRMITIES',\n 'HANNAGAN',\n 'STOCKADE',\n 'TIGHTENINGS(1)',\n 'OBSCURING',\n \"SCHOENHOF'S\",\n 'SOLUTES',\n 'VANDIVIER',\n \"GINA'S\",\n \"ECHO'S\",\n 'NEVE',\n 'KLERK',\n 'BOMBERGER',\n 'LICHTENBERG',\n 'REAGENTS',\n 'HEATHEN',\n 'INTERCEDE',\n 'BRUSQUELY',\n 'COURTYARDS',\n 'PAYMER',\n 'LABORATORY',\n 'KINARK',\n 'SIPES',\n 'EWBAL',\n 'SOYBEANS',\n 'DOMENICO',\n 'STERNBACH',\n 'BINA',\n \"DEVIL'S\",\n 'TENTS',\n 'BLUER',\n 'CORPORATION',\n 'SOHO',\n 'GRAEFF(1)',\n 'AYARS',\n 'ROTELLA',\n 'TARDIFF',\n 'PECUNIARY',\n 'GOMORRAH',\n 'RUINING',\n 'SIVILS',\n 'CALENDER',\n 'TUELL',\n 'SURREBUTTAL(1)',\n 'CARDONE',\n 'SLONE',\n 'TWIST',\n 'NUBIAN',\n 'GORY',\n 'BETTENDORF',\n 'ENCAMPMENT',\n 'BURMAN',\n 'MOVEMENT',\n 'NECROMANCY',\n 'FEIMSTER',\n 'IMM',\n 'LESSMAN',\n 'INTERMIXED',\n 'HUEBER',\n 'MECIAR',\n 'OTA',\n 'INTUITIVE',\n 'WEBLEY',\n 'PRCHAL',\n 'PARTIALLY(1)',\n 'MATERIALIST',\n 'FERREL',\n \"SUSIE'S\",\n 'ZACHARIAH',\n 'XERISCAPE',\n 'HESSON',\n 'CIOCCA',\n 'DIANNA',\n 'GUSTAVO',\n \"ZUCKERBERG'S\",\n 'ROBECK',\n 'CASPER',\n 'PETERBILT',\n 'INDENT',\n 'JOSEPHINA',\n 'PSYCHIC',\n 'APPRISED',\n 'CEDENO',\n 'CRAPSHOOT',\n 'FINANCER(1)',\n 'REWARDED',\n 'DEPRECATES',\n 'BIGOS',\n 'PISCITELLO',\n 'RUMINATE',\n 'DREES',\n 'MALTED',\n 'OPERANDI(1)',\n 'REWIRED',\n \"LOAN'S\",\n 'NARS',\n 'PRAGMATIC',\n 'EMMIS',\n 'DNC',\n 'FACES(1)',\n 'GARDENIA',\n 'GAINSCO',\n 'ECONOMOU',\n 'INCENTIVE(1)',\n 'PRESERVE',\n 'ANTHROPOLOGY',\n 'EGLI',\n \"LUCY'S\",\n 'HARBIN',\n 'THROB',\n 'PEMBINA',\n 'REFINE',\n 'SQUATTY',\n 'SUMATOMO',\n 'CIRCUMSPECTION',\n 'DRACHENBERG',\n 'CLAMP',\n 'INCINERATOR',\n 'PINNOCHIO',\n 'STRAUSS',\n 'OLKOWSKI',\n 'WLODARCZYK',\n 'HERETIC',\n 'LAMENTS',\n 'BOTERO',\n 'PREUSSAG',\n 'DIACRITIC',\n 'RUMBLINGS(1)',\n 'CONVENES',\n 'MIZE',\n 'SKUNK',\n 'LEPPANEN',\n 'INVOKE',\n 'LOOPHOLES',\n 'RETARDED(1)',\n 'LEGALISM',\n 'PLOWSHARE',\n 'BETAR',\n \"OUTSIDERS'\",\n 'STERILIZATION(1)',\n 'CAVAN',\n 'DOHSE',\n 'GANDARA',\n 'FACILITATES',\n 'THOMSON',\n 'MCERLEAN',\n \"O'BRIEN'S\",\n 'AVON',\n 'ADNEY',\n 'LONG-OVERDUE',\n 'GANNETT',\n 'DERIDA',\n 'DUSHANE',\n 'VAHL',\n \"IMREG'S\",\n 'STABILIZES',\n 'JURA',\n 'HUKILL',\n 'GUTT',\n 'TUCKER',\n 'PREDOMINANT',\n \"MAMET'S\",\n 'MINAR',\n 'TUMBLING',\n 'MONASTICISM',\n 'WESTBURNE',\n 'ENGRAVING',\n 'DISORDERS',\n 'GILLS',\n 'CONCOMITANT(1)',\n 'NITZSCHE(1)',\n 'GRIDS',\n 'SHOCKINGLY',\n 'TAMAYO',\n 'TOPLIFF',\n \"TYSON'S\",\n 'ESTES',\n 'DILORETO',\n 'FLASHBULB',\n 'STECKMAN',\n 'PITILESS',\n 'LIFF',\n 'THERAPEUTICALLY',\n 'CLOTHIER',\n 'RADCLIFF',\n 'FIFTEEN',\n 'SUPERREGIONAL',\n 'DUERSON',\n 'IRISES',\n 'ZERKLE',\n 'RECRUITMENT(2)',\n 'ESTABROOKS',\n 'ENCYCLOPEDIAS',\n 'NELS',\n 'PHANTASM',\n 'GLORI',\n 'QU',\n 'SPENGLER',\n 'TACTICAL',\n 'SANDOSE',\n 'VENNEMAN',\n 'ALUMINOSILICATE',\n 'CHORE',\n 'TIMS',\n 'SOUNDINGS',\n 'FREEN',\n 'JAUCH',\n 'STAGER',\n 'ULVA',\n 'LAMB',\n 'NORWIN',\n 'BIGNELL',\n 'BARANY',\n 'CLOPPER',\n 'DERELICT',\n 'GOLGO',\n 'GRIGG',\n 'KESSENICH',\n 'TETA',\n 'ENAMELS',\n 'CHRISTIAN(1)',\n 'LUMIA',\n 'DUTY',\n 'UNSERVICEABLE(1)',\n 'FARBER',\n 'KIPLINGER(1)',\n 'MAB',\n \"SALLY'S\",\n 'TRUNZO',\n 'YONTZ',\n 'TROPICAL',\n 'LAHR',\n 'OVERLAPPED',\n 'UPHOLSTER',\n 'SKIER(1)',\n 'KOTCH',\n 'LINDBECK',\n \"INTERSTATE'S\",\n 'ELLIPSOID',\n 'X-RAYS',\n 'FRIGHTEN',\n 'CONSORTIUM(1)',\n 'RETRACTS',\n 'EMINENCE',\n 'SIRIS',\n 'CATHETERS',\n 'BEEPED',\n 'DEYO',\n 'SMARTED',\n 'ALONZA',\n 'UNICORP',\n 'KRAJINA',\n 'MCELHINNEY',\n 'YIRNG-AN',\n 'KINDLER(1)',\n 'STEINROE',\n 'WALKWAYS',\n 'NON-EXCLUSIVE',\n 'BASIS(1)',\n 'PREDATE(1)',\n 'GANONG',\n 'RELIEFS',\n 'ROBUST',\n 'WINTZ',\n 'RATHER(1)',\n 'LENHOFF',\n 'ASHBAUGH',\n 'FIRMLY',\n 'STREAMLINE',\n 'WOODCOX',\n 'GOVERNS',\n 'LIGACHEV',\n 'MCCUTCHAN',\n 'OVERSEA',\n 'BIRTCHER',\n 'SINISI',\n 'ECUADOREAN',\n 'KHARTOUM',\n 'STOLLER',\n 'DEWINTER',\n 'CLINCHED',\n 'NIKON',\n 'BOOKMAKING',\n 'REITTER',\n 'TROOPED',\n 'BRUMMER',\n 'ROSSNER',\n 'FIRESIGN',\n 'LABARGE',\n 'BACKSAW',\n 'HUFSTEDLER',\n 'WADDINGTON',\n 'SCOLA',\n 'FRATRICIDES',\n 'COCKROACH',\n \"INKATHA'S(2)\",\n ...}"
     },
     "execution_count": 301,
     "metadata": {},
     "output_type": "execute_result"
    }
   ],
   "source": [
    "old_word_prons.keys() & word_prons.keys()"
   ],
   "metadata": {
    "collapsed": false
   }
  }
 ],
 "metadata": {
  "kernelspec": {
   "display_name": "Python 3",
   "language": "python",
   "name": "python3"
  },
  "language_info": {
   "codemirror_mode": {
    "name": "ipython",
    "version": 2
   },
   "file_extension": ".py",
   "mimetype": "text/x-python",
   "name": "python",
   "nbconvert_exporter": "python",
   "pygments_lexer": "ipython2",
   "version": "2.7.6"
  }
 },
 "nbformat": 4,
 "nbformat_minor": 0
}
