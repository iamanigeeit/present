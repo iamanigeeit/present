{
 "cells": [
  {
   "cell_type": "code",
   "execution_count": 1,
   "outputs": [],
   "source": [
    "import os\n",
    "from prosody.aligner import G2PAligner"
   ],
   "metadata": {
    "collapsed": false
   }
  },
  {
   "cell_type": "code",
   "execution_count": 2,
   "outputs": [],
   "source": [
    "os.chdir('utils')\n",
    "aligner = G2PAligner('g2p_dict.txt', 'g2p_letters.txt')"
   ],
   "metadata": {
    "collapsed": false
   }
  },
  {
   "cell_type": "code",
   "execution_count": 3,
   "outputs": [
    {
     "data": {
      "text/plain": "[('wh', ('W',)),\n ('e', ('EH0',)),\n ('r', ('R',)),\n ('e', ()),\n ('b', ('B',)),\n ('y', ('AY1',))]"
     },
     "execution_count": 3,
     "metadata": {},
     "output_type": "execute_result"
    }
   ],
   "source": [
    "# Simply call aligner to get a list of (graphemes, phonemes)\n",
    "aligner(word='whereby', pron='W EH0 R B AY1'.split())"
   ],
   "metadata": {
    "collapsed": false
   }
  },
  {
   "cell_type": "code",
   "execution_count": 4,
   "outputs": [
    {
     "data": {
      "text/plain": "[('wh', ('W',)),\n ('', 'Z'),\n ('e', ('EH0',)),\n ('r', ('R',)),\n ('e', ()),\n ('b', ('B',)),\n ('o', ('AY1',)),\n ('k', ())]"
     },
     "execution_count": 4,
     "metadata": {},
     "output_type": "execute_result"
    }
   ],
   "source": [
    "# If it cannot be aligned, the default behaviour is to insert silent graphemes or phonemes and substitute\n",
    "aligner(word='wherebok', pron='W Z EH0 R B AY1'.split())\n",
    "# in this example, nothing maps to phoneme Z, 'o' gets mapped to AY1 (though invalid) and 'k' maps to nothing"
   ],
   "metadata": {
    "collapsed": false
   }
  },
  {
   "cell_type": "code",
   "execution_count": 5,
   "outputs": [
    {
     "data": {
      "text/plain": "[('th', ('TH',)),\n ('r', ('R',)),\n ('ee', ('IY1',)),\n ('-', ()),\n ('d', ('D', 'IY2'))]"
     },
     "execution_count": 5,
     "metadata": {},
     "output_type": "execute_result"
    }
   ],
   "source": [
    "# If you need to align with letters being pronounced\n",
    "alignment, valid, traceback = aligner.align_spell_letters(word='three-d', pron='TH R IY1 D IY2'.split())\n",
    "alignment"
   ],
   "metadata": {
    "collapsed": false
   }
  },
  {
   "cell_type": "code",
   "execution_count": 6,
   "outputs": [
    {
     "data": {
      "text/plain": "False"
     },
     "execution_count": 6,
     "metadata": {},
     "output_type": "execute_result"
    }
   ],
   "source": [
    "# If you need to check whether the graphemes can be aligned or not\n",
    "alignment, valid, traceback = aligner.align(word='wherebok', pron='W Z EH0 R B AY1'.split())\n",
    "valid"
   ],
   "metadata": {
    "collapsed": false
   }
  },
  {
   "cell_type": "code",
   "execution_count": 7,
   "outputs": [
    {
     "data": {
      "text/plain": "[('wherebok', ['W', 'Z', 'EH0', 'R', 'B', 'AY1']),\n ('erebok', ['Z', 'EH0', 'R', 'B', 'AY1']),\n ('rebok', ['Z', 'EH0', 'R', 'B', 'AY1']),\n ('bok', ['Z', 'EH0', 'R', 'B', 'AY1']),\n ('herebok', ['Z', 'EH0', 'R', 'B', 'AY1']),\n ('erebok', ['Z', 'EH0', 'R', 'B', 'AY1']),\n ('rebok', ['Z', 'EH0', 'R', 'B', 'AY1']),\n ('bok', ['Z', 'EH0', 'R', 'B', 'AY1'])]"
     },
     "execution_count": 7,
     "metadata": {},
     "output_type": "execute_result"
    }
   ],
   "source": [
    "# If you need to check what failed during alignment. Here we expect to fail with hitting phoneme Z\n",
    "alignment, valid, traceback = aligner.align(\n",
    "    word='wherebok', pron='W Z EH0 R B AY1'.split(), traceback=[]\n",
    ")\n",
    "traceback"
   ],
   "metadata": {
    "collapsed": false
   }
  },
  {
   "cell_type": "code",
   "execution_count": 8,
   "outputs": [],
   "source": [
    "# Checking the CMU dictionary for words that cannot be aligned\n",
    "# hence, either our G2P dictionary is wrong or the CMU dictionary is wrong\n",
    "import re\n",
    "\n",
    "def read_word_prons(cmudict_path):\n",
    "    word_prons = []\n",
    "    with open(cmudict_path) as dic:\n",
    "        for line in dic:\n",
    "            if not line.startswith(';'):\n",
    "                word, pron = line.rstrip().split('  ')\n",
    "                if '.' in word:\n",
    "                    continue\n",
    "                pron = pron.split(' ')\n",
    "                word = word.lower()\n",
    "                word = re.sub(r\"[^a-z']\", '', word)\n",
    "                word_prons.append((word, pron))\n",
    "    return word_prons\n"
   ],
   "metadata": {
    "collapsed": false
   }
  },
  {
   "cell_type": "code",
   "execution_count": 9,
   "outputs": [],
   "source": [
    "# Generate tracebacks for any word that can't be aligned\n",
    "def check_invalids(word_prons, out_path):\n",
    "    with open(out_path, 'w') as f:\n",
    "        for i, (word, pron) in enumerate(word_prons):\n",
    "            traceback = []\n",
    "            alignment, valid, traceback = aligner.align(word, pron, traceback)\n",
    "            if not valid:\n",
    "                traceback = []\n",
    "                alignment, valid, traceback = aligner.align_spell_letters(word, pron, traceback)\n",
    "                if not valid:\n",
    "                    f.write(str(i))\n",
    "                    for subword, subpron in traceback:\n",
    "                        f.write(f'\\t{subword} {subpron}\\n')\n",
    "                    f.write('\\n')"
   ],
   "metadata": {
    "collapsed": false
   }
  },
  {
   "cell_type": "code",
   "execution_count": 10,
   "outputs": [],
   "source": [
    "word_prons = read_word_prons('cmudict-0.7b.txt')\n",
    "check_invalids(word_prons, 'invalids')"
   ],
   "metadata": {
    "collapsed": false
   }
  },
  {
   "cell_type": "code",
   "execution_count": 11,
   "outputs": [],
   "source": [
    "# If we want to check the penalty for invalid alignments (substition = 1.5, addition/deletion = 1)\n",
    "with open('invalids') as f:\n",
    "    for line in f:\n",
    "        split_line = line.rstrip().split('  ', maxsplit=1)\n",
    "        if len(split_line) == 2:\n",
    "            word, pron = split_line[1].split(' ', maxsplit=1)\n",
    "            alignment, penalty = aligner.align_fallback(word, pron)\n",
    "            print(alignment, penalty)"
   ],
   "metadata": {
    "collapsed": false
   }
  },
  {
   "cell_type": "code",
   "execution_count": 12,
   "outputs": [],
   "source": [
    "# Log any changes made in the updated CMU dictionary to a new file\n",
    "word_prons = {}\n",
    "with open('cmudict-0.7c.txt') as dic:\n",
    "    for line in dic:\n",
    "        if not line.startswith(';'):\n",
    "            word, pron = line.rstrip().split('  ')\n",
    "            word_prons[word] = pron\n",
    "old_word_prons = {}\n",
    "with open('cmudict-0.7b.txt') as dic:\n",
    "    for line in dic:\n",
    "        if not line.startswith(';'):\n",
    "            word, pron = line.rstrip().split('  ')\n",
    "            old_word_prons[word] = pron\n",
    "\n",
    "with open('dict_changes.txt', 'w') as f:\n",
    "    f.write('**** ADDITIONS ****\\n\\n')\n",
    "    for word in sorted(word_prons.keys() - old_word_prons.keys()):\n",
    "        pron = word_prons[word]\n",
    "        f.write(f'{word}  {pron}\\n')\n",
    "    f.write('\\n**** DELETIONS ****\\n\\n')\n",
    "    for word in sorted(old_word_prons.keys() - word_prons.keys()):\n",
    "        old_pron = old_word_prons[word]\n",
    "        f.write(f'{word}  {old_pron}\\n')\n",
    "    f.write('\\n**** CORRECTIONS ****\\n\\n')\n",
    "    for word in sorted(old_word_prons.keys() & word_prons.keys()):\n",
    "        old_pron = old_word_prons[word]\n",
    "        pron = word_prons[word]\n",
    "        if old_pron != pron:\n",
    "            f.write(f'{word}  {old_pron} >> {pron}\\n')"
   ],
   "metadata": {
    "collapsed": false
   }
  },
  {
   "cell_type": "code",
   "execution_count": 13,
   "outputs": [
    {
     "data": {
      "text/plain": "{'MCCUTCHEN',\n 'PUTTENBAY',\n 'EXCITATION',\n 'SELFISH',\n 'WESTPAC',\n 'FREES',\n 'ADMISSIBILITY',\n 'RHINOPLASTIES',\n 'ARCHAEOLOGY',\n 'MICHELANGELO(1)',\n 'JI',\n 'GRANDINETTI',\n 'ABBRUZZESE',\n 'REVERSE(1)',\n 'WILNER',\n 'LIGHT',\n 'FOY',\n \"LEFF'S\",\n 'LEBLEU',\n 'WAFFLES',\n 'LEDGERS',\n 'FROCKS',\n 'THUMBED',\n 'BELL',\n 'BOORAS',\n 'JORDANS',\n 'SAMOTH',\n 'SHARP',\n 'WAAGE',\n \"BROOKE'S\",\n 'HEATED(1)',\n 'CATERED',\n 'INTELCO',\n \"DENVER'S\",\n 'WEINREB',\n 'AGGRIEVE',\n 'EARFUL',\n 'STIDHAM',\n 'HELINSKI',\n 'CITIC',\n 'NONFOOD',\n 'CUYAHOGA',\n 'HALLEN',\n 'MACTAGGART',\n 'PROMISCUOUS',\n 'TRINITY',\n 'HOLDERBANK',\n 'ENTRAP',\n \"PC'S\",\n 'TRACHEAL',\n 'HEHMEYER',\n 'TREASURY',\n 'MINISERIES',\n 'THAYERS',\n 'ELLIE',\n 'GOSLEE',\n 'SMITHTOWN',\n 'FRANZE',\n 'BENEKE',\n 'INNATE',\n 'DELAMAR',\n 'SHAKES',\n 'COMMENDED',\n 'RIEF',\n 'ANTIDEPRESSANTS(1)',\n 'BALFANZ',\n 'CHERTS',\n 'EXAMINERS',\n 'COMPLAINTS',\n \"DALTON'S\",\n 'GARLICKY',\n 'LAUNDER',\n \"RAY'S\",\n 'SHAMBAUGH',\n 'THE',\n 'GROUCH',\n 'TOROK',\n 'WHISENHUNT',\n 'ZIPPING',\n 'COLOMBIA',\n 'LUMEN',\n 'OUTSTRETCHED',\n 'AFFECTIONATELY',\n 'CRANLEY',\n 'PUFFENBARGER',\n 'NEWORLD',\n 'SCORSESE(1)',\n 'SHERRON',\n 'VAHL',\n 'STICKLER',\n 'MAISH',\n \"GURNEY'S\",\n 'MICK',\n 'BUD',\n 'SCHUCK',\n \"RAINCOAT'S\",\n 'ENCLAVE',\n 'MONOHULL',\n 'LAPENNA',\n 'AMOUR',\n \"LEARY'S\",\n 'EBASCO',\n 'PELKA',\n 'PREGLER',\n 'UPTURN',\n 'VANATTER',\n 'SHAVING',\n 'CONTESTANTS',\n 'COMPACT',\n \"VITARINE'S\",\n 'WHITESEL',\n 'COLLEDGE',\n 'CLUGSTON',\n 'BACKDATING',\n \"BROOKSVILLE'S\",\n 'WHOA',\n 'JURISDICTION',\n 'CHATS',\n 'HEUBERGER',\n 'BORCK',\n \"CORDIANT'S\",\n 'FLEISS(1)',\n 'HARCLERODE(1)',\n 'GRANNIES',\n 'RAASCH',\n 'DIVERGING',\n 'EMANATION',\n 'ROSELAWN',\n 'REVELATORY',\n 'DEDOMINICIS',\n 'SEEDING',\n 'LAING',\n 'ADVERTISEMENT',\n 'PREDOMINATED',\n 'PO-JEN',\n 'SAGEBRUSH',\n 'COLLARDS',\n 'CARBONATED',\n 'TOGETHERS',\n 'CASCIATO',\n 'HALF',\n 'HAGWOOD',\n 'WHORL(1)',\n 'BIRNIE',\n 'BILLIG',\n 'CLOSES',\n 'NOCKARD',\n 'SLAPDASH',\n 'ARNAULT',\n 'SELLNER',\n 'VASECTOMY',\n 'NICHOLSON',\n 'RENOUNCED',\n 'CAMPOS',\n 'SIVERTSON',\n 'FINDERS',\n 'SPILMAN',\n 'PUNCHING',\n 'CLOY',\n 'FRAIRE',\n 'HULDY',\n 'THAIS',\n 'VISCERAL',\n 'AMASON',\n 'JURIST',\n 'MACLAUGHLIN',\n 'AJAMI',\n \"AFSANE'S\",\n 'DELANE',\n 'ERASED',\n 'GUSTS',\n 'KRUK',\n 'BOUNDARIES(1)',\n 'BURIED',\n 'NESI',\n \"SOIL'S\",\n 'DEIS',\n 'RANDER',\n 'DEBIASE',\n \"GLEASON'S\",\n 'ROCKMAN',\n 'KIDS',\n 'REILEY',\n 'COFIDE',\n 'KOLSKI',\n 'HOLLIBAUGH',\n \"SUSPECT'S\",\n 'MOBBED',\n 'POZNER',\n 'LESNIEWSKI(1)',\n \"TRAJAN'S\",\n 'BINN',\n 'QUILTY',\n 'MARSHMAN',\n 'KANZLER',\n 'AXES',\n 'COLA',\n \"NINE'S\",\n 'GIULIO',\n 'ANNUNZIO',\n 'AVIAN',\n 'BANKERT',\n 'CAUTHON',\n 'CELEBRE',\n 'CLUMPY',\n 'AKBAR',\n 'BALSLEY',\n 'WARBINGTON',\n \"ACTIVISTS'\",\n 'FIKE',\n 'INSTITUT',\n 'MET',\n 'REETZ',\n 'ABEYANCE',\n 'ROOMS',\n 'DWELLERS',\n 'MILITIAS(1)',\n 'COMMITMENTS',\n \"MASTRICH'S(1)\",\n 'FIFTEENTH',\n 'COMPOSITES',\n 'ROHRBACK',\n 'TUNG',\n 'NUTT',\n 'VENTRICLE',\n 'VIDA',\n 'HANISEE',\n 'SURRETTE',\n 'BRODRICK',\n 'HEXANE',\n 'GRUMBLINGS(1)',\n 'TELEPATHIC',\n 'FRIEDMANN',\n 'CONCLUSIVE',\n 'HERNIA',\n 'VOGELSANG',\n 'LABRAKE',\n 'LAUNCHED',\n 'UTERO',\n 'KRECKO',\n 'MIDWAY',\n 'WHIPLASHES(1)',\n 'CHIEFTAIN',\n 'ENDURANCE',\n 'DUDAR',\n 'TRENKAMP',\n 'BROUWER',\n 'SUMMERALL',\n 'DANEY',\n 'DIGS',\n 'STIMAC',\n 'FRUGE',\n 'MIMMS',\n 'TIGREAN',\n 'AGATES',\n 'MICHELOB',\n 'MERIDITH',\n \"VINNICK'S\",\n 'PRENATAL',\n 'CATHERINE',\n 'VEREEN',\n 'CALAMARI',\n 'CANASTA',\n 'PINKLEY',\n 'FILTRATION',\n 'ADVISABILITY',\n 'INSTRUMENTALIST',\n 'PILLEY',\n 'TAME',\n 'BUFFA',\n 'HICKORY',\n 'SOLUBILITY',\n 'POLASKI',\n 'BETAR',\n \"BOYFRIEND'S\",\n 'GREENSBORO',\n 'FROMSTEIN',\n 'GILFORD',\n 'BARRACKS',\n 'MORLAN',\n 'REFRESHMENT',\n 'PARSKY',\n 'BELLINA',\n 'EARS',\n 'HYDROGENATE',\n 'INDEXATION',\n 'MCAFEE',\n 'NORLAND',\n 'GOESER',\n 'BEAL',\n 'DORKO',\n 'MILTENBERGER',\n 'STIR',\n 'NONPUBLIC',\n 'DIMSDALE',\n 'UPSURGE',\n 'TASHIRO',\n 'FOISTED',\n 'EASTERWOOD',\n 'RADIATING',\n 'ASPHYXIATED',\n 'CHATEAU',\n 'READABILITY',\n \"COASTAMERICA'S\",\n 'AVOIDABLE',\n 'MALINAK',\n 'CORRADO',\n 'GANSTER',\n 'KELTZ',\n 'IMPERILS',\n 'AMAZES',\n 'ACADEMICALLY',\n 'DOWLESS',\n 'URBANEK',\n 'CONSTRICTORS',\n 'ZIEGFIELD',\n \"BLASIER'S(1)\",\n 'HANSMAN',\n 'PRANCING',\n 'REES',\n 'JACKPOT',\n 'SIDELINE',\n 'CHEMED',\n 'CONGREGATIONS',\n 'HENARD',\n 'KRZYZANOWSKI',\n 'SEAMS',\n 'ORVAL',\n 'SILVERDOME',\n 'DECEPTIVELY',\n 'TRUELL',\n 'WENSBERG',\n 'WIEGAND',\n 'METOLACHLOR',\n 'NON-SMOKERS',\n 'SALEH',\n \"UNCLE'S\",\n 'KEATHLEY',\n 'FEATURES',\n 'GIEBEL',\n 'TIMETABLES',\n 'BOISTEROUS(1)',\n 'WOLVERTON',\n 'AIRPORTS',\n 'ALEWIFE',\n \"BANGLADESHI'S\",\n 'MEZO',\n 'BACINO',\n 'JAKUBOWICZ',\n \"FINKELSTEIN'S\",\n 'HEFTIER',\n 'FOGLE',\n 'NEUTRALLY',\n 'SHAVED',\n \"NELSON'S\",\n 'NOMINALLY',\n 'WHITEHEAD',\n 'MOZEE',\n 'TALBERT',\n \"WACKSMAN'S\",\n 'TOSHIHARU',\n 'APFELBAUM',\n 'KNITTING',\n 'COMMUNISM',\n 'KYLER',\n 'WHISKERS',\n 'KOLLMORGEN',\n 'CHARRETTE',\n 'REINTRODUCES',\n 'DEMETRIA',\n \"BARON'S(1)\",\n 'UNCAPHER',\n 'NAISMITH(1)',\n 'SUPPOSED',\n 'HYDROGEN',\n 'IZARD',\n 'JACOBITES',\n 'MCIVER',\n 'DOHNER',\n 'FOODWAY',\n 'NEEDLES',\n 'ELEMENTARY',\n \"ENTREPRENEUR'S\",\n 'ANEW',\n \"GEOFFREY'S\",\n 'KETCH',\n 'TECHNIQUE',\n \"WALA'S\",\n \"BROCKWAY'S\",\n 'WESLEYAN',\n 'GITTELMAN',\n 'CONVULSANT',\n 'FIERS',\n 'BURBACK',\n 'LIMON',\n 'HAYGOOD',\n 'JOAKIMA',\n 'GENCOR',\n 'TYPHOONS',\n 'COURSEY',\n 'NARROWED',\n 'SUFFRAGETTES',\n 'NOBLET',\n 'REPEATED',\n 'DAYTIME',\n 'COBOS',\n 'MISSTATEMENTS(1)',\n 'FLORIDA(1)',\n 'BASTARDS',\n 'KRAMMER',\n 'NEURO',\n \"SPUD'S\",\n 'ULIASSI',\n 'INDENTATION',\n 'RUSALKA',\n 'PLANNED',\n 'PREZZANO',\n 'TUGBOATS',\n 'URIC',\n 'MATAMOROS',\n 'GIULIANO',\n 'CRITON',\n 'REDRESS',\n 'UNDERWRITINGS',\n \"BROKERAGE'S\",\n 'HOKANSON',\n 'ZANAMIVIR',\n 'PAROCHIAL',\n 'RETRACED',\n 'HARSHER',\n 'FORET',\n 'THERESA',\n 'HOCHMAN',\n 'FASCHING',\n 'PUFFING',\n 'BOFFA',\n 'KOMINEK',\n 'DOMINGO',\n 'DIEFENDERFER',\n 'BRENDA',\n 'BOS',\n 'LIACOS',\n 'RABBITT',\n 'REFILE',\n 'NIGGERS',\n 'PEACETIME',\n 'TEEMING',\n 'NICKELS',\n \"BORN'S\",\n 'REDOUBTABLE',\n 'ARCHETYPE',\n 'DISCOUNTING',\n 'HYBRIENKO',\n 'MATKOVICH',\n 'OJEDA',\n 'MAUL',\n 'VIOLETT(1)',\n 'CANALES',\n 'IMPORTERS',\n 'HARSCH',\n 'BOWLERS',\n 'BARRICADE',\n 'WHETSTINE(1)',\n 'MONARCHIES',\n 'DENLEA',\n 'BLAKELY',\n 'GAMELIN(1)',\n 'FILLINGHAM',\n 'SOFTSPOKEN',\n \"BORIS'S\",\n 'DOWNRANGE',\n 'PENSON',\n 'RECRIMINATION',\n 'ANDROMEDA',\n 'MIRAD',\n 'BERTSCHE',\n 'PARNELLA',\n 'INUNDATING',\n 'HUDGENS',\n 'DIVINITIES',\n 'KYUSHU',\n 'PIRATES',\n 'TIDING',\n 'SOMALILAND',\n 'WARDROP',\n 'MCCLELLAN',\n 'HUFFORD',\n 'BERZINS',\n 'TAKESHI',\n 'FETTIG',\n 'GONYA',\n \"IPALCO'S\",\n 'SANCHEZ',\n 'CORESTATES',\n 'REISEN',\n 'TENNENBAUM',\n 'QUILL',\n 'WINOGRAD',\n 'REMEMBERING(2)',\n 'ROMAGNOLO',\n 'TEARE',\n 'GIECK',\n 'CONJURER',\n 'GUJARAT',\n 'BELCH',\n 'LINE',\n 'KEELE',\n 'VOLETA',\n 'EVOLVING(1)',\n 'CORONET',\n 'BAVIS',\n 'SUBSCRIBE',\n 'EAGERNESS',\n 'WHIMPER(1)',\n 'ACCOMPANIMENT(1)',\n 'OVERREACHES',\n 'ALLSET',\n 'EXPELLED',\n 'ACCORD',\n 'BANGLE',\n 'CLASSON',\n 'MASSED',\n 'DENNISTON',\n 'UGOLINI',\n 'CHRISTI',\n 'LUCIENNE',\n 'FLUFFS',\n 'GRILLO',\n 'MACS',\n 'SCULPTORS',\n 'SMOKED',\n 'SHOKHIN',\n 'BRYSON',\n 'HANDICAPPERS',\n 'INGRATIATE',\n 'WEINRICH',\n 'DISCOLORED',\n 'HAMMERSMITH',\n 'FINDS',\n 'PASCHAL',\n 'REDISTRICTING',\n 'RULISON',\n 'BLUEMEL',\n 'PROCARDIA',\n 'ROTUNDA',\n 'WIDENS',\n 'LOCALS',\n 'ZUBILLAGA',\n 'VANOSDOL',\n 'HANNOLD',\n 'PULMONARY',\n 'DHAHRAN',\n 'STORYBOOK',\n 'CONDUCTORS',\n 'PELOQUIN',\n 'DELACROIX',\n 'IMPLICATIONS',\n 'GARBLE',\n 'MAYERSON',\n 'JOLICOEUR',\n 'MINNESOTA',\n 'BRECHER',\n 'CHEUVRONT',\n 'FIREFLIES',\n \"BROCK'S\",\n 'HANDS',\n 'TOURNAMENT',\n 'TACITURN',\n 'JURE',\n 'CONDITT',\n 'MOSSHOLDER',\n 'SHANDONG',\n 'HOWDY',\n 'INVADES',\n 'TIRRELL',\n 'STACIE',\n 'TUNKELANG',\n 'DUNAWAY',\n 'OUTLAW',\n 'MISTREAT',\n 'TRICIL',\n 'BOATLOADS',\n 'FOGLESONG',\n 'CHARLS',\n 'LOUNSBERRY',\n 'BLACKARD',\n \"TRAVOLTA'S\",\n 'KORET',\n 'FLEES',\n 'KAPLER',\n 'ZEIDERS',\n 'IMMORTALITY',\n 'INDYK',\n 'DUSZYNSKI',\n \"WADE'S\",\n 'ELOUISE',\n 'CORRINGTON',\n 'HIRAI',\n 'BREAKAWAY',\n 'BIMBO',\n 'FEDERALISM(1)',\n 'STIEF',\n 'BUR',\n 'CHELAN',\n 'CONSOLIDATIONS',\n 'COWENS',\n 'HELMERICH',\n 'PARADOXICALLY(1)',\n 'POUSSIN',\n 'PULLBACKS',\n 'DRABS',\n 'MIXUPS',\n \"SECT'S\",\n 'BUMPERS',\n \"BUSINESSMAN'S\",\n 'MISSPENT(1)',\n 'HUMANELY',\n 'MESDAMES',\n 'HEIDBREDER',\n 'AUGUSTUS(1)',\n 'FALKENSTEIN',\n 'UNDISTURBED',\n 'JELKS',\n 'HUEBERT',\n 'NOGUCHI',\n 'YOGIISM',\n 'ULGER',\n 'FORMANEK',\n 'WASSINK',\n 'PLAINFIELD',\n 'ESCHENBACH',\n 'RESULTS',\n 'TRANCHES',\n \"DEPARTMENT'S\",\n 'STUBBORNNESS',\n \"TUNNEL'S\",\n 'LORD',\n 'SHARPEVILLE',\n 'BASTEN',\n 'HOMME',\n 'PEGASUS',\n 'SUBMITS',\n \"SPAN'S\",\n 'MONSIEURS',\n 'GRABENSTEIN(1)',\n 'OLEG',\n 'ASTROPHYSICIST',\n \"O'HERN\",\n 'MATEER',\n 'SEMBLANCE',\n 'TAMES',\n \"POULENC'S\",\n 'JOAN',\n 'TASM',\n 'THEILEN',\n 'SZUCS',\n 'JAYME',\n 'EXTRACTS',\n 'BEBBITS',\n \"OPPONENT'S\",\n 'COVERAGE',\n 'APPEASE',\n 'LOEWENSTEIN(1)',\n 'CONTRADICTS',\n 'DEBELLIS',\n 'PETTING',\n 'DICTION',\n \"CROATIA'S\",\n 'SHIBATA',\n 'CANTALUPO',\n 'DORMANT',\n 'FOLDEN',\n 'THROWBACK',\n 'HOLWEGER',\n 'VOELZ',\n 'HOMESLEY',\n 'HONES',\n 'TH',\n 'BROADPFOOT',\n 'DISASTROUSLY',\n 'SWENEY',\n \"CETUS'S\",\n 'MILLIMETRES',\n 'EDUCATES(1)',\n 'RUBIE',\n 'DARRINGTON',\n 'VIRGULES',\n 'BLAZED',\n \"HAFIF'S\",\n 'INSIPID',\n 'WEIKERT',\n 'YOCHELSON',\n 'ALLEBACH',\n 'BOTIN',\n 'GED(1)',\n \"HYATT'S\",\n 'LENTINI',\n 'GUNSHIP',\n 'KIENZLE',\n 'DEATHWATCH',\n 'JUNGWIRTH',\n 'BENAVIDES',\n 'SHAMALIA',\n 'MACTAVISH',\n 'GRETE',\n 'APPELHANS',\n 'CATASTROPHES',\n 'DARCANGELO',\n 'KORBY',\n 'CAREERCOM',\n 'WESTALL',\n 'BREATHTAKING',\n 'ASSUBEL',\n 'SAMONS',\n 'FRIDGES',\n \"BRANDS'\",\n 'GONET',\n 'GEIDAR',\n 'INDEFINITE',\n 'REIMER',\n 'KAMNEVA',\n 'POHJOLA',\n 'ZOPFI',\n 'TOUGHEN',\n 'MISERY',\n \"CALIFORNIAN'S\",\n 'IREY',\n 'SOBBINGLY',\n 'HERZBERGER',\n 'AFTERWARDS',\n 'SIEW',\n 'TADDEI',\n 'WITOWSKI',\n \"STELLA'S\",\n 'ELEVATING',\n 'LEONI',\n 'EDENTON',\n \"ZAMBIA'S\",\n 'DEVIATE',\n 'PERCEPTIBLE',\n 'GERACI',\n 'LOMBARDS',\n 'MCKARRICK',\n \"UP'S\",\n 'FRANZONE',\n 'UDAGAWA',\n 'PLESSEY',\n 'ORDONEZ',\n 'HARTSHORN',\n 'FRIGHTFULLY',\n 'LOVILLE',\n 'PATHS',\n 'CORTER',\n 'AEGON',\n 'BASIC',\n 'PFENNIG',\n 'LIVINGROOMS',\n 'SEROTONIN',\n 'DEPAOLI',\n 'REAPPEARANCE',\n \"NOTHIN'\",\n 'POTHIER',\n 'HASHEM',\n 'BURGLARIZED',\n 'FIDGETING',\n 'IMPOSTOR',\n 'COCOA',\n 'JETSTREAM',\n 'SCALI(1)',\n 'THROWAWAY',\n 'AYLWIN',\n 'DIPPOLITO',\n \"DAX'S\",\n 'BONG',\n 'DINGEE',\n 'HUDSON',\n 'NUALA',\n \"COLA'S\",\n 'COAXUM',\n 'AGITATORS',\n 'KAPAUN',\n 'METHODICALLY',\n 'VESCINOID',\n 'OVERDRAWN',\n 'MCCAUGHAN',\n 'LESAGE',\n 'PREREQUISITE',\n 'GET',\n 'BERETTAS',\n 'ADSS',\n 'GREGUS',\n 'RECURRENCE',\n \"STARK'S\",\n 'UNSUSTAINABLE',\n 'DUNITE',\n 'ISOETEC',\n 'JOHNIE',\n 'GAUCHOS',\n \"O'MAHONY\",\n 'BASSFORD',\n 'REICHHOLD',\n 'JOFFRION',\n 'MCGAFFEY',\n 'FELTUS',\n 'SHERWOOD',\n 'TEMPLEMAN',\n 'CHESTERMAN',\n 'INSTRUMENTS',\n 'ROTZ',\n \"YOU'RE(1)\",\n 'PIERPONT',\n 'DESANTI',\n 'BRIBED',\n 'BLOTNICK',\n 'BERHOW',\n 'DISAPPOINTED',\n 'SCHMICK',\n 'IMAGERIES',\n 'ZMIJEWSKI',\n \"HAMLEY'S\",\n 'CYCLICALS',\n 'CHERRYSTONE',\n 'PROGRAMMING',\n 'SOBOTA',\n 'EVANS',\n 'POWS',\n 'CALAIS',\n 'PERSUASIVE',\n 'ECLIPSED(1)',\n 'SEPTEMBER',\n 'TIEDE',\n 'SHAIK',\n 'CINDIE',\n 'ENCORE',\n 'REIGNITING',\n \"RITCHEY'S\",\n 'PAREKH',\n 'TURBID',\n 'DISAFFECTION',\n 'LIGAND',\n 'PAPRIKA',\n 'SELTZER',\n 'INGENUE',\n 'TINKEY',\n 'VITUPERATIVE',\n 'KATZEN',\n 'OPLINGER(1)',\n 'HOLSCLAW',\n 'MANFREDI',\n 'CREAMIEST',\n 'BELTRAN',\n 'ELKIN',\n 'TAIBI',\n 'PALLO',\n 'ALEJO',\n \"KOSLOW'S\",\n \"OTTAWA'S\",\n 'BURI',\n 'CONDITIONS',\n 'TIGUE',\n 'SACHA',\n 'NORMANDIE',\n 'NORWARD',\n 'HAZELRIGG(1)',\n 'DUFAULT',\n 'KINGHAM',\n 'QUASH',\n 'GOEDKEN',\n 'FRANTICALLY(3)',\n 'HILLEARY',\n 'UNCOOL',\n 'WEB',\n 'DISCLAIMING',\n 'MENACE(1)',\n 'EVETTS',\n 'PITTSLEY',\n 'SCIPIO',\n 'ARCTURUS(1)',\n 'HOCKLEY',\n 'KIMBERLY',\n 'BUCCO',\n 'ARTISANAL',\n 'GYRO',\n 'SAVARINO',\n 'SHINALL',\n 'BELGO',\n 'REITANO',\n \"LLOYD'S\",\n 'SCHLICHT',\n 'VANZANTEN',\n 'SICILIAN',\n 'CREAKED',\n 'FABRY',\n 'BULLIS',\n 'EXPLOITED(1)',\n 'FRANKENFOOD',\n 'HOPKINS',\n 'HUERST',\n 'LACERATION',\n 'MORAINAL',\n 'NUNAVUT',\n 'NYMAN',\n 'NOIMAN',\n 'PARTICIPATIVE',\n 'SCHNELL',\n 'ISCARIOT',\n 'FRAINE',\n 'UNDERSTOOD',\n 'KILLEBREW',\n 'ARMIN',\n 'LAFALCE',\n 'DEVENDORF',\n 'PER-SE',\n 'KLECZKA',\n 'IANNONE',\n 'BEIN',\n 'BLUNCK',\n 'SUSKO',\n 'BLACKBALL',\n 'RYANODINE',\n 'TONY',\n 'ODOUR',\n 'GRABBING',\n 'SWEETENED',\n 'SHEPHERDED',\n 'THIRDQUARTER(1)',\n 'LANCETS',\n 'TRIMARCHI',\n 'SUNDSTROM',\n 'DOMAINE',\n \"ART'S\",\n 'WONDROUS',\n 'IMPLIED',\n 'MUETZEL',\n 'DOWDEN',\n 'SEALAND',\n 'STORMY',\n 'BJELASNICA',\n 'KEVLIN',\n \"ILLINOIS'S\",\n 'ROSETT',\n 'ODOMS',\n 'PERUVIANS',\n 'GASE',\n \"AREN'T\",\n 'NOWICKI',\n 'PHILLIPSON',\n 'IRKUTSK(1)',\n 'MEADOWLAND',\n 'MUTILATING',\n 'INDIVIDUALIZED',\n 'RELATED',\n 'RESIGNING(1)',\n \"CHARTER'S\",\n 'ALDAY',\n 'BLEND',\n 'BURR',\n 'SOLZHENITSYN',\n 'TAMAYO',\n \"HEARST'S\",\n 'FLOOR',\n 'INCINERATORS',\n 'LAWLOR',\n 'HOMEBUYER',\n 'LASSMAN',\n 'TERRANA',\n 'BOUQUETS',\n 'MOFFITT',\n 'MATUSI',\n 'SCOUTERS',\n 'WEIDA',\n 'DIMITRI',\n 'SOLO',\n 'NEILAN',\n \"EXPANSION'S\",\n 'AICHELE',\n 'KIWIS',\n 'MOTILITY',\n \"O'BRENOVICH\",\n 'FEUERSTEIN',\n 'DETECTED(1)',\n \"CORNELL'S\",\n 'DEBAUCHERY',\n 'SANTARELLI',\n 'GAGEL',\n 'DUDZIK',\n 'SELWITZ',\n 'HEARTS',\n 'GETTLER(1)',\n 'DISMUKE',\n 'TURBO',\n 'MODULUS',\n 'KOSHER',\n 'JERMYN',\n 'MAINSTAYS',\n 'ORIN',\n 'ALANNA',\n 'GOODNER',\n 'INDECISION',\n 'MOBILIZED',\n ...}"
     },
     "execution_count": 13,
     "metadata": {},
     "output_type": "execute_result"
    }
   ],
   "source": [
    "old_word_prons.keys() & word_prons.keys()"
   ],
   "metadata": {
    "collapsed": false
   }
  }
 ],
 "metadata": {
  "kernelspec": {
   "display_name": "Python 3",
   "language": "python",
   "name": "python3"
  },
  "language_info": {
   "codemirror_mode": {
    "name": "ipython",
    "version": 2
   },
   "file_extension": ".py",
   "mimetype": "text/x-python",
   "name": "python",
   "nbconvert_exporter": "python",
   "pygments_lexer": "ipython2",
   "version": "2.7.6"
  }
 },
 "nbformat": 4,
 "nbformat_minor": 0
}
