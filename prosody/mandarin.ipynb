{
 "cells": [
  {
   "cell_type": "code",
   "execution_count": 1,
   "metadata": {
    "collapsed": true
   },
   "outputs": [
    {
     "name": "stderr",
     "output_type": "stream",
     "text": [
      "OMP: Info #276: omp_set_nested routine deprecated, please use omp_set_max_active_levels instead.\n"
     ]
    }
   ],
   "source": [
    "import os\n",
    "\n",
    "import espnet2.gan_tts.hifigan\n",
    "\n",
    "os.environ['CUDA_LAUNCH_BLOCKING'] = \"1\"\n",
    "from pathlib import Path\n",
    "from espnet2.text.phoneme_tokenizer import PhonemeTokenizer\n",
    "from espnet2.text.token_id_converter import TokenIDConverter\n",
    "from espnet2.bin.tts_inference import Text2Speech\n",
    "\n",
    "from prosody.pinyin import *\n",
    "from prosody.en_to_zh import PinyinArpaSpeech, all_tones\n",
    "\n",
    "PWD = %pwd\n",
    "PWD = Path(PWD)\n",
    "LJSPEECH_DIR = (PWD / '../egs2/ljspeech/tts1/').resolve()\n",
    "device = 'cuda'"
   ]
  },
  {
   "cell_type": "code",
   "execution_count": 2,
   "outputs": [
    {
     "data": {
      "text/plain": "PosixPath('/home/perry/PycharmProjects/present/egs2/ljspeech/tts1')"
     },
     "execution_count": 2,
     "metadata": {},
     "output_type": "execute_result"
    }
   ],
   "source": [
    "LJSPEECH_DIR"
   ],
   "metadata": {
    "collapsed": false
   }
  },
  {
   "cell_type": "code",
   "execution_count": 3,
   "outputs": [
    {
     "ename": "AttributeError",
     "evalue": "'HiFiGANScaleDiscriminator' object has no attribute 'register_load_state_dict_post_hook'",
     "output_type": "error",
     "traceback": [
      "\u001B[0;31m---------------------------------------------------------------------------\u001B[0m",
      "\u001B[0;31mAttributeError\u001B[0m                            Traceback (most recent call last)",
      "Cell \u001B[0;32mIn [3], line 4\u001B[0m\n\u001B[1;32m      2\u001B[0m pretrained_dir \u001B[38;5;241m=\u001B[39m LJSPEECH_DIR \u001B[38;5;241m/\u001B[39m \u001B[38;5;124m\"\u001B[39m\u001B[38;5;124mexp/tts_train_jets_raw_phn_tacotron_g2p_en_no_space\u001B[39m\u001B[38;5;124m\"\u001B[39m\n\u001B[1;32m      3\u001B[0m pretrained_model_file \u001B[38;5;241m=\u001B[39m pretrained_dir \u001B[38;5;241m/\u001B[39m \u001B[38;5;124m\"\u001B[39m\u001B[38;5;124mtrain.total_count.ave_5best.pth\u001B[39m\u001B[38;5;124m\"\u001B[39m\n\u001B[0;32m----> 4\u001B[0m pretrained_tts \u001B[38;5;241m=\u001B[39m \u001B[43mText2Speech\u001B[49m\u001B[38;5;241;43m.\u001B[39;49m\u001B[43mfrom_pretrained\u001B[49m\u001B[43m(\u001B[49m\n\u001B[1;32m      5\u001B[0m \u001B[43m    \u001B[49m\u001B[43mtrain_config\u001B[49m\u001B[38;5;241;43m=\u001B[39;49m\u001B[43mpretrained_dir\u001B[49m\u001B[43m \u001B[49m\u001B[38;5;241;43m/\u001B[39;49m\u001B[43m \u001B[49m\u001B[38;5;124;43m\"\u001B[39;49m\u001B[38;5;124;43mconfig.yaml\u001B[39;49m\u001B[38;5;124;43m\"\u001B[39;49m\u001B[43m,\u001B[49m\n\u001B[1;32m      6\u001B[0m \u001B[43m    \u001B[49m\u001B[43mmodel_file\u001B[49m\u001B[38;5;241;43m=\u001B[39;49m\u001B[43mpretrained_model_file\u001B[49m\u001B[43m,\u001B[49m\n\u001B[1;32m      7\u001B[0m \u001B[43m    \u001B[49m\u001B[43mdevice\u001B[49m\u001B[38;5;241;43m=\u001B[39;49m\u001B[43mdevice\u001B[49m\n\u001B[1;32m      8\u001B[0m \u001B[43m)\u001B[49m\n\u001B[1;32m      9\u001B[0m pretrained_model \u001B[38;5;241m=\u001B[39m pretrained_tts\u001B[38;5;241m.\u001B[39mmodel\n\u001B[1;32m     10\u001B[0m os\u001B[38;5;241m.\u001B[39mchdir(PWD)\n",
      "File \u001B[0;32m~/PycharmProjects/present/espnet2/bin/tts_inference.py:306\u001B[0m, in \u001B[0;36mText2Speech.from_pretrained\u001B[0;34m(model_tag, vocoder_tag, **kwargs)\u001B[0m\n\u001B[1;32m    303\u001B[0m     \u001B[38;5;28;01melse\u001B[39;00m:\n\u001B[1;32m    304\u001B[0m         \u001B[38;5;28;01mraise\u001B[39;00m \u001B[38;5;167;01mValueError\u001B[39;00m(\u001B[38;5;124mf\u001B[39m\u001B[38;5;124m\"\u001B[39m\u001B[38;5;132;01m{\u001B[39;00mvocoder_tag\u001B[38;5;132;01m}\u001B[39;00m\u001B[38;5;124m is unsupported format.\u001B[39m\u001B[38;5;124m\"\u001B[39m)\n\u001B[0;32m--> 306\u001B[0m \u001B[38;5;28;01mreturn\u001B[39;00m \u001B[43mText2Speech\u001B[49m\u001B[43m(\u001B[49m\u001B[38;5;241;43m*\u001B[39;49m\u001B[38;5;241;43m*\u001B[39;49m\u001B[43mkwargs\u001B[49m\u001B[43m)\u001B[49m\n",
      "File \u001B[0;32m~/PycharmProjects/present/espnet2/bin/tts_inference.py:92\u001B[0m, in \u001B[0;36mText2Speech.__init__\u001B[0;34m(self, train_config, model_file, threshold, minlenratio, maxlenratio, use_teacher_forcing, use_att_constraint, backward_window, forward_window, speed_control_alpha, noise_scale, noise_scale_dur, vocoder_config, vocoder_file, dtype, device, seed, always_fix_seed, prefer_normalized_feats)\u001B[0m\n\u001B[1;32m     89\u001B[0m \u001B[38;5;28;01massert\u001B[39;00m check_argument_types()\n\u001B[1;32m     91\u001B[0m \u001B[38;5;66;03m# setup model\u001B[39;00m\n\u001B[0;32m---> 92\u001B[0m model, train_args \u001B[38;5;241m=\u001B[39m \u001B[43mTTSTask\u001B[49m\u001B[38;5;241;43m.\u001B[39;49m\u001B[43mbuild_model_from_file\u001B[49m\u001B[43m(\u001B[49m\n\u001B[1;32m     93\u001B[0m \u001B[43m    \u001B[49m\u001B[43mtrain_config\u001B[49m\u001B[43m,\u001B[49m\u001B[43m \u001B[49m\u001B[43mmodel_file\u001B[49m\u001B[43m,\u001B[49m\u001B[43m \u001B[49m\u001B[43mdevice\u001B[49m\n\u001B[1;32m     94\u001B[0m \u001B[43m\u001B[49m\u001B[43m)\u001B[49m\n\u001B[1;32m     95\u001B[0m model\u001B[38;5;241m.\u001B[39mto(dtype\u001B[38;5;241m=\u001B[39m\u001B[38;5;28mgetattr\u001B[39m(torch, dtype))\u001B[38;5;241m.\u001B[39meval()\n\u001B[1;32m     96\u001B[0m \u001B[38;5;28mself\u001B[39m\u001B[38;5;241m.\u001B[39mdevice \u001B[38;5;241m=\u001B[39m device\n",
      "File \u001B[0;32m~/PycharmProjects/present/espnet2/tasks/abs_task.py:1873\u001B[0m, in \u001B[0;36mAbsTask.build_model_from_file\u001B[0;34m(cls, config_file, model_file, device)\u001B[0m\n\u001B[1;32m   1871\u001B[0m     args \u001B[38;5;241m=\u001B[39m yaml\u001B[38;5;241m.\u001B[39msafe_load(f)\n\u001B[1;32m   1872\u001B[0m args \u001B[38;5;241m=\u001B[39m argparse\u001B[38;5;241m.\u001B[39mNamespace(\u001B[38;5;241m*\u001B[39m\u001B[38;5;241m*\u001B[39margs)\n\u001B[0;32m-> 1873\u001B[0m model \u001B[38;5;241m=\u001B[39m \u001B[38;5;28;43mcls\u001B[39;49m\u001B[38;5;241;43m.\u001B[39;49m\u001B[43mbuild_model\u001B[49m\u001B[43m(\u001B[49m\u001B[43margs\u001B[49m\u001B[43m)\u001B[49m\n\u001B[1;32m   1874\u001B[0m \u001B[38;5;28;01mif\u001B[39;00m \u001B[38;5;129;01mnot\u001B[39;00m \u001B[38;5;28misinstance\u001B[39m(model, AbsESPnetModel):\n\u001B[1;32m   1875\u001B[0m     \u001B[38;5;28;01mraise\u001B[39;00m \u001B[38;5;167;01mRuntimeError\u001B[39;00m(\n\u001B[1;32m   1876\u001B[0m         \u001B[38;5;124mf\u001B[39m\u001B[38;5;124m\"\u001B[39m\u001B[38;5;124mmodel must inherit \u001B[39m\u001B[38;5;132;01m{\u001B[39;00mAbsESPnetModel\u001B[38;5;241m.\u001B[39m\u001B[38;5;18m__name__\u001B[39m\u001B[38;5;132;01m}\u001B[39;00m\u001B[38;5;124m, but got \u001B[39m\u001B[38;5;132;01m{\u001B[39;00m\u001B[38;5;28mtype\u001B[39m(model)\u001B[38;5;132;01m}\u001B[39;00m\u001B[38;5;124m\"\u001B[39m\n\u001B[1;32m   1877\u001B[0m     )\n",
      "File \u001B[0;32m~/PycharmProjects/present/espnet2/tasks/tts.py:317\u001B[0m, in \u001B[0;36mTTSTask.build_model\u001B[0;34m(cls, args)\u001B[0m\n\u001B[1;32m    315\u001B[0m \u001B[38;5;66;03m# 3. TTS\u001B[39;00m\n\u001B[1;32m    316\u001B[0m tts_class \u001B[38;5;241m=\u001B[39m tts_choices\u001B[38;5;241m.\u001B[39mget_class(args\u001B[38;5;241m.\u001B[39mtts)\n\u001B[0;32m--> 317\u001B[0m tts \u001B[38;5;241m=\u001B[39m \u001B[43mtts_class\u001B[49m\u001B[43m(\u001B[49m\u001B[43midim\u001B[49m\u001B[38;5;241;43m=\u001B[39;49m\u001B[43mvocab_size\u001B[49m\u001B[43m,\u001B[49m\u001B[43m \u001B[49m\u001B[43modim\u001B[49m\u001B[38;5;241;43m=\u001B[39;49m\u001B[43modim\u001B[49m\u001B[43m,\u001B[49m\u001B[43m \u001B[49m\u001B[38;5;241;43m*\u001B[39;49m\u001B[38;5;241;43m*\u001B[39;49m\u001B[43margs\u001B[49m\u001B[38;5;241;43m.\u001B[39;49m\u001B[43mtts_conf\u001B[49m\u001B[43m)\u001B[49m\n\u001B[1;32m    319\u001B[0m \u001B[38;5;66;03m# 4. Extra components\u001B[39;00m\n\u001B[1;32m    320\u001B[0m pitch_extract \u001B[38;5;241m=\u001B[39m \u001B[38;5;28;01mNone\u001B[39;00m\n",
      "File \u001B[0;32m~/PycharmProjects/present/espnet2/gan_tts/jets/jets.py:253\u001B[0m, in \u001B[0;36mJETS.__init__\u001B[0;34m(self, idim, odim, sampling_rate, generator_type, generator_params, discriminator_type, discriminator_params, generator_adv_loss_params, discriminator_adv_loss_params, feat_match_loss_params, mel_loss_params, lambda_adv, lambda_mel, lambda_feat_match, lambda_var, lambda_align, cache_generator_outputs)\u001B[0m\n\u001B[1;32m    249\u001B[0m \u001B[38;5;28mself\u001B[39m\u001B[38;5;241m.\u001B[39mgenerator \u001B[38;5;241m=\u001B[39m generator_class(\n\u001B[1;32m    250\u001B[0m     \u001B[38;5;241m*\u001B[39m\u001B[38;5;241m*\u001B[39mgenerator_params,\n\u001B[1;32m    251\u001B[0m )\n\u001B[1;32m    252\u001B[0m discriminator_class \u001B[38;5;241m=\u001B[39m AVAILABLE_DISCRIMINATORS[discriminator_type]\n\u001B[0;32m--> 253\u001B[0m \u001B[38;5;28mself\u001B[39m\u001B[38;5;241m.\u001B[39mdiscriminator \u001B[38;5;241m=\u001B[39m \u001B[43mdiscriminator_class\u001B[49m\u001B[43m(\u001B[49m\n\u001B[1;32m    254\u001B[0m \u001B[43m    \u001B[49m\u001B[38;5;241;43m*\u001B[39;49m\u001B[38;5;241;43m*\u001B[39;49m\u001B[43mdiscriminator_params\u001B[49m\u001B[43m,\u001B[49m\n\u001B[1;32m    255\u001B[0m \u001B[43m\u001B[49m\u001B[43m)\u001B[49m\n\u001B[1;32m    256\u001B[0m \u001B[38;5;28mself\u001B[39m\u001B[38;5;241m.\u001B[39mgenerator_adv_loss \u001B[38;5;241m=\u001B[39m GeneratorAdversarialLoss(\n\u001B[1;32m    257\u001B[0m     \u001B[38;5;241m*\u001B[39m\u001B[38;5;241m*\u001B[39mgenerator_adv_loss_params,\n\u001B[1;32m    258\u001B[0m )\n\u001B[1;32m    259\u001B[0m \u001B[38;5;28mself\u001B[39m\u001B[38;5;241m.\u001B[39mdiscriminator_adv_loss \u001B[38;5;241m=\u001B[39m DiscriminatorAdversarialLoss(\n\u001B[1;32m    260\u001B[0m     \u001B[38;5;241m*\u001B[39m\u001B[38;5;241m*\u001B[39mdiscriminator_adv_loss_params,\n\u001B[1;32m    261\u001B[0m )\n",
      "File \u001B[0;32m~/PycharmProjects/present/espnet2/gan_tts/hifigan/hifigan.py:810\u001B[0m, in \u001B[0;36mHiFiGANMultiScaleMultiPeriodDiscriminator.__init__\u001B[0;34m(self, scales, scale_downsample_pooling, scale_downsample_pooling_params, scale_discriminator_params, follow_official_norm, periods, period_discriminator_params)\u001B[0m\n\u001B[1;32m    791\u001B[0m \u001B[38;5;124;03m\"\"\"Initilize HiFiGAN multi-scale + multi-period discriminator module.\u001B[39;00m\n\u001B[1;32m    792\u001B[0m \n\u001B[1;32m    793\u001B[0m \u001B[38;5;124;03mArgs:\u001B[39;00m\n\u001B[0;32m   (...)\u001B[0m\n\u001B[1;32m    807\u001B[0m \n\u001B[1;32m    808\u001B[0m \u001B[38;5;124;03m\"\"\"\u001B[39;00m\n\u001B[1;32m    809\u001B[0m \u001B[38;5;28msuper\u001B[39m()\u001B[38;5;241m.\u001B[39m\u001B[38;5;21m__init__\u001B[39m()\n\u001B[0;32m--> 810\u001B[0m \u001B[38;5;28mself\u001B[39m\u001B[38;5;241m.\u001B[39mmsd \u001B[38;5;241m=\u001B[39m \u001B[43mHiFiGANMultiScaleDiscriminator\u001B[49m\u001B[43m(\u001B[49m\n\u001B[1;32m    811\u001B[0m \u001B[43m    \u001B[49m\u001B[43mscales\u001B[49m\u001B[38;5;241;43m=\u001B[39;49m\u001B[43mscales\u001B[49m\u001B[43m,\u001B[49m\n\u001B[1;32m    812\u001B[0m \u001B[43m    \u001B[49m\u001B[43mdownsample_pooling\u001B[49m\u001B[38;5;241;43m=\u001B[39;49m\u001B[43mscale_downsample_pooling\u001B[49m\u001B[43m,\u001B[49m\n\u001B[1;32m    813\u001B[0m \u001B[43m    \u001B[49m\u001B[43mdownsample_pooling_params\u001B[49m\u001B[38;5;241;43m=\u001B[39;49m\u001B[43mscale_downsample_pooling_params\u001B[49m\u001B[43m,\u001B[49m\n\u001B[1;32m    814\u001B[0m \u001B[43m    \u001B[49m\u001B[43mdiscriminator_params\u001B[49m\u001B[38;5;241;43m=\u001B[39;49m\u001B[43mscale_discriminator_params\u001B[49m\u001B[43m,\u001B[49m\n\u001B[1;32m    815\u001B[0m \u001B[43m    \u001B[49m\u001B[43mfollow_official_norm\u001B[49m\u001B[38;5;241;43m=\u001B[39;49m\u001B[43mfollow_official_norm\u001B[49m\u001B[43m,\u001B[49m\n\u001B[1;32m    816\u001B[0m \u001B[43m\u001B[49m\u001B[43m)\u001B[49m\n\u001B[1;32m    817\u001B[0m \u001B[38;5;28mself\u001B[39m\u001B[38;5;241m.\u001B[39mmpd \u001B[38;5;241m=\u001B[39m HiFiGANMultiPeriodDiscriminator(\n\u001B[1;32m    818\u001B[0m     periods\u001B[38;5;241m=\u001B[39mperiods,\n\u001B[1;32m    819\u001B[0m     discriminator_params\u001B[38;5;241m=\u001B[39mperiod_discriminator_params,\n\u001B[1;32m    820\u001B[0m )\n",
      "File \u001B[0;32m~/PycharmProjects/present/espnet2/gan_tts/hifigan/hifigan.py:722\u001B[0m, in \u001B[0;36mHiFiGANMultiScaleDiscriminator.__init__\u001B[0;34m(self, scales, downsample_pooling, downsample_pooling_params, discriminator_params, follow_official_norm)\u001B[0m\n\u001B[1;32m    720\u001B[0m             params[\u001B[38;5;124m\"\u001B[39m\u001B[38;5;124muse_weight_norm\u001B[39m\u001B[38;5;124m\"\u001B[39m] \u001B[38;5;241m=\u001B[39m \u001B[38;5;28;01mTrue\u001B[39;00m\n\u001B[1;32m    721\u001B[0m             params[\u001B[38;5;124m\"\u001B[39m\u001B[38;5;124muse_spectral_norm\u001B[39m\u001B[38;5;124m\"\u001B[39m] \u001B[38;5;241m=\u001B[39m \u001B[38;5;28;01mFalse\u001B[39;00m\n\u001B[0;32m--> 722\u001B[0m     \u001B[38;5;28mself\u001B[39m\u001B[38;5;241m.\u001B[39mdiscriminators \u001B[38;5;241m+\u001B[39m\u001B[38;5;241m=\u001B[39m [\u001B[43mHiFiGANScaleDiscriminator\u001B[49m\u001B[43m(\u001B[49m\u001B[38;5;241;43m*\u001B[39;49m\u001B[38;5;241;43m*\u001B[39;49m\u001B[43mparams\u001B[49m\u001B[43m)\u001B[49m]\n\u001B[1;32m    723\u001B[0m \u001B[38;5;28mself\u001B[39m\u001B[38;5;241m.\u001B[39mpooling \u001B[38;5;241m=\u001B[39m \u001B[38;5;28;01mNone\u001B[39;00m\n\u001B[1;32m    724\u001B[0m \u001B[38;5;28;01mif\u001B[39;00m scales \u001B[38;5;241m>\u001B[39m \u001B[38;5;241m1\u001B[39m:\n",
      "File \u001B[0;32m~/PycharmProjects/present/espnet2/gan_tts/hifigan/hifigan.py:542\u001B[0m, in \u001B[0;36mHiFiGANScaleDiscriminator.__init__\u001B[0;34m(self, in_channels, out_channels, kernel_sizes, channels, max_downsample_channels, max_groups, bias, downsample_scales, nonlinear_activation, nonlinear_activation_params, use_weight_norm, use_spectral_norm)\u001B[0m\n\u001B[1;32m    540\u001B[0m \u001B[38;5;66;03m# backward compatibility\u001B[39;00m\n\u001B[1;32m    541\u001B[0m \u001B[38;5;28mself\u001B[39m\u001B[38;5;241m.\u001B[39m_register_load_state_dict_pre_hook(\u001B[38;5;28mself\u001B[39m\u001B[38;5;241m.\u001B[39m_load_state_dict_pre_hook)\n\u001B[0;32m--> 542\u001B[0m \u001B[38;5;28;43mself\u001B[39;49m\u001B[38;5;241;43m.\u001B[39;49m\u001B[43mregister_load_state_dict_post_hook\u001B[49m(\u001B[38;5;28mself\u001B[39m\u001B[38;5;241m.\u001B[39m_load_state_dict_post_hook)\n",
      "File \u001B[0;32m~/PycharmProjects/espnet/tools/anaconda/envs/espnet/lib/python3.9/site-packages/torch/nn/modules/module.py:1185\u001B[0m, in \u001B[0;36mModule.__getattr__\u001B[0;34m(self, name)\u001B[0m\n\u001B[1;32m   1183\u001B[0m     \u001B[38;5;28;01mif\u001B[39;00m name \u001B[38;5;129;01min\u001B[39;00m modules:\n\u001B[1;32m   1184\u001B[0m         \u001B[38;5;28;01mreturn\u001B[39;00m modules[name]\n\u001B[0;32m-> 1185\u001B[0m \u001B[38;5;28;01mraise\u001B[39;00m \u001B[38;5;167;01mAttributeError\u001B[39;00m(\u001B[38;5;124m\"\u001B[39m\u001B[38;5;124m'\u001B[39m\u001B[38;5;132;01m{}\u001B[39;00m\u001B[38;5;124m'\u001B[39m\u001B[38;5;124m object has no attribute \u001B[39m\u001B[38;5;124m'\u001B[39m\u001B[38;5;132;01m{}\u001B[39;00m\u001B[38;5;124m'\u001B[39m\u001B[38;5;124m\"\u001B[39m\u001B[38;5;241m.\u001B[39mformat(\n\u001B[1;32m   1186\u001B[0m     \u001B[38;5;28mtype\u001B[39m(\u001B[38;5;28mself\u001B[39m)\u001B[38;5;241m.\u001B[39m\u001B[38;5;18m__name__\u001B[39m, name))\n",
      "\u001B[0;31mAttributeError\u001B[0m: 'HiFiGANScaleDiscriminator' object has no attribute 'register_load_state_dict_post_hook'"
     ]
    }
   ],
   "source": [
    "os.chdir(LJSPEECH_DIR)\n",
    "pretrained_dir = LJSPEECH_DIR / \"exp/tts_train_jets_raw_phn_tacotron_g2p_en_no_space\"\n",
    "pretrained_model_file = pretrained_dir / \"train.total_count.ave_5best.pth\"\n",
    "pretrained_tts = Text2Speech.from_pretrained(\n",
    "    train_config=pretrained_dir / \"config.yaml\",\n",
    "    model_file=pretrained_model_file,\n",
    "    device=device\n",
    ")\n",
    "pretrained_model = pretrained_tts.model\n",
    "os.chdir(PWD)"
   ],
   "metadata": {
    "collapsed": false
   }
  },
  {
   "cell_type": "code",
   "execution_count": 1,
   "outputs": [],
   "source": [
    "%load_ext autoreload\n",
    "%autoreload 1\n",
    "%aimport espnet2.gan_tts.hifigan\n",
    "from espnet2.gan_tts.hifigan import HiFiGANScaleDiscriminator\n",
    "sd = HiFiGANScaleDiscriminator()"
   ],
   "metadata": {
    "collapsed": false
   }
  },
  {
   "cell_type": "code",
   "execution_count": 4,
   "outputs": [
    {
     "name": "stdout",
     "output_type": "stream",
     "text": [
      "T_destination\n",
      "__annotations__\n",
      "__call__\n",
      "__class__\n",
      "__delattr__\n",
      "__dict__\n",
      "__dir__\n",
      "__doc__\n",
      "__eq__\n",
      "__format__\n",
      "__ge__\n",
      "__getattr__\n",
      "__getattribute__\n",
      "__gt__\n",
      "__hash__\n",
      "__init__\n",
      "__init_subclass__\n",
      "__le__\n",
      "__lt__\n",
      "__module__\n",
      "__ne__\n",
      "__new__\n",
      "__reduce__\n",
      "__reduce_ex__\n",
      "__repr__\n",
      "__setattr__\n",
      "__setstate__\n",
      "__sizeof__\n",
      "__str__\n",
      "__subclasshook__\n",
      "__weakref__\n",
      "_apply\n",
      "_call_impl\n",
      "_get_backward_hooks\n",
      "_get_name\n",
      "_load_from_state_dict\n",
      "_maybe_warn_non_full_backward_hook\n",
      "_named_members\n",
      "_register_load_state_dict_pre_hook\n",
      "_register_state_dict_hook\n",
      "_replicate_for_data_parallel\n",
      "_save_to_state_dict\n",
      "_slow_forward\n",
      "_version\n",
      "add_module\n",
      "apply\n",
      "bfloat16\n",
      "buffers\n",
      "children\n",
      "cpu\n",
      "cuda\n",
      "double\n",
      "dump_patches\n",
      "eval\n",
      "extra_repr\n",
      "float\n",
      "forward\n",
      "get_buffer\n",
      "get_extra_state\n",
      "get_parameter\n",
      "get_submodule\n",
      "half\n",
      "load_state_dict\n",
      "modules\n",
      "named_buffers\n",
      "named_children\n",
      "named_modules\n",
      "named_parameters\n",
      "parameters\n",
      "register_backward_hook\n",
      "register_buffer\n",
      "register_forward_hook\n",
      "register_forward_pre_hook\n",
      "register_full_backward_hook\n",
      "register_module\n",
      "register_parameter\n",
      "requires_grad_\n",
      "set_extra_state\n",
      "share_memory\n",
      "state_dict\n",
      "to\n",
      "to_empty\n",
      "train\n",
      "type\n",
      "xpu\n",
      "zero_grad\n"
     ]
    }
   ],
   "source": [
    "import torch\n",
    "for x in dir(torch.nn.Module):\n",
    "    print(x)"
   ],
   "metadata": {
    "collapsed": false
   }
  },
  {
   "cell_type": "code",
   "execution_count": 3,
   "outputs": [
    {
     "name": "stdout",
     "output_type": "stream",
     "text": [
      "T_destination\n",
      "__annotations__\n",
      "__call__\n",
      "__class__\n",
      "__delattr__\n",
      "__dict__\n",
      "__dir__\n",
      "__doc__\n",
      "__eq__\n",
      "__format__\n",
      "__ge__\n",
      "__getattr__\n",
      "__getattribute__\n",
      "__gt__\n",
      "__hash__\n",
      "__init__\n",
      "__init_subclass__\n",
      "__le__\n",
      "__lt__\n",
      "__module__\n",
      "__ne__\n",
      "__new__\n",
      "__reduce__\n",
      "__reduce_ex__\n",
      "__repr__\n",
      "__setattr__\n",
      "__setstate__\n",
      "__sizeof__\n",
      "__str__\n",
      "__subclasshook__\n",
      "__weakref__\n",
      "_apply\n",
      "_backward_hooks\n",
      "_buffers\n",
      "_call_impl\n",
      "_forward_hooks\n",
      "_forward_pre_hooks\n",
      "_get_backward_hooks\n",
      "_get_name\n",
      "_is_full_backward_hook\n",
      "_load_from_state_dict\n",
      "_load_state_dict_post_hook\n",
      "_load_state_dict_pre_hook\n",
      "_load_state_dict_pre_hooks\n",
      "_maybe_warn_non_full_backward_hook\n",
      "_modules\n",
      "_named_members\n",
      "_non_persistent_buffers_set\n",
      "_parameters\n",
      "_register_load_state_dict_pre_hook\n",
      "_register_state_dict_hook\n",
      "_replicate_for_data_parallel\n",
      "_save_to_state_dict\n",
      "_slow_forward\n",
      "_state_dict_hooks\n",
      "_version\n",
      "add_module\n",
      "apply\n",
      "apply_spectral_norm\n",
      "apply_weight_norm\n",
      "bfloat16\n",
      "buffers\n",
      "children\n",
      "cpu\n",
      "cuda\n",
      "double\n",
      "dump_patches\n",
      "eval\n",
      "extra_repr\n",
      "float\n",
      "forward\n",
      "get_buffer\n",
      "get_extra_state\n",
      "get_parameter\n",
      "get_submodule\n",
      "half\n",
      "layers\n",
      "load_state_dict\n",
      "modules\n",
      "named_buffers\n",
      "named_children\n",
      "named_modules\n",
      "named_parameters\n",
      "parameters\n",
      "register_backward_hook\n",
      "register_buffer\n",
      "register_forward_hook\n",
      "register_forward_pre_hook\n",
      "register_full_backward_hook\n",
      "register_module\n",
      "register_parameter\n",
      "remove_spectral_norm\n",
      "remove_weight_norm\n",
      "requires_grad_\n",
      "set_extra_state\n",
      "share_memory\n",
      "state_dict\n",
      "to\n",
      "to_empty\n",
      "train\n",
      "training\n",
      "type\n",
      "use_spectral_norm\n",
      "use_weight_norm\n",
      "xpu\n",
      "zero_grad\n"
     ]
    }
   ],
   "source": [
    "\n",
    "for x in dir(sd):\n",
    "    print(x)"
   ],
   "metadata": {
    "collapsed": false
   }
  },
  {
   "cell_type": "code",
   "execution_count": null,
   "outputs": [],
   "source": [
    "arpa_tokenizer = PhonemeTokenizer(g2p_type='g2p_en_no_space')\n",
    "id_converter = TokenIDConverter(pretrained_tts.train_args.token_list)"
   ],
   "metadata": {
    "collapsed": false
   }
  },
  {
   "cell_type": "code",
   "execution_count": null,
   "outputs": [],
   "source": [
    "save_dir = PWD / 'tts_train_jets_raw_phn_tacotron_g2p_en_no_space/mandarin'\n",
    "pas = PinyinArpaSpeech(token_id_converter=id_converter, tts_inference_fn=pretrained_model.tts.generator.inference)"
   ],
   "metadata": {
    "collapsed": false
   }
  },
  {
   "cell_type": "code",
   "execution_count": null,
   "outputs": [],
   "source": [
    "initial_pinyins = INITIAL_TO_PINYINS['zh']\n",
    "initial_pinyin_tones = all_tones(initial_pinyins)\n",
    "' '.join(initial_pinyin_tones)"
   ],
   "metadata": {
    "collapsed": false
   }
  },
  {
   "cell_type": "code",
   "execution_count": null,
   "outputs": [],
   "source": [
    "rime_pinyins = RIME_TO_PINYINS['uang']\n",
    "rime_pinyin_tones = all_tones(rime_pinyins)\n",
    "' '.join(rime_pinyin_tones)"
   ],
   "metadata": {
    "collapsed": false
   }
  },
  {
   "cell_type": "code",
   "execution_count": null,
   "outputs": [],
   "source": [
    "chinese = all_tones('zhuang') + ['.']\n",
    "# chinese = rime_pinyin_tones[0:20] + ['.']\n",
    "# chinese = rime_pinyin_tones[20:40] + ['.']\n",
    "# chinese = rime_pinyin_tones[40:60] + ['.']\n",
    "# chinese = rime_pinyin_tones[60:80] + ['.']\n",
    "# chinese = '我提到的这个问题并不难处理.'\n",
    "# chinese = '这个议会代表着欧洲民众.'\n",
    "# chinese = '我相信你在那裡涉及到了某個要點.'\n",
    "# chinese = '各項報導反映出這種主流態度.'\n",
    "# chinese = initial_pinyin_tones[0:20] + ['.']\n",
    "# chinese = initial_pinyin_tones[20:40] + ['.']\n",
    "# chinese = initial_pinyin_tones[40:60] + ['.']\n",
    "# chinese = '他晕倒了.'\n",
    "\n",
    "pas_update_dict = {\n",
    "    'pinyin_to_arpa_durations': {},\n",
    "    'tone_duration_split': {},\n",
    "    'tone_contours': {},\n",
    "    'nucleus_tone_only': False,\n",
    "    'max_pitch_change': 2.5,\n",
    "}\n",
    "infer_overrides = {\n",
    "    # 'd_split_factor': None,\n",
    "    # 'd_factor': None,\n",
    "    # 'p_factor': None,\n",
    "    # 'e_factor': None,\n",
    "    # 'd_mod_fns': None,\n",
    "    # 'p_mod_fns': None,\n",
    "    # 'e_mod_fns': None,\n",
    "}\n",
    "inputs = pas.gen_audio(\n",
    "    chinese,\n",
    "    save_dir,\n",
    "    inputs=None,\n",
    "    pac_update_dict=pas_update_dict,\n",
    "    infer_overrides=infer_overrides,\n",
    "    overall_d_factor=1.0,\n",
    "    vowel_duration=(9.0, 15.0),\n",
    "    arpa_in_filename=len(chinese)<10,\n",
    "    device=device,\n",
    ")\n",
    "arpas, tones, d_factor, d_split_factor, pitch_values, p_mod_fns = inputs"
   ],
   "metadata": {
    "collapsed": false
   }
  }
 ],
 "metadata": {
  "kernelspec": {
   "display_name": "Python 3",
   "language": "python",
   "name": "python3"
  },
  "language_info": {
   "codemirror_mode": {
    "name": "ipython",
    "version": 2
   },
   "file_extension": ".py",
   "mimetype": "text/x-python",
   "name": "python",
   "nbconvert_exporter": "python",
   "pygments_lexer": "ipython2",
   "version": "2.7.6"
  }
 },
 "nbformat": 4,
 "nbformat_minor": 0
}
