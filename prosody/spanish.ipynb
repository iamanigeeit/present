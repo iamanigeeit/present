{
 "cells": [
  {
   "cell_type": "code",
   "metadata": {
    "ExecuteTime": {
     "end_time": "2024-07-01T13:03:57.727505Z",
     "start_time": "2024-07-01T13:03:54.552908Z"
    }
   },
   "source": [
    "import os\n",
    "\n",
    "os.environ['CUDA_LAUNCH_BLOCKING'] = \"1\"\n",
    "from pathlib import Path\n",
    "from espnet2.text.phoneme_tokenizer import PhonemeTokenizer\n",
    "from espnet2.text.token_id_converter import TokenIDConverter\n",
    "from espnet2.bin.tts_inference import Text2Speech\n",
    "\n",
    "%load_ext autoreload\n",
    "%autoreload 2\n",
    "\n",
    "PWD = %pwd\n",
    "PWD = Path(PWD)\n",
    "LJSPEECH_DIR = (PWD / '../egs2/ljspeech/tts1/').resolve()\n",
    "DATA_DIR = (PWD / '../../datasets/CSS10/spanish/').resolve()\n",
    "device = 'cuda'"
   ],
   "outputs": [],
   "execution_count": 1
  },
  {
   "cell_type": "code",
   "metadata": {
    "collapsed": false,
    "jupyter": {
     "outputs_hidden": false
    },
    "ExecuteTime": {
     "end_time": "2024-07-01T13:03:59.513911Z",
     "start_time": "2024-07-01T13:03:57.728919Z"
    }
   },
   "source": [
    "os.chdir(LJSPEECH_DIR)\n",
    "pretrained_dir = LJSPEECH_DIR / \"exp/tts_train_jets_raw_phn_tacotron_g2p_en_no_space\"\n",
    "pretrained_model_file = pretrained_dir / \"train.total_count.ave_5best.pth\"\n",
    "pretrained_tts = Text2Speech.from_pretrained(\n",
    "    train_config=pretrained_dir / \"config_prosody.yaml\",\n",
    "    model_file=pretrained_model_file,\n",
    "    device=device\n",
    ")\n",
    "pretrained_model = pretrained_tts.model\n",
    "os.chdir(PWD)"
   ],
   "outputs": [
    {
     "name": "stderr",
     "output_type": "stream",
     "text": [
      "/home/perry/miniconda3/envs/espnet/lib/python3.10/site-packages/torch/nn/utils/weight_norm.py:30: UserWarning: torch.nn.utils.weight_norm is deprecated in favor of torch.nn.utils.parametrizations.weight_norm.\n",
      "  warnings.warn(\"torch.nn.utils.weight_norm is deprecated in favor of torch.nn.utils.parametrizations.weight_norm.\")\n"
     ]
    },
    {
     "name": "stdout",
     "output_type": "stream",
     "text": [
      "It seems weight norm is not applied in the pretrained model but the current model uses it. To keep the compatibility, we remove the norm from the current model. This may cause unexpected behavior due to the parameter mismatch in finetuning. To avoid this issue, please change the following parameters in config to false:\n",
      " - discriminator_params.follow_official_norm\n",
      " - discriminator_params.scale_discriminator_params.use_weight_norm\n",
      " - discriminator_params.scale_discriminator_params.use_spectral_norm\n",
      "\n",
      "See also:\n",
      " - https://github.com/espnet/espnet/pull/5240\n",
      " - https://github.com/espnet/espnet/pull/5249\n"
     ]
    }
   ],
   "execution_count": 2
  },
  {
   "cell_type": "code",
   "metadata": {
    "collapsed": false,
    "jupyter": {
     "outputs_hidden": false
    },
    "ExecuteTime": {
     "end_time": "2024-07-01T13:03:59.849345Z",
     "start_time": "2024-07-01T13:03:59.809991Z"
    }
   },
   "source": [
    "arpa_tokenizer = PhonemeTokenizer(g2p_type='g2p_en_no_space')\n",
    "id_converter = TokenIDConverter(pretrained_tts.train_args.token_list)"
   ],
   "outputs": [],
   "execution_count": 3
  },
  {
   "metadata": {
    "ExecuteTime": {
     "end_time": "2024-07-01T13:04:08.598817Z",
     "start_time": "2024-07-01T13:04:07.195877Z"
    }
   },
   "cell_type": "code",
   "source": "from en_to_es import phonemize, G2P",
   "outputs": [],
   "execution_count": 4
  },
  {
   "cell_type": "code",
   "metadata": {
    "ExecuteTime": {
     "end_time": "2024-06-26T05:44:47.964399Z",
     "start_time": "2024-06-26T05:44:47.580504Z"
    }
   },
   "source": [
    "from phonemizer.backend import BACKENDS\n",
    "from phonemizer.separator import Separator\n",
    "G2P = BACKENDS['espeak'](\n",
    "    language='es',\n",
    "    preserve_punctuation=True,\n",
    "    with_stress=True,\n",
    ")\n",
    "SEP = Separator(word='|', phone=' ')\n",
    "def phonemize_base(text):\n",
    "    phonestr = G2P.phonemize([text], separator=SEP)[0]\n",
    "    phones = phonestr.replace('|', ' | ').strip().split()\n",
    "    return phones"
   ],
   "outputs": [],
   "execution_count": 6
  },
  {
   "cell_type": "code",
   "metadata": {
    "ExecuteTime": {
     "end_time": "2024-06-26T10:03:41.369718Z",
     "start_time": "2024-06-26T10:03:38.675644Z"
    }
   },
   "source": [
    "phoneset = set()\n",
    "# Please correct invalid characters\n",
    "with open(DATA_DIR / 'transcript_phones_espeak.txt', 'w') as phones_f:\n",
    "    with open(DATA_DIR / 'transcript.txt') as f:\n",
    "        for line in f:\n",
    "            filename, _, text2, _ = line.split('|')\n",
    "            if not text2:\n",
    "                continue\n",
    "            # G2P.logger.warning(f'{filename}')\n",
    "            phones = phonemize(text2)\n",
    "            phones_f.write(f'{filename}|{\" \".join(phones)}\\n')\n",
    "            phoneset |= set(phones)\n",
    "            # break"
   ],
   "outputs": [],
   "execution_count": 49
  },
  {
   "cell_type": "code",
   "metadata": {
    "ExecuteTime": {
     "end_time": "2024-06-24T11:06:16.791236Z",
     "start_time": "2024-06-24T11:06:15.912322Z"
    }
   },
   "source": [
    "# from en_to_es import PHONES_MAP, PUNCS\n",
    "# phoneset = set(PHONES_MAP.keys()) | set(PUNCS)\n",
    "phoneset = set()\n",
    "with open(DATA_DIR / 'transcript_phones_espeak.txt') as f:\n",
    "    for line in f:\n",
    "        filename, trans = line.split('|', maxsplit=1)\n",
    "        for phone in trans.strip().split():\n",
    "            if phone not in phoneset:\n",
    "                phoneset.add(phone)"
   ],
   "outputs": [],
   "execution_count": 20
  },
  {
   "metadata": {
    "ExecuteTime": {
     "end_time": "2024-06-24T11:06:17.564824Z",
     "start_time": "2024-06-24T11:06:17.520490Z"
    }
   },
   "cell_type": "code",
   "source": "' '.join(sorted(phoneset))",
   "outputs": [
    {
     "data": {
      "text/plain": [
       "'! , . ? a aɪ aʊ b d dʒ e eɪ eʊ f i j k l m n o oɪ p pː r s t tʃ u w x | ð ŋ ɡ ɣ ɲ ɾ ʎ ʝ ˈa ˈaɪ ˈaʊ ˈe ˈeɪ ˈeʊ ˈi ˈo ˈoɪ ˈu ˈɛ ˌa ˌaɪ ˌaʊ ˌe ˌeɪ ˌeʊ ˌi ˌo ˌoɪ ˌu β θ'"
      ]
     },
     "execution_count": 21,
     "metadata": {},
     "output_type": "execute_result"
    }
   ],
   "execution_count": 21
  },
  {
   "metadata": {
    "ExecuteTime": {
     "end_time": "2024-06-28T11:28:38.314703Z",
     "start_time": "2024-06-28T11:28:35.637358Z"
    }
   },
   "cell_type": "code",
   "source": [
    "from en_to_es import VOWELS_MAP\n",
    "print('|'.join(VOWELS_MAP.keys()))"
   ],
   "outputs": [
    {
     "name": "stdout",
     "output_type": "stream",
     "text": [
      "a|ˌa|ˈa|aɪ|ˌaɪ|ˈaɪ|aʊ|ˌaʊ|ˈaʊ|e|ˌe|ˈe|ˈɛ|eɪ|ˌeɪ|ˈeɪ|eʊ|ˌeʊ|ˈeʊ|i|ˌi|ˈi|o|ˌo|ˈo|oɪ|ˌoɪ|ˈoɪ|u|ˌu|ˈu\n"
     ]
    }
   ],
   "execution_count": 150
  },
  {
   "metadata": {
    "ExecuteTime": {
     "end_time": "2024-07-01T13:49:22.466883Z",
     "start_time": "2024-07-01T13:49:21.745832Z"
    }
   },
   "cell_type": "code",
   "source": [
    "import pandas as pd\n",
    "phone_freq_csv = DATA_DIR / 'phone_freq.csv'\n",
    "phones = 'a aɪ aʊ b β d ð e eɪ eʊ ɛ f ɡ ɣ i j ʝ k l ʎ m n ɲ ŋ o oɪ p pː r ɾ s t tʃ θ u w x'.split()\n",
    "if phone_freq_csv.exists():\n",
    "    df = pd.read_csv(phone_freq_csv, index_col='filename')\n",
    "else:\n",
    "    filenames = []\n",
    "    transcripts = []\n",
    "    with open(DATA_DIR / 'transcript_phones_espeak.txt') as f:\n",
    "        for line in f:\n",
    "            filename, trans = line.split('|', maxsplit=1)\n",
    "            trans = trans.strip() + ' '\n",
    "            filenames.append(filename)\n",
    "            transcripts.append(trans)\n",
    "    df = pd.DataFrame({'filename': filenames, 'transcript': transcripts})\n",
    "    df.set_index('filename', inplace=True)\n",
    "    for phone in phones:\n",
    "        df[phone] = df.transcript.str.count(phone + ' ')\n",
    "    df.to_csv(phone_freq_csv)\n"
   ],
   "outputs": [],
   "execution_count": 5
  },
  {
   "cell_type": "code",
   "metadata": {
    "ExecuteTime": {
     "end_time": "2024-07-01T13:49:25.364510Z",
     "start_time": "2024-07-01T13:49:25.333645Z"
    }
   },
   "source": [
    "def get_top_transcripts(phone, top_n=2):\n",
    "    return df.sort_values(by=phone, ascending=False).head(top_n)['transcript'].to_dict()"
   ],
   "outputs": [],
   "execution_count": 6
  },
  {
   "cell_type": "code",
   "metadata": {
    "collapsed": false,
    "jupyter": {
     "outputs_hidden": false
    },
    "ExecuteTime": {
     "end_time": "2024-07-01T13:49:26.473332Z",
     "start_time": "2024-07-01T13:49:26.192466Z"
    }
   },
   "source": [
    "from en_to_es import SpanishArpaSpeech, phonemize\n",
    "sas = SpanishArpaSpeech(token_id_converter=id_converter, tts_inference_fn=pretrained_model.tts.generator.inference)"
   ],
   "outputs": [],
   "execution_count": 7
  },
  {
   "metadata": {
    "ExecuteTime": {
     "end_time": "2024-06-28T11:12:04.447713Z",
     "start_time": "2024-06-28T11:11:53.987559Z"
    }
   },
   "cell_type": "code",
   "source": "",
   "outputs": [
    {
     "name": "stdout",
     "output_type": "stream",
     "text": [
      "ɛ\n",
      "{'bailen/bailen_0712.wav': 'ˌo β e ð ˈe θ e n | a | l a | ˌa l e ɣ ɾ ˈi a | ð e | ˈu n | m o m ˈɛ n t o | , a | l a | p ˈe n a | ð e | ˈo t ɾ o | m o m ˈɛ n t o | , a | l a s | ˌa ŋ ɡ u s t j ˈo s a s | ˌa l t e ɾ n a t ˈi β a s | k e | e n | e l | ð i s k ˈu ɾ s o | ð e | k w ˈa n t a s | ˈo ɾ a s | k o n s j ˈɛ n t e | i | ð i s p ˈo n e | ð j ˈo s | , ˌe s p e k t a ð ˈo ɾ | n ˈo | ˌi n d i f e ɾ ˈɛ n t e | ð e | ˈe s t a s | β ˌa ɾ β a ɾ i ð ˈa ð e s | ð e | l o s | ˈo m b ɾ e s | . ', 'batalla_arapiles/batalla_arapiles_3930.wav': 'n ˈo | x u θ ɣ ˈe i s | m i | ˌa t ɾ e β i m j ˈɛ n t o | k o n | k ɾ i t ˈe ɾ j o | β u l ɣ ˈa ɾ | , k ɾ e j j ˈɛ n d o | k e | n ˈo | f ˈa l t o | a l | ð e k ˈo ɾ o | , a | l a s | k ˌo m b e n j ˈɛ n θ j a s | i | a l | p u ð ˈo ɾ | ð i θ j ˈɛ n d o | a | ˈu n | ˈo m b ɾ e | k e | l e | ˈa m o | . '}\n",
      "f\n",
      "{'bailen/bailen_0362.wav': 'm i ɾ ˈa β a m o s | k o n | d ˌe s ð e ɲ ˈo s a | ˌi n d i f e ɾ ˈɛ n θ j a | a | l o s | k e | k e ð ˈa ɾ o n | d e | r e s ˈe ɾ β a | , i | a l | k o n t ˈa ɾ l e s | l o | k e | p a s ˈo | , a θ ˈi a m o s | s u β ˈi ɾ | a | θ ˌi f ɾ a s f ˌa β u l ˈo s a s | e l | n ˈu m e ɾ o | ð e | f ɾ a n θ ˈe s e s | s e ɣ ˈa ð o s | p o ɾ | n w ˌe s t ɾ o s | k ˌo ɾ t a ð ˈo ɾ e s | s ˈa β l e s | e n | l a | r ˌe f ɾ i ˈe ɣ a | . ', 'batalla_arapiles/batalla_arapiles_1017.wav': 'm i | x ˌe n e ɾ ˈa l | ð ˈi x o | k o m | f ˌa t w i ð ˈa ð | e s p ˈa ɲ a | , e n | m i | ð ˌi β i s j ˈo n | n ˈo | f ˈa l t a n | ˌo f i θ j ˈa l e s | f ˌa k u l t a t ˈi β o s | . '}\n",
      "ɡ\n",
      "{'batalla_arapiles/batalla_arapiles_3519.wav': 'm a ɾ m ˈo n t | k e ɾ ˈi a | ˌe ŋ ɡ a ɲ ˈa ɾ | a | w e ʎ ˈi ŋ ɡ t o n | , p ˌe ɾ o | w e ʎ ˈi ŋ ɡ t o n | n ˈo | s ˈo l o | k e ɾ ˈi a | ˌe ŋ ɡ a ɲ ˈa ɾ | s ˈi n o | k e | e s t ˈa β a | ˌe ŋ ɡ a ɲ ˈa n d o | a | m a ɾ m ˈo n t | . ', '19demarzo/19demarzo_2793.wav': 'n ˈi | p a l ˈa β ɾ a s | ð e | n i ŋ ɡ ˈu n a | l ˈɛ ŋ ɡ w a | a l k ˈa n θ a n | a | m ˌa n i f e s t ˈa ɾ | a ŋ ɡ ˈu s t j a | t ˈa ŋ | ɡ ɾ ˈa n d e | . '}\n",
      "ɣ\n",
      "{'19demarzo/19demarzo_1106.wav': 'l u ˈe ɣ o | k o n θ ˈe n t ɾ i k o | , e n | s e ɣ ˈi ð a | p ˌo l i ɣ o n ˈa l | i | ð o ɾ ˈa ð o | , i | a l | f ˈi m | p e k ˈe ɲ o | k ˌo m o | ˈu m | p ˈu n t o | , p ˌa ɾ a | l u ˈe ɣ o | s ˈe r | ɣ ɾ ˈa n d e | k ˌo m o | e l | ˌu n i β ˈe ɾ s o | . ', 'batalla_arapiles/batalla_arapiles_2673.wav': 'k j ˈe n | , m ˈi s s | ˌe f e ˌe l e ˌi ɣ ɾ i ˈe ɣ a | ? p ɾ ˌe ɣ u n t ˈe | k o m | b ˈi β o | ɣ ˈo θ o | . l a | ˌa ɾ t i ʎ e ɾ ˈi a | , s e ɲ ˈo ɾ e s | , l a | ˌa ɾ t i ʎ e ɾ ˈi a | ɣ ɾ u ˈe s a | k e | s e | m a n d ˈo | t ɾ a ˈe ɾ | ð e | a l m ˈeɪ ð a | . '}\n",
      "i\n",
      "{'bailen/bailen_2097.wav': 'p ˌe ɾ o | e l | ð ˈi a | ð j ˌe θ i s ˈe i s | s u p ˈi m o s | k e | l o s | f ɾ a n θ ˈe s e s | a β ˈi a n | ˌe β a k w ˈa ð o | a | k ˈo ɾ ð o β a | , i | ˌa ð o pː t ˈa n d o | n w ˌe s t ɾ o | p ɾ ˌi m i t ˈi β o | ˌi t i n e ɾ ˈa ɾ j o | , d ˌi β i s ˈa m o s | e n | l a | m a ɲ ˈa n a | ð e l | ˈu n | i n m ˈɛ n s o | k ˌa s e ɾ ˈi o | β l ˈa n k o | , k e | ð ˌe s t a k ˈa β a | s ˌo β ɾ e | e l | β ˈe ɾ ð e | a θ ˈu l | ð e | l a | l e x ˈa n a | s j ˈe r a | ˌi m f i n i ð ˈa d | ð e | t ˈo r e s | , m ˌi n a ɾ ˈe t e s | , ˌe s p a ð ˈa ɲ a s | i | θ i m b ˈo r i o s | . ', '19demarzo/19demarzo_3014.wav': 'e l | p e l ˈi ɣ ɾ o | n ˈo | m e | ˌi m p e ð ˈi a | ˌo β s e ɾ β ˈa ɾ | k j ˈe n | e s t ˈa β a | e n | t ˈo ɾ n o | m ˈi o | , i | a s ˈi | p w ˈe ð o | ð e θ ˈi ɾ | k e | s ˌo s t e n ˈi a n | m i | β a l ˈo ɾ | β ˌa θ i l ˈa n t e | ˌa ð e m ˈa s | ð e | l a | p ɾ ˌi m o ɾ ˈo s a | , ˈu n | s e ɲ ˈo ɾ | ɣ ɾ ˈa β e | i | β j ˈe m | b e s t ˈi ð o | k e | p ˌa ɾ e θ ˈi a | ˌa ɾ i s t ˈo k ɾ a t a | , i | ð ˈo s | ˌo n r a ð ˈi s i m o s | t e n d ˈe ɾ o s | ð e | l a | m ˈi s m a | k ˈa ʎ e | , a | k j ˌe n e s | ʝ ˈo | ð e | a n t ˈi ɣ w o | k ˌo n o θ ˈi a | . '}\n",
      "j\n",
      "{'batalla_arapiles/batalla_arapiles_1599.wav': 'o s k ˈu ɾ o | , ˌo l β i ð ˈa ð o | i | n ˈo | m ˈu j j | β j ˈe n | k ˈi s t o | , s ˌa n t o ɾ k ˈa θ | s e | k o n s w ˈe l a | k o n | l a | m ˌa s o n e ɾ ˈi a | , i | e n | l a | l ˈo x j a | ð e | l a | k ˈa ʎ e | ð e | t ˌe n t e n ˈe θ j o s | ˈu n o s | k w ˌa n t o s | p e ɾ ð ˈi ð o s | ˌe s p a ɲ ˈo l e s | i | f ɾ a n θ ˈe s e s | , l o | p e ˈo ɾ | s i n | d ˈu ð a | ð e | ˈa m b a s | n a θ j ˈo n e s | , s e | ˌe n t ɾ e t j ˈe n e n | e n | ˌe k s t e ɾ m i n ˈa ɾ | a l | x ˈe n e ɾ o | u m ˈa n o | , b o l β j ˈɛ n d o | a l | m ˈu n d o | p ˈa t a s | a r ˈi β a | , s ˌu p ɾ i m j ˈɛ n d o | l a | ˌa ɾ i s t o k ɾ ˈa θ j a | i | p o n j ˈɛ n d o | a | l o s | r ˈe j j e s | ˈu n a | e s k ˈo β a | e n | l a | m ˈa n o | , p ˌa ɾ a | k e | β ˈa r a n | l a s | k ˈa ʎ e s | . ', 'bailen/bailen_0909.wav': 'ˈe s t e | β a l j ˈɛ n t e | ˌo f i θ j ˈa l | , k ˈu j j o | n ˈo m b ɾ e | n ˈo | e s t ˈa | e n | l a | i s t ˈo ɾ j a | , s e | ð ˌi s f ɾ a θ ˈo | ð e | ˌa r i ˈe ɾ o | , i | e n | ˈu n a | f ˌa t i ɣ ˈo s a | x o ɾ n ˈa ð a | s ˈu p o | ð ˌe s e m p e ɲ ˈa ɾ | m ˈu j j | β j ˈe n | s u | k ˌo m i s j ˈo n | , '}\n",
      "ʝ\n",
      "{'batalla_arapiles/batalla_arapiles_2766.wav': 'ʝ ˈo | s ˈoɪ | e l | ˌa k u s ˈa ð o | , ʝ ˈo | e l | l a ð ɾ ˈo n | , ʝ ˈo | e l | ˈo ɣ ɾ o | ð e | k w ˈɛ n t o s | ˌi m f a n t ˈi l e s | , ʝ ˈo | e l | x ˌi ɣ a n t ˈo n | d e | l e j j ˈɛ n d a | , ʝ ˈo | e l | m o ɾ ˈa θ o | ð e | r o m ˈa n θ e | . ', '19demarzo/19demarzo_1866.wav': 'ʝ ˈo | ˈe | ɣ w a ɾ ð ˈa ð o | m i s | ɣ a n ˈa n θ j a s | ð ˌe s ð e | ˈa θ e | β ˈeɪ n t e | ˈa ɲ o s | . l o | m ˈa l o | ˈe s | k e | t ˈo ð o | l o | t ˈɛ ŋ ɡ o | e m | p o ð ˈe ɾ | ð e | l o s | r e k ˈe x o s | . . . p ˌe ɾ o | ʝ ˈa | , ʝ ˈa | t ˌo m a ɾ ˈe | ʝ ˈo | l o | k e | m e | p ˌe ɾ t e n ˈe θ k a | . '}\n",
      "k\n",
      "{'batalla_arapiles/batalla_arapiles_0474.wav': 'ˌa ɲ a ð j ˈo m e | k e | ˈe l | e n | l o s | p ɾ i m ˈe ɾ o s | ˈa ɲ o s | ð e | β ˈi ð a | m o n ˈa s t i k a | a β ˈi a | ˌe k s p e ɾ ˌi m e n t ˈa ð o | i ɣ w ˈa l e s | ˌa p ɾ i ˈe t o s | i | k ˌo m p ɾ o m ˈi s o s | , m ˈa s | k e | a l | f ˈi n | k o n | l a s | r ˈu ð a s | p ˌe n i t ˈɛ n θ j a s | i | l e k t ˈu ɾ a s | m ˈi s t i k a s | a β ˈi a | k ˌo m b e n θ ˈi ð o | a l | ð e m ˈo n j o | ð e | l a | ˌi n u t ˌi l i ð ˈa d | ð e | s u s | e s f w ˈe ɾ θ o s | p ˌa ɾ a | p ˌe ɾ β e ɾ t ˈi ɾ l o | , k o n | l o | k w ˈa l | l e | ð e x ˈo | t ɾ a n k ˈi l o | . ', '19demarzo/19demarzo_2286.wav': 'n ˈi | p ˌa ɾ a | k ˈe | k e ɾ ˈe m o s | a k ˈi | f ɾ a n θ ˈe s e s | , n ˈi | θ ˌa m a k ˈu k o s | , n ˈi | t ɾ a ɣ ˈo n e s | , n ˈi | n ˈa ð a | ð e | t ˈo ð a | ˈe s a | k a n ˈa ʎ a | k e | n ˈo | β j ˈe n e | a k ˈi | m ˈa s | k e | a | k o m ˈe ɾ | ? p w ˈe s | k ˈe | k ɾ ˈe e | u s t ˈe d | ? , '}\n",
      "l\n",
      "{'19demarzo/19demarzo_1977.wav': 'i | a s ˈi | t e | k ˌe ð a ɾ ˈa | t j ˈe m p o | p ˌa ɾ a | ˌa p a l e ˈa ɾ | l a s | k ˈa p a s | , ˌe n θ e n d ˈe ɾ | e l | f w ˈe ɣ o | i | s o p l ˈa ɾ l o | , d ˌe β a n ˈa ɾ | e l | ˈi l o | ð e | l a | k o s t ˈu ɾ a | , p o n ˈe ɾ | l o s | n ˈu m e ɾ o s | a | l a s | p ˌa p e l ˈe t a s | , a β j ˈa ɾ | l a | l ˌa m p a ɾ ˈi ʎ a | , l i m p j ˈa ɾ | e l | p ˈo l β o | , d ˈa ɾ | l ˈu s t ɾ e | a | l o s | θ a p ˈa t o s | ð e | m i | e ɾ m ˈa n o | i | t ˈo ð o | l o | ð e m ˈa s | k e | s e | β ˈa j j a | ˌo f ɾ e θ j ˈɛ n d o | . ', 'batalla_arapiles/batalla_arapiles_3561.wav': 'i | l o s | ð ɾ a ɣ ˈo n e s | ð e l | ð ˌe θ i m o k w ˈa ɾ t o | r ˌe x i m j ˈɛ n t o | , k e | ˈi β a n | e n | k w ˈa t ɾ o | k o l ˈu m n a s | a | ˌe m b o l β ˈe ɾ | l a | i θ k j ˈe ɾ ð a | ð e l | ˌe n e m ˈi ɣ o | e n | l a | f a m ˈo s a | a l t ˈu ɾ a | , i | β ˈi | ð ˌe s ð e | l ˈe x o s | l a | β ɾ i ɣ ˈa ð a | ð e l | x ˌe n e ɾ ˈa l | β ɾ a ð f ˈo ɾ d | , l a | ð e | k ˈo l e | i | l a | k ˌa β a ʎ e ɾ ˈi a | ð e | s t a p l ˈe t o n | k ˈo t t o n | , k e | m a ɾ tʃ ˈa β a n | e n | ˈo t ɾ a | ð ˌi ɾ e k θ j ˈo n | k ˈo n t ɾ a | e l | θ ˈɛ n t ɾ o | ˌe n e m ˈi ɣ o | , '}\n",
      "ʎ\n",
      "{'bailen/bailen_2821.wav': 'k o m | p aɪ s ˈa n o s | , p w ˈe s | , k ɾ e ˈo | s e β ˈi ʎ a | θ ˈi n k o | β ˌa t a ʎ ˈo n e s | i | ð ˈo s | r ˌe x i m j ˈɛ n t o s | ð e | k ˌa β a ʎ e ɾ ˈi a | , k ˈa ð i θ | m a n d ˈo | e l | β ˌa t a ʎ ˈo n | d e | t ˌi ɾ a ð ˈo ɾ e s | k e | ʎ e β ˈa β a | s u | n ˈo m b ɾ e | , ', '19demarzo/19demarzo_2072.wav': 'l o p ˈi t o | , k e | ʎ e β ˈa β a | a | k w ˈe s t a s | ˈu n a | m ˌa ɾ a β i ʎ ˈo s a | ˈo β ɾ a | ð e | p ˌo ɾ θ e l ˈa n a | , p ɾ o ð ˈu k t o | ð e | l o s | t a ʎ ˈe ɾ e s | ð e | l a | m o n k l ˈo a | , s e | ʎ e ɣ ˈo | a | m ˈi | i | ð ˈi x o m e | , '}\n",
      "m\n",
      "{'19demarzo/19demarzo_2858.wav': 'a l ɣ ˈu n o s | f ɾ a n θ ˈe s e s | m e | ˌo β l i ɣ ˈa ɾ o n | a | ˌa l e x ˈa ɾ | ð e | a k ˈe l | s ˈi t j o | , i | p o ɾ | l a s | p a l ˈa β ɾ a s | k e | o ˈi | m e | x u θ ɣ ˈe | e m | p e l ˈi ɣ ɾ o | ð e | s ˈe r | t a m b j ˈe n | k ˌo m p ɾ e n d ˈi ð o | e n | l a | t ɾ a ˈi ʎ a | p ˌe ɾ o | a | m ˈi | n ˈo | m e | ˌi m p o ɾ t ˈa β a | l a | m w ˈe ɾ t e | , n ˈi | e n | t ˈa l | s ˌi t w a θ j ˈo n | u β j ˈe ɾ a | ð e x ˈa ð o | ð e | m i ɾ ˈa ɾ | a | ˈu m | p ˈu n t o | ð ˌo n d e | k ɾ e j j ˈe ɾ a | ð ˌi s t i ŋ ɡ ˈi ɾ | e l | s e m b l ˈa n t e | ð e | m i s | ð ˈo s | a m ˈi ɣ o s | , ', 'bailen/bailen_0880.wav': 'm i | r ˌe x i m j ˈɛ n t o | ð e β ˈi a | s a l ˈi ɾ | ð e | l o s | ˈu l t i m o s | , i | m j ˌe n t ɾ a s | s e | p ˈu s o | e n | m ˌo β i m j ˈɛ n t o | l a | ˌa ɾ t i ʎ e ɾ ˈi a | i | l o s | k w ˈe ɾ p o s | ð e | a | p j ˈe | , ˌe s t u β ˈi m o s | m ˈa s | ð e | m ˈe ð j a | ˈo ɾ a | f o ɾ m ˈa ð o s | a | l a | s a l ˈi ð a | ð e l | p w ˈe β l o | i | a | m ˈa n o | ð e ɾ ˈe tʃ a | ð e l | k a m ˈi n o | , ˌe s p e ɾ ˈa n d o | l a | ˈo ɾ ð e n | d e | m ˈa ɾ tʃ a | . '}\n",
      "n\n",
      "{'batalla_arapiles/batalla_arapiles_1599.wav': 'o s k ˈu ɾ o | , ˌo l β i ð ˈa ð o | i | n ˈo | m ˈu j j | β j ˈe n | k ˈi s t o | , s ˌa n t o ɾ k ˈa θ | s e | k o n s w ˈe l a | k o n | l a | m ˌa s o n e ɾ ˈi a | , i | e n | l a | l ˈo x j a | ð e | l a | k ˈa ʎ e | ð e | t ˌe n t e n ˈe θ j o s | ˈu n o s | k w ˌa n t o s | p e ɾ ð ˈi ð o s | ˌe s p a ɲ ˈo l e s | i | f ɾ a n θ ˈe s e s | , l o | p e ˈo ɾ | s i n | d ˈu ð a | ð e | ˈa m b a s | n a θ j ˈo n e s | , s e | ˌe n t ɾ e t j ˈe n e n | e n | ˌe k s t e ɾ m i n ˈa ɾ | a l | x ˈe n e ɾ o | u m ˈa n o | , b o l β j ˈɛ n d o | a l | m ˈu n d o | p ˈa t a s | a r ˈi β a | , s ˌu p ɾ i m j ˈɛ n d o | l a | ˌa ɾ i s t o k ɾ ˈa θ j a | i | p o n j ˈɛ n d o | a | l o s | r ˈe j j e s | ˈu n a | e s k ˈo β a | e n | l a | m ˈa n o | , p ˌa ɾ a | k e | β ˈa r a n | l a s | k ˈa ʎ e s | . ', 'bailen/bailen_1341.wav': 'n ˈo | , s i | a k ˈi | n ˈo | m ˈa n d a | n ˈa ð j e | m ˈa s | k e | n o s ˈo t ɾ o s | . s i | n ˈo | r ˌe k o n o θ ˈe m o s | l a s | ˌa b ð i k a θ j ˈo n e s | , n ˈi | ˌa d m i t i ɾ ˈe m o s | ð e | r ˈeɪ | a | ˈe s e | ð ˈo n | x o s ˈe | , n ˈi | n o s | ð ˈa | l a | ɣ ˈa n a | ð e | ˌo β e ð e θ ˈe ɾ | a l | ˌe m p e ɾ a ð ˈo ɾ | , p ˌo ɾ k e | l o s | ˌe s p a ɲ ˈo l e s | m a n d ˈa m o s | e n | n w ˌe s t ɾ a | k ˈa s a | , i | s i | l o s | r ˈe j j e s | s e | ˈa n | ˈe tʃ o | p ˌa ɾ a | ɣ ˌo β e ɾ n ˈa ɾ n o s | , a | n o s ˈo t ɾ o s | n ˈo | n o s | ˈa m | p a ɾ ˈi ð o | n w ˌe s t ɾ a s | m ˈa ð ɾ e s | p ˌa ɾ a | k e | ˈe ʎ o s | n o s | ʎ ˈe β e n | i | n o s | t ɾ ˈaɪ ɣ a n | k ˌo m o | s i | f w ˈe ɾ a m o s | m a n ˈa ð a s | ð e | k a ɾ n ˈe ɾ o s | . . . . '}\n",
      "ɲ\n",
      "{'19demarzo/19demarzo_0630.wav': 'a | β ˈe ɾ | , n o s | s ˌa k a ɾ ˈa | ð e | ð ˈu ð a s | s u | s ˌe ɲ o ɾ ˈi a | ? m a ɲ ˈa n a | , m a ɲ ˈa n a | , m ˌa ɲ a n ˈi t a | , s e ɲ ˈo ɾ | k ˈu ɾ a | k ˌo n t e s t ˈo | e l | s ˌa k ɾ i s t ˈa n | . ', '19demarzo/19demarzo_1694.wav': 'i | p ˌa ɾ a | k w ˈa n d o | ð ˈe x a m | ˌu β e ð ˌe ˈɛ s e | . l a | β ˈo ð a | ? ˌa n i m ˈa ɾ s e | s e ɲ ˈo ɾ e s | , i | a n ˈi m e s e | u s t ˈe d | t a m b j ˈe n | , s e ɲ ˈo ɾ | ð ˈo n | m ˈaʊ ɾ o | ð e | m i s | e n t ɾ ˈa ɲ a s | , p ˌo ɾ k e | m ˈi ɾ e | u s t ˈe d | k e | l a | n i ɲ ˈi t a | l o | m e ɾ ˈe θ e | . '}\n",
      "ŋ\n",
      "{'batalla_arapiles/batalla_arapiles_3519.wav': 'm a ɾ m ˈo n t | k e ɾ ˈi a | ˌe ŋ ɡ a ɲ ˈa ɾ | a | w e ʎ ˈi ŋ ɡ t o n | , p ˌe ɾ o | w e ʎ ˈi ŋ ɡ t o n | n ˈo | s ˈo l o | k e ɾ ˈi a | ˌe ŋ ɡ a ɲ ˈa ɾ | s ˈi n o | k e | e s t ˈa β a | ˌe ŋ ɡ a ɲ ˈa n d o | a | m a ɾ m ˈo n t | . ', '19demarzo/19demarzo_2793.wav': 'n ˈi | p a l ˈa β ɾ a s | ð e | n i ŋ ɡ ˈu n a | l ˈɛ ŋ ɡ w a | a l k ˈa n θ a n | a | m ˌa n i f e s t ˈa ɾ | a ŋ ɡ ˈu s t j a | t ˈa ŋ | ɡ ɾ ˈa n d e | . '}\n",
      "o\n",
      "{'bailen/bailen_1341.wav': 'n ˈo | , s i | a k ˈi | n ˈo | m ˈa n d a | n ˈa ð j e | m ˈa s | k e | n o s ˈo t ɾ o s | . s i | n ˈo | r ˌe k o n o θ ˈe m o s | l a s | ˌa b ð i k a θ j ˈo n e s | , n ˈi | ˌa d m i t i ɾ ˈe m o s | ð e | r ˈeɪ | a | ˈe s e | ð ˈo n | x o s ˈe | , n ˈi | n o s | ð ˈa | l a | ɣ ˈa n a | ð e | ˌo β e ð e θ ˈe ɾ | a l | ˌe m p e ɾ a ð ˈo ɾ | , p ˌo ɾ k e | l o s | ˌe s p a ɲ ˈo l e s | m a n d ˈa m o s | e n | n w ˌe s t ɾ a | k ˈa s a | , i | s i | l o s | r ˈe j j e s | s e | ˈa n | ˈe tʃ o | p ˌa ɾ a | ɣ ˌo β e ɾ n ˈa ɾ n o s | , a | n o s ˈo t ɾ o s | n ˈo | n o s | ˈa m | p a ɾ ˈi ð o | n w ˌe s t ɾ a s | m ˈa ð ɾ e s | p ˌa ɾ a | k e | ˈe ʎ o s | n o s | ʎ ˈe β e n | i | n o s | t ɾ ˈaɪ ɣ a n | k ˌo m o | s i | f w ˈe ɾ a m o s | m a n ˈa ð a s | ð e | k a ɾ n ˈe ɾ o s | . . . . ', 'batalla_arapiles/batalla_arapiles_1599.wav': 'o s k ˈu ɾ o | , ˌo l β i ð ˈa ð o | i | n ˈo | m ˈu j j | β j ˈe n | k ˈi s t o | , s ˌa n t o ɾ k ˈa θ | s e | k o n s w ˈe l a | k o n | l a | m ˌa s o n e ɾ ˈi a | , i | e n | l a | l ˈo x j a | ð e | l a | k ˈa ʎ e | ð e | t ˌe n t e n ˈe θ j o s | ˈu n o s | k w ˌa n t o s | p e ɾ ð ˈi ð o s | ˌe s p a ɲ ˈo l e s | i | f ɾ a n θ ˈe s e s | , l o | p e ˈo ɾ | s i n | d ˈu ð a | ð e | ˈa m b a s | n a θ j ˈo n e s | , s e | ˌe n t ɾ e t j ˈe n e n | e n | ˌe k s t e ɾ m i n ˈa ɾ | a l | x ˈe n e ɾ o | u m ˈa n o | , b o l β j ˈɛ n d o | a l | m ˈu n d o | p ˈa t a s | a r ˈi β a | , s ˌu p ɾ i m j ˈɛ n d o | l a | ˌa ɾ i s t o k ɾ ˈa θ j a | i | p o n j ˈɛ n d o | a | l o s | r ˈe j j e s | ˈu n a | e s k ˈo β a | e n | l a | m ˈa n o | , p ˌa ɾ a | k e | β ˈa r a n | l a s | k ˈa ʎ e s | . '}\n",
      "oɪ\n",
      "{'19demarzo/19demarzo_2361.wav': 's i | n ˈo | k j ˈe ɾ e | ð e | ɣ ɾ ˈa ð o | s e ɾ ˈa | p o ɾ | f w ˈe ɾ θ a | . . . e s t ˈoɪ | e s t ˈoɪ | β ɾ a m ˈa n d o | . m a ɲ ˈa n a | s a β ɾ ˈa | ˈe ʎ a | s i | s ˈoɪ | ʝ ˈo | m ˈaʊ ɾ o | r e k ˈe x o | , o | k j ˈe n | s ˈoɪ | . ', 'batalla_arapiles/batalla_arapiles_3287.wav': 'n ˈo | ˈe s | u s t ˈe d | m ˈi s s | ˌe f e ˌe l e ˌi ɣ ɾ i ˈe ɣ a | . b ˈoɪ | k ɾ e j j ˈɛ n d o | l o | k e | ð e θ ˈi s | ˌa f i ɾ m ˈo | k l a β ˈa n d o | e n | m ˈi | l o s | ð ˈu l θ e s | ˈo x o s | a θ ˈu l e s | , b ˈoɪ | k ɾ e j j ˈɛ n d o | k e | n ˈo | s ˈoɪ | ʝ ˈo | m ˈi s s | ˌe f e ˌe l e ˌi ɣ ɾ i ˈe ɣ a | . . . '}\n",
      "p\n",
      "{'19demarzo/19demarzo_1977.wav': 'i | a s ˈi | t e | k ˌe ð a ɾ ˈa | t j ˈe m p o | p ˌa ɾ a | ˌa p a l e ˈa ɾ | l a s | k ˈa p a s | , ˌe n θ e n d ˈe ɾ | e l | f w ˈe ɣ o | i | s o p l ˈa ɾ l o | , d ˌe β a n ˈa ɾ | e l | ˈi l o | ð e | l a | k o s t ˈu ɾ a | , p o n ˈe ɾ | l o s | n ˈu m e ɾ o s | a | l a s | p ˌa p e l ˈe t a s | , a β j ˈa ɾ | l a | l ˌa m p a ɾ ˈi ʎ a | , l i m p j ˈa ɾ | e l | p ˈo l β o | , d ˈa ɾ | l ˈu s t ɾ e | a | l o s | θ a p ˈa t o s | ð e | m i | e ɾ m ˈa n o | i | t ˈo ð o | l o | ð e m ˈa s | k e | s e | β ˈa j j a | ˌo f ɾ e θ j ˈɛ n d o | . ', 'bailen/bailen_0723.wav': 'p ˌe ɾ o | ð e | ˈe s t e | s o k ˈo r o | a p ˈe n a s | p o ð ˈi a | p ˌa ɾ t i θ i p ˈa ɾ | ˈu n a | p e k ˈe ɲ a | p ˈa ɾ t e | ð e | l a | t ɾ ˈo p a | , p ˌo ɾ k e | l o s | k e | e s t ˈa β a n | e n | e l | f ɾ ˈɛ n t e | n ˈo | t e n ˈi a n | t j ˈe m p o | p ˌa ɾ a | ˈe ʎ o | . '}\n",
      "pː\n",
      "{'bailen/bailen_3160.wav': 'o | s i | p o ɾ | e l | k o n t ɾ ˈa ɾ j o | , d ˌe s β o ɾ ð ˈa ð o | e l | k ˌo r u pː t ˈo ɾ | ˌe ɣ o ˈi s m o | e n | m i | ˈa l m a | , ˌa θ e pː t ˈe | k o n | r ˌe ɣ o θ ˈi x o | l a | ð ˌe s a p ˌa ɾ i θ j ˈo n | d e | k j e n | ˌi n t e ɾ p o n j ˈe n d o s e | ˌe n t ɾ e | m i | ˌi ð e ˈa l | i | ʝ ˈo | , ', 'bailen/bailen_1335.wav': 'n ˈo | r ˌe k o n o θ ˈe m o s | m ˈa s | r ˈeɪ | k e | a | f e ɾ n ˈa n d o | s ˈe pː t i m o | . f e ɾ n ˈa n d o | s ˈe pː t i m o | s e | ð i ɾ ˈi x e | e n t ˈo n θ e s | a | l o s | ˌe s p a ɲ ˈo l e s | , i | l e s | ð ˈi θ e | k e | ˌo β e ð ˈe θ k a n | a | n ˌa p o l e ˈo n | , '}\n",
      "r\n",
      "{'batalla_arapiles/batalla_arapiles_2799.wav': 'm ˈi s s | ˌe f e ˌe l e ˌi ɣ ɾ i ˈe ɣ a | i | ʝ ˈo | e tʃ ˈa m o s | p j ˈe | a | t j ˈe r a | e n | l a | p l ˈa θ a | , i | l o | p ɾ i m ˈe ɾ o | k e | s e | ˌo f ɾ e θ j ˈo | a | n w ˌe s t ɾ a | β ˈi s t a | f w ˈe | ˈu n | ˌi m f e l ˈi θ | a | k j e n | ʎ e β ˈa β a n | m ˌa n j a t ˈa ð o | k w ˈa t ɾ o | ɣ ˌe r i ʎ ˈe ɾ o s | ˌe m p u x ˈa n d o l o | k ɾ u ˈe l m ˈe n t e | a | r ˈa t o s | o | ˌa r a s t ɾ ˈa n d o l e | k w ˌa n d o | s e | r ˌe s i s t ˈi a | a | s e ɣ ˈi ɾ | . ', '19demarzo/19demarzo_2975.wav': 't e | r e p ˈi t o | k e | t ɾ ˌa β a x ˈa n d o | m ˈu tʃ o | i | ˌa o r ˈa n d o | m ˈa s | , e l | s e ɲ ˈo ɾ | r e k ˈe x o | ˈa | ʎ e ɣ ˈa ð o | a | s ˈe r | m ˈu j j | r ˈi k o | . k ˈe | p ˌo ɾ β e n ˈi ɾ | t e | e s p ˈe ɾ a | , ˌi n e s ˈi ʎ a | ! '}\n",
      "ɾ\n",
      "{'bailen/bailen_1341.wav': 'n ˈo | , s i | a k ˈi | n ˈo | m ˈa n d a | n ˈa ð j e | m ˈa s | k e | n o s ˈo t ɾ o s | . s i | n ˈo | r ˌe k o n o θ ˈe m o s | l a s | ˌa b ð i k a θ j ˈo n e s | , n ˈi | ˌa d m i t i ɾ ˈe m o s | ð e | r ˈeɪ | a | ˈe s e | ð ˈo n | x o s ˈe | , n ˈi | n o s | ð ˈa | l a | ɣ ˈa n a | ð e | ˌo β e ð e θ ˈe ɾ | a l | ˌe m p e ɾ a ð ˈo ɾ | , p ˌo ɾ k e | l o s | ˌe s p a ɲ ˈo l e s | m a n d ˈa m o s | e n | n w ˌe s t ɾ a | k ˈa s a | , i | s i | l o s | r ˈe j j e s | s e | ˈa n | ˈe tʃ o | p ˌa ɾ a | ɣ ˌo β e ɾ n ˈa ɾ n o s | , a | n o s ˈo t ɾ o s | n ˈo | n o s | ˈa m | p a ɾ ˈi ð o | n w ˌe s t ɾ a s | m ˈa ð ɾ e s | p ˌa ɾ a | k e | ˈe ʎ o s | n o s | ʎ ˈe β e n | i | n o s | t ɾ ˈaɪ ɣ a n | k ˌo m o | s i | f w ˈe ɾ a m o s | m a n ˈa ð a s | ð e | k a ɾ n ˈe ɾ o s | . . . . ', 'bailen/bailen_0638.wav': 'e l | ð ˌe s ɣ ɾ a θ j ˈa ð o | a β ˈi a | r ˌe θ i β ˈi ð o | ˈu n a | β j o l ˈɛ n t a | e ɾ ˈi ð a | e n | e l | β j ˈɛ n t ɾ e | , i | f ˈa l t o | ð e | p a l ˈa β ɾ a | p ˌa ɾ a | ˌe k s p ɾ e s ˈa ɾ | s u | p ˌa ð e θ i m j ˈɛ n t o | , b ɾ a m ˈa β a | , ˌa s p i ɾ ˈa n d o | k o n | ˈa n s j a | e l | ˈaɪ ɾ e | ˌi m f l a m ˈa ð o | , s ˌa k u ð ˈi a | e l | k w ˈe ʎ o | , p ˌa ɾ e θ ˈi a | ð ˈa ɾ | a | ˌe n t e n d ˈe ɾ | k e | a ʎ ˈa n d o | ˈu n | tʃ ˈa ɾ k o | ð e | ˈa ɣ w a | e n | k e | r ˌe m o x ˈa ɾ | l a | l ˈɛ ŋ ɡ w a | s u s | ð o l ˈo ɾ e s | s e ɾ ˈi a n | m ˈe n o s | β ˈi β o s | , '}\n",
      "s\n",
      "{'bailen/bailen_1341.wav': 'n ˈo | , s i | a k ˈi | n ˈo | m ˈa n d a | n ˈa ð j e | m ˈa s | k e | n o s ˈo t ɾ o s | . s i | n ˈo | r ˌe k o n o θ ˈe m o s | l a s | ˌa b ð i k a θ j ˈo n e s | , n ˈi | ˌa d m i t i ɾ ˈe m o s | ð e | r ˈeɪ | a | ˈe s e | ð ˈo n | x o s ˈe | , n ˈi | n o s | ð ˈa | l a | ɣ ˈa n a | ð e | ˌo β e ð e θ ˈe ɾ | a l | ˌe m p e ɾ a ð ˈo ɾ | , p ˌo ɾ k e | l o s | ˌe s p a ɲ ˈo l e s | m a n d ˈa m o s | e n | n w ˌe s t ɾ a | k ˈa s a | , i | s i | l o s | r ˈe j j e s | s e | ˈa n | ˈe tʃ o | p ˌa ɾ a | ɣ ˌo β e ɾ n ˈa ɾ n o s | , a | n o s ˈo t ɾ o s | n ˈo | n o s | ˈa m | p a ɾ ˈi ð o | n w ˌe s t ɾ a s | m ˈa ð ɾ e s | p ˌa ɾ a | k e | ˈe ʎ o s | n o s | ʎ ˈe β e n | i | n o s | t ɾ ˈaɪ ɣ a n | k ˌo m o | s i | f w ˈe ɾ a m o s | m a n ˈa ð a s | ð e | k a ɾ n ˈe ɾ o s | . . . . ', 'batalla_arapiles/batalla_arapiles_1599.wav': 'o s k ˈu ɾ o | , ˌo l β i ð ˈa ð o | i | n ˈo | m ˈu j j | β j ˈe n | k ˈi s t o | , s ˌa n t o ɾ k ˈa θ | s e | k o n s w ˈe l a | k o n | l a | m ˌa s o n e ɾ ˈi a | , i | e n | l a | l ˈo x j a | ð e | l a | k ˈa ʎ e | ð e | t ˌe n t e n ˈe θ j o s | ˈu n o s | k w ˌa n t o s | p e ɾ ð ˈi ð o s | ˌe s p a ɲ ˈo l e s | i | f ɾ a n θ ˈe s e s | , l o | p e ˈo ɾ | s i n | d ˈu ð a | ð e | ˈa m b a s | n a θ j ˈo n e s | , s e | ˌe n t ɾ e t j ˈe n e n | e n | ˌe k s t e ɾ m i n ˈa ɾ | a l | x ˈe n e ɾ o | u m ˈa n o | , b o l β j ˈɛ n d o | a l | m ˈu n d o | p ˈa t a s | a r ˈi β a | , s ˌu p ɾ i m j ˈɛ n d o | l a | ˌa ɾ i s t o k ɾ ˈa θ j a | i | p o n j ˈɛ n d o | a | l o s | r ˈe j j e s | ˈu n a | e s k ˈo β a | e n | l a | m ˈa n o | , p ˌa ɾ a | k e | β ˈa r a n | l a s | k ˈa ʎ e s | . '}\n",
      "t\n",
      "{'19demarzo/19demarzo_1799.wav': 'l a | t ˈa k t i k a | ð e | ˌa m a β ˌi l i ð ˈa ð | i | ð e | a s t ˈu t a | ð u l θ ˈu ɾ a | , r ˌe k o m e n d ˈa ð a | p o ɾ | e l | l ˌi θ e n θ j ˈa ð o | l ˈo β o | , s e | k ˌo n s i ð e ɾ ˈo | i n ˈu t i l | , s j ˈɛ n d o | s ˌu s t i t w ˈi ð a | p o ɾ | ˈu n | s i s t ˈe m a | ð e | t e r ˈo ɾ | , k e | p o n ˈi a | e m | f e k ˈu n d o | ˌe x e ɾ θ ˈi θ j o | l a s | f ˌa k u l t ˈa ð e s | t ˈo ð a s | ð e | ð ˈo ɲ a | r ˌe s t i t ˈu t a | . ', 'batalla_arapiles/batalla_arapiles_3354.wav': 's ˈe p a | u s t ˈe d | k e | e n | e l | ˈu l t i m o | ð ˈi a | ð e | m i | β ˈi ð a | k o n s ˈe ɾ β o | t ˈo ð o s | , ˌa β s o l ˈu t a m ˈe n t e | t ˈo ð o s | l o s | s ˌe n t i m j ˈɛ n t o s | ð e | k e | ˈe | ˈe tʃ o | ɣ ˈa l a | e n | t ˈo ð o s | l o s | i n s t ˈa n t e s | ð e | m i | β ˈi ð a | ˌa n t e | u s t ˈe d | '}\n",
      "tʃ\n",
      "{'19demarzo/19demarzo_2314.wav': 'm ˈu tʃ o | p ˈa n | , m ˈu tʃ o | t o θ ˈi n o | , m ˈu tʃ a s | p a t ˈa t a s | , m ˈu tʃ o | p ˌi m e n t ˈo n | , m ˈu tʃ a | s ˈa l | , m ˈu tʃ a | β ˈe ɾ θ a | , ˈa n | d e | e n t ɾ ˈa ɾ | p o ɾ | β ˈeɪ n t e | i | θ ˈi n k o | m ˈi l | β ˈo k a s | ! ', 'bailen/bailen_0087.wav': 's i | m e | k e ɾ ˈi a n | m ˈu tʃ o | . a n ˈo tʃ e | m e | t u β j ˈe ɾ o n | t ˈo ð a | l a | n ˈo tʃ e | β aɪ l ˈa n d o | e l | β o l ˈe ɾ o | i | l a | k a tʃ ˈu tʃ a | , e n | m ˈe ð j o | ð e | ˈu n | k o r ˈi ʎ o | ð ˈo n d e | '}\n",
      "θ\n",
      "{'19demarzo/19demarzo_2642.wav': 's ˈo m o s | a m ˈi ɣ o s | , i | l e | e s t ˈoɪ | m ˈu j j | r ˌe k o n o θ ˈi ð o | , p ˌo ɾ k e | a | l a | m ˌu n i f i θ ˈɛ n θ j a | ð e | s u | a l t ˈe θ a | ð ˈe β o | e l | β ˌe n e f ˈi θ j o | k e | ð i s f ɾ ˈu t o | , e l | k w ˈa l | m e | f w ˈe | k ˌo n θ e ð ˈi ð o | e n | k w ˌa n t o | s u | a l t ˈe θ a | t ˈu β o | k ˌo n o θ i m j ˈɛ n t o | ð e | m i | n ˌe θ e s i ð ˈa d | , ', '19demarzo/19demarzo_1318.wav': 'ˈa | ! i n ˈe s | ˈe s | ˌi n o θ ˈɛ n t e | . n ˈo | t j ˈe n e m | ˌu β e ð ˌe ˈɛ s e | . k o n θ j ˈɛ n θ j a | , n ˈo | t j ˈe n e n | e n | s u | k ˌo ɾ a θ ˈo n | ˈu n a | β ˈo θ | k e | l e s | ð ˈi θ e | k e | ˈe s a | x ˌo β e n θ ˈi t a | ˈe s | ˌi n o θ ˈɛ n t e | ? '}\n",
      "u\n",
      "{'batalla_arapiles/batalla_arapiles_0550.wav': 'p w ˈe ð o | ˌa s e ɣ u ɾ ˈa ɾ | a | u s t ˈe d | k e | a | l a | β ˈi s t a | s u | f i ɣ ˈu ɾ a | s e | m e | ˈa | r ˌe p ɾ e s e n t ˈa ð o | s j ˈe m p ɾ e | k ˌo m o | ˈu n a | k ɾ i a t ˈu ɾ a | u m ˈa n a | k o n | s u | n ˌa t u ɾ ˈa l | ˌe s p e s ˈo ɾ | , k ˌo ɾ p u l ˈɛ n θ j a | i | e l | β ɾ ˈi ʎ o | i | l a | ð u l θ ˈu ɾ a | ð e | l o s | ˈo x o s | , e l | ð ˈu l θ e | a l j ˈɛ n t o | ð e | l a | β ˈo k a | , i | l a | ˌa ɲ a ð i ð ˈu ɾ a | ð e l | β e s t ˈi ð o | f l o t ˈa n d o | a l | β j ˈɛ n t o | , e m | f ˈi n | , ', '19demarzo/19demarzo_1799.wav': 'l a | t ˈa k t i k a | ð e | ˌa m a β ˌi l i ð ˈa ð | i | ð e | a s t ˈu t a | ð u l θ ˈu ɾ a | , r ˌe k o m e n d ˈa ð a | p o ɾ | e l | l ˌi θ e n θ j ˈa ð o | l ˈo β o | , s e | k ˌo n s i ð e ɾ ˈo | i n ˈu t i l | , s j ˈɛ n d o | s ˌu s t i t w ˈi ð a | p o ɾ | ˈu n | s i s t ˈe m a | ð e | t e r ˈo ɾ | , k e | p o n ˈi a | e m | f e k ˈu n d o | ˌe x e ɾ θ ˈi θ j o | l a s | f ˌa k u l t ˈa ð e s | t ˈo ð a s | ð e | ð ˈo ɲ a | r ˌe s t i t ˈu t a | . '}\n",
      "w\n",
      "{'19demarzo/19demarzo_3054.wav': 'l o s | s e p ˈu l k ɾ o s | ð e | n w ˌe s t ɾ o s | p ˈa ð ɾ e s | , n w ˌe s t ɾ a s | k ˈa s a s | , n w ˌe s t ɾ o s | r ˈe j j e s | , n w ˌe s t ɾ o s | e x ˈe ɾ θ i t o s | , n w ˌe s t ɾ a | r i k ˈe θ a | , n w ˌe s t ɾ a | i s t ˈo ɾ j a | , n w ˌe s t ɾ a | ɣ ɾ a n d ˈe θ a | , n w ˌe s t ɾ o | n ˈo m b ɾ e | , n w ˌe s t ɾ a | r ˌe l i x j ˈo n | . ', 'batalla_arapiles/batalla_arapiles_2693.wav': 's i n | r ˌe p a ɾ ˈa ɾ | l a s | f w ˈe ɾ θ a s | ð e s p w ˈe s | ð e l | l ˈa ɾ ɣ o | k ˌa m i n ˈa ɾ | ð e | l a | n ˈo tʃ e | , k ˌo r i ˈo | n w ˌe s t ɾ a | β a ŋ ɡ w ˈa ɾ ð j a | ˌa θ j a | β ˌa β i l a f w ˈɛ n t e | , '}\n",
      "x\n",
      "{'batalla_arapiles/batalla_arapiles_1407.wav': 'a | s a β ˈe ɾ | k e | ˈe ɾ a m | p ˌa ɾ a | ˈe s t e | tʃ ˈaʊ β e | s ˈo w ɾ i s | ð ˈi x o | x ˈe a n | x ˈe a n | , n ˈo | o s | u β j ˈe ɾ a | ð ˈa ð o | ˈu n | θ ˈe n t i m o | p o ɾ | ˈe ʎ a s | . x ˈe a n | x ˈe a n | d ˈi x o | m ˌo l i tʃ ˈa ɾ ð | e m | f ɾ a n θ ˈe s | , ', 'batalla_arapiles/batalla_arapiles_2824.wav': 'e n | l o s | p ˈu n t o s | l e x ˈa n o s | l a s | k o l ˈu m n a s | ð e | ˈu m o | ˈe ɾ a n | e n | m a j j ˈo ɾ | n ˈu m e ɾ o | i | k ˈa ð a | ˈu n a | ˌi n d i k ˈa β a | l a | t ɾ ˈo x | o | p a n ˈe ɾ a | k e | k a ˈi a | β ˌa x o | l a | p l ˈa n t a | ð e | f w ˈe ɣ o | ð e l | e x ˈe ɾ θ i t o | f ˌu x i t ˈi β o | . '}\n"
     ]
    }
   ],
   "execution_count": 148
  },
  {
   "metadata": {
    "ExecuteTime": {
     "end_time": "2024-07-01T13:49:31.898182Z",
     "start_time": "2024-07-01T13:49:31.836674Z"
    }
   },
   "cell_type": "code",
   "source": [
    "\n",
    "# phones_map = {'a': 'AH2',\n",
    "#     'ˌa': ('AH1', '1', '1'),\n",
    "#     'ˈa': ('AH1', '1', '2'),}\n",
    "def gen_phones_audio(phone, top_n=2, print_phones=True):\n",
    "    top_trans = get_top_transcripts(phone, top_n)\n",
    "    if print_phones:\n",
    "        print(phone)\n",
    "        print(top_trans)\n",
    "    for fname, phones_str in top_trans.items():\n",
    "        spanish = phones_str.strip().split()\n",
    "        inputs = sas.gen_audio(\n",
    "            spanish,\n",
    "            save_dir=PWD / f'outputs/tts_train_jets_raw_phn_tacotron_g2p_en_no_space/spanish/{phone}',\n",
    "            verbose=False,\n",
    "            # phones_map=phones_map,\n",
    "            # verbose=True,\n",
    "            custom_filename=fname.split('/')[1],\n",
    "            device=device,\n",
    "        )\n",
    "    return inputs"
   ],
   "outputs": [],
   "execution_count": 8
  },
  {
   "metadata": {
    "ExecuteTime": {
     "end_time": "2024-07-01T10:20:42.207938Z",
     "start_time": "2024-07-01T10:20:41.930782Z"
    }
   },
   "cell_type": "code",
   "source": "inputs = gen_phones_audio(phone='aɪ', top_n=4)",
   "outputs": [
    {
     "name": "stdout",
     "output_type": "stream",
     "text": [
      "aɪ\n",
      "{'batalla_arapiles/batalla_arapiles_4347.wav': 'l o | s ˈe | . . . k ɾ e ˈi aɪ s | r ˌe β a x ˈa ɾ o s | s ˈo l o | ˌo k u p ˈa n d o o s | ð e l | a s ˈu n t o | . . . l o | θ j ˈe ɾ t o | ˈe s | k e | o ˈi aɪ s | t ˈo ð o | , i | k a ʎ ˈa β aɪ s | . ', 'bailen/bailen_0246.wav': 'p w ˈe s | s i | n ˈo | ˈaɪ | ˌe n e m ˈi ɣ o s | e m | b aɪ l ˈe n | , k ˈe | ˈe s | ˈe s o | ð e | ˌa t a k ˈa ɾ | a | β aɪ l ˈe n | ? ', 'batalla_arapiles/batalla_arapiles_2254.wav': 's e ɲ ˈo ɾ a | , e s t ˈa m o s | p e ɾ ð ˈi ð o s | ! n ˈo | k o n t ˈa β a m o s | k o n | l a | t ɾ aɪ θ j ˈo n | . l a | t ɾ aɪ θ j ˈo n | ! d ˈi x o | k o m f ˈu s a | m ˈi s s | ˌe f e ˌe l e ˌi ɣ ɾ i ˈe ɣ a | . n ˈo | p w ˈe ð e | s ˈe r | . ', 'batalla_arapiles/batalla_arapiles_3910.wav': 'ˈe ɾ aɪ s | e l | θ ˈi d | , b e ɾ n ˈa ɾ ð o | ð e l | k ˈa ɾ p j o | , θ ˈaɪ ð e | , ˌa β e n a m ˈa ɾ | , θ e l ˈi n d o s | , l ˌa n θ a ɾ ˈo t e | ð e l | l ˈa ɣ o | , f e ɾ n ˈa ŋ | ɡ o n θ ˈa l e θ | i | p ˈe ð ɾ o | a n s ˈu ɾ e θ | . . . '}\n"
     ]
    }
   ],
   "execution_count": 21
  },
  {
   "metadata": {
    "ExecuteTime": {
     "end_time": "2024-07-01T10:30:06.867927Z",
     "start_time": "2024-07-01T10:29:42.562422Z"
    }
   },
   "cell_type": "code",
   "source": [
    "for phone in phones:\n",
    "    _ = gen_phones_audio(phone, top_n=4, print_phones=False)"
   ],
   "outputs": [],
   "execution_count": 23
  },
  {
   "metadata": {
    "ExecuteTime": {
     "end_time": "2024-07-01T09:50:46.615904Z",
     "start_time": "2024-07-01T09:50:46.581130Z"
    }
   },
   "cell_type": "code",
   "source": "sas.gen_inputs('creíais oíais', verbose=True)",
   "outputs": [
    {
     "name": "stdout",
     "output_type": "stream",
     "text": [
      "   -1      0    1    2    3    4    5    6    7    8    9    10    11    12    13    14    15    16\n",
      " arpas     K    R   EH0   Y   IY1   Y   AA0   Y    S    ,   OW0    Y    IY1    Y    AA0    Y     S\n",
      "d_factor  0.7   1    1   0.4  0.7  0.4   1   0.4   1    0    1    0.4   0.7   0.4    1    0.4    1\n",
      "p_factor   0    0    0    0    1    0    0    0    0    0    0     0     1     0     0     0     0\n",
      "e_factor   0    0   0.5   0   0.5   0   0.5   0    0    0   0.5    0    0.5    0    0.5    0     0\n"
     ]
    },
    {
     "data": {
      "text/plain": [
       "(array(['K', 'R', 'EH0', 'Y', 'IY1', 'Y', 'AA0', 'Y', 'S', ',', 'OW0', 'Y',\n",
       "        'IY1', 'Y', 'AA0', 'Y', 'S'], dtype='<U3'),\n",
       " tensor([[0.7000, 1.0000, 1.0000, 0.4000, 0.7000, 0.4000, 1.0000, 0.4000, 1.0000,\n",
       "          0.0000, 1.0000, 0.4000, 0.7000, 0.4000, 1.0000, 0.4000, 1.0000]],\n",
       "        device='cuda:0'),\n",
       " tensor([[0., 0., 0., 0., 1., 0., 0., 0., 0., 0., 0., 0., 1., 0., 0., 0., 0.]],\n",
       "        device='cuda:0'),\n",
       " tensor([[0.0000, 0.0000, 0.5000, 0.0000, 0.5000, 0.0000, 0.5000, 0.0000, 0.0000,\n",
       "          0.0000, 0.5000, 0.0000, 0.5000, 0.0000, 0.5000, 0.0000, 0.0000]],\n",
       "        device='cuda:0'))"
      ]
     },
     "execution_count": 35,
     "metadata": {},
     "output_type": "execute_result"
    }
   ],
   "execution_count": 35
  },
  {
   "metadata": {
    "ExecuteTime": {
     "end_time": "2024-07-01T09:50:34.280553Z",
     "start_time": "2024-07-01T09:50:34.099279Z"
    }
   },
   "cell_type": "code",
   "source": [
    "spanish = 'creíais oíais'\n",
    "custom_filename = spanish + '.wav' if isinstance(spanish, str) else ''.join(spanish) + '.wav'\n",
    "arpas, d_factor, p_factor, e_factor = sas.gen_inputs(spanish)\n",
    "# d_factor[0, 1] *= 1.5\n",
    "custom_arpa_subs = {}\n",
    "# for i in range(3):\n",
    "#     custom_arpa_subs[f'N UW{i}'] = (f'N N UW{i}', '0 0.7 0', '0 =0 =1', '0 =0 =1')\n",
    "#     custom_arpa_subs[f'T UW{i}'] = (f'T W W', '=0 1 =1', '=0 0 =1', '=0 0 =1')\n",
    "inputs = sas.gen_audio(\n",
    "    spanish,\n",
    "    # inputs=(arpas, d_factor, p_factor, e_factor),\n",
    "    save_dir=PWD / f'outputs/tts_train_jets_raw_phn_tacotron_g2p_en_no_space/spanish',\n",
    "    # verbose=False,\n",
    "    custom_arpa_subs=custom_arpa_subs,\n",
    "    verbose=True,\n",
    "    custom_filename=custom_filename,\n",
    "    device=device,\n",
    ")"
   ],
   "outputs": [
    {
     "name": "stdout",
     "output_type": "stream",
     "text": [
      "Updated \n",
      "   -1      0    1    2    3    4    5    6    7    8    9    10    11    12    13    14    15    16\n",
      " arpas     K    R   EH0   Y   IY1   Y   AA0   Y    S    ,   OW0    Y    IY1    Y    AA0    Y     S\n",
      "d_factor  0.7   1    1   0.4  0.7  0.4   1   0.4   1    0    1    0.4   0.7   0.4    1    0.4    1\n",
      "p_factor   0    0    0    0    1    0    0    0    0    0    0     0     1     0     0     0     0\n",
      "e_factor   0    0   0.5   0   0.5   0   0.5   0    0    0   0.5    0    0.5    0    0.5    0     0\n",
      "Duration pred: tensor([ 5.9971,  6.2804,  8.7144,  7.8999,  9.0675,  8.4928,  9.2692, 10.6716,\n",
      "        10.3342, 20.5245, 12.5303,  9.2557,  8.4650,  9.1517,  9.3981, 11.4364,\n",
      "        19.4551], device='cuda:0')\n",
      "Pitch pred: tensor([ 0.9911,  1.0531,  0.6471,  0.3290,  0.2310, -0.4055, -0.8396, -0.4751,\n",
      "        -0.2946, -0.6380, -0.4088,  0.2300,  0.6042, -0.2134, -0.9145, -0.6451,\n",
      "        -0.4752], device='cuda:0')\n",
      "Energy pred: tensor([-0.8592,  1.2776,  0.6716,  0.2274,  0.3890,  0.3921,  0.1916, -0.2506,\n",
      "         0.0990, -0.7427,  0.2675,  0.0872,  0.3634,  0.3517,  0.0853, -0.1341,\n",
      "        -0.0624], device='cuda:0')\n",
      "Duration (new): tensor([ 4,  6,  9,  3,  6,  3,  9,  4, 10,  0, 13,  4,  6,  4,  9,  5, 19],\n",
      "       device='cuda:0')\n",
      "Pitch (new): tensor([ 0.9911,  1.0531,  0.6471,  0.3290,  1.2310, -0.4055, -0.8396, -0.4751,\n",
      "        -0.2946, -0.6380, -0.4088,  0.2300,  1.6042, -0.2134, -0.9145, -0.6451,\n",
      "        -0.4752], device='cuda:0')\n",
      "Energy (new): tensor([-0.8592,  1.2776,  1.1716,  0.2274,  0.8890,  0.3921,  0.6916, -0.2506,\n",
      "         0.0990, -0.7427,  0.7675,  0.0872,  0.8634,  0.3517,  0.5853, -0.1341,\n",
      "        -0.0624], device='cuda:0')\n"
     ]
    }
   ],
   "execution_count": 34
  },
  {
   "cell_type": "code",
   "metadata": {
    "collapsed": false,
    "jupyter": {
     "outputs_hidden": false
    },
    "ExecuteTime": {
     "end_time": "2024-07-01T14:33:05.415704Z",
     "start_time": "2024-07-01T13:50:42.729931Z"
    }
   },
   "source": [
    "from tqdm import tqdm\n",
    "# Now run on entire dataset\n",
    "save_dir = PWD / 'outputs/tts_train_jets_raw_phn_tacotron_g2p_en_no_space/CSS10/spanish'\n",
    "transcript_file = (DATA_DIR / 'transcript_phones_espeak.txt').resolve()\n",
    "with open(transcript_file) as f:\n",
    "    for line in tqdm(f.read().splitlines()):\n",
    "        custom_filename, phones = line.strip().split('|', maxsplit=1)\n",
    "        if (save_dir / custom_filename).exists():\n",
    "            continue\n",
    "        spanish = phones.split()\n",
    "        \n",
    "        inputs = sas.gen_audio(\n",
    "            spanish,\n",
    "            save_dir=save_dir,\n",
    "            verbose=False,\n",
    "            custom_filename=custom_filename,\n",
    "            # verbose=True,\n",
    "            device=device,\n",
    "        )\n",
    "        # arpas, d_factor, e_factor = inputs\n"
   ],
   "outputs": [
    {
     "name": "stderr",
     "output_type": "stream",
     "text": [
      "100%|██████████| 11016/11016 [42:22<00:00,  4.33it/s]\n"
     ]
    }
   ],
   "execution_count": 10
  },
  {
   "cell_type": "code",
   "execution_count": 34,
   "metadata": {
    "ExecuteTime": {
     "end_time": "2024-06-18T01:24:27.178363Z",
     "start_time": "2024-06-18T01:24:27.138594Z"
    }
   },
   "outputs": [],
   "source": [
    "p = ' '.join(phonemize('die Arme umeinander legten und, Wange an Wange, ihr Blut aneinander pochen ließen.'))"
   ]
  }
 ],
 "metadata": {
  "kernelspec": {
   "display_name": "Python 3 (ipykernel)",
   "language": "python",
   "name": "python3"
  },
  "language_info": {
   "codemirror_mode": {
    "name": "ipython",
    "version": 3
   },
   "file_extension": ".py",
   "mimetype": "text/x-python",
   "name": "python",
   "nbconvert_exporter": "python",
   "pygments_lexer": "ipython3",
   "version": "3.10.13"
  }
 },
 "nbformat": 4,
 "nbformat_minor": 4
}
