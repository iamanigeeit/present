{
 "cells": [
  {
   "cell_type": "markdown",
   "metadata": {
    "collapsed": false,
    "jupyter": {
     "outputs_hidden": false
    }
   },
   "source": []
  },
  {
   "cell_type": "markdown",
   "metadata": {
    "collapsed": false,
    "jupyter": {
     "outputs_hidden": false
    }
   },
   "source": [
    "It's better to have Whisper in a separate environment from ESPnet. Also, we use `faster-whisper` as it is not only faster but more stable than the original.\n",
    "```shell\n",
    "conda create -n whisper python=3.10\n",
    "conda activate whisper\n",
    "pip install faster-whisper\n",
    "```\n",
    "before running this.\n",
    "\n",
    "You also need to set the env variable LD_LIBRARY_PATH:\n",
    "\n",
    "```shell\n",
    "conda activate whisper\n",
    "env_loc=$(conda env list | grep '*' | awk '{print $3}' | tr -d '\\n')\n",
    "activator=\"${env_loc}/etc/conda/activate.d/cuda_activate.sh\"\n",
    "echo export LD_LIBRARY_PATH=`python3 -c 'import os; import nvidia.cublas.lib; import nvidia.cudnn.lib; import torch; print(os.path.dirname(nvidia.cublas.lib.__file__) + \":\" + os.path.dirname(nvidia.cudnn.lib.__file__) + \":\" + os.path.dirname(torch.__file__) +\"/lib\")'` > \"${activator}\"\n",
    "chmod +x \"${activator}\"\n",
    "conda deactivate\n",
    "conda activate whisper\n",
    "```"
   ]
  },
  {
   "cell_type": "code",
   "metadata": {
    "collapsed": false,
    "jupyter": {
     "outputs_hidden": false
    },
    "ExecuteTime": {
     "end_time": "2024-07-20T13:58:03.254635Z",
     "start_time": "2024-07-20T13:58:02.178629Z"
    }
   },
   "source": [
    "from pathlib import Path\n",
    "import os\n",
    "import faster_whisper\n",
    "from tqdm import tqdm\n",
    "import jiwer\n",
    "import re\n",
    "\n",
    "PWD = %pwd\n",
    "PWD = Path(PWD)\n",
    "prosody_dir = PWD.parent\n",
    "outputs_dir = PWD / 'outputs'\n",
    "os.makedirs(outputs_dir, exist_ok=True)\n",
    "asr_dir = outputs_dir / 'CSS10' / 'spanish'\n",
    "os.makedirs(asr_dir, exist_ok=True)\n",
    "jets_dir = prosody_dir / 'outputs' / 'tts_train_jets_raw_phn_tacotron_g2p_en_no_space/CSS10/spanish'\n",
    "data_dir = (prosody_dir / '../../datasets/CSS10/spanish/').resolve()"
   ],
   "outputs": [],
   "execution_count": 1
  },
  {
   "cell_type": "code",
   "metadata": {
    "ExecuteTime": {
     "end_time": "2024-07-20T13:58:05.408125Z",
     "start_time": "2024-07-20T13:58:05.404442Z"
    }
   },
   "source": [
    "import os\n",
    "ld_lib_path = os.environ['LD_LIBRARY_PATH']\n",
    "assert 'cublas' in ld_lib_path and 'cudnn' in ld_lib_path"
   ],
   "outputs": [],
   "execution_count": 2
  },
  {
   "cell_type": "code",
   "metadata": {
    "ExecuteTime": {
     "end_time": "2024-07-02T12:26:13.046462Z",
     "start_time": "2024-07-02T12:26:13.043439Z"
    }
   },
   "source": "faster_whisper.available_models()",
   "outputs": [
    {
     "data": {
      "text/plain": [
       "['tiny.en',\n",
       " 'tiny',\n",
       " 'base.en',\n",
       " 'base',\n",
       " 'small.en',\n",
       " 'small',\n",
       " 'medium.en',\n",
       " 'medium',\n",
       " 'large-v1',\n",
       " 'large-v2',\n",
       " 'large-v3',\n",
       " 'large',\n",
       " 'distil-large-v2',\n",
       " 'distil-medium.en',\n",
       " 'distil-small.en',\n",
       " 'distil-large-v3']"
      ]
     },
     "execution_count": 55,
     "metadata": {},
     "output_type": "execute_result"
    }
   ],
   "execution_count": 55
  },
  {
   "cell_type": "code",
   "metadata": {
    "ExecuteTime": {
     "end_time": "2024-07-20T13:58:13.624464Z",
     "start_time": "2024-07-20T13:58:07.708266Z"
    }
   },
   "source": [
    "model = faster_whisper.WhisperModel(\"large-v2\", device='cuda', compute_type='float16')\n",
    "asr_dir = asr_dir / 'large-v2'\n",
    "os.makedirs(asr_dir, exist_ok=True)"
   ],
   "outputs": [],
   "execution_count": 3
  },
  {
   "metadata": {
    "ExecuteTime": {
     "end_time": "2024-07-19T15:43:15.002934Z",
     "start_time": "2024-07-19T15:43:14.936734Z"
    }
   },
   "cell_type": "code",
   "source": [
    "# If you need to suppress numeric chars from output. This slows ASR by 20x, so i use num2words instead\n",
    "tokenizer = model.hf_tokenizer\n",
    "suppress_tokens = [-1] + [\n",
    "    i \n",
    "    for i in range(tokenizer.get_vocab_size())\n",
    "    if all(c in \"0123456789\" for c in tokenizer.decode([i]).removeprefix(\" \"))\n",
    "]"
   ],
   "outputs": [],
   "execution_count": 4
  },
  {
   "cell_type": "code",
   "execution_count": 4,
   "metadata": {
    "ExecuteTime": {
     "end_time": "2024-06-26T04:47:48.396662Z",
     "start_time": "2024-06-26T04:47:48.332476Z"
    },
    "collapsed": false,
    "jupyter": {
     "outputs_hidden": false
    }
   },
   "outputs": [],
   "source": [
    "spanish_letters = set()\n",
    "with open(data_dir / 'transcript.txt') as f:\n",
    "    for line in f:\n",
    "        spanish_letters |= set(line.split('|')[2].lower())"
   ]
  },
  {
   "cell_type": "code",
   "execution_count": 5,
   "metadata": {
    "ExecuteTime": {
     "end_time": "2024-06-26T04:47:48.851906Z",
     "start_time": "2024-06-26T04:47:48.847541Z"
    }
   },
   "outputs": [
    {
     "data": {
      "text/plain": [
       "\" !',-.:;?abcdefghijklmnopqrstuvwxyz¡¿áèéëíñóúü\""
      ]
     },
     "execution_count": 5,
     "metadata": {},
     "output_type": "execute_result"
    }
   ],
   "source": [
    "''.join(sorted(spanish_letters))"
   ]
  },
  {
   "cell_type": "code",
   "metadata": {
    "ExecuteTime": {
     "end_time": "2024-07-20T13:58:49.167968Z",
     "start_time": "2024-07-20T13:58:49.164151Z"
    }
   },
   "source": [
    "def normalize_spanish(text):\n",
    "    text = text.lower()\n",
    "    text = re.sub(r\"[¡¿…«»“”?!',.:;–-]\", ' ', text)\n",
    "    text = re.sub(r'[^abcdefghijklmnopqrstuvwxyzáéíñóúü ]', '', text)\n",
    "    text = ' '.join(text.strip().split())\n",
    "    # normalize umlauts?\n",
    "    return text"
   ],
   "outputs": [],
   "execution_count": 5
  },
  {
   "metadata": {
    "ExecuteTime": {
     "end_time": "2024-07-20T13:58:47.052329Z",
     "start_time": "2024-07-20T13:58:47.040053Z"
    }
   },
   "cell_type": "code",
   "source": [
    "transcript_file = data_dir / 'transcript_normalized.txt'\n",
    "if not transcript_file.exists():\n",
    "    with open(data_dir / 'transcript.txt') as f:\n",
    "        with open(transcript_file, 'w') as norm_f:\n",
    "            for line in f:\n",
    "                filename, _, transcript, _ = line.split('|')\n",
    "                if transcript:\n",
    "                    transcript = normalize_spanish(transcript)\n",
    "                    norm_f.write(f'{filename}|{transcript}\\n')\n",
    "\n",
    "def get_transcripts():\n",
    "    transcripts = {}\n",
    "    with open(transcript_file) as f:\n",
    "        for line in f:\n",
    "            filename, transcript = line.strip().split('|', maxsplit=1)\n",
    "            transcripts[filename] = transcript\n",
    "    return transcripts\n",
    "\n",
    "transcripts = get_transcripts()"
   ],
   "outputs": [],
   "execution_count": 4
  },
  {
   "metadata": {
    "ExecuteTime": {
     "end_time": "2024-07-20T14:00:27.308388Z",
     "start_time": "2024-07-20T14:00:27.305064Z"
    }
   },
   "cell_type": "code",
   "source": "filenames = list(transcripts.keys())",
   "outputs": [],
   "execution_count": 8
  },
  {
   "metadata": {
    "ExecuteTime": {
     "end_time": "2024-07-20T14:00:24.958614Z",
     "start_time": "2024-07-20T14:00:24.956020Z"
    }
   },
   "cell_type": "code",
   "source": [
    "whisper_kwargs = {\n",
    "    # 'suppress_tokens': suppress_tokens,\n",
    "    # 'temperature': 0.0,\n",
    "    # 'condition_on_previous_text': False,\n",
    "    'prepend_punctuations': '',\n",
    "    'append_punctuations': '',\n",
    "}"
   ],
   "outputs": [],
   "execution_count": 7
  },
  {
   "metadata": {
    "ExecuteTime": {
     "end_time": "2024-07-20T14:00:27.758649Z",
     "start_time": "2024-07-20T14:00:27.752643Z"
    }
   },
   "cell_type": "code",
   "source": [
    "from num2words import num2words\n",
    "import numpy as np\n",
    "def whisper_transcribe(filepath, kwargs=whisper_kwargs):\n",
    "    segments, _ = model.transcribe(filepath, language='es', **kwargs)\n",
    "    text = ' '.join(segment.text for segment in segments)\n",
    "    pads = 1\n",
    "    while not text:  # whisper sometimes randomly fails to produce anything\n",
    "        audio = faster_whisper.audio.decode_audio(filepath)\n",
    "        audio_pad = np.pad(audio, (pads * 100, 0), mode='constant', constant_values=0)\n",
    "        segments, _ = model.transcribe(audio_pad, language='es', **kwargs)\n",
    "        text = ' '.join(segment.text for segment in segments)\n",
    "        pads += 1\n",
    "        if pads == 10:\n",
    "            break\n",
    "    splits = re.split(r'(\\d+)', text)\n",
    "    for i in range(len(splits)):\n",
    "        if re.fullmatch(r'\\d+', splits[i]):\n",
    "            splits[i] = num2words(splits[i], lang='es')\n",
    "    text = ''.join(splits)\n",
    "    return text"
   ],
   "outputs": [],
   "execution_count": 9
  },
  {
   "cell_type": "code",
   "metadata": {
    "ExecuteTime": {
     "end_time": "2024-07-20T14:00:34.790847Z",
     "start_time": "2024-07-20T14:00:34.786904Z"
    }
   },
   "source": [
    "def run_asr(filenames, audio_dir, asr_result_path, kwargs=whisper_kwargs):\n",
    "    with open(asr_result_path, 'w') as f:\n",
    "        for filename in tqdm(filenames):\n",
    "            wav_path = audio_dir / filename\n",
    "            text = whisper_transcribe(wav_path, kwargs)\n",
    "            text = normalize_spanish(text)\n",
    "            f.write(f'{filename}|{text}\\n')"
   ],
   "outputs": [],
   "execution_count": 10
  },
  {
   "cell_type": "code",
   "execution_count": 8,
   "metadata": {
    "ExecuteTime": {
     "end_time": "2024-07-01T09:59:00.674881Z",
     "start_time": "2024-07-01T09:59:00.666119Z"
    }
   },
   "outputs": [],
   "source": [
    "audio_dir = Path('/home/perry/PycharmProjects/present/prosody/outputs/tts_train_jets_raw_phn_tacotron_g2p_en_no_space/spanish')\n",
    "def get_phone_cer(phone):\n",
    "    print('\\n', phone)\n",
    "    phone_dir = audio_dir / phone\n",
    "    fnames = os.listdir(phone_dir)\n",
    "    avg_cer = 0\n",
    "    for fname in fnames:\n",
    "        print(fname)\n",
    "        book = fname.rsplit('_', 1)[0]\n",
    "        orig = transcripts[f'{book}/{fname}']\n",
    "        trans = normalize_spanish(whisper_transcribe(phone_dir / fname))\n",
    "        print(orig)\n",
    "        print(trans)\n",
    "        cer = jiwer.cer(orig.replace(' ', ''), trans.replace(' ', ''))\n",
    "        print(cer)\n",
    "        avg_cer += cer\n",
    "    avg_cer /= len(fnames)\n",
    "    return avg_cer"
   ]
  },
  {
   "cell_type": "code",
   "execution_count": 19,
   "metadata": {
    "ExecuteTime": {
     "end_time": "2024-07-01T10:35:20.757312Z",
     "start_time": "2024-07-01T10:30:28.986828Z"
    }
   },
   "outputs": [
    {
     "name": "stdout",
     "output_type": "stream",
     "text": [
      "\n",
      " a\n",
      "bailen_3222.wav\n",
      "vienen por mengíbar y anuncian que de estanoche a mañana llegarán a casa donde piensan detenerse algunos días no sólo para tomar descanso sino para que ambas familias se conozcan y traten pues son ramas que van a injertarse formando un solo árbol frondoso que eche profundas raíces en el suelo de la nación\n",
      "bien informen hegivar y janusian que de esta noche a mañana llegarán a casa donde piensan detenerse algunos días no solo para tomar descanso sino para que ambas familias se conozcan y traten pues son ramas que van a inhertarse formando un solo árbol frondoso que echa profundas raíces en el suelo de la nación\n",
      "0.05138339920948617\n",
      "batalla_arapiles_1599.wav\n",
      "oscuro olvidado y no muy bien quisto santorcaz se consuela con la masonería y en la logia de la calle de tentenecios unos cuantos perdidos españoles y franceses lo peor sin duda de ambas naciones se entretienen en exterminar al género humano volviendo al mundo patas arriba suprimiendo la aristocracia y poniendo a los reyes una escoba en la mano para que barran las calles\n",
      "oscuro olvidado y no muy bien quisto santo acosta se consuela con la mazonería y en la loja de la calle de tintinez unos cuantos pierdes españoles y franceses lo peor sin duda de ambas naciones se entretiene en exterminar al género humano volviendo al mundo para su riva suprimiendo la aristocracia y poniendo a los reyes su nascoba en la mano para que bajaran las calles\n",
      "0.08737864077669903\n",
      "bailen_1341.wav\n",
      "no si aquí no manda nadie más que nosotros si no reconocemos las abdicaciones ni admitiremos de rey a ese don josé ni nos da la gana de obedecer al emperador porque los españoles mandamos en nuestra casa y si los reyes se han hecho para gobernarnos a nosotros no nos han parido nuestras madres para que ellos nos lleven y nos traigan como si fuéramos manadas de carneros\n",
      "no si aquí no manda nadie más que nosotros si no reconocemos las obligaciones ni admitiremos de rey a esedón josé ni nos dalagan a de obedecer al emperador porque a los españoles mandamos en nuestra casa y si los reyes se han hecho para gobernarnos a nosotros no nos han parado nuestras madres para que ellos nos lleven y nos traigan como si fuéramos manadas de carneros\n",
      "0.019867549668874173\n",
      "bailen_0638.wav\n",
      "el desgraciado había recibido una violenta herida en el vientre y falto de palabra para expresar su padecimiento bramaba aspirando con ansia el aire inflamado sacudía el cuello parecía dar a entender que hallando un charco de agua en que remojar la lengua sus dolores serían menos vivos\n",
      "el desgraciado había recibido una violenta herida en el vientre de falta de palabra para expresar su padecimiento bramaba aspirando con ansia al aire inflamado sacudía el cuello parcía a la entendedor que le andaba un charco de agua en que remojara la lengua sus dolores serían menos vivos\n",
      "0.06694560669456066\n",
      "\n",
      " aɪ\n",
      "batalla_arapiles_3910.wav\n",
      "erais el cid bernardo del carpio zaide abenamar celindos lanzarote del lago fernán gonzález y pedro ansúrez\n",
      "\n",
      "1.0\n",
      "batalla_arapiles_2254.wav\n",
      "señora estamos perdidos no contábamos con la traición la traición dijo confusa miss fly no puede ser\n",
      "señora estamos perdidos no contábamos con la traición la traición dijo confuso a mi seifel y griega no puede ser\n",
      "0.11904761904761904\n",
      "bailen_0246.wav\n",
      "pues si no hay enemigos en bailén qué es eso de atacar a bailén\n",
      "pues si no hay enemigos en bailén que se sotaque a bailén\n",
      "0.14\n",
      "batalla_arapiles_4347.wav\n",
      "lo sé creíais rebajaros sólo ocupándoos del asunto lo cierto es que oíais todo y callabais\n",
      "los he creía es rebajaros solo ocupandoos del asunto los diertoes que wea estodo vi que leabais\n",
      "0.21333333333333335\n",
      "\n",
      " aʊ\n",
      "bailen_0081.wav\n",
      "doña maría no podía resistir más iba a estallar su furibunda cólera pero aún era mayor el caudal de su prudencia que el caudal de su enojo\n",
      "doña maría no podía resistir más y va a instalar su furibunda cólera pero aún era mejor el cabal de su prudencia que el cabal de su enojo\n",
      "0.09821428571428571\n",
      "bailen_1146.wav\n",
      "callaré callaré aunque usted me insulte aunque usted aparente dudar de mi veracidad para que la indignación me haga romper el secreto pues qué\n",
      "callare callare anquistadme en sulta anquistad a parente dudar de mi veracidad para que la indignación me haga romper el secreto cuesque\n",
      "0.11764705882352941\n",
      "batalla_arapiles_0994.wav\n",
      "era wellesley bastante alto de cabellos rubios y rostro encendido aunque no por las causas a que el vulgo atribuye las inflamaciones epidérmicas de la gente inglesa\n",
      "era oelhasle bastante alto de cabellos rubios y rostro encendado aunque no por las cajas aquel vulgo arrebuye las inflamaciones y pide a mi castilla gente inglesa\n",
      "0.11594202898550725\n",
      "batalla_arapiles_0118.wav\n",
      "aun a riesgo de comprometerme con una causa que considero perdida adiós te informaré de todo\n",
      "a no rellezco de comprometerme con un acog saque con sidero perdido adios te informare de todo\n",
      "0.15584415584415584\n",
      "\n",
      " b\n",
      "batalla_arapiles_2138.wav\n",
      "vino pues la noche envolviendo en sus sombras todo el ámbito de roma la chica salimos miss fly y yo\n",
      "vino pues la noche envolviendo en sus sombras todo el ámbito de roma la checa salimos mi ceferigre y guillo\n",
      "0.175\n",
      "19demarzo_0125.wav\n",
      "pues creo que había cuantos han cortado la historia la costumbre y el hambre con su triple tijera veíanse muchos hombres envueltos en mantas\n",
      "pues creo que había cuantos han cortado la historia la costumbre y el hombre con su triplete jejera veíanse muchos hombres embueltos en mantas\n",
      "0.05128205128205128\n",
      "batalla_arapiles_0846.wav\n",
      "bien se conoce en vuestro semblante que lleváis en las venas la sangre de aquellos insignes caballeros que han sido asombro y envidia de europa por espacio de muchos siglos\n",
      "bien se conocen en vuestro semblante que lleváis en las venas la sangre de aquellos insignes cavalleros que han sido asombro y envidia de europa por espacio de muchos siglos\n",
      "0.013986013986013986\n",
      "bailen_2330.wav\n",
      "es asturias león galicia valencia toledo burgos valladolid y se cree que también sevilla badajoz granada y cádiz\n",
      "y sostre ríos león galicia valencia toledo burgos baleado lid y secreia que también sevilla bajo la host granada y cádiz\n",
      "0.16842105263157894\n",
      "\n",
      " β\n",
      "19demarzo_0597.wav\n",
      "también entraron en las tabernas muchos soldados de caballería y al poco rato se había entablado conversación tan viva que no era posible entender ni una palabra si palabras pueden llamarse las vociferaciones y juramentos de aquella gente\n",
      "también entraron en las tabernas muchos soldados de caballería y al poco rato se había entablado conversación también pero no era posible entender ni una palabra si palabras fue de la más celos botiferaciones y juramentos de aquella gente\n",
      "0.0845771144278607\n",
      "bailen_0648.wav\n",
      "en tanto los de la derecha permanecíamos quietos y los de a caballo que ocupábamos parte de la altura podíamos ver perfectamente los movimientos del combate que en lugar más bajo y a bastante distancia se había acabado de trabar\n",
      "en tanto los de la derecha permanecíamos quietos y los de a caballo que ocupábamos parte de la altura podíamos ver perfectamente los movimientos del combate que en lugar más bajo y a bastante distancia se había acabado de trabar\n",
      "0.0\n",
      "bailen_2838.wav\n",
      "campillo de arenas y otras localidades entregadas más tarde al sable de la guardia civil y de los carabineros enviaron respetables escuadrones con la particularidad de que por venir armados hasta los dientes y ser todos unos caballeros de muy buen temple que sabían dónde echaban la boca del trabuco\n",
      "campillo de arenas y otras localidades entregadas más tarde al sable de la guardia civil y de los carabineros enviaron respetables escuadrones con la particularidad de que por venir armados hasta los dientes hicieron todos unos caballeros de muy buen temble que sabían dónde echaban la boca del trabuco\n",
      "0.028\n",
      "batalla_arapiles_3929.wav\n",
      "yo también lloro la salud vuelve a vuestro cuerpo como la sensibilidad a vuestra noble alma será posible que os haya conmovido la revelación que he hecho\n",
      "yo también le oro la salud vuelve a vuestro cuerpo como la sensibilidad de vuestro noble alma será posible que os haya conmovido la revelación que he hecho\n",
      "0.031496062992125984\n",
      "\n",
      " d\n",
      "batalla_arapiles_4233.wav\n",
      "quitándose una a otra la palabra refiriendo ponderando encareciendo comentando afirmando y negando\n",
      "quitando según otra la palabra refiriendo pondeando encareciendo comentando afirmando y negando\n",
      "0.06976744186046512\n",
      "19demarzo_0131.wav\n",
      "del ave maría del carnero de la paloma del águila del humilladero de la arganzuela de mira el río de los cojos del oso del tribulete de ministriles de los tres peces\n",
      "de la ave maría del carneiro de la paloma del ávila del humilladero del arganzuela de miralrío de los cojos del oso del trivulete de ministriles de los tres peces\n",
      "0.05223880597014925\n",
      "batalla_arapiles_2387.wav\n",
      "es la ronda respondió el masón a ver dónde escondemos a este joven monsalud sabes quién manda la ronda esta noche\n",
      "esa respuesta respondió el mazón a ver dónde escondemos a este joven saludos sabes quién manda la respuesta esta noche\n",
      "0.22580645161290322\n",
      "19demarzo_0989.wav\n",
      "exempligratia la limpieza de la mesa donde no se come de la cocina donde no se guisa del pasillo donde no se corre de la sala donde no entran visitas\n",
      "exempli gratia la limpiesta de la mesa donde no se come de la cocina donde no se guisa del pasillo donde no se corre de la sala donde no entran visitas\n",
      "0.016666666666666666\n",
      "\n",
      " ð\n",
      "19demarzo_1799.wav\n",
      "la táctica de amabilidad y de astuta dulzura recomendada por el licenciado lobo se consideró inútil siendo sustituida por un sistema de terror que ponía en fecundo ejercicio las facultades todas de doña restituta\n",
      "la táctica de amabilidad y de asentado subra recomendada por el licenciado lobo se consideró inútil siendo sustituida por un sistema de terror que ponía en fecundo ejercicio las facultades todas de doña resti chita\n",
      "0.05027932960893855\n",
      "bailen_1479.wav\n",
      "después que el boticario de la palma alta me vendó la mano no volví a acordarme de tal cosa y no digo yo dedo y medio sino los cinco de cada mano me hubiera yo arrancado con los dientes con tal de hallar a mi idolatrada inés\n",
      "después que el boticario de la palma alta me vendó la mano no volví a acordarme de tal cosa y no dio yo dedo y medio sino los cinco de cada mano me hubiera yo arrancado con los dientes con todo el llárame y la trada y néis\n",
      "0.07303370786516854\n",
      "bailen_2095.wav\n",
      "al salir de bailén supimos la derrota de los paisanos y soldados de regimientos provinciales en el puente de alcolea y en alcaudete nos dieron otra terrible noticia referente a la entrada de los franceses en córdoba y al saqueo de aquella hermosa ciudad\n",
      "al salir de vailén supimos la derrota de los paisanos y soldados de regimientos provinciales en el puente de alcalía y en alcavete en ostiero notre terre riva noticia referente a la entrada de los franceses en córdoba y al saqueo de aquella hermosa ciudad\n",
      "0.06190476190476191\n",
      "bailen_2838.wav\n",
      "campillo de arenas y otras localidades entregadas más tarde al sable de la guardia civil y de los carabineros enviaron respetables escuadrones con la particularidad de que por venir armados hasta los dientes y ser todos unos caballeros de muy buen temple que sabían dónde echaban la boca del trabuco\n",
      "campillo de arenas y otras localidades entregadas más tarde al sable de la guardia civil y de los carabineros enviaron respetables escuadrones con la particularidad de que por venir armados hasta los dientes hicieron todos unos caballeros de muy buen temble que sabían dónde echaban la boca del trabuco\n",
      "0.028\n",
      "\n",
      " e\n",
      "19demarzo_1811.wav\n",
      "mi seductora ama tenía la costumbre harto lucrativa de asistir a todas las almonedas que se anunciaban en el diario y hacíalo con la benemérita intención de pescar muebles colchones ropas adornos de sala y otros objetos que adquiridos por poco precio vendía después en dos o tres prenderías de la calle de tudescos\n",
      "mi seductora mantenía la costumbre arte lucrativa de asistir a todas las almohaderas que se anunciaban en el diario y hacía lo con la benemérita intención de pescar muebles colchones ropas adornos de sal y otros objetos que adquiridos por poco precio vendía después en dos o tres prenderías de la calidad tedescos\n",
      "0.05363984674329502\n",
      "batalla_arapiles_1599.wav\n",
      "oscuro olvidado y no muy bien quisto santorcaz se consuela con la masonería y en la logia de la calle de tentenecios unos cuantos perdidos españoles y franceses lo peor sin duda de ambas naciones se entretienen en exterminar al género humano volviendo al mundo patas arriba suprimiendo la aristocracia y poniendo a los reyes una escoba en la mano para que barran las calles\n",
      "oscuro olvidado y no muy bien quisto santo acosta se consuela con la mazonería y en la loja de la calle de tintinez unos cuantos pierdes españoles y franceses lo peor sin duda de ambas naciones se entretiene en exterminar al género humano volviendo al mundo para su riva suprimiendo la aristocracia y poniendo a los reyes su nascoba en la mano para que bajaran las calles\n",
      "0.08737864077669903\n",
      "bailen_1341.wav\n",
      "no si aquí no manda nadie más que nosotros si no reconocemos las abdicaciones ni admitiremos de rey a ese don josé ni nos da la gana de obedecer al emperador porque los españoles mandamos en nuestra casa y si los reyes se han hecho para gobernarnos a nosotros no nos han parido nuestras madres para que ellos nos lleven y nos traigan como si fuéramos manadas de carneros\n",
      "no si aquí no manda nadie más que nosotros si no reconocemos las obligaciones ni admitiremos de rey a esedón josé ni nos dalagan a de obedecer al emperador porque a los españoles mandamos en nuestra casa y si los reyes se han hecho para gobernarnos a nosotros no nos han parado nuestras madres para que ellos nos lleven y nos traigan como si fuéramos manadas de carneros\n",
      "0.019867549668874173\n",
      "19demarzo_0629.wav\n",
      "porque yo tengo para mí que la proclama de su majestad es una tiñería y qué crédito merece el rey de las españas de las indias de jerusalén de rodas etc cuando habla el excmo señor don gregorio de las santurrias sacristán que fue de monjas bernardas y hoy de mi parroquia\n",
      "porque yo tengo para mí que la proclama de su majestad y su natirnería y que creyde temeréis del rey de las españas de las indias de jerusalén de herodas eitc cuando habla el excelentísimo señor don gregorio de las santurrias sacristan que fue de mon hasbernardas y yo de mi parroquia\n",
      "0.12272727272727273\n",
      "\n",
      " eɪ\n",
      "bailen_1695.wav\n",
      "pero hacia los días veinticinco veintiséis y veintisiete se esparce por la capital un rumor misterioso que conmueve de alegríaa los españoles y llena de terror a los franceses\n",
      "pero hacia los días veinticinco veintiséis y veintisiete se esparce por la capital un rumor misterioso que conmueve de alegría a los españoles si leen a deter a los franceses\n",
      "0.04081632653061224\n",
      "bailen_0464.wav\n",
      "si el rey no quiere hay quien esté por cima del rey el rey manda en todas partes y digan lo que quieran no hay más que su sacra real voluntad\n",
      "si el rey no quiere hay quienes estén por encima del rey el rey manda en todas partes y digan lo que quieran no hay más que su sacra regal voluntad\n",
      "0.05405405405405406\n",
      "batalla_arapiles_1944.wav\n",
      "ventre de biche os escapasteis cuando ibais a ser encerrado y sacasteis la navaja para asesinarnos monseigneur cipérez\n",
      "ben tredevich o se escapaste cuando viviste a ser encerrado y sacaste la navaja para asesinarnos monsegne o sea si eres\n",
      "0.21782178217821782\n",
      "19demarzo_0219.wav\n",
      "lo que es al rey no le haré nada porque es el rey pero a la reina manque se ponga de rodillas delante no la perdono\n",
      "lo que es el rey no le reina a la porque es el rey pero a la reina man que se ponga de rodillas delante no la perdono\n",
      "0.07777777777777778\n",
      "\n",
      " eʊ\n",
      "bailen_0061.wav\n",
      "como crenom de dieu sacrebleu exclamaciones que se dicen cuando uno está rabioso en vez de caracoles canastos\n",
      "como creen un de dieu sacrableu exclamaciones que se dicen cuando uno está rabioso en vez de caracoles canastos\n",
      "0.043478260869565216\n",
      "batalla_arapiles_1440.wav\n",
      "disait adieux a ses petits enfants le malheureux trainant sa queue dans la poussiere\n",
      "y hindúes apenas el hombre te desea una beveragesa infantil\n",
      "0.7323943661971831\n",
      "19demarzo_2986.wav\n",
      "pero las contrariedades me habían dado alguna experiencia conocía ya los rudimentos de la ciencia del corazón y el mío principiaba a reunir ese tesoro de desconfianzas\n",
      "pero las contrariedades me habían dado alguna experiencia conocía ya los rudimentos de la ciencia del corazón y el mío principio era remirar ese tesoro de desconfianzas\n",
      "0.04964539007092199\n",
      "batalla_arapiles_2919.wav\n",
      "araceli dices que estoy preso que me llevarán a la cárcel de madrid a ceuta tal vez maldigo la infame librea del despotismo que vistes ceuta\n",
      "ahora sé que dices que estoy preso que me liberan a la cárcel de madrid así era tal vez mal digo infame libre ya del despotismo que viste señorita\n",
      "0.20869565217391303\n",
      "\n",
      " ɛ\n",
      "bailen_0712.wav\n",
      "obedecen a la alegría de un momento a la pena de otro momento a las angustiosas alternativas que en el discurso de cuantas horas consiente y dispone dios espectador no indiferente de estas barbaridades de los hombres\n",
      "obedecen a la alegría de un momento a la pena de otro momento a las angustiosas alternativas que han al discurso de cuantas obras conscientes dispone dios espectador no indiferente de estas barbaridades de los hombres\n",
      "0.03888888888888889\n",
      "bailen_1035.wav\n",
      "sólo entramos en fuego cuarenta mil hombres y merced a las hábiles disposiciones del gran tirano derrotamos a noventa mil aliados matándoles o ahogando quince mil cogiendo veinte mil prisioneros y ciento veinte cañones\n",
      "solo entramos en fuego cuarenta mil hombres y merced de las hábiles disposiciones del gran irán derrotamos a noventa mil aliados matándoles o agando quince mil cogiendo veinte mil prisioneros y ciento veinte cañones\n",
      "0.043243243243243246\n",
      "bailen_1876.wav\n",
      "y entre el denso humo distinguimos un hombre puesto al frente del valiente batallón y blandiendo con furia la espada\n",
      "y entre el denso humo distinguimos su nombre puesto al frente del valiente batallón y blandiendo con furia la espada\n",
      "0.020618556701030927\n",
      "batalla_arapiles_3930.wav\n",
      "no juzguéis mi atrevimiento con criterio vulgar creyendo que no falto al decoro a las conveniencias y al pudor diciendo a un hombre que le amo\n",
      "no juzguéis mi atrevimiento con criterio vulgar creyendo que no falto al decoro a las conveniencias y el pudor diciendo a un hombre que le amo\n",
      "0.008547008547008548\n",
      "\n",
      " f\n",
      "19demarzo_1099.wav\n",
      "percibía vagamente figuras y formas de esas que no pertenecen al mundo visible ni a la humanidad ni a la fauna ni a la flora ni al cielo ni a la tierra\n",
      "percibí evagamente figuras y formas de esas que no pertenecen al mundo visible ni a la humanidad ni a la fauna ni a la flora ni al cielo ni a la tierra\n",
      "0.008333333333333333\n",
      "19demarzo_1844.wav\n",
      "a este tenor continuaron hablando un cuarto de hora hasta que al fin después de mutuas felicitaciones y ofrecimientos despidiose el francés prometiendo volver a visitarnos\n",
      "a este tenor continuaron hablando un cuarto de llora hasta que al fin después de mutuas felicitaciones y ofrecimientos despidióse el francés prometiendo volver a visitarnos\n",
      "0.02054794520547945\n",
      "bailen_0362.wav\n",
      "mirábamos con desdeñosa indiferencia a los que quedaron de reserva y al contarles lo que pasó hacíamos subir a cifrasfabulosas el número de franceses segados por nuestros cortadores sables en la refriega\n",
      "mirábamos con destino sin diferenciar los que quedaron de res airbot y al contarles lo que pasó hacíamos subir las difrases fabulosas del número de franceses cegados por nuestro escorte a dos resables en la refriega\n",
      "0.12209302325581395\n",
      "batalla_arapiles_1017.wav\n",
      "mi general dijo con fatuidad españa en mi división no faltan oficiales facultativos\n",
      "mi jejeñera al día o con fatuidad a españa en mi división no faltan oficiales facultativos\n",
      "0.11267605633802817\n",
      "\n",
      " ɡ\n",
      "batalla_arapiles_3519.wav\n",
      "marmont quería engañar a wellington pero wellington no sólo quería engañar sino que estaba engañando a marmont\n",
      "marmote quería engañar a williamton pero williamton no solo quería engañar sino que estaba engañando a marmote\n",
      "0.11702127659574468\n",
      "19demarzo_2793.wav\n",
      "ni palabras de ninguna lengua alcanzan a manifestar angustia tan grande\n",
      "ni palabras de ningún alengual cansan al manifestar angustia tan grande\n",
      "0.06557377049180328\n",
      "batalla_arapiles_1016.wav\n",
      "pero ningún inglés podría entrar en salamanca porque sería al instante descubierto por su rostro y por su lenguaje es preciso que vaya un español\n",
      "pero ningún inglés podría entrar en salamanca porque sería al instante descubierto por su rostro y por su lenguaje es preciso que vaya un español\n",
      "0.0\n",
      "19demarzo_0721.wav\n",
      "a fe mía que nuestra casa no es ningún guiñapo y cuando pongamos en la sala las cortinas de sarga verde con ramos amarillos\n",
      "a fe mía que en vuestra casa no hay ningún guiñapo y cuando pongamos en la sala las cortinas de sargavéas de conjamos amarillos\n",
      "0.09\n",
      "\n",
      " ɣ\n",
      "19demarzo_1106.wav\n",
      "luego concéntrico en seguida poligonal y dorado y al fin pequeño como un punto para luego ser grande como el universo\n",
      "lo huevo concentrico enseguida poligonal y dorado vía el fin pequeño como un punto para lo huevo ser grande como el universo\n",
      "0.10309278350515463\n",
      "batalla_arapiles_2724.wav\n",
      "miss fly miss fly el viento impedía que mi voz llegase hasta ella avivé el paso sin apartar los ojos de la hermosa aparición\n",
      "mi cefe aligre llegar mi cefe aligre llegar el viento impedía que mi voz llegase hasta ella a viver el paso sin apartar los ojos de la hermosa aparición\n",
      "0.297029702970297\n",
      "batalla_arapiles_2673.wav\n",
      "quién miss fly pregunté con vivo gozo la artillería señores la artillería gruesa que se mandó traer de almeida\n",
      "quién micefel y griega pregunté con vivo gusto la artillería señores la artillería grueza que se mandó traer del medo\n",
      "0.17391304347826086\n",
      "batalla_arapiles_4526.wav\n",
      "la gente no ha querido darte gusto y te entretuviste con las mojigangas y gansadas de los masones que según ellos dicen hacen mucho y según yo veo no hacen nada\n",
      "la gente no ha querido darte gusto y tu interactivista con las mojigangas y gansadas de los mazones que según ellos dicen hacen mucho y según yo veo no hacen nada\n",
      "0.06153846153846154\n",
      "\n",
      " i\n",
      "19demarzo_1041.wav\n",
      "porque qué dirán mis señores don mauro y doña restituta al saber que ese tramposo y embaucador chicuelo aquí presente recibió favores príncipe y es el mismo gabrielillo que desde hace quince días estamos buscando con los hígados en la boca mi compañero y yo\n",
      "por que que diran mis señores don monroe y donner hristie total saber que ese tramposo y embalcador chicoelo aquí presente recibió favores principales y es el mismo gabriel illio que desde hace quince días estamos buscando con los hígados en la boca a mi compañero joe\n",
      "0.11737089201877934\n",
      "19demarzo_3014.wav\n",
      "el peligro no me impedía observar quién estaba en torno mío y así puedo decir que sostenían mi valor vacilante además de la primorosa un señor grave y bien vestido que parecía aristócrata y dos honradísimos tenderos de la misma calle a quienes yo de antiguo conocía\n",
      "el peligro no me impedía observar quién estaba en torno mío y así puedo decir que sostenían mi valor vacilante además de la promorosa un señor grave bien vestido que parecía aristócrata y dos honradísimos tenderos de la misma calle a quienes yo de antiguo conocía\n",
      "0.0091324200913242\n",
      "bailen_2097.wav\n",
      "pero el día dieciséis supimos que los franceses habían evacuado a córdoba y adoptando nuestro primitivo itinerario divisamos en la mañana del un inmenso caserío blanco que destacaba sobre el verde azul de la lejana sierra infinidad de torres minaretes espadañas y cimborrios\n",
      "pero el día dieciséis supimos que los franceses habían evacuado a córdoba y adoptando nuestro primitivo itinerario divisamos en la mañana del lunes un inmenso caserío blanco que destacaba sobre el verde azul de la lejana sierra infinidad de torres minaretes espadones y cimborrios\n",
      "0.034482758620689655\n",
      "batalla_arapiles_0474.wav\n",
      "añadiome que él en los primeros años de vida monástica había experimentado iguales aprietos y compromisos mas que al fin con las rudas penitencias y lecturas místicas había convencido al demonio de la inutilidad de sus esfuerzos para pervertirlo con lo cual le dejó tranquilo\n",
      "añadió mequiel en los primeros años de vida monástica había experimentado iguales apreiedos y compromisos mas que al fin con las rudas benitencias y lecturas místicas había convencido al demonio de la inutilidad de sucesos fuerzos para pervertirlo con lo cual le dejó tranquilo\n",
      "0.03896103896103896\n",
      "\n",
      " j\n",
      "batalla_arapiles_1599.wav\n",
      "oscuro olvidado y no muy bien quisto santorcaz se consuela con la masonería y en la logia de la calle de tentenecios unos cuantos perdidos españoles y franceses lo peor sin duda de ambas naciones se entretienen en exterminar al género humano volviendo al mundo patas arriba suprimiendo la aristocracia y poniendo a los reyes una escoba en la mano para que barran las calles\n",
      "oscuro olvidado y no muy bien quisto santo acosta se consuela con la mazonería y en la loja de la calle de tintinez unos cuantos pierdes españoles y franceses lo peor sin duda de ambas naciones se entretiene en exterminar al género humano volviendo al mundo para su riva suprimiendo la aristocracia y poniendo a los reyes su nascoba en la mano para que bajaran las calles\n",
      "0.08737864077669903\n",
      "bailen_0909.wav\n",
      "este valiente oficial cuyo nombre no está en la historia se disfrazó de arriero y en una fatigosa jornada supo desempeñar muy bien su comisión\n",
      "este valiente oficial cuyo nombre no está en la historia se disfrazó de guerrero y en una fatigosa jornada supo desempeñar muy bien su comisión\n",
      "0.03389830508474576\n",
      "19demarzo_2582.wav\n",
      "vistiose tan precipitadamente que la vi medio desnuda pero ni ella con el gran azoramiento de la prisa cayó en la cuenta de que me estaba mostrando su lindo cuerpo ni yo me cuidaba más que de ayudarla a vestir poniéndole enaguas medias zapatos ligas\n",
      "viste yo se tan precipitadamente que la vi medio desnuda pero ni ella con el gran aserramiento de la prisa que yo en la cuenta de que me estaba mostrando su lindo cuerpo ni yo me cuidaba más que de ayudarla a vestir poniéndola en aguas medias zapatos ligas\n",
      "0.04878048780487805\n",
      "batalla_arapiles_3061.wav\n",
      "su odio a los nobles a los frailes y a los reyes continuaba siempre muy vivo pero al hablar de mi madre la nombraba siempre con reserva y también con emoción\n",
      "su odio a los nobles a los friars y a los reyes continuaba siempre muy vivo pero al hablar de mi madre la nombraba siempre con reserva y también con emoción\n",
      "0.023622047244094488\n",
      "\n",
      " ʝ\n",
      "batalla_arapiles_2766.wav\n",
      "yo soy el acusado yo el ladrón yo el ogro de cuentos infantiles yo el gigantón de leyenda yo el morazo de romance\n",
      "yo soy el acusado yo lo ladrón yo lo logro de cuantas infantiles yo lo gigantón de leyenda yo lo moroso de romance\n",
      "0.13186813186813187\n",
      "19demarzo_1866.wav\n",
      "yo he guardado mis ganancias desde hace veinte años lo malo es que todo lo tengo en poder de los requejos pero ya ya tomaré yo lo que me pertenezca\n",
      "yo he guardado mis ganas desde hace veinte años lo malo es que todo lo tengo en poder de los requejos pero ya tomaré yo lo que me perece inesca\n",
      "0.0847457627118644\n",
      "19demarzo_2163.wav\n",
      "presentando alternativamente al sol una de sus caras ya blanca ya azul ya roja y adornado con lentejuelas de plata y oro\n",
      "presentando alternativamente el sol luna de sus caras ya blanca ya azul ya roja de adornado con lentejuelas de plata y oro\n",
      "0.04040404040404041\n",
      "19demarzo_3256.wav\n",
      "yo que en mi vida he peleado con nadie yo que no puedo ver matar un pollo yo que nunca he tenido valor para matar un gusanito yo que siempre he tenido miedo a todo\n",
      "yo que en mi vida he peleado con nadie yo que no puedo ver matar un pollo yo que nunca he tenido valor para matar un gusanito yo que siempre he tenido miedo a todo\n",
      "0.0\n",
      "\n",
      " k\n",
      "19demarzo_1811.wav\n",
      "mi seductora ama tenía la costumbre harto lucrativa de asistir a todas las almonedas que se anunciaban en el diario y hacíalo con la benemérita intención de pescar muebles colchones ropas adornos de sala y otros objetos que adquiridos por poco precio vendía después en dos o tres prenderías de la calle de tudescos\n",
      "mi seductora mantenía la costumbre arte lucrativa de asistir a todas las almohaderas que se anunciaban en el diario y hacía lo con la benemérita intención de pescar muebles colchones ropas adornos de sal y otros objetos que adquiridos por poco precio vendía después en dos o tres prenderías de la calidad tedescos\n",
      "0.05363984674329502\n",
      "batalla_arapiles_0239.wav\n",
      "y también es cierto aunque igualmente prosaico que me dormí sin que el crepúsculo de mis sentidos me impresionase otra cosa que la histórica canción cantada a media voz por mi asistente en la estancia contigua\n",
      "y también es cierto aunque igualmente aproxico que me dormí sin que el crepúsculo de mis sentados me impresionase y otra cosa que la histórica canción cantada a medio voz por mi asistente en la estancia contigua\n",
      "0.034482758620689655\n",
      "19demarzo_2286.wav\n",
      "ni para qué queremos aquí franceses ni zamacucos ni tragones ni nada de toda esa canalla que no viene aquí más que a comer pues qué cree usted\n",
      "ni para qué queremos aquí franceses ni zamacucos ni dragones ni nada de todo esa canalla que no viene aquí más que a comer pues qué creéis téid\n",
      "0.05217391304347826\n",
      "batalla_arapiles_0474.wav\n",
      "añadiome que él en los primeros años de vida monástica había experimentado iguales aprietos y compromisos mas que al fin con las rudas penitencias y lecturas místicas había convencido al demonio de la inutilidad de sus esfuerzos para pervertirlo con lo cual le dejó tranquilo\n",
      "añadió mequiel en los primeros años de vida monástica había experimentado iguales apreiedos y compromisos mas que al fin con las rudas benitencias y lecturas místicas había convencido al demonio de la inutilidad de sucesos fuerzos para pervertirlo con lo cual le dejó tranquilo\n",
      "0.03896103896103896\n",
      "\n",
      " l\n",
      "batalla_arapiles_3057.wav\n",
      "volver aquel cadáver a la vida volverle al mundo a la familia desatar aquel corazón de la rueda en que sufría tormento sacar del infierno aquel infeliz réprobo y extirpar en su alma el odio que le consumía\n",
      "volver a aquel cadáver a la vida volverle al mundo a la familia desatar aquel corazón de la rueda en que sufría tormento sacar de él fierno aquel feliz rey por el exterior para su alma el odio que la consumía\n",
      "0.10714285714285714\n",
      "19demarzo_1977.wav\n",
      "y así te quedará tiempo para apalear las capas encender el fuego y soplarlo devanar el hilo de la costura poner los números a las papeletas aviar la lamparilla limpiar el polvo dar lustre a los zapatos de mi hermano y todo lo demás que se vaya ofreciendo\n",
      "y así te quedará tiempo para apelerar las capas enseñé a ralph luego de soplarlo devan o elilo de la costura poner los números en las papeletas abrir la lamparilla limpiar el polvo dar luz a los zapatos de mi hermano y todo lo demás que se vaya ofreciendo\n",
      "0.11594202898550725\n",
      "batalla_arapiles_3561.wav\n",
      "y los dragones del decimocuarto regimiento que iban en cuatro columnas a envolver la izquierda del enemigo en la famosa altura y vi desde lejos la brigada del general bradford la de cole y la caballería de stapleton cotton que marchaban en otra dirección contra el centro enemigo\n",
      "a los dragones del decimo cuarto regimiento que iban en cuatro columnas envolverles que eran del enemigo en la famosa altura de vides de lejos la brigada del general rod ford la de coli la caballería de stapleton cotton que marchaban en otra dirección contra el centro enemigo\n",
      "0.0603448275862069\n",
      "19demarzo_0131.wav\n",
      "del ave maría del carnero de la paloma del águila del humilladero de la arganzuela de mira el río de los cojos del oso del tribulete de ministriles de los tres peces\n",
      "de la ave maría del carneiro de la paloma del ávila del humilladero del arganzuela de miralrío de los cojos del oso del trivulete de ministriles de los tres peces\n",
      "0.05223880597014925\n",
      "\n",
      " ʎ\n",
      "19demarzo_1861.wav\n",
      "con que dices que lo recibió bien pero la llave la llave no me da usted la llave no la llave no te la doy\n",
      "con que diste escalo recibió bien jero lelyave lelyave no me da usted lelyave no lelyave no te lo doy\n",
      "0.19753086419753085\n",
      "19demarzo_2072.wav\n",
      "lopito que llevaba a cuestas una maravillosa obra de porcelana producto de los talleres de la moncloa se llegó a mí y díjome\n",
      "lo pido que el llevado a agua está suena maravillosa obrada por celana producto de los tolleres de la moncloa se llegó a mí díjome\n",
      "0.11764705882352941\n",
      "bailen_2564.wav\n",
      "el día anterior me había mandado por unas botas a la zapatería de la calle del lobo y desde allí se las llevé a su casa en la calle de la ternera\n",
      "el día anterior me había mandado por unas botas a la zapatería de la calle del lobo y desde allí se las llevé a su casa en la calle de la ternera\n",
      "0.0\n",
      "bailen_2821.wav\n",
      "con paisanos pues creó sevilla cinco batallones y dos regimientos de caballería cádiz mandó el batallón de tiradores que llevaba su nombre\n",
      "compaysanos pues creó sevilla cinco batallones y dos regimientos de caballería cádiz mandó el batallón de tiradores que elevaba su nombre\n",
      "0.02564102564102564\n",
      "\n",
      " m\n",
      "batalla_arapiles_3070.wav\n",
      "estábamos en valladolid cuando cayó enfermo muy enfermo un afamado médico de aquella ciudad me dijo que no viviría mucho tiempo\n",
      "estábamos en valladolid cuando cayó enfermo muy enfermo un afamado médico de aquella ciudad me dijo que no viviría mucho tiempo\n",
      "0.0\n",
      "bailen_1341.wav\n",
      "no si aquí no manda nadie más que nosotros si no reconocemos las abdicaciones ni admitiremos de rey a ese don josé ni nos da la gana de obedecer al emperador porque los españoles mandamos en nuestra casa y si los reyes se han hecho para gobernarnos a nosotros no nos han parido nuestras madres para que ellos nos lleven y nos traigan como si fuéramos manadas de carneros\n",
      "no si aquí no manda nadie más que nosotros si no reconocemos las obligaciones ni admitiremos de rey a esedón josé ni nos dalagan a de obedecer al emperador porque a los españoles mandamos en nuestra casa y si los reyes se han hecho para gobernarnos a nosotros no nos han parado nuestras madres para que ellos nos lleven y nos traigan como si fuéramos manadas de carneros\n",
      "0.019867549668874173\n",
      "bailen_0880.wav\n",
      "mi regimiento debía salir de los últimos y mientras se puso en movimiento la artillería y los cuerpos de a pie estuvimos más de media hora formados a la salida del pueblo y a mano derecha del camino esperando la orden de marcha\n",
      "mi regimiento debía salir de los últimos y mientras se puso en movimiento la artillería y los cuerpos de a pie estuvimos más de media hora formados a la salida del pueblo y a mano derecha del camino esperando la orden de marcha\n",
      "0.0\n",
      "19demarzo_2858.wav\n",
      "algunos franceses me obligaron a alejar de aquel sitio y por las palabras que oí me juzgué en peligro de ser también comprendido en la traílla pero a mí no me importaba la muerte ni en tal situación hubiera dejado de mirar a un punto donde creyera distinguir el semblante de mis dos amigos\n",
      "algunos franceses me obligaron a alejar de aquel sitio y por las palabras que huime justé en peligro de ser tan bien comprendido en la traída pero a mí no me importaba la muerte ni en tal situación hubiera dejado de mirar a un punto donde creyera distinguir el semblante de mis dos amigos\n",
      "0.0423728813559322\n",
      "\n",
      " n\n",
      "bailen_3222.wav\n",
      "vienen por mengíbar y anuncian que de estanoche a mañana llegarán a casa donde piensan detenerse algunos días no sólo para tomar descanso sino para que ambas familias se conozcan y traten pues son ramas que van a injertarse formando un solo árbol frondoso que eche profundas raíces en el suelo de la nación\n",
      "bien informen hegivar y janusian que de esta noche a mañana llegarán a casa donde piensan detenerse algunos días no solo para tomar descanso sino para que ambas familias se conozcan y traten pues son ramas que van a inhertarse formando un solo árbol frondoso que echa profundas raíces en el suelo de la nación\n",
      "0.05138339920948617\n",
      "batalla_arapiles_1599.wav\n",
      "oscuro olvidado y no muy bien quisto santorcaz se consuela con la masonería y en la logia de la calle de tentenecios unos cuantos perdidos españoles y franceses lo peor sin duda de ambas naciones se entretienen en exterminar al género humano volviendo al mundo patas arriba suprimiendo la aristocracia y poniendo a los reyes una escoba en la mano para que barran las calles\n",
      "oscuro olvidado y no muy bien quisto santo acosta se consuela con la mazonería y en la loja de la calle de tintinez unos cuantos pierdes españoles y franceses lo peor sin duda de ambas naciones se entretiene en exterminar al género humano volviendo al mundo para su riva suprimiendo la aristocracia y poniendo a los reyes su nascoba en la mano para que bajaran las calles\n",
      "0.08737864077669903\n",
      "bailen_1341.wav\n",
      "no si aquí no manda nadie más que nosotros si no reconocemos las abdicaciones ni admitiremos de rey a ese don josé ni nos da la gana de obedecer al emperador porque los españoles mandamos en nuestra casa y si los reyes se han hecho para gobernarnos a nosotros no nos han parido nuestras madres para que ellos nos lleven y nos traigan como si fuéramos manadas de carneros\n",
      "no si aquí no manda nadie más que nosotros si no reconocemos las obligaciones ni admitiremos de rey a esedón josé ni nos dalagan a de obedecer al emperador porque a los españoles mandamos en nuestra casa y si los reyes se han hecho para gobernarnos a nosotros no nos han parado nuestras madres para que ellos nos lleven y nos traigan como si fuéramos manadas de carneros\n",
      "0.019867549668874173\n",
      "19demarzo_0918.wav\n",
      "por último nos sentamos a orillas del río y en el sitio en que el tajo y el jarama encontrándose de improviso y cuando seguramente el uno no tenía noticias de la existencia del otro se abrazan y confunden sus aguas en una sola corriente haciendo de dos vidas una sola\n",
      "por último nos sentamos a orillas del río y en el sitio en que el tajo y el jarama encontrándose de improviso y cuando seguramente el uno no tenía noticias de la existencia del otro se abrazan y confunden sus aguas en una sola corriente haciendo de dos vidas una sola\n",
      "0.0\n",
      "\n",
      " ɲ\n",
      "19demarzo_1657.wav\n",
      "da ganas de llorar señora doña restituta ahora salí a llevar a mi angustias con las niñas a la novena del señor san josé\n",
      "dáganos del lurar señor rodonio resti tita oh raselilla várame angustias con las niñas a la novena del señor san josé\n",
      "0.17525773195876287\n",
      "19demarzo_1694.wav\n",
      "y para cuándo dejan vds la boda animarse señores y anímese usted también señor don mauro de mis entrañas porque mire usted que la niñita lo merece\n",
      "a paracuando de jamu vedese la vo del animarse señores e animese usted tambien señor don ma rodemi centranos porquemere usted que leñi te lo merece\n",
      "0.18333333333333332\n",
      "19demarzo_0630.wav\n",
      "a ver nos sacará de dudas su señoría mañana mañana mañanita señor cura contestó el sacristán\n",
      "haber nos sacerado de dudas su señoría mañana mañana mañana señor que racontestó el sacristan\n",
      "0.14285714285714285\n",
      "bailen_3220.wav\n",
      "esta mañana recibió la señora un propio de la marquesa de leiva anunciando que su excelencia con la condesa con la señorita inés y el señor marqués salen de córdoba para madrid a donde los llama un negocio de mucho interés para las dos familias\n",
      "esta mañana recibió la señora wun propio de la marquesa de leyva anunciando que su excelencia con la condesa con la senyorita inésiel sr marqués salen de córdoba para madrid adonde los llama wun negocio de mucho interés para las dos familias\n",
      "0.045\n",
      "\n",
      " ŋ\n",
      "batalla_arapiles_3519.wav\n",
      "marmont quería engañar a wellington pero wellington no sólo quería engañar sino que estaba engañando a marmont\n",
      "marmote quería engañar a williamton pero williamton no solo quería engañar sino que estaba engañando a marmote\n",
      "0.11702127659574468\n",
      "19demarzo_2793.wav\n",
      "ni palabras de ninguna lengua alcanzan a manifestar angustia tan grande\n",
      "ni palabras de ningún alengual cansan al manifestar angustia tan grande\n",
      "0.06557377049180328\n",
      "batalla_arapiles_1059.wav\n",
      "fínjase amigo de ellos en una palabra ponga usted en juego su ingenio su valor y todo el conocimiento de los hombres y de la guerra que ha adquirido en tantos años de activa vida militar\n",
      "fin hasta amigo de ellos en una palabra homgostei denhuego su ingenio su valor y todo el conocimiento de los hombres y de la guerra que adquirido en tantos años de activa vida militar\n",
      "0.07947019867549669\n",
      "19demarzo_0174.wav\n",
      "juro que le efenderemos contra too el que venga manque tenga enjércitos y más enjércitos jeñores\n",
      "roquella y fenderemos contrató al que venga mal que tenga enjercitos y más enjercitos jejeñorás\n",
      "0.1728395061728395\n",
      "\n",
      " o\n",
      "batalla_arapiles_0263.wav\n",
      "uno me cogía por el pie derecho otro por el izquierdo y otro más feo que barrabás atome una cuerda al cuello con cuyo tren y el tirar por aquí y por allí me llevaron volando a mi pueblo para que viese a dorotea hablando con el sargento moscardón\n",
      "uno me cojía por el pie derecho otro por el izquierdo y otro más feo que barrabás a tomy woonock weirdo al cuello con cuyo traineo tiró por aquí por el email y varón bolando a mi pueblo para que viese a la rutea hablando con el sargento moscardón\n",
      "0.14213197969543148\n",
      "batalla_arapiles_1599.wav\n",
      "oscuro olvidado y no muy bien quisto santorcaz se consuela con la masonería y en la logia de la calle de tentenecios unos cuantos perdidos españoles y franceses lo peor sin duda de ambas naciones se entretienen en exterminar al género humano volviendo al mundo patas arriba suprimiendo la aristocracia y poniendo a los reyes una escoba en la mano para que barran las calles\n",
      "oscuro olvidado y no muy bien quisto santo acosta se consuela con la mazonería y en la loja de la calle de tintinez unos cuantos pierdes españoles y franceses lo peor sin duda de ambas naciones se entretiene en exterminar al género humano volviendo al mundo para su riva suprimiendo la aristocracia y poniendo a los reyes su nascoba en la mano para que bajaran las calles\n",
      "0.08737864077669903\n",
      "bailen_1341.wav\n",
      "no si aquí no manda nadie más que nosotros si no reconocemos las abdicaciones ni admitiremos de rey a ese don josé ni nos da la gana de obedecer al emperador porque los españoles mandamos en nuestra casa y si los reyes se han hecho para gobernarnos a nosotros no nos han parido nuestras madres para que ellos nos lleven y nos traigan como si fuéramos manadas de carneros\n",
      "no si aquí no manda nadie más que nosotros si no reconocemos las obligaciones ni admitiremos de rey a esedón josé ni nos dalagan a de obedecer al emperador porque a los españoles mandamos en nuestra casa y si los reyes se han hecho para gobernarnos a nosotros no nos han parado nuestras madres para que ellos nos lleven y nos traigan como si fuéramos manadas de carneros\n",
      "0.019867549668874173\n",
      "batalla_arapiles_3252.wav\n",
      "pero lo más gracioso fue cuando bailamos el minueto como decían los españoles pues aconteció que ambos ejércitos marcharon todo un día paralelamente ellos sobre la izquierda y nosotros sobre la derecha viéndonos muy bien a distancia de medio tiro de cañón y sin gastar un cartucho\n",
      "pero lo más gracioso fue cuando bailamos el menueto como decían los españoles pues aconteció que ambos ejércitos marcharon todo un día paralelamente ellos sobre la izquierda y nosotros sobre la derecha viéndonos muy bien a distancia de medio tiro de cañón y sin gastar un cartucho\n",
      "0.004273504273504274\n",
      "\n",
      " oɪ\n",
      "batalla_arapiles_3287.wav\n",
      "no es usted miss fly voy creyendo lo que decís afirmó clavando en mí los dulces ojos azules voy creyendo que no soy yo miss fly\n",
      "no es usted micefeligri yegob voy creyendo lo que decís a fier moc lavando en mil os dulces ojos azules voy creyendo que no soy yo micefeligri yegob\n",
      "0.24509803921568626\n",
      "batalla_arapiles_2925.wav\n",
      "quién dice que yo estoy enfermo que yo estoy débil que me voy a morir que no puedo levantarme más es mentira cien veces mentira\n",
      "quien dice que yo estoy enfermo que yo estoy débil que me voy a morir que no puedo levantar mi masa es mentira siempre es mentira\n",
      "0.08737864077669903\n",
      "19demarzo_2361.wav\n",
      "si no quiere de grado será por fuerza estoy estoy bramando mañana sabrá ella si soy yo mauro requejo o quién soy\n",
      "si no quiere le agradecerá por fuerza estoy estoy bromeando mañana se verá el día si soy yo o no o lo que sea\n",
      "0.2967032967032967\n",
      "19demarzo_2532.wav\n",
      "pero si en esta parte estoy tranquilo ay ya le he dicho al santísimo sacramento que estoy loco de amor y que me perdone los dos grandes pecados que he cometido hoy\n",
      "pero si en esta parte estoy tranquilo ay ya le he dicho al santísimo sacramento que estoy el ojo de amor y que me perdoné los dos grandes pecados que he cometido hoy\n",
      "0.022727272727272728\n",
      "\n",
      " p\n",
      "bailen_1129.wav\n",
      "vale la pena de que perezcan miles de seres humanos por una cuestión que podría arreglarse con un pedazo de papel y una pluma mojada en tinta puesta en manos de alguna persona que yo me sé\n",
      "vale la pena de que parezcan miles de seres humanos por una cuestión que podría arreglar según un pedazo de papel y una pluma mojada en tinta pues tan monóstil de una persona que yo me sé\n",
      "0.07236842105263158\n",
      "19demarzo_2937.wav\n",
      "si vienen con buen fin esos caballeros por qué se apoderan por sorpresa de las principales plazas y fortalezas primero se metieron en pamplona engañando a la guarnición\n",
      "si bien encombuen fines a los caballeros por qué se apoderaron por sorpresa de las principales plazas y fortalezas primero se metieron en pamplona engañando a la abornición\n",
      "0.06382978723404255\n",
      "bailen_0723.wav\n",
      "pero de este socorro apenas podía participar una pequeña parte de la tropa porque los que estaban en el frente no tenían tiempo para ello\n",
      "pero de este socorro apenas podía participar una pequeña parte de la tropa porque los que estaban en el frente no tenían tiempo para ello\n",
      "0.0\n",
      "19demarzo_1977.wav\n",
      "y así te quedará tiempo para apalear las capas encender el fuego y soplarlo devanar el hilo de la costura poner los números a las papeletas aviar la lamparilla limpiar el polvo dar lustre a los zapatos de mi hermano y todo lo demás que se vaya ofreciendo\n",
      "y así te quedará tiempo para apelerar las capas enseñé a ralph luego de soplarlo devan o elilo de la costura poner los números en las papeletas abrir la lamparilla limpiar el polvo dar luz a los zapatos de mi hermano y todo lo demás que se vaya ofreciendo\n",
      "0.11594202898550725\n",
      "\n",
      " pː\n",
      "batalla_arapiles_2806.wav\n",
      "optaron sin embargo por aquellos tratando de seguirles excepto santorcaz que seguía en deplorable estado\n",
      "optaron sin embargo por aquellos tratando de seguirles excelente santo recorso que seguía en deplorable estado\n",
      "0.1\n",
      "bailen_3160.wav\n",
      "o si por el contrario desbordado el corruptor egoísmo en mi alma acepté con regocijo la desaparición de quien interponiéndose entre mi ideal y yo\n",
      "o si por el contrario desbordado el corrupto egoísmo en mi alma acepté con regocijo la desaparición de quien interponía en dos su entremí de alijó\n",
      "0.09090909090909091\n",
      "19demarzo_1300.wav\n",
      "tal vez no habría caído tal vez no habría sido rey fernando septimo tal vez no habrían venido los franceses tal vez\n",
      "tal vez no hubiera callado tal vez no hubiera sido febrero no hubiera sido francesa tal vez\n",
      "0.4574468085106383\n",
      "bailen_1335.wav\n",
      "no reconocemos más rey que a fernando séptimo fernando séptimo se dirige entonces a los españoles y les dice que obedezcan a napoleón\n",
      "no reconocemos más a raquel fernando sábitimo fernando sábitimo se dirige en tonos de salas españoles y les dice que vivís canaón apollón\n",
      "0.1981981981981982\n",
      "\n",
      " r\n",
      "batalla_arapiles_2246.wav\n",
      "los garabatos de hierro que reforzaban la puerta se contrajeron haciendo muecas horribles signos burlescos figurando no sé si extrañas sonrisas o mohínes o visajes de misteriosos rostros\n",
      "los garabatos de hierro que reforzaban la puerta se contrajeron haciendo muecas horribles signos burlescos figurando no sé si extrañas sonrisas o moines o visajes de misteriosos rostros\n",
      "0.012578616352201259\n",
      "19demarzo_0812.wav\n",
      "después de recibir algunos porrazos y tropezar repetidas veces me detuve arrimado al muro de palacio y pregunté a los que me rodeaban\n",
      "después de recibir algunos borrazos y tropezar repetidas veces me detuve a un remado al muro del palacio y pregunté a los que me rodeaban\n",
      "0.04504504504504504\n",
      "batalla_arapiles_2799.wav\n",
      "miss fly y yo echamos pie a tierra en la plaza y lo primero que se ofreció a nuestra vista fue un infeliz a quien llevaban maniatado cuatro guerrilleros empujándolo cruelmente a ratos o arrastrándole cuando se resistía a seguir\n",
      "mis se feligre lleguillo hechamos pie y yejra en la plaza y lo primero que se ofreció en wey stravista fue un imfeliz aquel lebaban mania tado cuatro yerro yerro se empujando lo cruelmente erratso errastrando lecuando se resistía a seguir\n",
      "0.2074468085106383\n",
      "19demarzo_2975.wav\n",
      "te repito que trabajando mucho y ahorrando más el señor requejo ha llegado a ser muy rico qué porvenir te espera inesilla\n",
      "te repito que trabajando mucho y ahorrando más el señor requerido ha llegado a ser muy rico que porvenir te espera inesilia\n",
      "0.05\n",
      "\n",
      " ɾ\n",
      "batalla_arapiles_2047.wav\n",
      "porque amáis más a vuestra niña desde que ella adora a ese pachá de tres colas a ese fra diávolo en quien me figuro ver un grandísimo ladrón pero hermoso como los más hermosos tipos de calabria y andalucía más valiente que el cid gran jinete espadachín sublime algo brujo generoso con los pobres\n",
      "por qué amáis más a vuestra niña desde que ella adoró ese pachado de tres colas a ese frío diávalo en que me figuró ver un grandísimo ladrón pero hermoso como los más hermosos tipos de calabrí en andalucía más valiente que el cid gran reinata de espadachín sublime algo brujo y generoso con los pobres\n",
      "0.08677685950413223\n",
      "19demarzo_0379.wav\n",
      "pero estos sabían abrirse paso y aclarándose el grupo volvía a aparecer la cara del mártir asidocon convulsas manos a los arzones cerrados sus ojos la frente herida y cubierta de sangre las piernas flojas y trémulas\n",
      "pero éstos sabían abrirse paso y aclarar ando se el grupo volvía a aparecer la carra del martir así do concombulsas manos a los arzones cerrados sus ojos la frente aridi cuvierta de sangre las piernas flojas y tremulas\n",
      "0.08379888268156424\n",
      "bailen_1341.wav\n",
      "no si aquí no manda nadie más que nosotros si no reconocemos las abdicaciones ni admitiremos de rey a ese don josé ni nos da la gana de obedecer al emperador porque los españoles mandamos en nuestra casa y si los reyes se han hecho para gobernarnos a nosotros no nos han parido nuestras madres para que ellos nos lleven y nos traigan como si fuéramos manadas de carneros\n",
      "no si aquí no manda nadie más que nosotros si no reconocemos las obligaciones ni admitiremos de rey a esedón josé ni nos dalagan a de obedecer al emperador porque a los españoles mandamos en nuestra casa y si los reyes se han hecho para gobernarnos a nosotros no nos han parado nuestras madres para que ellos nos lleven y nos traigan como si fuéramos manadas de carneros\n",
      "0.019867549668874173\n",
      "bailen_0638.wav\n",
      "el desgraciado había recibido una violenta herida en el vientre y falto de palabra para expresar su padecimiento bramaba aspirando con ansia el aire inflamado sacudía el cuello parecía dar a entender que hallando un charco de agua en que remojar la lengua sus dolores serían menos vivos\n",
      "el desgraciado había recibido una violenta herida en el vientre de falta de palabra para expresar su padecimiento bramaba aspirando con ansia al aire inflamado sacudía el cuello parcía a la entendedor que le andaba un charco de agua en que remojara la lengua sus dolores serían menos vivos\n",
      "0.06694560669456066\n",
      "\n",
      " s\n",
      "batalla_arapiles_1599.wav\n",
      "oscuro olvidado y no muy bien quisto santorcaz se consuela con la masonería y en la logia de la calle de tentenecios unos cuantos perdidos españoles y franceses lo peor sin duda de ambas naciones se entretienen en exterminar al género humano volviendo al mundo patas arriba suprimiendo la aristocracia y poniendo a los reyes una escoba en la mano para que barran las calles\n",
      "oscuro olvidado y no muy bien quisto santo acosta se consuela con la mazonería y en la loja de la calle de tintinez unos cuantos pierdes españoles y franceses lo peor sin duda de ambas naciones se entretiene en exterminar al género humano volviendo al mundo para su riva suprimiendo la aristocracia y poniendo a los reyes su nascoba en la mano para que bajaran las calles\n",
      "0.08737864077669903\n",
      "bailen_1341.wav\n",
      "no si aquí no manda nadie más que nosotros si no reconocemos las abdicaciones ni admitiremos de rey a ese don josé ni nos da la gana de obedecer al emperador porque los españoles mandamos en nuestra casa y si los reyes se han hecho para gobernarnos a nosotros no nos han parido nuestras madres para que ellos nos lleven y nos traigan como si fuéramos manadas de carneros\n",
      "no si aquí no manda nadie más que nosotros si no reconocemos las obligaciones ni admitiremos de rey a esedón josé ni nos dalagan a de obedecer al emperador porque a los españoles mandamos en nuestra casa y si los reyes se han hecho para gobernarnos a nosotros no nos han parado nuestras madres para que ellos nos lleven y nos traigan como si fuéramos manadas de carneros\n",
      "0.019867549668874173\n",
      "batalla_arapiles_1697.wav\n",
      "vi las plataformas las escarpas y contra escarpas los rebellines las cortinas las troneras los cañones los muros aspillerados los parapetos hechos con columnatas de los templos\n",
      "vi las plataformas las escarpas y contrascarpas los revillines las cortinas las droneras los cañones los muros aspirados los parapetos hechos con columnatas de los templos\n",
      "0.04666666666666667\n",
      "batalla_arapiles_1969.wav\n",
      "recogió todo aquel femenino enojo para lanzarlo militarmente sobre los dos bravos franchutes los cuales al verse convertidos de acusadores en acusados parecían más beodos que antes y más incapaces de sostenerse sobre sus vacilantes piernas\n",
      "recogió todo aquel femenino enojo para lanzar lo mílitarmente sobre los dos bravos franchutes los cuales al verse convertidos de acusadores en acusados parecían más vellos que antes y más incapaces de sostenerse sobre sus vacilantes piernas\n",
      "0.0196078431372549\n",
      "\n",
      " t\n",
      "batalla_arapiles_3257.wav\n",
      "me había honrado no pocas veces con su encantadora palabra durante los viajes a tordesillas a la nava y al guareña pero siempre en cortas y disimuladas entrevistas cual si existiese algún desconocido estorbo algún impedimento misterioso de su antes ilimitada libertad\n",
      "me avión radonó pocas veces con su encantado rapalavra durante los viajes a ordecillas a la nave algorreña pero siempre encortase disimuladas entrevistas cual si existiese algún desconocido estorbo algún impedimento misterioso de su antecilimitada libertad\n",
      "0.07079646017699115\n",
      "19demarzo_1799.wav\n",
      "la táctica de amabilidad y de astuta dulzura recomendada por el licenciado lobo se consideró inútil siendo sustituida por un sistema de terror que ponía en fecundo ejercicio las facultades todas de doña restituta\n",
      "la táctica de amabilidad y de asentado subra recomendada por el licenciado lobo se consideró inútil siendo sustituida por un sistema de terror que ponía en fecundo ejercicio las facultades todas de doña resti chita\n",
      "0.05027932960893855\n",
      "batalla_arapiles_3354.wav\n",
      "sepa usted que en el último día de mi vida conservo todos absolutamente todos los sentimientos de que he hecho gala en todos los instantes de mi vida ante usted\n",
      "se puste que en el ultimo dia de mi vida conseguir vos todos absolutamente todos los sentimientos de que he hecho gala en todos los instantes de mi vida antes usted\n",
      "0.06870229007633588\n",
      "bailen_0648.wav\n",
      "en tanto los de la derecha permanecíamos quietos y los de a caballo que ocupábamos parte de la altura podíamos ver perfectamente los movimientos del combate que en lugar más bajo y a bastante distancia se había acabado de trabar\n",
      "en tanto los de la derecha permanecíamos quietos y los de a caballo que ocupábamos parte de la altura podíamos ver perfectamente los movimientos del combate que en lugar más bajo y a bastante distancia se había acabado de trabar\n",
      "0.0\n",
      "\n",
      " tʃ\n",
      "19demarzo_2314.wav\n",
      "mucho pan mucho tocino muchas patatas mucho pimentón mucha sal mucha berza han de entrar por veinte y cinco mil bocas\n",
      "mucho pan mucho hicino muchas patatas mucho pimentón mucha sal mucha versa han de entrar por veinte y cinco mil bocas\n",
      "0.041237113402061855\n",
      "19demarzo_2815.wav\n",
      "los pobrecitos no han hecho nada fusílenme a mí que disparé muchos tiros contra ustedes en la acción del parque pero dejen en libertad a la muchacha y al sacerdote\n",
      "los pobrescitos no han hecho nada fusil en mi a mi que disparé muchos tiros contra usted este en la acción del parque pero dejen en libertad a la muchacha y al sacerdote\n",
      "0.04477611940298507\n",
      "batalla_arapiles_1030.wav\n",
      "sí mi general el diecinueve de julio de mil ochocientos y ocho quiere vuecencia ver mi hoja de servicios que comienza en dicha fecha\n",
      "sí me generó el día sin web el julio de mil ochocientos y ocho quiero reversar si haberme yo jade servicios que comienza a andilla fecha\n",
      "0.23853211009174313\n",
      "bailen_0087.wav\n",
      "si me querían mucho anoche me tuvieron toda la noche bailando el bolero y la cachucha en medio de un corrillo donde\n",
      "si me querían mucho anoche me tuvieron todo la noche vial en el bolero y la cachucha en medio de un coro río de honduras\n",
      "0.18085106382978725\n",
      "\n",
      " θ\n",
      "batalla_arapiles_3910.wav\n",
      "erais el cid bernardo del carpio zaide abenamar celindos lanzarote del lago fernán gonzález y pedro ansúrez\n",
      "\n",
      "1.0\n",
      "19demarzo_2642.wav\n",
      "somos amigos y le estoy muy reconocido porque a la munificencia de su alteza debo el beneficio que disfruto el cual me fue concedido en cuanto su alteza tuvo conocimiento de mi necesidad\n",
      "somos amigos y le estoy muy reconocido porque la munificencia de su alteza debo el beneficio que disfruto el cual me fue concedido en cuanto su alteza tuvo conocimiento de mi necesidad\n",
      "0.006493506493506494\n",
      "19demarzo_1318.wav\n",
      "ah inés es inocente no tienen vds conciencia no tienen en su corazón una voz que les dice que esa jovencita es inocente\n",
      "adinés es inocente no tiene movida ese conciencia no tiene en su corazón ninguna voz que les dice que esa jovencita es inocente\n",
      "0.12371134020618557\n",
      "19demarzo_1613.wav\n",
      "en su ignorancia y necedad no se les alcanzaba que habían envilecido el trono haciendo creer a napoleón que una nación donde príncipes y reyes jugaban la corona a cara y cruz sobre la capa rota del populacho no podía ser inexpugnable\n",
      "en su ignorancia y inesteadad no se les alcanzaba que habían embilecido el trono haciendo creer a napoleón que una nación donde príncipes y reyes jugaban la corona caricruz sobre la capa rota del populacho no podía ser inexpugnable\n",
      "0.046875\n",
      "\n",
      " u\n",
      "19demarzo_1799.wav\n",
      "la táctica de amabilidad y de astuta dulzura recomendada por el licenciado lobo se consideró inútil siendo sustituida por un sistema de terror que ponía en fecundo ejercicio las facultades todas de doña restituta\n",
      "la táctica de amabilidad y de asentado subra recomendada por el licenciado lobo se consideró inútil siendo sustituida por un sistema de terror que ponía en fecundo ejercicio las facultades todas de doña resti chita\n",
      "0.05027932960893855\n",
      "batalla_arapiles_0550.wav\n",
      "puedo asegurar a usted que a la vista su figura se me ha representado siempre como una criatura humana con su natural espesor corpulencia y el brillo y la dulzura de los ojos el dulce aliento de la boca y la añadidura del vestido flotando al viento en fin\n",
      "puedo asegurar usted que a la vista su figura se me ha representado siempre como una criatura humana con su naturaleza espesor corpulencia del brillo y la dulzura de los ojos el dulce liento de la boca de la niña de durada el vestido flotando al viento en fin\n",
      "0.057971014492753624\n",
      "19demarzo_0476.wav\n",
      "entró en su iglesia y oró un poco recogiendo su espíritu después subió al púlpito y predicó un sermón sobre la ingratitud\n",
      "entró en su iglesia y oró un poco recogiendo su espíritu después subió o pulpito y predicó un sermón sobre la ingratitud\n",
      "0.03\n",
      "batalla_arapiles_2460.wav\n",
      "figúrense ustedes una fuerza inmensa una disciplina admirable un entusiasmo loco y tendrán idea de esa ola que viene y que todo lo arrollará y destruirá a su paso\n",
      "figura en sus tedes suena fuertemente mensual una disciplina admirable un entusiasmo loco y tendrónideo de hielo o lo que viene que todo lo arrollará y destruirá a su paso\n",
      "0.15671641791044777\n",
      "\n",
      " w\n",
      "19demarzo_0532.wav\n",
      "y en cuanto descabece un sueñecito iré a prevenir al príncipe para que se ande con cuidado pues no me lo agradecerá poco el buen señor\n",
      "y en cuanto descubra que un sueño está hecho deberé prevenir al príncipe para que lo vea con cuidado pues no me lo agradecerá poco el buen señor\n",
      "0.22018348623853212\n",
      "batalla_arapiles_3934.wav\n",
      "cuando os he visto casi muerto cuando os he recogido en mis brazos del campo de batalla cuando os traje aquí y os atendí y os cuidé\n",
      "cuando se visto casi muerto cuando se recogido en mis brazos del campo de batalla cuando estroje aquí o saten dios cuide\n",
      "0.09523809523809523\n",
      "batalla_arapiles_2693.wav\n",
      "sin reparar las fuerzas después del largo caminar de la noche corrió nuestra vanguardia hacia babilafuente\n",
      "sin reparar las fuerzas después del largo caminar de la noche corrió en su vanguardia hacia babilón fuente\n",
      "0.08791208791208792\n",
      "19demarzo_3054.wav\n",
      "los sepulcros de nuestros padres nuestras casas nuestros reyes nuestros ejércitos nuestra riqueza nuestra historia nuestra grandeza nuestro nombre nuestra religión\n",
      "los sepulcros de nuestros padres nuestras casas nuestros reyes nuestros ejércitos nuestra riqueza nuestra historia nuestra grandeza nuestro nombre nuestra religión\n",
      "0.0\n",
      "\n",
      " x\n",
      "batalla_arapiles_1407.wav\n",
      "a saber que eran para este chauve souris dijo jean jean no os hubiera dado un céntimo por ellas jean jean dijo molichard en francés\n",
      "a saber qué eran para éste chavisores de jojeanjean no osuviera de la wunsaintimoporellas jejeanjean dijó molichar de frances\n",
      "0.19626168224299065\n",
      "bailen_2979.wav\n",
      "ja ja ja sabes de qué me río de ese ganso de juan de dios que estuvo aquí el otro día y poniéndose de rodillas delante de mí me dijo\n",
      "jajajaja sabes de qué me río de ese ganso de juan de dios que estuvo aquí el otro día y poniéndose de rodillas delante de mí me dijo\n",
      "0.019417475728155338\n",
      "batalla_arapiles_1488.wav\n",
      "queríais escapar en el cuartel se le registrará exclamó tourlourou fuera de aquí goguenards dijo con energía jean jean\n",
      "y el corteo se le registrará exclamatorialmente fue ira de aquí con el artista joconinero heian heian\n",
      "0.46\n",
      "batalla_arapiles_2824.wav\n",
      "en los puntos lejanos las columnas de humo eran en mayor número y cada una indicaba la troj o panera que caía bajo la planta de fuego del ejército fugitivo\n",
      "en los puntos lejanos las columnas de wumaweiran en mayor número y cada una indicaba a otro japonés ráquete y abajo la planta de fuego del ejército fugitivo\n",
      "0.1111111111111111\n"
     ]
    }
   ],
   "source": [
    "phones = 'a aɪ aʊ b β d ð e eɪ eʊ ɛ f ɡ ɣ i j ʝ k l ʎ m n ɲ ŋ o oɪ p pː r ɾ s t tʃ θ u w x'.split()\n",
    "phone_cers = []\n",
    "for phone in phones:\n",
    "    avg_cer = get_phone_cer(phone)\n",
    "    phone_cers.append(avg_cer)"
   ]
  },
  {
   "cell_type": "code",
   "execution_count": 12,
   "metadata": {
    "ExecuteTime": {
     "end_time": "2024-07-01T10:20:48.273597Z",
     "start_time": "2024-07-01T10:20:44.397549Z"
    }
   },
   "outputs": [
    {
     "name": "stdout",
     "output_type": "stream",
     "text": [
      "\n",
      " aɪ\n",
      "batalla_arapiles_3910.wav\n",
      "erais el cid bernardo del carpio zaide abenamar celindos lanzarote del lago fernán gonzález y pedro ansúrez\n",
      "\n",
      "1.0\n",
      "batalla_arapiles_2254.wav\n",
      "señora estamos perdidos no contábamos con la traición la traición dijo confusa miss fly no puede ser\n",
      "señora estamos perdidos no contábamos con la traición la traición dijo confuso a mi seifel y griega no puede ser\n",
      "0.11904761904761904\n",
      "bailen_0246.wav\n",
      "pues si no hay enemigos en bailén qué es eso de atacar a bailén\n",
      "pues si no hay enemigos en bailén que se sotaque a bailén\n",
      "0.14\n",
      "batalla_arapiles_4347.wav\n",
      "lo sé creíais rebajaros sólo ocupándoos del asunto lo cierto es que oíais todo y callabais\n",
      "los he creía es rebajaros solo ocupandoos del asunto los diertoes que wea estodo vi que leabais\n",
      "0.21333333333333335\n"
     ]
    },
    {
     "data": {
      "text/plain": [
       "0.36809523809523814"
      ]
     },
     "execution_count": 12,
     "metadata": {},
     "output_type": "execute_result"
    }
   ],
   "source": [
    "get_phone_cer('aɪ')"
   ]
  },
  {
   "cell_type": "code",
   "execution_count": 20,
   "metadata": {
    "ExecuteTime": {
     "end_time": "2024-07-01T10:35:20.761262Z",
     "start_time": "2024-07-01T10:35:20.758589Z"
    }
   },
   "outputs": [
    {
     "name": "stdout",
     "output_type": "stream",
     "text": [
      "a 0.05639379908740501\n",
      "aɪ 0.36809523809523814\n",
      "aʊ 0.12191188234186956\n",
      "b 0.10217227947491105\n",
      "β 0.03601829435499667\n",
      "d 0.09111984152754606\n",
      "ð 0.05330444984471725\n",
      "e 0.07090332747903523\n",
      "eɪ 0.09761748513516548\n",
      "eʊ 0.25855341732789583\n",
      "ɛ 0.0278244243450429\n",
      "f 0.06591258953316373\n",
      "ɡ 0.068148761771887\n",
      "ɣ 0.15889349787304352\n",
      "i 0.04998677742295804\n",
      "j 0.04841987022760434\n",
      "ʝ 0.06425448374600917\n",
      "k 0.04481438934212548\n",
      "l 0.08391712992118013\n",
      "ʎ 0.08520473716552149\n",
      "m 0.015560107756201595\n",
      "n 0.03965739741376484\n",
      "ɲ 0.13661205203730978\n",
      "ŋ 0.10872618798397105\n",
      "o 0.06341291860362723\n",
      "oɪ 0.1629768123557387\n",
      "p 0.06303505931804534\n",
      "pː 0.21163852440448183\n",
      "r 0.07876761747697114\n",
      "ɾ 0.06434722463728283\n",
      "s 0.043380175062373696\n",
      "t 0.047444519965566395\n",
      "tʃ 0.12634910168164432\n",
      "θ 0.29426996167492303\n",
      "u 0.07374169050303499\n",
      "w 0.10083341734717882\n",
      "x 0.19669756727056426\n"
     ]
    }
   ],
   "source": [
    "for p, cer in zip(phones, phone_cers):\n",
    "    print(p, cer)"
   ]
  },
  {
   "cell_type": "code",
   "metadata": {
    "ExecuteTime": {
     "end_time": "2024-07-02T07:22:25.883473Z",
     "start_time": "2024-07-02T07:22:25.880216Z"
    }
   },
   "source": [
    "import logging\n",
    "logging.basicConfig(level=logging.WARNING)"
   ],
   "outputs": [],
   "execution_count": 46
  },
  {
   "cell_type": "code",
   "metadata": {
    "ExecuteTime": {
     "end_time": "2024-07-20T15:10:41.757401Z",
     "start_time": "2024-07-20T15:10:41.753919Z"
    }
   },
   "source": [
    "gt_dir = data_dir\n",
    "gt_asr_path = asr_dir / 'gt_result.txt'\n",
    "\n",
    "jets_asr_path = asr_dir / 'jets_result.txt'"
   ],
   "outputs": [],
   "execution_count": 13
  },
  {
   "cell_type": "code",
   "metadata": {
    "ExecuteTime": {
     "end_time": "2024-07-19T17:56:27.492297Z",
     "start_time": "2024-07-19T16:13:55.817225Z"
    }
   },
   "source": [
    "run_asr(filenames, gt_dir, gt_asr_path)"
   ],
   "outputs": [
    {
     "name": "stderr",
     "output_type": "stream",
     "text": [
      "100%|██████████| 11016/11016 [1:42:31<00:00,  1.79it/s] \n"
     ]
    }
   ],
   "execution_count": 25
  },
  {
   "cell_type": "code",
   "metadata": {
    "ExecuteTime": {
     "end_time": "2024-07-19T19:40:46.646915Z",
     "start_time": "2024-07-19T17:56:27.493636Z"
    }
   },
   "source": [
    "run_asr(filenames, jets_dir, jets_asr_path)"
   ],
   "outputs": [
    {
     "name": "stderr",
     "output_type": "stream",
     "text": [
      "100%|██████████| 11016/11016 [1:44:19<00:00,  1.76it/s] \n"
     ]
    }
   ],
   "execution_count": 26
  },
  {
   "cell_type": "code",
   "metadata": {
    "collapsed": false,
    "jupyter": {
     "outputs_hidden": false
    },
    "ExecuteTime": {
     "end_time": "2024-07-20T15:10:42.271012Z",
     "start_time": "2024-07-20T15:10:42.264182Z"
    }
   },
   "source": [
    "def eval_cer(transcripts, asr_result_path, cer_path):\n",
    "    with open(cer_path, 'w') as cer_file:\n",
    "        cer_file.write('wav_file,gt_len,cer\\n')\n",
    "        with open(asr_result_path) as f:\n",
    "            for line in f:\n",
    "                wav_file, asr_output = line.strip('\\n').split('|', maxsplit=1)\n",
    "                transcript = transcripts[wav_file]\n",
    "                transcript_nospace = transcript.replace(' ', '')\n",
    "                asr_nospace = asr_output.replace(' ', '')\n",
    "                gt_len = len(transcript)\n",
    "                cer = jiwer.cer(truth=transcript_nospace, hypothesis=asr_nospace)\n",
    "                cer_file.write(f'{wav_file},{gt_len},{cer}\\n')"
   ],
   "outputs": [],
   "execution_count": 14
  },
  {
   "cell_type": "code",
   "metadata": {
    "ExecuteTime": {
     "end_time": "2024-07-19T19:40:47.175984Z",
     "start_time": "2024-07-19T19:40:46.655223Z"
    }
   },
   "source": [
    "gt_cer_path = asr_dir / 'gt_cer.csv'\n",
    "eval_cer(transcripts=transcripts, asr_result_path=gt_asr_path, cer_path=gt_cer_path)"
   ],
   "outputs": [],
   "execution_count": 28
  },
  {
   "cell_type": "code",
   "metadata": {
    "collapsed": false,
    "jupyter": {
     "outputs_hidden": false
    },
    "ExecuteTime": {
     "end_time": "2024-07-20T15:10:44.587495Z",
     "start_time": "2024-07-20T15:10:43.911314Z"
    }
   },
   "source": [
    "jets_cer_path = asr_dir / 'jets_cer.csv'\n",
    "eval_cer(transcripts=transcripts, asr_result_path=jets_asr_path, cer_path=jets_cer_path)"
   ],
   "outputs": [],
   "execution_count": 15
  }
 ],
 "metadata": {
  "kernelspec": {
   "display_name": "Python 3 (ipykernel)",
   "language": "python",
   "name": "python3"
  },
  "language_info": {
   "codemirror_mode": {
    "name": "ipython",
    "version": 3
   },
   "file_extension": ".py",
   "mimetype": "text/x-python",
   "name": "python",
   "nbconvert_exporter": "python",
   "pygments_lexer": "ipython3",
   "version": "3.10.14"
  }
 },
 "nbformat": 4,
 "nbformat_minor": 4
}
